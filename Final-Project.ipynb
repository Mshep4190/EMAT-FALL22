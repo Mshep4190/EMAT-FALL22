{
 "cells": [
  {
   "cell_type": "code",
   "execution_count": 48,
   "id": "98e5f63c",
   "metadata": {},
   "outputs": [],
   "source": [
    "import pandas as pd\n",
    "import json\n",
    "from matplotlib import pyplot as plt\n",
    "from scipy import stats\n",
    "import base64\n",
    "import numpy as np\n",
    "import requests"
   ]
  },
  {
   "cell_type": "code",
   "execution_count": 49,
   "id": "76a31fd7",
   "metadata": {
    "scrolled": true
   },
   "outputs": [
    {
     "name": "stdout",
     "output_type": "stream",
     "text": [
      " Volume in drive C is Windows\n",
      " Volume Serial Number is 2A5E-5FC9\n",
      "\n",
      " Directory of C:\\Users\\shep4\\EMAT-FALL22\n",
      "\n",
      "12/02/2022  06:34 PM    <DIR>          .\n",
      "11/01/2022  10:28 AM    <DIR>          ..\n",
      "12/02/2022  12:44 PM               205 .cache\n",
      "12/02/2022  10:12 AM    <DIR>          .ipynb_checkpoints\n",
      "10/20/2022  11:07 AM            48,817 10-18_in-class_spotify.ipynb\n",
      "10/23/2022  11:38 AM            39,806 10-18_in-class-Copy1.ipynb\n",
      "10/27/2022  11:11 AM            37,345 10-27_in-class.ipynb\n",
      "10/06/2022  10:19 AM             8,378 10-4_in-class.ipynb\n",
      "10/06/2022  11:14 AM            27,295 10-6_in-class.ipynb\n",
      "11/01/2022  11:06 AM            51,208 11-1_in-class.ipynb\n",
      "11/10/2022  12:14 PM            13,121 11-10_in-class.ipynb\n",
      "11/17/2022  12:05 PM            40,714 11-17_in-class.ipynb\n",
      "11/22/2022  05:10 PM               589 11-3_in-class.ipynb\n",
      "09/01/2022  10:24 AM               732 9-1_in-class.ipynb\n",
      "11/23/2022  01:18 PM             8,773 audio_features.csv\n",
      "11/01/2022  10:09 AM            77,889 cces_example_data.csv\n",
      "10/04/2022  09:42 AM    <DIR>          Chinook\n",
      "09/06/2022  10:18 AM         6,198,504 Facebook Files.zip\n",
      "11/22/2022  02:19 PM    <DIR>          FB\n",
      "12/02/2022  06:34 PM            42,297 Final-Project.ipynb\n",
      "11/15/2022  12:16 PM            66,691 in-class_11-15-22.ipynb\n",
      "11/29/2022  11:47 AM            27,344 In-class_11-29.ipynb\n",
      "09/06/2022  10:38 AM    <DIR>          Insta\n",
      "09/06/2022  10:19 AM       114,757,116 Instagram Files.zip\n",
      "08/30/2022  11:13 AM               650 Lecture_8-30_inclass.ipynb\n",
      "09/30/2022  12:44 PM            35,546 Liked-Post-Report.ipynb\n",
      "11/29/2022  11:27 AM           119,578 message_1.json\n",
      "11/23/2022  04:45 PM           532,031 Off-Facebook_Analysis-Report.ipynb\n",
      "09/01/2022  01:33 PM             1,412 Schoeppner_SystemsCheck.ipynb\n",
      "09/06/2022  11:11 AM             2,775 Sep-6_in-class.ipynb\n",
      "09/15/2022  11:15 AM           310,762 Sept-8_in-class.ipynb\n",
      "09/22/2022  11:14 AM            11,963 September-22-22.ipynb\n",
      "10/18/2022  11:11 AM                89 Spotify-Keys_10-18-22.txt\n",
      "11/15/2022  11:49 AM            57,377 Spotify-track-data-collection.ipynb\n",
      "11/23/2022  12:45 PM           821,743 Twitter text Report.ipynb\n",
      "10/25/2022  03:55 PM           199,602 Twitter text Report.ipynb.csv\n",
      "09/22/2022  10:46 AM               125 Twitter_Token_9-22-22.txt\n",
      "              31 File(s)    123,540,477 bytes\n",
      "               6 Dir(s)  784,334,000,128 bytes free\n"
     ]
    }
   ],
   "source": [
    "ls"
   ]
  },
  {
   "cell_type": "code",
   "execution_count": 50,
   "id": "0b27705b",
   "metadata": {},
   "outputs": [],
   "source": [
    "keys = pd.read_csv(\"Spotify-Keys_10-18-22.txt\", header = 0, sep = \",\")"
   ]
  },
  {
   "cell_type": "code",
   "execution_count": 51,
   "id": "0a6f0455",
   "metadata": {},
   "outputs": [],
   "source": [
    "appid = keys['Client_ID'][0]"
   ]
  },
  {
   "cell_type": "code",
   "execution_count": 52,
   "id": "4839ce8a",
   "metadata": {},
   "outputs": [],
   "source": [
    "appsecret = keys['Client_Secret'][0]"
   ]
  },
  {
   "cell_type": "code",
   "execution_count": 53,
   "id": "c697f341",
   "metadata": {},
   "outputs": [],
   "source": [
    "client_cred = base64.b64encode(str(appid + \":\" + appsecret).encode('ascii'))"
   ]
  },
  {
   "cell_type": "code",
   "execution_count": 54,
   "id": "69806686",
   "metadata": {},
   "outputs": [],
   "source": [
    "headers = {'Authorization': 'Basic {}'.format(client_cred.decode('ascii'))}"
   ]
  },
  {
   "cell_type": "code",
   "execution_count": 55,
   "id": "2558be96",
   "metadata": {},
   "outputs": [],
   "source": [
    "payload = {'grant_type' : 'client_credentials'}\n",
    "access_token_url = \"https://accounts.spotify.com/api/token\""
   ]
  },
  {
   "cell_type": "code",
   "execution_count": 56,
   "id": "daefd4bf",
   "metadata": {},
   "outputs": [],
   "source": [
    "response = requests.post(access_token_url, headers = headers, data = payload)"
   ]
  },
  {
   "cell_type": "code",
   "execution_count": 57,
   "id": "5cb10494",
   "metadata": {},
   "outputs": [],
   "source": [
    "session_token = response.json()['access_token']"
   ]
  },
  {
   "cell_type": "code",
   "execution_count": 58,
   "id": "273afd9c",
   "metadata": {},
   "outputs": [],
   "source": [
    "session_header = {'Authorization': 'Bearer {}'.format(response.json()['access_token'])}"
   ]
  },
  {
   "cell_type": "markdown",
   "id": "76a8690c",
   "metadata": {},
   "source": [
    "I was able to estimate the number of the most well-known fall and Halloween-themed songs from a recent article I discovered, which was from this past October. I then used this article to make a playlist, ordering each song according to how popular it was at the time. I'll now collect the information from this playlist."
   ]
  },
  {
   "cell_type": "code",
   "execution_count": 59,
   "id": "1cb48f93",
   "metadata": {},
   "outputs": [],
   "source": [
    "spooky_id = '6xuHrxObOuzSAgfuJpNyLm'"
   ]
  },
  {
   "cell_type": "markdown",
   "id": "c709d169",
   "metadata": {},
   "source": [
    "Playlist of the Fall/Halloween music I put together = 6xuHrxObOuzSAgfuJpNyLm"
   ]
  },
  {
   "cell_type": "code",
   "execution_count": 60,
   "id": "7e383887",
   "metadata": {
    "scrolled": true
   },
   "outputs": [],
   "source": [
    "playlist_tracks_endpoint = \"https://api.spotify.com/v1/playlists/{}\".format(spooky_id)"
   ]
  },
  {
   "cell_type": "code",
   "execution_count": 61,
   "id": "888f9821",
   "metadata": {},
   "outputs": [],
   "source": [
    "spooky_tracks = requests.get(playlist_tracks_endpoint, headers = session_header)"
   ]
  },
  {
   "cell_type": "code",
   "execution_count": 62,
   "id": "fa1d0b81",
   "metadata": {},
   "outputs": [
    {
     "data": {
      "text/plain": [
       "200"
      ]
     },
     "execution_count": 62,
     "metadata": {},
     "output_type": "execute_result"
    }
   ],
   "source": [
    "spooky_tracks.status_code"
   ]
  },
  {
   "cell_type": "code",
   "execution_count": 63,
   "id": "5a6f2c21",
   "metadata": {},
   "outputs": [],
   "source": [
    "spooky_dict = json.loads(spooky_tracks.text)"
   ]
  },
  {
   "cell_type": "code",
   "execution_count": 64,
   "id": "37daedd5",
   "metadata": {},
   "outputs": [
    {
     "data": {
      "text/plain": [
       "dict_keys(['collaborative', 'description', 'external_urls', 'followers', 'href', 'id', 'images', 'name', 'owner', 'primary_color', 'public', 'snapshot_id', 'tracks', 'type', 'uri'])"
      ]
     },
     "execution_count": 64,
     "metadata": {},
     "output_type": "execute_result"
    }
   ],
   "source": [
    "spooky_dict.keys()"
   ]
  },
  {
   "cell_type": "code",
   "execution_count": 65,
   "id": "fc403959",
   "metadata": {},
   "outputs": [
    {
     "data": {
      "text/plain": [
       "dict_keys(['href', 'items', 'limit', 'next', 'offset', 'previous', 'total'])"
      ]
     },
     "execution_count": 65,
     "metadata": {},
     "output_type": "execute_result"
    }
   ],
   "source": [
    "spooky_dict['tracks'].keys()"
   ]
  },
  {
   "cell_type": "code",
   "execution_count": 66,
   "id": "b9ee9717",
   "metadata": {},
   "outputs": [
    {
     "data": {
      "text/plain": [
       "dict_keys(['added_at', 'added_by', 'is_local', 'primary_color', 'track', 'video_thumbnail'])"
      ]
     },
     "execution_count": 66,
     "metadata": {},
     "output_type": "execute_result"
    }
   ],
   "source": [
    "spooky_dict['tracks']['items'][0].keys()"
   ]
  },
  {
   "cell_type": "code",
   "execution_count": 67,
   "id": "1a0bb7b7",
   "metadata": {},
   "outputs": [],
   "source": [
    "spooky_track_ids = [x['track'] for x in spooky_dict['tracks']['items']]"
   ]
  },
  {
   "cell_type": "code",
   "execution_count": 68,
   "id": "743e904c",
   "metadata": {},
   "outputs": [],
   "source": [
    "spooky = pd.DataFrame(spooky_track_ids)"
   ]
  },
  {
   "cell_type": "markdown",
   "id": "db0cb10e",
   "metadata": {},
   "source": [
    "Every song on the created playlist will now be available."
   ]
  },
  {
   "cell_type": "code",
   "execution_count": 69,
   "id": "36ee6619",
   "metadata": {},
   "outputs": [
    {
     "data": {
      "text/html": [
       "<div>\n",
       "<style scoped>\n",
       "    .dataframe tbody tr th:only-of-type {\n",
       "        vertical-align: middle;\n",
       "    }\n",
       "\n",
       "    .dataframe tbody tr th {\n",
       "        vertical-align: top;\n",
       "    }\n",
       "\n",
       "    .dataframe thead th {\n",
       "        text-align: right;\n",
       "    }\n",
       "</style>\n",
       "<table border=\"1\" class=\"dataframe\">\n",
       "  <thead>\n",
       "    <tr style=\"text-align: right;\">\n",
       "      <th></th>\n",
       "      <th>album</th>\n",
       "      <th>artists</th>\n",
       "      <th>available_markets</th>\n",
       "      <th>disc_number</th>\n",
       "      <th>duration_ms</th>\n",
       "      <th>episode</th>\n",
       "      <th>explicit</th>\n",
       "      <th>external_ids</th>\n",
       "      <th>external_urls</th>\n",
       "      <th>href</th>\n",
       "      <th>id</th>\n",
       "      <th>is_local</th>\n",
       "      <th>name</th>\n",
       "      <th>popularity</th>\n",
       "      <th>preview_url</th>\n",
       "      <th>track</th>\n",
       "      <th>track_number</th>\n",
       "      <th>type</th>\n",
       "      <th>uri</th>\n",
       "    </tr>\n",
       "  </thead>\n",
       "  <tbody>\n",
       "    <tr>\n",
       "      <th>0</th>\n",
       "      <td>{'album_type': 'album', 'artists': [{'external...</td>\n",
       "      <td>[{'external_urls': {'spotify': 'https://open.s...</td>\n",
       "      <td>[AD, AE, AG, AL, AM, AO, AR, AT, AU, AZ, BA, B...</td>\n",
       "      <td>1</td>\n",
       "      <td>357266</td>\n",
       "      <td>False</td>\n",
       "      <td>False</td>\n",
       "      <td>{'isrc': 'USSM19902989'}</td>\n",
       "      <td>{'spotify': 'https://open.spotify.com/track/3S...</td>\n",
       "      <td>https://api.spotify.com/v1/tracks/3S2R0EVwBSAV...</td>\n",
       "      <td>3S2R0EVwBSAVMd5UMgKTL0</td>\n",
       "      <td>False</td>\n",
       "      <td>Thriller</td>\n",
       "      <td>73</td>\n",
       "      <td>https://p.scdn.co/mp3-preview/04e2e4889d434ec0...</td>\n",
       "      <td>True</td>\n",
       "      <td>4</td>\n",
       "      <td>track</td>\n",
       "      <td>spotify:track:3S2R0EVwBSAVMd5UMgKTL0</td>\n",
       "    </tr>\n",
       "    <tr>\n",
       "      <th>1</th>\n",
       "      <td>{'album_type': 'compilation', 'artists': [{'ex...</td>\n",
       "      <td>[{'external_urls': {'spotify': 'https://open.s...</td>\n",
       "      <td>[AD, AE, AG, AL, AM, AO, AR, AT, AU, AZ, BA, B...</td>\n",
       "      <td>1</td>\n",
       "      <td>239133</td>\n",
       "      <td>False</td>\n",
       "      <td>False</td>\n",
       "      <td>{'isrc': 'USAR18400117'}</td>\n",
       "      <td>{'spotify': 'https://open.spotify.com/track/56...</td>\n",
       "      <td>https://api.spotify.com/v1/tracks/569uHYIB0X32...</td>\n",
       "      <td>569uHYIB0X324FZOBEhvit</td>\n",
       "      <td>False</td>\n",
       "      <td>Ghostbusters</td>\n",
       "      <td>70</td>\n",
       "      <td>https://p.scdn.co/mp3-preview/9f4aa5928f0ebd49...</td>\n",
       "      <td>True</td>\n",
       "      <td>1</td>\n",
       "      <td>track</td>\n",
       "      <td>spotify:track:569uHYIB0X324FZOBEhvit</td>\n",
       "    </tr>\n",
       "    <tr>\n",
       "      <th>2</th>\n",
       "      <td>{'album_type': 'album', 'artists': [{'external...</td>\n",
       "      <td>[{'external_urls': {'spotify': 'https://open.s...</td>\n",
       "      <td>[AD, AE, AG, AL, AM, AO, AR, AT, AU, AZ, BA, B...</td>\n",
       "      <td>1</td>\n",
       "      <td>192040</td>\n",
       "      <td>False</td>\n",
       "      <td>False</td>\n",
       "      <td>{'isrc': 'GBBBA7360050'}</td>\n",
       "      <td>{'spotify': 'https://open.spotify.com/track/0x...</td>\n",
       "      <td>https://api.spotify.com/v1/tracks/0xxZY5C9xxij...</td>\n",
       "      <td>0xxZY5C9xxij3D1HkzbnfC</td>\n",
       "      <td>False</td>\n",
       "      <td>Monster Mash</td>\n",
       "      <td>70</td>\n",
       "      <td>None</td>\n",
       "      <td>True</td>\n",
       "      <td>1</td>\n",
       "      <td>track</td>\n",
       "      <td>spotify:track:0xxZY5C9xxij3D1HkzbnfC</td>\n",
       "    </tr>\n",
       "    <tr>\n",
       "      <th>3</th>\n",
       "      <td>{'album_type': 'album', 'artists': [{'external...</td>\n",
       "      <td>[{'external_urls': {'spotify': 'https://open.s...</td>\n",
       "      <td>[AD, AE, AG, AL, AM, AO, AR, AT, AU, AZ, BA, B...</td>\n",
       "      <td>1</td>\n",
       "      <td>308120</td>\n",
       "      <td>False</td>\n",
       "      <td>False</td>\n",
       "      <td>{'isrc': 'USSM17600477'}</td>\n",
       "      <td>{'spotify': 'https://open.spotify.com/track/5Q...</td>\n",
       "      <td>https://api.spotify.com/v1/tracks/5QTxFnGygVM4...</td>\n",
       "      <td>5QTxFnGygVM4jFQiBovmRo</td>\n",
       "      <td>False</td>\n",
       "      <td>(Don't Fear) The Reaper</td>\n",
       "      <td>76</td>\n",
       "      <td>https://p.scdn.co/mp3-preview/7506c69eeadd2ba6...</td>\n",
       "      <td>True</td>\n",
       "      <td>3</td>\n",
       "      <td>track</td>\n",
       "      <td>spotify:track:5QTxFnGygVM4jFQiBovmRo</td>\n",
       "    </tr>\n",
       "    <tr>\n",
       "      <th>4</th>\n",
       "      <td>{'album_type': 'album', 'artists': [{'external...</td>\n",
       "      <td>[{'external_urls': {'spotify': 'https://open.s...</td>\n",
       "      <td>[AD, AE, AG, AL, AM, AO, AR, AT, AU, AZ, BA, B...</td>\n",
       "      <td>1</td>\n",
       "      <td>208400</td>\n",
       "      <td>False</td>\n",
       "      <td>False</td>\n",
       "      <td>{'isrc': 'AUAP07900028'}</td>\n",
       "      <td>{'spotify': 'https://open.spotify.com/track/2z...</td>\n",
       "      <td>https://api.spotify.com/v1/tracks/2zYzyRzz6pRm...</td>\n",
       "      <td>2zYzyRzz6pRmhPzyfMEC8s</td>\n",
       "      <td>False</td>\n",
       "      <td>Highway to Hell</td>\n",
       "      <td>84</td>\n",
       "      <td>https://p.scdn.co/mp3-preview/3589df13595d1ab1...</td>\n",
       "      <td>True</td>\n",
       "      <td>1</td>\n",
       "      <td>track</td>\n",
       "      <td>spotify:track:2zYzyRzz6pRmhPzyfMEC8s</td>\n",
       "    </tr>\n",
       "  </tbody>\n",
       "</table>\n",
       "</div>"
      ],
      "text/plain": [
       "                                               album  \\\n",
       "0  {'album_type': 'album', 'artists': [{'external...   \n",
       "1  {'album_type': 'compilation', 'artists': [{'ex...   \n",
       "2  {'album_type': 'album', 'artists': [{'external...   \n",
       "3  {'album_type': 'album', 'artists': [{'external...   \n",
       "4  {'album_type': 'album', 'artists': [{'external...   \n",
       "\n",
       "                                             artists  \\\n",
       "0  [{'external_urls': {'spotify': 'https://open.s...   \n",
       "1  [{'external_urls': {'spotify': 'https://open.s...   \n",
       "2  [{'external_urls': {'spotify': 'https://open.s...   \n",
       "3  [{'external_urls': {'spotify': 'https://open.s...   \n",
       "4  [{'external_urls': {'spotify': 'https://open.s...   \n",
       "\n",
       "                                   available_markets  disc_number  \\\n",
       "0  [AD, AE, AG, AL, AM, AO, AR, AT, AU, AZ, BA, B...            1   \n",
       "1  [AD, AE, AG, AL, AM, AO, AR, AT, AU, AZ, BA, B...            1   \n",
       "2  [AD, AE, AG, AL, AM, AO, AR, AT, AU, AZ, BA, B...            1   \n",
       "3  [AD, AE, AG, AL, AM, AO, AR, AT, AU, AZ, BA, B...            1   \n",
       "4  [AD, AE, AG, AL, AM, AO, AR, AT, AU, AZ, BA, B...            1   \n",
       "\n",
       "   duration_ms  episode  explicit              external_ids  \\\n",
       "0       357266    False     False  {'isrc': 'USSM19902989'}   \n",
       "1       239133    False     False  {'isrc': 'USAR18400117'}   \n",
       "2       192040    False     False  {'isrc': 'GBBBA7360050'}   \n",
       "3       308120    False     False  {'isrc': 'USSM17600477'}   \n",
       "4       208400    False     False  {'isrc': 'AUAP07900028'}   \n",
       "\n",
       "                                       external_urls  \\\n",
       "0  {'spotify': 'https://open.spotify.com/track/3S...   \n",
       "1  {'spotify': 'https://open.spotify.com/track/56...   \n",
       "2  {'spotify': 'https://open.spotify.com/track/0x...   \n",
       "3  {'spotify': 'https://open.spotify.com/track/5Q...   \n",
       "4  {'spotify': 'https://open.spotify.com/track/2z...   \n",
       "\n",
       "                                                href                      id  \\\n",
       "0  https://api.spotify.com/v1/tracks/3S2R0EVwBSAV...  3S2R0EVwBSAVMd5UMgKTL0   \n",
       "1  https://api.spotify.com/v1/tracks/569uHYIB0X32...  569uHYIB0X324FZOBEhvit   \n",
       "2  https://api.spotify.com/v1/tracks/0xxZY5C9xxij...  0xxZY5C9xxij3D1HkzbnfC   \n",
       "3  https://api.spotify.com/v1/tracks/5QTxFnGygVM4...  5QTxFnGygVM4jFQiBovmRo   \n",
       "4  https://api.spotify.com/v1/tracks/2zYzyRzz6pRm...  2zYzyRzz6pRmhPzyfMEC8s   \n",
       "\n",
       "   is_local                     name  popularity  \\\n",
       "0     False                 Thriller          73   \n",
       "1     False             Ghostbusters          70   \n",
       "2     False             Monster Mash          70   \n",
       "3     False  (Don't Fear) The Reaper          76   \n",
       "4     False          Highway to Hell          84   \n",
       "\n",
       "                                         preview_url  track  track_number  \\\n",
       "0  https://p.scdn.co/mp3-preview/04e2e4889d434ec0...   True             4   \n",
       "1  https://p.scdn.co/mp3-preview/9f4aa5928f0ebd49...   True             1   \n",
       "2                                               None   True             1   \n",
       "3  https://p.scdn.co/mp3-preview/7506c69eeadd2ba6...   True             3   \n",
       "4  https://p.scdn.co/mp3-preview/3589df13595d1ab1...   True             1   \n",
       "\n",
       "    type                                   uri  \n",
       "0  track  spotify:track:3S2R0EVwBSAVMd5UMgKTL0  \n",
       "1  track  spotify:track:569uHYIB0X324FZOBEhvit  \n",
       "2  track  spotify:track:0xxZY5C9xxij3D1HkzbnfC  \n",
       "3  track  spotify:track:5QTxFnGygVM4jFQiBovmRo  \n",
       "4  track  spotify:track:2zYzyRzz6pRmhPzyfMEC8s  "
      ]
     },
     "execution_count": 69,
     "metadata": {},
     "output_type": "execute_result"
    }
   ],
   "source": [
    "spooky.head()"
   ]
  },
  {
   "cell_type": "markdown",
   "id": "7e039b64",
   "metadata": {},
   "source": [
    "Given the volume of information provided, I will need to remove some of it in order to get the information I need."
   ]
  },
  {
   "cell_type": "code",
   "execution_count": 70,
   "id": "442ac035",
   "metadata": {},
   "outputs": [],
   "source": [
    "spooky_1 = spooky.drop(columns = ['available_markets', 'disc_number', 'episode', 'external_ids', 'is_local', 'preview_url', 'track', 'track_number', 'type','available_markets', 'external_urls', 'href', 'type', 'uri'])\n"
   ]
  },
  {
   "cell_type": "code",
   "execution_count": 71,
   "id": "bbbfb9fc",
   "metadata": {},
   "outputs": [
    {
     "data": {
      "text/html": [
       "<div>\n",
       "<style scoped>\n",
       "    .dataframe tbody tr th:only-of-type {\n",
       "        vertical-align: middle;\n",
       "    }\n",
       "\n",
       "    .dataframe tbody tr th {\n",
       "        vertical-align: top;\n",
       "    }\n",
       "\n",
       "    .dataframe thead th {\n",
       "        text-align: right;\n",
       "    }\n",
       "</style>\n",
       "<table border=\"1\" class=\"dataframe\">\n",
       "  <thead>\n",
       "    <tr style=\"text-align: right;\">\n",
       "      <th></th>\n",
       "      <th>album</th>\n",
       "      <th>artists</th>\n",
       "      <th>duration_ms</th>\n",
       "      <th>explicit</th>\n",
       "      <th>id</th>\n",
       "      <th>name</th>\n",
       "      <th>popularity</th>\n",
       "    </tr>\n",
       "  </thead>\n",
       "  <tbody>\n",
       "    <tr>\n",
       "      <th>0</th>\n",
       "      <td>{'album_type': 'album', 'artists': [{'external...</td>\n",
       "      <td>[{'external_urls': {'spotify': 'https://open.s...</td>\n",
       "      <td>357266</td>\n",
       "      <td>False</td>\n",
       "      <td>3S2R0EVwBSAVMd5UMgKTL0</td>\n",
       "      <td>Thriller</td>\n",
       "      <td>73</td>\n",
       "    </tr>\n",
       "    <tr>\n",
       "      <th>1</th>\n",
       "      <td>{'album_type': 'compilation', 'artists': [{'ex...</td>\n",
       "      <td>[{'external_urls': {'spotify': 'https://open.s...</td>\n",
       "      <td>239133</td>\n",
       "      <td>False</td>\n",
       "      <td>569uHYIB0X324FZOBEhvit</td>\n",
       "      <td>Ghostbusters</td>\n",
       "      <td>70</td>\n",
       "    </tr>\n",
       "    <tr>\n",
       "      <th>2</th>\n",
       "      <td>{'album_type': 'album', 'artists': [{'external...</td>\n",
       "      <td>[{'external_urls': {'spotify': 'https://open.s...</td>\n",
       "      <td>192040</td>\n",
       "      <td>False</td>\n",
       "      <td>0xxZY5C9xxij3D1HkzbnfC</td>\n",
       "      <td>Monster Mash</td>\n",
       "      <td>70</td>\n",
       "    </tr>\n",
       "    <tr>\n",
       "      <th>3</th>\n",
       "      <td>{'album_type': 'album', 'artists': [{'external...</td>\n",
       "      <td>[{'external_urls': {'spotify': 'https://open.s...</td>\n",
       "      <td>308120</td>\n",
       "      <td>False</td>\n",
       "      <td>5QTxFnGygVM4jFQiBovmRo</td>\n",
       "      <td>(Don't Fear) The Reaper</td>\n",
       "      <td>76</td>\n",
       "    </tr>\n",
       "    <tr>\n",
       "      <th>4</th>\n",
       "      <td>{'album_type': 'album', 'artists': [{'external...</td>\n",
       "      <td>[{'external_urls': {'spotify': 'https://open.s...</td>\n",
       "      <td>208400</td>\n",
       "      <td>False</td>\n",
       "      <td>2zYzyRzz6pRmhPzyfMEC8s</td>\n",
       "      <td>Highway to Hell</td>\n",
       "      <td>84</td>\n",
       "    </tr>\n",
       "  </tbody>\n",
       "</table>\n",
       "</div>"
      ],
      "text/plain": [
       "                                               album  \\\n",
       "0  {'album_type': 'album', 'artists': [{'external...   \n",
       "1  {'album_type': 'compilation', 'artists': [{'ex...   \n",
       "2  {'album_type': 'album', 'artists': [{'external...   \n",
       "3  {'album_type': 'album', 'artists': [{'external...   \n",
       "4  {'album_type': 'album', 'artists': [{'external...   \n",
       "\n",
       "                                             artists  duration_ms  explicit  \\\n",
       "0  [{'external_urls': {'spotify': 'https://open.s...       357266     False   \n",
       "1  [{'external_urls': {'spotify': 'https://open.s...       239133     False   \n",
       "2  [{'external_urls': {'spotify': 'https://open.s...       192040     False   \n",
       "3  [{'external_urls': {'spotify': 'https://open.s...       308120     False   \n",
       "4  [{'external_urls': {'spotify': 'https://open.s...       208400     False   \n",
       "\n",
       "                       id                     name  popularity  \n",
       "0  3S2R0EVwBSAVMd5UMgKTL0                 Thriller          73  \n",
       "1  569uHYIB0X324FZOBEhvit             Ghostbusters          70  \n",
       "2  0xxZY5C9xxij3D1HkzbnfC             Monster Mash          70  \n",
       "3  5QTxFnGygVM4jFQiBovmRo  (Don't Fear) The Reaper          76  \n",
       "4  2zYzyRzz6pRmhPzyfMEC8s          Highway to Hell          84  "
      ]
     },
     "execution_count": 71,
     "metadata": {},
     "output_type": "execute_result"
    }
   ],
   "source": [
    "spooky_1.head()"
   ]
  },
  {
   "cell_type": "markdown",
   "id": "9d1b185f",
   "metadata": {},
   "source": [
    "There is still a sizable amount of data, but I will have to organize some of it to locate the data I seek."
   ]
  },
  {
   "cell_type": "code",
   "execution_count": 72,
   "id": "e81763b6",
   "metadata": {},
   "outputs": [
    {
     "data": {
      "text/html": [
       "<div>\n",
       "<style scoped>\n",
       "    .dataframe tbody tr th:only-of-type {\n",
       "        vertical-align: middle;\n",
       "    }\n",
       "\n",
       "    .dataframe tbody tr th {\n",
       "        vertical-align: top;\n",
       "    }\n",
       "\n",
       "    .dataframe thead th {\n",
       "        text-align: right;\n",
       "    }\n",
       "</style>\n",
       "<table border=\"1\" class=\"dataframe\">\n",
       "  <thead>\n",
       "    <tr style=\"text-align: right;\">\n",
       "      <th></th>\n",
       "      <th>external_urls</th>\n",
       "      <th>href</th>\n",
       "      <th>id</th>\n",
       "      <th>name</th>\n",
       "      <th>type</th>\n",
       "      <th>uri</th>\n",
       "    </tr>\n",
       "  </thead>\n",
       "  <tbody>\n",
       "    <tr>\n",
       "      <th>0</th>\n",
       "      <td>{'spotify': 'https://open.spotify.com/artist/3...</td>\n",
       "      <td>https://api.spotify.com/v1/artists/3fMbdgg4jU1...</td>\n",
       "      <td>3fMbdgg4jU18AjLCKBhRSm</td>\n",
       "      <td>Michael Jackson</td>\n",
       "      <td>artist</td>\n",
       "      <td>spotify:artist:3fMbdgg4jU18AjLCKBhRSm</td>\n",
       "    </tr>\n",
       "  </tbody>\n",
       "</table>\n",
       "</div>"
      ],
      "text/plain": [
       "                                       external_urls  \\\n",
       "0  {'spotify': 'https://open.spotify.com/artist/3...   \n",
       "\n",
       "                                                href                      id  \\\n",
       "0  https://api.spotify.com/v1/artists/3fMbdgg4jU1...  3fMbdgg4jU18AjLCKBhRSm   \n",
       "\n",
       "              name    type                                    uri  \n",
       "0  Michael Jackson  artist  spotify:artist:3fMbdgg4jU18AjLCKBhRSm  "
      ]
     },
     "execution_count": 72,
     "metadata": {},
     "output_type": "execute_result"
    }
   ],
   "source": [
    "pd.DataFrame(spooky_1['artists'][0])"
   ]
  },
  {
   "cell_type": "code",
   "execution_count": 73,
   "id": "84000d1f",
   "metadata": {},
   "outputs": [
    {
     "data": {
      "text/plain": [
       "'Michael Jackson'"
      ]
     },
     "execution_count": 73,
     "metadata": {},
     "output_type": "execute_result"
    }
   ],
   "source": [
    "spooky_1['artists'][0][0]['name']"
   ]
  },
  {
   "cell_type": "code",
   "execution_count": 74,
   "id": "baa94624",
   "metadata": {
    "scrolled": true
   },
   "outputs": [],
   "source": [
    "artist = [x[0]['name'] for x in spooky['artists']]"
   ]
  },
  {
   "cell_type": "code",
   "execution_count": 75,
   "id": "21b8d057",
   "metadata": {},
   "outputs": [],
   "source": [
    "artists_name =  pd.DataFrame(artist)"
   ]
  },
  {
   "cell_type": "code",
   "execution_count": 76,
   "id": "6ba6e322",
   "metadata": {},
   "outputs": [
    {
     "data": {
      "text/html": [
       "<div>\n",
       "<style scoped>\n",
       "    .dataframe tbody tr th:only-of-type {\n",
       "        vertical-align: middle;\n",
       "    }\n",
       "\n",
       "    .dataframe tbody tr th {\n",
       "        vertical-align: top;\n",
       "    }\n",
       "\n",
       "    .dataframe thead th {\n",
       "        text-align: right;\n",
       "    }\n",
       "</style>\n",
       "<table border=\"1\" class=\"dataframe\">\n",
       "  <thead>\n",
       "    <tr style=\"text-align: right;\">\n",
       "      <th></th>\n",
       "      <th>0</th>\n",
       "    </tr>\n",
       "  </thead>\n",
       "  <tbody>\n",
       "    <tr>\n",
       "      <th>0</th>\n",
       "      <td>Michael Jackson</td>\n",
       "    </tr>\n",
       "    <tr>\n",
       "      <th>1</th>\n",
       "      <td>Ray Parker Jr.</td>\n",
       "    </tr>\n",
       "    <tr>\n",
       "      <th>2</th>\n",
       "      <td>Bobby \"Boris\" Pickett</td>\n",
       "    </tr>\n",
       "    <tr>\n",
       "      <th>3</th>\n",
       "      <td>Blue Öyster Cult</td>\n",
       "    </tr>\n",
       "    <tr>\n",
       "      <th>4</th>\n",
       "      <td>AC/DC</td>\n",
       "    </tr>\n",
       "  </tbody>\n",
       "</table>\n",
       "</div>"
      ],
      "text/plain": [
       "                       0\n",
       "0        Michael Jackson\n",
       "1         Ray Parker Jr.\n",
       "2  Bobby \"Boris\" Pickett\n",
       "3       Blue Öyster Cult\n",
       "4                  AC/DC"
      ]
     },
     "execution_count": 76,
     "metadata": {},
     "output_type": "execute_result"
    }
   ],
   "source": [
    "artists_name.head()"
   ]
  },
  {
   "cell_type": "code",
   "execution_count": 77,
   "id": "8f7dee63",
   "metadata": {},
   "outputs": [],
   "source": [
    "spooky_1['artists_name'] = artists_name"
   ]
  },
  {
   "cell_type": "code",
   "execution_count": 78,
   "id": "35be9b26",
   "metadata": {},
   "outputs": [
    {
     "data": {
      "text/html": [
       "<div>\n",
       "<style scoped>\n",
       "    .dataframe tbody tr th:only-of-type {\n",
       "        vertical-align: middle;\n",
       "    }\n",
       "\n",
       "    .dataframe tbody tr th {\n",
       "        vertical-align: top;\n",
       "    }\n",
       "\n",
       "    .dataframe thead th {\n",
       "        text-align: right;\n",
       "    }\n",
       "</style>\n",
       "<table border=\"1\" class=\"dataframe\">\n",
       "  <thead>\n",
       "    <tr style=\"text-align: right;\">\n",
       "      <th></th>\n",
       "      <th>album</th>\n",
       "      <th>duration_ms</th>\n",
       "      <th>explicit</th>\n",
       "      <th>id</th>\n",
       "      <th>name</th>\n",
       "      <th>popularity</th>\n",
       "      <th>artists_name</th>\n",
       "    </tr>\n",
       "  </thead>\n",
       "  <tbody>\n",
       "    <tr>\n",
       "      <th>0</th>\n",
       "      <td>{'album_type': 'album', 'artists': [{'external...</td>\n",
       "      <td>357266</td>\n",
       "      <td>False</td>\n",
       "      <td>3S2R0EVwBSAVMd5UMgKTL0</td>\n",
       "      <td>Thriller</td>\n",
       "      <td>73</td>\n",
       "      <td>Michael Jackson</td>\n",
       "    </tr>\n",
       "    <tr>\n",
       "      <th>1</th>\n",
       "      <td>{'album_type': 'compilation', 'artists': [{'ex...</td>\n",
       "      <td>239133</td>\n",
       "      <td>False</td>\n",
       "      <td>569uHYIB0X324FZOBEhvit</td>\n",
       "      <td>Ghostbusters</td>\n",
       "      <td>70</td>\n",
       "      <td>Ray Parker Jr.</td>\n",
       "    </tr>\n",
       "    <tr>\n",
       "      <th>2</th>\n",
       "      <td>{'album_type': 'album', 'artists': [{'external...</td>\n",
       "      <td>192040</td>\n",
       "      <td>False</td>\n",
       "      <td>0xxZY5C9xxij3D1HkzbnfC</td>\n",
       "      <td>Monster Mash</td>\n",
       "      <td>70</td>\n",
       "      <td>Bobby \"Boris\" Pickett</td>\n",
       "    </tr>\n",
       "    <tr>\n",
       "      <th>3</th>\n",
       "      <td>{'album_type': 'album', 'artists': [{'external...</td>\n",
       "      <td>308120</td>\n",
       "      <td>False</td>\n",
       "      <td>5QTxFnGygVM4jFQiBovmRo</td>\n",
       "      <td>(Don't Fear) The Reaper</td>\n",
       "      <td>76</td>\n",
       "      <td>Blue Öyster Cult</td>\n",
       "    </tr>\n",
       "    <tr>\n",
       "      <th>4</th>\n",
       "      <td>{'album_type': 'album', 'artists': [{'external...</td>\n",
       "      <td>208400</td>\n",
       "      <td>False</td>\n",
       "      <td>2zYzyRzz6pRmhPzyfMEC8s</td>\n",
       "      <td>Highway to Hell</td>\n",
       "      <td>84</td>\n",
       "      <td>AC/DC</td>\n",
       "    </tr>\n",
       "  </tbody>\n",
       "</table>\n",
       "</div>"
      ],
      "text/plain": [
       "                                               album  duration_ms  explicit  \\\n",
       "0  {'album_type': 'album', 'artists': [{'external...       357266     False   \n",
       "1  {'album_type': 'compilation', 'artists': [{'ex...       239133     False   \n",
       "2  {'album_type': 'album', 'artists': [{'external...       192040     False   \n",
       "3  {'album_type': 'album', 'artists': [{'external...       308120     False   \n",
       "4  {'album_type': 'album', 'artists': [{'external...       208400     False   \n",
       "\n",
       "                       id                     name  popularity  \\\n",
       "0  3S2R0EVwBSAVMd5UMgKTL0                 Thriller          73   \n",
       "1  569uHYIB0X324FZOBEhvit             Ghostbusters          70   \n",
       "2  0xxZY5C9xxij3D1HkzbnfC             Monster Mash          70   \n",
       "3  5QTxFnGygVM4jFQiBovmRo  (Don't Fear) The Reaper          76   \n",
       "4  2zYzyRzz6pRmhPzyfMEC8s          Highway to Hell          84   \n",
       "\n",
       "            artists_name  \n",
       "0        Michael Jackson  \n",
       "1         Ray Parker Jr.  \n",
       "2  Bobby \"Boris\" Pickett  \n",
       "3       Blue Öyster Cult  \n",
       "4                  AC/DC  "
      ]
     },
     "execution_count": 78,
     "metadata": {},
     "output_type": "execute_result"
    }
   ],
   "source": [
    "spooky_1.drop(columns = ['artists']).head()"
   ]
  },
  {
   "cell_type": "code",
   "execution_count": 79,
   "id": "b7cef82f",
   "metadata": {},
   "outputs": [],
   "source": [
    "spooky_1['album_name'] = spooky_1['name']"
   ]
  },
  {
   "cell_type": "code",
   "execution_count": 85,
   "id": "a43c493c",
   "metadata": {},
   "outputs": [],
   "source": [
    "Hal_pop = spooky_1.drop(columns = ['album', 'explicit', 'artists'])"
   ]
  },
  {
   "cell_type": "code",
   "execution_count": 86,
   "id": "557f8bb8",
   "metadata": {
    "scrolled": true
   },
   "outputs": [
    {
     "data": {
      "text/html": [
       "<div>\n",
       "<style scoped>\n",
       "    .dataframe tbody tr th:only-of-type {\n",
       "        vertical-align: middle;\n",
       "    }\n",
       "\n",
       "    .dataframe tbody tr th {\n",
       "        vertical-align: top;\n",
       "    }\n",
       "\n",
       "    .dataframe thead th {\n",
       "        text-align: right;\n",
       "    }\n",
       "</style>\n",
       "<table border=\"1\" class=\"dataframe\">\n",
       "  <thead>\n",
       "    <tr style=\"text-align: right;\">\n",
       "      <th></th>\n",
       "      <th>duration_ms</th>\n",
       "      <th>id</th>\n",
       "      <th>name</th>\n",
       "      <th>popularity</th>\n",
       "      <th>artists_name</th>\n",
       "      <th>album_name</th>\n",
       "    </tr>\n",
       "  </thead>\n",
       "  <tbody>\n",
       "    <tr>\n",
       "      <th>0</th>\n",
       "      <td>357266</td>\n",
       "      <td>3S2R0EVwBSAVMd5UMgKTL0</td>\n",
       "      <td>Thriller</td>\n",
       "      <td>73</td>\n",
       "      <td>Michael Jackson</td>\n",
       "      <td>Thriller</td>\n",
       "    </tr>\n",
       "    <tr>\n",
       "      <th>1</th>\n",
       "      <td>239133</td>\n",
       "      <td>569uHYIB0X324FZOBEhvit</td>\n",
       "      <td>Ghostbusters</td>\n",
       "      <td>70</td>\n",
       "      <td>Ray Parker Jr.</td>\n",
       "      <td>Ghostbusters</td>\n",
       "    </tr>\n",
       "    <tr>\n",
       "      <th>2</th>\n",
       "      <td>192040</td>\n",
       "      <td>0xxZY5C9xxij3D1HkzbnfC</td>\n",
       "      <td>Monster Mash</td>\n",
       "      <td>70</td>\n",
       "      <td>Bobby \"Boris\" Pickett</td>\n",
       "      <td>Monster Mash</td>\n",
       "    </tr>\n",
       "    <tr>\n",
       "      <th>3</th>\n",
       "      <td>308120</td>\n",
       "      <td>5QTxFnGygVM4jFQiBovmRo</td>\n",
       "      <td>(Don't Fear) The Reaper</td>\n",
       "      <td>76</td>\n",
       "      <td>Blue Öyster Cult</td>\n",
       "      <td>(Don't Fear) The Reaper</td>\n",
       "    </tr>\n",
       "    <tr>\n",
       "      <th>4</th>\n",
       "      <td>208400</td>\n",
       "      <td>2zYzyRzz6pRmhPzyfMEC8s</td>\n",
       "      <td>Highway to Hell</td>\n",
       "      <td>84</td>\n",
       "      <td>AC/DC</td>\n",
       "      <td>Highway to Hell</td>\n",
       "    </tr>\n",
       "  </tbody>\n",
       "</table>\n",
       "</div>"
      ],
      "text/plain": [
       "   duration_ms                      id                     name  popularity  \\\n",
       "0       357266  3S2R0EVwBSAVMd5UMgKTL0                 Thriller          73   \n",
       "1       239133  569uHYIB0X324FZOBEhvit             Ghostbusters          70   \n",
       "2       192040  0xxZY5C9xxij3D1HkzbnfC             Monster Mash          70   \n",
       "3       308120  5QTxFnGygVM4jFQiBovmRo  (Don't Fear) The Reaper          76   \n",
       "4       208400  2zYzyRzz6pRmhPzyfMEC8s          Highway to Hell          84   \n",
       "\n",
       "            artists_name               album_name  \n",
       "0        Michael Jackson                 Thriller  \n",
       "1         Ray Parker Jr.             Ghostbusters  \n",
       "2  Bobby \"Boris\" Pickett             Monster Mash  \n",
       "3       Blue Öyster Cult  (Don't Fear) The Reaper  \n",
       "4                  AC/DC          Highway to Hell  "
      ]
     },
     "execution_count": 86,
     "metadata": {},
     "output_type": "execute_result"
    }
   ],
   "source": [
    "Hal_pop.head()"
   ]
  },
  {
   "cell_type": "markdown",
   "id": "9e9a5bdf",
   "metadata": {},
   "source": [
    "Here is the final dataframe for the first playlist"
   ]
  },
  {
   "cell_type": "code",
   "execution_count": 88,
   "id": "d1fc1870",
   "metadata": {},
   "outputs": [],
   "source": [
    "Hal_pop_ids = Hal_pop['id']"
   ]
  },
  {
   "cell_type": "code",
   "execution_count": 89,
   "id": "e15de030",
   "metadata": {
    "scrolled": false
   },
   "outputs": [
    {
     "data": {
      "text/plain": [
       "'3S2R0EVwBSAVMd5UMgKTL0,569uHYIB0X324FZOBEhvit,0xxZY5C9xxij3D1HkzbnfC,5QTxFnGygVM4jFQiBovmRo,2zYzyRzz6pRmhPzyfMEC8s,01YROQCnF1AQm7SCWJmD2o,6kotXaSQaGYxE62hVpdHWu,6hci8n9UowepjRmCc6CKTv,2aRjuScpka878tUWOsLYpQ,4YMQXzscifAREG0a7KNGhB,1h2xVEoJORqrg71HocgqXd,3sLhMSePzxSrmxluIqeoAZ,5qRJD1yaLJ5s0J3JpbgnwA,1i6N76fftMZhijOzFQ5ZtL,1Ud6moTC0KyXMq1Oxfien0,2E7W1X4maFFcjHrVrFA7Vs,2h47SG8bNphmicAll4H9RV,7EZC6E7UjZe63f1jRmkWxt,4WFeJTXNHIS2wURtwlAkhu,743DaI0d44SpwV2ArTPGmy'"
      ]
     },
     "execution_count": 89,
     "metadata": {},
     "output_type": "execute_result"
    }
   ],
   "source": [
    "Hal_pop_strings = ','.join(str(x) for x in Hal_pop_ids)\n",
    "Hal_pop_strings"
   ]
  },
  {
   "cell_type": "markdown",
   "id": "65932b97",
   "metadata": {},
   "source": [
    "Now I will collect the audio features for the Fall/Halloween playlist"
   ]
  },
  {
   "cell_type": "code",
   "execution_count": 90,
   "id": "88215b4b",
   "metadata": {},
   "outputs": [],
   "source": [
    "track_features_endpoint = \"https://api.spotify.com/v1/audio-features?ids={}\".format(Hal_pop_strings)"
   ]
  },
  {
   "cell_type": "code",
   "execution_count": 92,
   "id": "d43451ed",
   "metadata": {},
   "outputs": [],
   "source": [
    "Hal_features = requests.get(track_features_endpoint, headers = session_header)"
   ]
  },
  {
   "cell_type": "code",
   "execution_count": 93,
   "id": "658d57af",
   "metadata": {},
   "outputs": [
    {
     "data": {
      "text/plain": [
       "200"
      ]
     },
     "execution_count": 93,
     "metadata": {},
     "output_type": "execute_result"
    }
   ],
   "source": [
    "Hal_features.status_code"
   ]
  },
  {
   "cell_type": "code",
   "execution_count": 96,
   "id": "d5b40a29",
   "metadata": {},
   "outputs": [],
   "source": [
    "Hal_dict = json.loads(Hal_features.text)"
   ]
  },
  {
   "cell_type": "code",
   "execution_count": 97,
   "id": "08c6bbe7",
   "metadata": {},
   "outputs": [
    {
     "data": {
      "text/plain": [
       "dict_keys(['audio_features'])"
      ]
     },
     "execution_count": 97,
     "metadata": {},
     "output_type": "execute_result"
    }
   ],
   "source": [
    "Hal_dict.keys()"
   ]
  },
  {
   "cell_type": "code",
   "execution_count": 101,
   "id": "bdc0520e",
   "metadata": {},
   "outputs": [],
   "source": [
    "Spooky_af = Hal_dict['audio_features']"
   ]
  },
  {
   "cell_type": "code",
   "execution_count": 102,
   "id": "0fe403de",
   "metadata": {},
   "outputs": [],
   "source": [
    "Spooky_df = pd.DataFrame(Spooky_af)"
   ]
  },
  {
   "cell_type": "code",
   "execution_count": 103,
   "id": "38a1226d",
   "metadata": {},
   "outputs": [
    {
     "data": {
      "text/html": [
       "<div>\n",
       "<style scoped>\n",
       "    .dataframe tbody tr th:only-of-type {\n",
       "        vertical-align: middle;\n",
       "    }\n",
       "\n",
       "    .dataframe tbody tr th {\n",
       "        vertical-align: top;\n",
       "    }\n",
       "\n",
       "    .dataframe thead th {\n",
       "        text-align: right;\n",
       "    }\n",
       "</style>\n",
       "<table border=\"1\" class=\"dataframe\">\n",
       "  <thead>\n",
       "    <tr style=\"text-align: right;\">\n",
       "      <th></th>\n",
       "      <th>danceability</th>\n",
       "      <th>energy</th>\n",
       "      <th>key</th>\n",
       "      <th>loudness</th>\n",
       "      <th>mode</th>\n",
       "      <th>speechiness</th>\n",
       "      <th>acousticness</th>\n",
       "      <th>instrumentalness</th>\n",
       "      <th>liveness</th>\n",
       "      <th>valence</th>\n",
       "      <th>tempo</th>\n",
       "      <th>type</th>\n",
       "      <th>id</th>\n",
       "      <th>uri</th>\n",
       "      <th>track_href</th>\n",
       "      <th>analysis_url</th>\n",
       "      <th>duration_ms</th>\n",
       "      <th>time_signature</th>\n",
       "    </tr>\n",
       "  </thead>\n",
       "  <tbody>\n",
       "    <tr>\n",
       "      <th>0</th>\n",
       "      <td>0.773</td>\n",
       "      <td>0.859</td>\n",
       "      <td>11</td>\n",
       "      <td>-4.913</td>\n",
       "      <td>1</td>\n",
       "      <td>0.0747</td>\n",
       "      <td>0.0855</td>\n",
       "      <td>0.000187</td>\n",
       "      <td>0.914</td>\n",
       "      <td>0.813</td>\n",
       "      <td>118.459</td>\n",
       "      <td>audio_features</td>\n",
       "      <td>3S2R0EVwBSAVMd5UMgKTL0</td>\n",
       "      <td>spotify:track:3S2R0EVwBSAVMd5UMgKTL0</td>\n",
       "      <td>https://api.spotify.com/v1/tracks/3S2R0EVwBSAV...</td>\n",
       "      <td>https://api.spotify.com/v1/audio-analysis/3S2R...</td>\n",
       "      <td>357267</td>\n",
       "      <td>4</td>\n",
       "    </tr>\n",
       "    <tr>\n",
       "      <th>1</th>\n",
       "      <td>0.778</td>\n",
       "      <td>0.719</td>\n",
       "      <td>4</td>\n",
       "      <td>-9.698</td>\n",
       "      <td>1</td>\n",
       "      <td>0.0345</td>\n",
       "      <td>0.0123</td>\n",
       "      <td>0.026200</td>\n",
       "      <td>0.297</td>\n",
       "      <td>0.729</td>\n",
       "      <td>115.400</td>\n",
       "      <td>audio_features</td>\n",
       "      <td>569uHYIB0X324FZOBEhvit</td>\n",
       "      <td>spotify:track:569uHYIB0X324FZOBEhvit</td>\n",
       "      <td>https://api.spotify.com/v1/tracks/569uHYIB0X32...</td>\n",
       "      <td>https://api.spotify.com/v1/audio-analysis/569u...</td>\n",
       "      <td>239133</td>\n",
       "      <td>4</td>\n",
       "    </tr>\n",
       "    <tr>\n",
       "      <th>2</th>\n",
       "      <td>0.541</td>\n",
       "      <td>0.504</td>\n",
       "      <td>11</td>\n",
       "      <td>-14.191</td>\n",
       "      <td>0</td>\n",
       "      <td>0.4570</td>\n",
       "      <td>0.3750</td>\n",
       "      <td>0.000000</td>\n",
       "      <td>0.421</td>\n",
       "      <td>0.707</td>\n",
       "      <td>68.482</td>\n",
       "      <td>audio_features</td>\n",
       "      <td>0xxZY5C9xxij3D1HkzbnfC</td>\n",
       "      <td>spotify:track:0xxZY5C9xxij3D1HkzbnfC</td>\n",
       "      <td>https://api.spotify.com/v1/tracks/0xxZY5C9xxij...</td>\n",
       "      <td>https://api.spotify.com/v1/audio-analysis/0xxZ...</td>\n",
       "      <td>192040</td>\n",
       "      <td>4</td>\n",
       "    </tr>\n",
       "    <tr>\n",
       "      <th>3</th>\n",
       "      <td>0.333</td>\n",
       "      <td>0.927</td>\n",
       "      <td>9</td>\n",
       "      <td>-8.550</td>\n",
       "      <td>0</td>\n",
       "      <td>0.0733</td>\n",
       "      <td>0.0029</td>\n",
       "      <td>0.000208</td>\n",
       "      <td>0.297</td>\n",
       "      <td>0.385</td>\n",
       "      <td>141.466</td>\n",
       "      <td>audio_features</td>\n",
       "      <td>5QTxFnGygVM4jFQiBovmRo</td>\n",
       "      <td>spotify:track:5QTxFnGygVM4jFQiBovmRo</td>\n",
       "      <td>https://api.spotify.com/v1/tracks/5QTxFnGygVM4...</td>\n",
       "      <td>https://api.spotify.com/v1/audio-analysis/5QTx...</td>\n",
       "      <td>308120</td>\n",
       "      <td>4</td>\n",
       "    </tr>\n",
       "    <tr>\n",
       "      <th>4</th>\n",
       "      <td>0.574</td>\n",
       "      <td>0.913</td>\n",
       "      <td>6</td>\n",
       "      <td>-4.793</td>\n",
       "      <td>0</td>\n",
       "      <td>0.1330</td>\n",
       "      <td>0.0610</td>\n",
       "      <td>0.001580</td>\n",
       "      <td>0.156</td>\n",
       "      <td>0.423</td>\n",
       "      <td>115.728</td>\n",
       "      <td>audio_features</td>\n",
       "      <td>2zYzyRzz6pRmhPzyfMEC8s</td>\n",
       "      <td>spotify:track:2zYzyRzz6pRmhPzyfMEC8s</td>\n",
       "      <td>https://api.spotify.com/v1/tracks/2zYzyRzz6pRm...</td>\n",
       "      <td>https://api.spotify.com/v1/audio-analysis/2zYz...</td>\n",
       "      <td>208400</td>\n",
       "      <td>4</td>\n",
       "    </tr>\n",
       "  </tbody>\n",
       "</table>\n",
       "</div>"
      ],
      "text/plain": [
       "   danceability  energy  key  loudness  mode  speechiness  acousticness  \\\n",
       "0         0.773   0.859   11    -4.913     1       0.0747        0.0855   \n",
       "1         0.778   0.719    4    -9.698     1       0.0345        0.0123   \n",
       "2         0.541   0.504   11   -14.191     0       0.4570        0.3750   \n",
       "3         0.333   0.927    9    -8.550     0       0.0733        0.0029   \n",
       "4         0.574   0.913    6    -4.793     0       0.1330        0.0610   \n",
       "\n",
       "   instrumentalness  liveness  valence    tempo            type  \\\n",
       "0          0.000187     0.914    0.813  118.459  audio_features   \n",
       "1          0.026200     0.297    0.729  115.400  audio_features   \n",
       "2          0.000000     0.421    0.707   68.482  audio_features   \n",
       "3          0.000208     0.297    0.385  141.466  audio_features   \n",
       "4          0.001580     0.156    0.423  115.728  audio_features   \n",
       "\n",
       "                       id                                   uri  \\\n",
       "0  3S2R0EVwBSAVMd5UMgKTL0  spotify:track:3S2R0EVwBSAVMd5UMgKTL0   \n",
       "1  569uHYIB0X324FZOBEhvit  spotify:track:569uHYIB0X324FZOBEhvit   \n",
       "2  0xxZY5C9xxij3D1HkzbnfC  spotify:track:0xxZY5C9xxij3D1HkzbnfC   \n",
       "3  5QTxFnGygVM4jFQiBovmRo  spotify:track:5QTxFnGygVM4jFQiBovmRo   \n",
       "4  2zYzyRzz6pRmhPzyfMEC8s  spotify:track:2zYzyRzz6pRmhPzyfMEC8s   \n",
       "\n",
       "                                          track_href  \\\n",
       "0  https://api.spotify.com/v1/tracks/3S2R0EVwBSAV...   \n",
       "1  https://api.spotify.com/v1/tracks/569uHYIB0X32...   \n",
       "2  https://api.spotify.com/v1/tracks/0xxZY5C9xxij...   \n",
       "3  https://api.spotify.com/v1/tracks/5QTxFnGygVM4...   \n",
       "4  https://api.spotify.com/v1/tracks/2zYzyRzz6pRm...   \n",
       "\n",
       "                                        analysis_url  duration_ms  \\\n",
       "0  https://api.spotify.com/v1/audio-analysis/3S2R...       357267   \n",
       "1  https://api.spotify.com/v1/audio-analysis/569u...       239133   \n",
       "2  https://api.spotify.com/v1/audio-analysis/0xxZ...       192040   \n",
       "3  https://api.spotify.com/v1/audio-analysis/5QTx...       308120   \n",
       "4  https://api.spotify.com/v1/audio-analysis/2zYz...       208400   \n",
       "\n",
       "   time_signature  \n",
       "0               4  \n",
       "1               4  \n",
       "2               4  \n",
       "3               4  \n",
       "4               4  "
      ]
     },
     "execution_count": 103,
     "metadata": {},
     "output_type": "execute_result"
    }
   ],
   "source": [
    "Spooky_df.head()"
   ]
  },
  {
   "cell_type": "markdown",
   "id": "b79d8d6c",
   "metadata": {},
   "source": [
    "Now to blend both dataframes"
   ]
  },
  {
   "cell_type": "code",
   "execution_count": 104,
   "id": "feb8d2cf",
   "metadata": {},
   "outputs": [],
   "source": [
    "Hal_pop['danceability'] = Spooky_df['danceability']\n",
    "Hal_pop['energy'] = Spooky_df['energy']\n",
    "Hal_pop['key'] = Spooky_df['key']\n",
    "Hal_pop['loudness'] = Spooky_df['loudness']\n",
    "Hal_pop['mode'] = Spooky_df['mode']\n",
    "Hal_pop['speechiness'] = Spooky_df['speechiness']\n",
    "Hal_pop['acousticness'] = Spooky_df['acousticness']\n",
    "Hal_pop['instrumentalness'] = Spooky_df['instrumentalness']\n",
    "Hal_pop['liveness'] = Spooky_df['liveness']\n",
    "Hal_pop['valence'] = Spooky_df['valence']\n",
    "Hal_pop['tempo'] = Spooky_df['tempo']\n",
    "Hal_pop['id'] = Spooky_df['id']\n",
    "Hal_pop['duration_ms'] = Spooky_df['duration_ms']\n",
    "Hal_pop['time_signature'] = Spooky_df['time_signature']"
   ]
  },
  {
   "cell_type": "code",
   "execution_count": 105,
   "id": "3e8d8405",
   "metadata": {},
   "outputs": [
    {
     "data": {
      "text/html": [
       "<div>\n",
       "<style scoped>\n",
       "    .dataframe tbody tr th:only-of-type {\n",
       "        vertical-align: middle;\n",
       "    }\n",
       "\n",
       "    .dataframe tbody tr th {\n",
       "        vertical-align: top;\n",
       "    }\n",
       "\n",
       "    .dataframe thead th {\n",
       "        text-align: right;\n",
       "    }\n",
       "</style>\n",
       "<table border=\"1\" class=\"dataframe\">\n",
       "  <thead>\n",
       "    <tr style=\"text-align: right;\">\n",
       "      <th></th>\n",
       "      <th>duration_ms</th>\n",
       "      <th>id</th>\n",
       "      <th>name</th>\n",
       "      <th>popularity</th>\n",
       "      <th>artists_name</th>\n",
       "      <th>album_name</th>\n",
       "      <th>danceability</th>\n",
       "      <th>energy</th>\n",
       "      <th>key</th>\n",
       "      <th>loudness</th>\n",
       "      <th>mode</th>\n",
       "      <th>speechiness</th>\n",
       "      <th>acousticness</th>\n",
       "      <th>instrumentalness</th>\n",
       "      <th>liveness</th>\n",
       "      <th>valence</th>\n",
       "      <th>tempo</th>\n",
       "      <th>time_signature</th>\n",
       "    </tr>\n",
       "  </thead>\n",
       "  <tbody>\n",
       "    <tr>\n",
       "      <th>0</th>\n",
       "      <td>357267</td>\n",
       "      <td>3S2R0EVwBSAVMd5UMgKTL0</td>\n",
       "      <td>Thriller</td>\n",
       "      <td>73</td>\n",
       "      <td>Michael Jackson</td>\n",
       "      <td>Thriller</td>\n",
       "      <td>0.773</td>\n",
       "      <td>0.859</td>\n",
       "      <td>11</td>\n",
       "      <td>-4.913</td>\n",
       "      <td>1</td>\n",
       "      <td>0.0747</td>\n",
       "      <td>0.0855</td>\n",
       "      <td>0.000187</td>\n",
       "      <td>0.914</td>\n",
       "      <td>0.813</td>\n",
       "      <td>118.459</td>\n",
       "      <td>4</td>\n",
       "    </tr>\n",
       "    <tr>\n",
       "      <th>1</th>\n",
       "      <td>239133</td>\n",
       "      <td>569uHYIB0X324FZOBEhvit</td>\n",
       "      <td>Ghostbusters</td>\n",
       "      <td>70</td>\n",
       "      <td>Ray Parker Jr.</td>\n",
       "      <td>Ghostbusters</td>\n",
       "      <td>0.778</td>\n",
       "      <td>0.719</td>\n",
       "      <td>4</td>\n",
       "      <td>-9.698</td>\n",
       "      <td>1</td>\n",
       "      <td>0.0345</td>\n",
       "      <td>0.0123</td>\n",
       "      <td>0.026200</td>\n",
       "      <td>0.297</td>\n",
       "      <td>0.729</td>\n",
       "      <td>115.400</td>\n",
       "      <td>4</td>\n",
       "    </tr>\n",
       "    <tr>\n",
       "      <th>2</th>\n",
       "      <td>192040</td>\n",
       "      <td>0xxZY5C9xxij3D1HkzbnfC</td>\n",
       "      <td>Monster Mash</td>\n",
       "      <td>70</td>\n",
       "      <td>Bobby \"Boris\" Pickett</td>\n",
       "      <td>Monster Mash</td>\n",
       "      <td>0.541</td>\n",
       "      <td>0.504</td>\n",
       "      <td>11</td>\n",
       "      <td>-14.191</td>\n",
       "      <td>0</td>\n",
       "      <td>0.4570</td>\n",
       "      <td>0.3750</td>\n",
       "      <td>0.000000</td>\n",
       "      <td>0.421</td>\n",
       "      <td>0.707</td>\n",
       "      <td>68.482</td>\n",
       "      <td>4</td>\n",
       "    </tr>\n",
       "    <tr>\n",
       "      <th>3</th>\n",
       "      <td>308120</td>\n",
       "      <td>5QTxFnGygVM4jFQiBovmRo</td>\n",
       "      <td>(Don't Fear) The Reaper</td>\n",
       "      <td>76</td>\n",
       "      <td>Blue Öyster Cult</td>\n",
       "      <td>(Don't Fear) The Reaper</td>\n",
       "      <td>0.333</td>\n",
       "      <td>0.927</td>\n",
       "      <td>9</td>\n",
       "      <td>-8.550</td>\n",
       "      <td>0</td>\n",
       "      <td>0.0733</td>\n",
       "      <td>0.0029</td>\n",
       "      <td>0.000208</td>\n",
       "      <td>0.297</td>\n",
       "      <td>0.385</td>\n",
       "      <td>141.466</td>\n",
       "      <td>4</td>\n",
       "    </tr>\n",
       "    <tr>\n",
       "      <th>4</th>\n",
       "      <td>208400</td>\n",
       "      <td>2zYzyRzz6pRmhPzyfMEC8s</td>\n",
       "      <td>Highway to Hell</td>\n",
       "      <td>84</td>\n",
       "      <td>AC/DC</td>\n",
       "      <td>Highway to Hell</td>\n",
       "      <td>0.574</td>\n",
       "      <td>0.913</td>\n",
       "      <td>6</td>\n",
       "      <td>-4.793</td>\n",
       "      <td>0</td>\n",
       "      <td>0.1330</td>\n",
       "      <td>0.0610</td>\n",
       "      <td>0.001580</td>\n",
       "      <td>0.156</td>\n",
       "      <td>0.423</td>\n",
       "      <td>115.728</td>\n",
       "      <td>4</td>\n",
       "    </tr>\n",
       "  </tbody>\n",
       "</table>\n",
       "</div>"
      ],
      "text/plain": [
       "   duration_ms                      id                     name  popularity  \\\n",
       "0       357267  3S2R0EVwBSAVMd5UMgKTL0                 Thriller          73   \n",
       "1       239133  569uHYIB0X324FZOBEhvit             Ghostbusters          70   \n",
       "2       192040  0xxZY5C9xxij3D1HkzbnfC             Monster Mash          70   \n",
       "3       308120  5QTxFnGygVM4jFQiBovmRo  (Don't Fear) The Reaper          76   \n",
       "4       208400  2zYzyRzz6pRmhPzyfMEC8s          Highway to Hell          84   \n",
       "\n",
       "            artists_name               album_name  danceability  energy  key  \\\n",
       "0        Michael Jackson                 Thriller         0.773   0.859   11   \n",
       "1         Ray Parker Jr.             Ghostbusters         0.778   0.719    4   \n",
       "2  Bobby \"Boris\" Pickett             Monster Mash         0.541   0.504   11   \n",
       "3       Blue Öyster Cult  (Don't Fear) The Reaper         0.333   0.927    9   \n",
       "4                  AC/DC          Highway to Hell         0.574   0.913    6   \n",
       "\n",
       "   loudness  mode  speechiness  acousticness  instrumentalness  liveness  \\\n",
       "0    -4.913     1       0.0747        0.0855          0.000187     0.914   \n",
       "1    -9.698     1       0.0345        0.0123          0.026200     0.297   \n",
       "2   -14.191     0       0.4570        0.3750          0.000000     0.421   \n",
       "3    -8.550     0       0.0733        0.0029          0.000208     0.297   \n",
       "4    -4.793     0       0.1330        0.0610          0.001580     0.156   \n",
       "\n",
       "   valence    tempo  time_signature  \n",
       "0    0.813  118.459               4  \n",
       "1    0.729  115.400               4  \n",
       "2    0.707   68.482               4  \n",
       "3    0.385  141.466               4  \n",
       "4    0.423  115.728               4  "
      ]
     },
     "execution_count": 105,
     "metadata": {},
     "output_type": "execute_result"
    }
   ],
   "source": [
    "Hal_pop.head()"
   ]
  },
  {
   "cell_type": "code",
   "execution_count": 109,
   "id": "17acc1b3",
   "metadata": {
    "scrolled": true
   },
   "outputs": [
    {
     "name": "stdout",
     "output_type": "stream",
     "text": [
      "200\n"
     ]
    },
    {
     "data": {
      "text/html": [
       "<div>\n",
       "<style scoped>\n",
       "    .dataframe tbody tr th:only-of-type {\n",
       "        vertical-align: middle;\n",
       "    }\n",
       "\n",
       "    .dataframe tbody tr th {\n",
       "        vertical-align: top;\n",
       "    }\n",
       "\n",
       "    .dataframe thead th {\n",
       "        text-align: right;\n",
       "    }\n",
       "</style>\n",
       "<table border=\"1\" class=\"dataframe\">\n",
       "  <thead>\n",
       "    <tr style=\"text-align: right;\">\n",
       "      <th></th>\n",
       "      <th>album</th>\n",
       "      <th>artists</th>\n",
       "      <th>available_markets</th>\n",
       "      <th>disc_number</th>\n",
       "      <th>duration_ms</th>\n",
       "      <th>episode</th>\n",
       "      <th>explicit</th>\n",
       "      <th>external_ids</th>\n",
       "      <th>external_urls</th>\n",
       "      <th>href</th>\n",
       "      <th>id</th>\n",
       "      <th>is_local</th>\n",
       "      <th>name</th>\n",
       "      <th>popularity</th>\n",
       "      <th>preview_url</th>\n",
       "      <th>track</th>\n",
       "      <th>track_number</th>\n",
       "      <th>type</th>\n",
       "      <th>uri</th>\n",
       "    </tr>\n",
       "  </thead>\n",
       "  <tbody>\n",
       "    <tr>\n",
       "      <th>0</th>\n",
       "      <td>{'album_type': 'album', 'artists': [{'external...</td>\n",
       "      <td>[{'external_urls': {'spotify': 'https://open.s...</td>\n",
       "      <td>[AD, AE, AG, AL, AM, AO, AR, AT, AU, AZ, BA, B...</td>\n",
       "      <td>1</td>\n",
       "      <td>241106</td>\n",
       "      <td>False</td>\n",
       "      <td>False</td>\n",
       "      <td>{'isrc': 'USSM19400325'}</td>\n",
       "      <td>{'spotify': 'https://open.spotify.com/track/0b...</td>\n",
       "      <td>https://api.spotify.com/v1/tracks/0bYg9bo50gSs...</td>\n",
       "      <td>0bYg9bo50gSsH3LtXe2SQn</td>\n",
       "      <td>False</td>\n",
       "      <td>All I Want for Christmas Is You</td>\n",
       "      <td>92</td>\n",
       "      <td>https://p.scdn.co/mp3-preview/0d3f660241b04b1e...</td>\n",
       "      <td>True</td>\n",
       "      <td>2</td>\n",
       "      <td>track</td>\n",
       "      <td>spotify:track:0bYg9bo50gSsH3LtXe2SQn</td>\n",
       "    </tr>\n",
       "    <tr>\n",
       "      <th>1</th>\n",
       "      <td>{'album_type': 'album', 'artists': [{'external...</td>\n",
       "      <td>[{'external_urls': {'spotify': 'https://open.s...</td>\n",
       "      <td>[AD, AE, AG, AL, AM, AO, AR, AT, AU, AZ, BA, B...</td>\n",
       "      <td>1</td>\n",
       "      <td>126266</td>\n",
       "      <td>False</td>\n",
       "      <td>False</td>\n",
       "      <td>{'isrc': 'USMC15848998'}</td>\n",
       "      <td>{'spotify': 'https://open.spotify.com/track/2E...</td>\n",
       "      <td>https://api.spotify.com/v1/tracks/2EjXfH91m7f8...</td>\n",
       "      <td>2EjXfH91m7f8HiJN1yQg97</td>\n",
       "      <td>False</td>\n",
       "      <td>Rockin' Around The Christmas Tree</td>\n",
       "      <td>89</td>\n",
       "      <td>None</td>\n",
       "      <td>True</td>\n",
       "      <td>1</td>\n",
       "      <td>track</td>\n",
       "      <td>spotify:track:2EjXfH91m7f8HiJN1yQg97</td>\n",
       "    </tr>\n",
       "    <tr>\n",
       "      <th>2</th>\n",
       "      <td>{'album_type': 'single', 'artists': [{'externa...</td>\n",
       "      <td>[{'external_urls': {'spotify': 'https://open.s...</td>\n",
       "      <td>[AD, AE, AG, AL, AM, AO, AR, AT, AU, AZ, BA, B...</td>\n",
       "      <td>1</td>\n",
       "      <td>130973</td>\n",
       "      <td>False</td>\n",
       "      <td>False</td>\n",
       "      <td>{'isrc': 'USMC15746480'}</td>\n",
       "      <td>{'spotify': 'https://open.spotify.com/track/7v...</td>\n",
       "      <td>https://api.spotify.com/v1/tracks/7vQbuQcyTflf...</td>\n",
       "      <td>7vQbuQcyTflfCIOu3Uzzya</td>\n",
       "      <td>False</td>\n",
       "      <td>Jingle Bell Rock</td>\n",
       "      <td>88</td>\n",
       "      <td>None</td>\n",
       "      <td>True</td>\n",
       "      <td>1</td>\n",
       "      <td>track</td>\n",
       "      <td>spotify:track:7vQbuQcyTflfCIOu3Uzzya</td>\n",
       "    </tr>\n",
       "    <tr>\n",
       "      <th>3</th>\n",
       "      <td>{'album_type': 'album', 'artists': [{'external...</td>\n",
       "      <td>[{'external_urls': {'spotify': 'https://open.s...</td>\n",
       "      <td>[AD, AE, AG, AL, AM, AO, AR, AT, AU, AZ, BA, B...</td>\n",
       "      <td>1</td>\n",
       "      <td>192160</td>\n",
       "      <td>False</td>\n",
       "      <td>False</td>\n",
       "      <td>{'isrc': 'USCA29900551'}</td>\n",
       "      <td>{'spotify': 'https://open.spotify.com/track/4P...</td>\n",
       "      <td>https://api.spotify.com/v1/tracks/4PS1e8f2LvuT...</td>\n",
       "      <td>4PS1e8f2LvuTFgUs1Cn3ON</td>\n",
       "      <td>False</td>\n",
       "      <td>The Christmas Song (Merry Christmas To You)</td>\n",
       "      <td>81</td>\n",
       "      <td>None</td>\n",
       "      <td>True</td>\n",
       "      <td>1</td>\n",
       "      <td>track</td>\n",
       "      <td>spotify:track:4PS1e8f2LvuTFgUs1Cn3ON</td>\n",
       "    </tr>\n",
       "    <tr>\n",
       "      <th>4</th>\n",
       "      <td>{'album_type': 'album', 'artists': [{'external...</td>\n",
       "      <td>[{'external_urls': {'spotify': 'https://open.s...</td>\n",
       "      <td>[AD, AE, AG, AL, AM, AO, AR, AT, AU, AZ, BA, B...</td>\n",
       "      <td>1</td>\n",
       "      <td>135533</td>\n",
       "      <td>False</td>\n",
       "      <td>False</td>\n",
       "      <td>{'isrc': 'USMC16414508'}</td>\n",
       "      <td>{'spotify': 'https://open.spotify.com/track/77...</td>\n",
       "      <td>https://api.spotify.com/v1/tracks/77khP2fIVhSW...</td>\n",
       "      <td>77khP2fIVhSW23NwxrRluh</td>\n",
       "      <td>False</td>\n",
       "      <td>A Holly Jolly Christmas</td>\n",
       "      <td>83</td>\n",
       "      <td>None</td>\n",
       "      <td>True</td>\n",
       "      <td>1</td>\n",
       "      <td>track</td>\n",
       "      <td>spotify:track:77khP2fIVhSW23NwxrRluh</td>\n",
       "    </tr>\n",
       "  </tbody>\n",
       "</table>\n",
       "</div>"
      ],
      "text/plain": [
       "                                               album  \\\n",
       "0  {'album_type': 'album', 'artists': [{'external...   \n",
       "1  {'album_type': 'album', 'artists': [{'external...   \n",
       "2  {'album_type': 'single', 'artists': [{'externa...   \n",
       "3  {'album_type': 'album', 'artists': [{'external...   \n",
       "4  {'album_type': 'album', 'artists': [{'external...   \n",
       "\n",
       "                                             artists  \\\n",
       "0  [{'external_urls': {'spotify': 'https://open.s...   \n",
       "1  [{'external_urls': {'spotify': 'https://open.s...   \n",
       "2  [{'external_urls': {'spotify': 'https://open.s...   \n",
       "3  [{'external_urls': {'spotify': 'https://open.s...   \n",
       "4  [{'external_urls': {'spotify': 'https://open.s...   \n",
       "\n",
       "                                   available_markets  disc_number  \\\n",
       "0  [AD, AE, AG, AL, AM, AO, AR, AT, AU, AZ, BA, B...            1   \n",
       "1  [AD, AE, AG, AL, AM, AO, AR, AT, AU, AZ, BA, B...            1   \n",
       "2  [AD, AE, AG, AL, AM, AO, AR, AT, AU, AZ, BA, B...            1   \n",
       "3  [AD, AE, AG, AL, AM, AO, AR, AT, AU, AZ, BA, B...            1   \n",
       "4  [AD, AE, AG, AL, AM, AO, AR, AT, AU, AZ, BA, B...            1   \n",
       "\n",
       "   duration_ms  episode  explicit              external_ids  \\\n",
       "0       241106    False     False  {'isrc': 'USSM19400325'}   \n",
       "1       126266    False     False  {'isrc': 'USMC15848998'}   \n",
       "2       130973    False     False  {'isrc': 'USMC15746480'}   \n",
       "3       192160    False     False  {'isrc': 'USCA29900551'}   \n",
       "4       135533    False     False  {'isrc': 'USMC16414508'}   \n",
       "\n",
       "                                       external_urls  \\\n",
       "0  {'spotify': 'https://open.spotify.com/track/0b...   \n",
       "1  {'spotify': 'https://open.spotify.com/track/2E...   \n",
       "2  {'spotify': 'https://open.spotify.com/track/7v...   \n",
       "3  {'spotify': 'https://open.spotify.com/track/4P...   \n",
       "4  {'spotify': 'https://open.spotify.com/track/77...   \n",
       "\n",
       "                                                href                      id  \\\n",
       "0  https://api.spotify.com/v1/tracks/0bYg9bo50gSs...  0bYg9bo50gSsH3LtXe2SQn   \n",
       "1  https://api.spotify.com/v1/tracks/2EjXfH91m7f8...  2EjXfH91m7f8HiJN1yQg97   \n",
       "2  https://api.spotify.com/v1/tracks/7vQbuQcyTflf...  7vQbuQcyTflfCIOu3Uzzya   \n",
       "3  https://api.spotify.com/v1/tracks/4PS1e8f2LvuT...  4PS1e8f2LvuTFgUs1Cn3ON   \n",
       "4  https://api.spotify.com/v1/tracks/77khP2fIVhSW...  77khP2fIVhSW23NwxrRluh   \n",
       "\n",
       "   is_local                                         name  popularity  \\\n",
       "0     False              All I Want for Christmas Is You          92   \n",
       "1     False            Rockin' Around The Christmas Tree          89   \n",
       "2     False                             Jingle Bell Rock          88   \n",
       "3     False  The Christmas Song (Merry Christmas To You)          81   \n",
       "4     False                      A Holly Jolly Christmas          83   \n",
       "\n",
       "                                         preview_url  track  track_number  \\\n",
       "0  https://p.scdn.co/mp3-preview/0d3f660241b04b1e...   True             2   \n",
       "1                                               None   True             1   \n",
       "2                                               None   True             1   \n",
       "3                                               None   True             1   \n",
       "4                                               None   True             1   \n",
       "\n",
       "    type                                   uri  \n",
       "0  track  spotify:track:0bYg9bo50gSsH3LtXe2SQn  \n",
       "1  track  spotify:track:2EjXfH91m7f8HiJN1yQg97  \n",
       "2  track  spotify:track:7vQbuQcyTflfCIOu3Uzzya  \n",
       "3  track  spotify:track:4PS1e8f2LvuTFgUs1Cn3ON  \n",
       "4  track  spotify:track:77khP2fIVhSW23NwxrRluh  "
      ]
     },
     "execution_count": 109,
     "metadata": {},
     "output_type": "execute_result"
    }
   ],
   "source": [
    "winter_id = '74CP5rG6MyY0RRnCgbh4DN'\n",
    "album_tracks_endpoint = \"https://api.spotify.com/v1/playlists/{}\".format(winter_id)\n",
    "winter_tracks = requests.get(album_tracks_endpoint, headers = session_header)\n",
    "print(winter_tracks.status_code)\n",
    "winter_dict = json.loads(winter_tracks.text)\n",
    "winter_dict.keys()\n",
    "winter_dict['tracks'].keys()\n",
    "winter_dict['tracks']['items'][0].keys()\n",
    "winter_track_ids = [x['track'] for x in winter_dict['tracks']['items']]\n",
    "winter = pd.DataFrame(winter_track_ids)\n",
    "winter.head()"
   ]
  },
  {
   "cell_type": "markdown",
   "id": "8ef8145f",
   "metadata": {},
   "source": [
    "I put everything together so it was easier to read but after the next code cell will be the completed dataframe for the Winter playlists that I created. "
   ]
  },
  {
   "cell_type": "code",
   "execution_count": 111,
   "id": "2a060689",
   "metadata": {},
   "outputs": [],
   "source": [
    "winter1 = winter.drop(columns = ['available_markets', 'disc_number', 'episode', 'external_ids', 'is_local', 'preview_url', 'track', 'track_number', 'type','available_markets', 'external_urls', 'href', 'type', 'uri'])\n",
    "winter1.head()\n",
    "pd.DataFrame(winter1['artists'][0])\n",
    "winter1['artists'][0][0]['name']\n",
    "artist1 = [x[0]['name'] for x in spooky['artists']]\n",
    "artists1_name =  pd.DataFrame(artist1)\n",
    "artists1_name.head()\n",
    "winter1['artists_name'] = artists1_name\n",
    "winter1.drop(columns = ['artists']).head()\n",
    "winter1['album_name'] = winter1['name']"
   ]
  },
  {
   "cell_type": "code",
   "execution_count": 120,
   "id": "7941e280",
   "metadata": {
    "scrolled": true
   },
   "outputs": [
    {
     "data": {
      "text/plain": [
       "'0bYg9bo50gSsH3LtXe2SQn,2EjXfH91m7f8HiJN1yQg97,7vQbuQcyTflfCIOu3Uzzya,4PS1e8f2LvuTFgUs1Cn3ON,77khP2fIVhSW23NwxrRluh,0oPdaY4dXtc3ZsaG17V972,5hslUAKq9I9CG2bAulFkHN,2FRnf9qhLbvw8fu4IBXx78,4so0Wek9Ig1p6CRCHuINwW,2uFaJJtFpPDc5Pa95XzTvg,3sBnSBnzpEYKpJYGsAIbup,1dtIaSlyrLI04sqYa8nLyN,4z8sz6E4YyFuEkv5o7IJni,5a1iz510sv2W9Dt1MvFd5R,5ASM6Qjiav2xPe7gRkQMsQ,4hAkwE0k1MlzDoOIf9J8ty,7xapw9Oy21WpfEcib2ErSA,3QiAAp20rPC3dcAtKtMaqQ,0O4vuJynWVVdyvoHvZtnk3,5aj4UEKeW7T3eI4ETaN7Me,0lizgQ7Qw35od7CYaoMBZb,6ZgigeSB0XUMqc0jjzaq6d,3sDdyBHQ60Cs1opmIyRvhp,3YZE5qDV7u1ZD1gZc47ZeR,25leEEaz1gIpp7o21Fqyjo,0HZk0QsXPhMNAWNDR3rYE8,3QIoEi8Enr9uHffwInGIsC,3bMfUUpzUzqWp9II00yRhE,4p401d3dipTVawmjZ2AXsx,0247StOpd3AkeBQzANX4Zf,1foCxQtxBweJtZmdxhEHVO,1uh1iaMqBdx4XyrXhssKGD,33EcmYsTQVIGRGnGPOfTwu,1msuiw6pnXYfxZ7Edyit9U,6s2wpWPFPAgKg2LXxi1Oee,7BvCDrlYwJ5D9RUqvvs3BT,5xlS0QkVrSH7ssEbBgBzbM,2pXpURmn6zC5ZYDMms6fwa,4HEOgBHRCExyYVeTyrXsnL,2pnPe4pJtq7689i5ydzvJJ,6tjituizSxwSmBB5vtgHZE,0hvN2v6fAcB6xWyW7UaooA,2QpN1ZVw8eJO5f7WcvUA1k,47ohYW8e7dxCYn9qbUMBCI,3PIDciSFdrQxSQSihim3hN,2C31Z2B4Z4zb4L7gv6FbJg,2yi7HZrBOC4bMUSTcs4VK6,2FPfeYlrbSBR8PwCU0zaqq,0z5HSQGWgnjdNvwbOmhB2w,7MSYSOobsombc1mbDWFxtD'"
      ]
     },
     "execution_count": 120,
     "metadata": {},
     "output_type": "execute_result"
    }
   ],
   "source": [
    "Win_pop = winter1.drop(columns = ['album', 'explicit', 'artists'])\n",
    "Win_pop.head()\n",
    "Win_pop_ids = Win_pop['id']\n",
    "Win_pop_strings = ','.join(str(x) for x in Win_pop_ids)\n",
    "Win_pop_strings"
   ]
  },
  {
   "cell_type": "code",
   "execution_count": 115,
   "id": "4d947b44",
   "metadata": {},
   "outputs": [],
   "source": [
    "winter_track_strings = ','.join(str(x) for x in winter_track_ids)"
   ]
  },
  {
   "cell_type": "code",
   "execution_count": 116,
   "id": "db9bd0be",
   "metadata": {
    "scrolled": true
   },
   "outputs": [
    {
     "name": "stdout",
     "output_type": "stream",
     "text": [
      "{'album': {'album_type': 'album', 'artists': [{'external_urls': {'spotify': 'https://open.spotify.com/artist/4iHNK0tOyZPYnBU7nGAgpQ'}, 'href': 'https://api.spotify.com/v1/artists/4iHNK0tOyZPYnBU7nGAgpQ', 'id': '4iHNK0tOyZPYnBU7nGAgpQ', 'name': 'Mariah Carey', 'type': 'artist', 'uri': 'spotify:artist:4iHNK0tOyZPYnBU7nGAgpQ'}], 'available_markets': ['AD', 'AE', 'AG', 'AL', 'AM', 'AO', 'AR', 'AT', 'AU', 'AZ', 'BA', 'BB', 'BD', 'BE', 'BF', 'BG', 'BH', 'BI', 'BJ', 'BN', 'BO', 'BR', 'BS', 'BT', 'BW', 'BY', 'BZ', 'CA', 'CD', 'CG', 'CH', 'CI', 'CL', 'CM', 'CO', 'CR', 'CV', 'CW', 'CY', 'CZ', 'DE', 'DJ', 'DK', 'DM', 'DO', 'DZ', 'EC', 'EE', 'EG', 'ES', 'FI', 'FJ', 'FM', 'FR', 'GA', 'GB', 'GD', 'GE', 'GH', 'GM', 'GN', 'GQ', 'GR', 'GT', 'GW', 'GY', 'HK', 'HN', 'HR', 'HT', 'HU', 'ID', 'IE', 'IL', 'IN', 'IQ', 'IS', 'IT', 'JM', 'JO', 'JP', 'KE', 'KG', 'KH', 'KI', 'KM', 'KN', 'KR', 'KW', 'KZ', 'LA', 'LB', 'LC', 'LI', 'LK', 'LR', 'LS', 'LT', 'LU', 'LV', 'LY', 'MA', 'MC', 'MD', 'ME', 'MG', 'MH', 'MK', 'ML', 'MN', 'MO', 'MR', 'MT', 'MU', 'MV', 'MW', 'MX', 'MY', 'MZ', 'NA', 'NE', 'NG', 'NI', 'NL', 'NO', 'NP', 'NR', 'NZ', 'OM', 'PA', 'PE', 'PG', 'PH', 'PK', 'PL', 'PS', 'PT', 'PW', 'PY', 'QA', 'RO', 'RS', 'RW', 'SA', 'SB', 'SC', 'SE', 'SG', 'SI', 'SK', 'SL', 'SM', 'SN', 'SR', 'ST', 'SV', 'SZ', 'TD', 'TG', 'TH', 'TJ', 'TL', 'TN', 'TO', 'TR', 'TT', 'TV', 'TW', 'TZ', 'UA', 'UG', 'US', 'UY', 'UZ', 'VC', 'VE', 'VN', 'VU', 'WS', 'XK', 'ZA', 'ZM', 'ZW'], 'external_urls': {'spotify': 'https://open.spotify.com/album/61ulfFSmmxMhc2wCdmdMkN'}, 'href': 'https://api.spotify.com/v1/albums/61ulfFSmmxMhc2wCdmdMkN', 'id': '61ulfFSmmxMhc2wCdmdMkN', 'images': [{'height': 640, 'url': 'https://i.scdn.co/image/ab67616d0000b2734246e3158421f5abb75abc4f', 'width': 640}, {'height': 300, 'url': 'https://i.scdn.co/image/ab67616d00001e024246e3158421f5abb75abc4f', 'width': 300}, {'height': 64, 'url': 'https://i.scdn.co/image/ab67616d000048514246e3158421f5abb75abc4f', 'width': 64}], 'name': 'Merry Christmas', 'release_date': '1994-10-28', 'release_date_precision': 'day', 'total_tracks': 10, 'type': 'album', 'uri': 'spotify:album:61ulfFSmmxMhc2wCdmdMkN'}, 'artists': [{'external_urls': {'spotify': 'https://open.spotify.com/artist/4iHNK0tOyZPYnBU7nGAgpQ'}, 'href': 'https://api.spotify.com/v1/artists/4iHNK0tOyZPYnBU7nGAgpQ', 'id': '4iHNK0tOyZPYnBU7nGAgpQ', 'name': 'Mariah Carey', 'type': 'artist', 'uri': 'spotify:artist:4iHNK0tOyZPYnBU7nGAgpQ'}], 'available_markets': ['AD', 'AE', 'AG', 'AL', 'AM', 'AO', 'AR', 'AT', 'AU', 'AZ', 'BA', 'BB', 'BD', 'BE', 'BF', 'BG', 'BH', 'BI', 'BJ', 'BN', 'BO', 'BR', 'BS', 'BT', 'BW', 'BY', 'BZ', 'CA', 'CD', 'CG', 'CH', 'CI', 'CL', 'CM', 'CO', 'CR', 'CV', 'CW', 'CY', 'CZ', 'DE', 'DJ', 'DK', 'DM', 'DO', 'DZ', 'EC', 'EE', 'EG', 'ES', 'FI', 'FJ', 'FM', 'FR', 'GA', 'GB', 'GD', 'GE', 'GH', 'GM', 'GN', 'GQ', 'GR', 'GT', 'GW', 'GY', 'HK', 'HN', 'HR', 'HT', 'HU', 'ID', 'IE', 'IL', 'IN', 'IQ', 'IS', 'IT', 'JM', 'JO', 'JP', 'KE', 'KG', 'KH', 'KI', 'KM', 'KN', 'KR', 'KW', 'KZ', 'LA', 'LB', 'LC', 'LI', 'LK', 'LR', 'LS', 'LT', 'LU', 'LV', 'LY', 'MA', 'MC', 'MD', 'ME', 'MG', 'MH', 'MK', 'ML', 'MN', 'MO', 'MR', 'MT', 'MU', 'MV', 'MW', 'MX', 'MY', 'MZ', 'NA', 'NE', 'NG', 'NI', 'NL', 'NO', 'NP', 'NR', 'NZ', 'OM', 'PA', 'PE', 'PG', 'PH', 'PK', 'PL', 'PS', 'PT', 'PW', 'PY', 'QA', 'RO', 'RS', 'RW', 'SA', 'SB', 'SC', 'SE', 'SG', 'SI', 'SK', 'SL', 'SM', 'SN', 'SR', 'ST', 'SV', 'SZ', 'TD', 'TG', 'TH', 'TJ', 'TL', 'TN', 'TO', 'TR', 'TT', 'TV', 'TW', 'TZ', 'UA', 'UG', 'US', 'UY', 'UZ', 'VC', 'VE', 'VN', 'VU', 'WS', 'XK', 'ZA', 'ZM', 'ZW'], 'disc_number': 1, 'duration_ms': 241106, 'episode': False, 'explicit': False, 'external_ids': {'isrc': 'USSM19400325'}, 'external_urls': {'spotify': 'https://open.spotify.com/track/0bYg9bo50gSsH3LtXe2SQn'}, 'href': 'https://api.spotify.com/v1/tracks/0bYg9bo50gSsH3LtXe2SQn', 'id': '0bYg9bo50gSsH3LtXe2SQn', 'is_local': False, 'name': 'All I Want for Christmas Is You', 'popularity': 92, 'preview_url': 'https://p.scdn.co/mp3-preview/0d3f660241b04b1e95ae43decced213696114ad0?cid=8cc561ad779e4f7ab9474f025c5ca931', 'track': True, 'track_number': 2, 'type': 'track', 'uri': 'spotify:track:0bYg9bo50gSsH3LtXe2SQn'},{'album': {'album_type': 'album', 'artists': [{'external_urls': {'spotify': 'https://open.spotify.com/artist/4cPHsZM98sKzmV26wlwD2W'}, 'href': 'https://api.spotify.com/v1/artists/4cPHsZM98sKzmV26wlwD2W', 'id': '4cPHsZM98sKzmV26wlwD2W', 'name': 'Brenda Lee', 'type': 'artist', 'uri': 'spotify:artist:4cPHsZM98sKzmV26wlwD2W'}], 'available_markets': ['AD', 'AE', 'AG', 'AL', 'AM', 'AO', 'AR', 'AT', 'AU', 'AZ', 'BA', 'BB', 'BD', 'BE', 'BF', 'BG', 'BH', 'BI', 'BJ', 'BN', 'BO', 'BR', 'BS', 'BT', 'BW', 'BY', 'BZ', 'CA', 'CD', 'CG', 'CH', 'CI', 'CL', 'CM', 'CO', 'CR', 'CV', 'CW', 'CY', 'CZ', 'DE', 'DJ', 'DK', 'DM', 'DO', 'DZ', 'EC', 'EE', 'EG', 'ES', 'FI', 'FJ', 'FM', 'FR', 'GA', 'GB', 'GD', 'GE', 'GH', 'GM', 'GN', 'GQ', 'GR', 'GT', 'GW', 'GY', 'HK', 'HN', 'HR', 'HT', 'HU', 'ID', 'IE', 'IL', 'IN', 'IQ', 'IS', 'IT', 'JM', 'JO', 'JP', 'KE', 'KG', 'KH', 'KI', 'KM', 'KN', 'KR', 'KW', 'KZ', 'LA', 'LB', 'LC', 'LI', 'LK', 'LR', 'LS', 'LT', 'LU', 'LV', 'LY', 'MA', 'MC', 'MD', 'ME', 'MG', 'MH', 'MK', 'ML', 'MN', 'MO', 'MR', 'MT', 'MU', 'MV', 'MW', 'MX', 'MY', 'MZ', 'NA', 'NE', 'NG', 'NI', 'NL', 'NO', 'NP', 'NR', 'NZ', 'OM', 'PA', 'PE', 'PG', 'PH', 'PK', 'PL', 'PS', 'PT', 'PW', 'PY', 'QA', 'RO', 'RS', 'RW', 'SA', 'SB', 'SC', 'SE', 'SG', 'SI', 'SK', 'SL', 'SM', 'SN', 'SR', 'ST', 'SV', 'SZ', 'TD', 'TG', 'TH', 'TJ', 'TL', 'TN', 'TO', 'TR', 'TT', 'TV', 'TW', 'TZ', 'UA', 'UG', 'US', 'UY', 'UZ', 'VC', 'VE', 'VN', 'VU', 'WS', 'XK', 'ZA', 'ZM', 'ZW'], 'external_urls': {'spotify': 'https://open.spotify.com/album/34wa3zf2prXFMk47t9zHFG'}, 'href': 'https://api.spotify.com/v1/albums/34wa3zf2prXFMk47t9zHFG', 'id': '34wa3zf2prXFMk47t9zHFG', 'images': [{'height': 640, 'url': 'https://i.scdn.co/image/ab67616d0000b2737845f74d6db14b400fa61cd3', 'width': 640}, {'height': 300, 'url': 'https://i.scdn.co/image/ab67616d00001e027845f74d6db14b400fa61cd3', 'width': 300}, {'height': 64, 'url': 'https://i.scdn.co/image/ab67616d000048517845f74d6db14b400fa61cd3', 'width': 64}], 'name': 'Merry Christmas From Brenda Lee', 'release_date': '1964-10-19', 'release_date_precision': 'day', 'total_tracks': 12, 'type': 'album', 'uri': 'spotify:album:34wa3zf2prXFMk47t9zHFG'}, 'artists': [{'external_urls': {'spotify': 'https://open.spotify.com/artist/4cPHsZM98sKzmV26wlwD2W'}, 'href': 'https://api.spotify.com/v1/artists/4cPHsZM98sKzmV26wlwD2W', 'id': '4cPHsZM98sKzmV26wlwD2W', 'name': 'Brenda Lee', 'type': 'artist', 'uri': 'spotify:artist:4cPHsZM98sKzmV26wlwD2W'}], 'available_markets': ['AD', 'AE', 'AG', 'AL', 'AM', 'AO', 'AR', 'AT', 'AU', 'AZ', 'BA', 'BB', 'BD', 'BE', 'BF', 'BG', 'BH', 'BI', 'BJ', 'BN', 'BO', 'BR', 'BS', 'BT', 'BW', 'BY', 'BZ', 'CA', 'CD', 'CG', 'CH', 'CI', 'CL', 'CM', 'CO', 'CR', 'CV', 'CW', 'CY', 'CZ', 'DE', 'DJ', 'DK', 'DM', 'DO', 'DZ', 'EC', 'EE', 'EG', 'ES', 'FI', 'FJ', 'FM', 'FR', 'GA', 'GB', 'GD', 'GE', 'GH', 'GM', 'GN', 'GQ', 'GR', 'GT', 'GW', 'GY', 'HK', 'HN', 'HR', 'HT', 'HU', 'ID', 'IE', 'IL', 'IN', 'IQ', 'IS', 'IT', 'JM', 'JO', 'JP', 'KE', 'KG', 'KH', 'KI', 'KM', 'KN', 'KR', 'KW', 'KZ', 'LA', 'LB', 'LC', 'LI', 'LK', 'LR', 'LS', 'LT', 'LU', 'LV', 'LY', 'MA', 'MC', 'MD', 'ME', 'MG', 'MH', 'MK', 'ML', 'MN', 'MO', 'MR', 'MT', 'MU', 'MV', 'MW', 'MX', 'MY', 'MZ', 'NA', 'NE', 'NG', 'NI', 'NL', 'NO', 'NP', 'NR', 'NZ', 'OM', 'PA', 'PE', 'PG', 'PH', 'PK', 'PL', 'PS', 'PT', 'PW', 'PY', 'QA', 'RO', 'RS', 'RW', 'SA', 'SB', 'SC', 'SE', 'SG', 'SI', 'SK', 'SL', 'SM', 'SN', 'SR', 'ST', 'SV', 'SZ', 'TD', 'TG', 'TH', 'TJ', 'TL', 'TN', 'TO', 'TR', 'TT', 'TV', 'TW', 'TZ', 'UA', 'UG', 'US', 'UY', 'UZ', 'VC', 'VE', 'VN', 'VU', 'WS', 'XK', 'ZA', 'ZM', 'ZW'], 'disc_number': 1, 'duration_ms': 126266, 'episode': False, 'explicit': False, 'external_ids': {'isrc': 'USMC15848998'}, 'external_urls': {'spotify': 'https://open.spotify.com/track/2EjXfH91m7f8HiJN1yQg97'}, 'href': 'https://api.spotify.com/v1/tracks/2EjXfH91m7f8HiJN1yQg97', 'id': '2EjXfH91m7f8HiJN1yQg97', 'is_local': False, 'name': \"Rockin' Around The Christmas Tree\", 'popularity': 89, 'preview_url': None, 'track': True, 'track_number': 1, 'type': 'track', 'uri': 'spotify:track:2EjXfH91m7f8HiJN1yQg97'},{'album': {'album_type': 'single', 'artists': [{'external_urls': {'spotify': 'https://open.spotify.com/artist/38EmEgXkgK51MT2tPY0EoC'}, 'href': 'https://api.spotify.com/v1/artists/38EmEgXkgK51MT2tPY0EoC', 'id': '38EmEgXkgK51MT2tPY0EoC', 'name': 'Bobby Helms', 'type': 'artist', 'uri': 'spotify:artist:38EmEgXkgK51MT2tPY0EoC'}], 'available_markets': ['AD', 'AE', 'AG', 'AL', 'AM', 'AO', 'AR', 'AT', 'AU', 'AZ', 'BA', 'BB', 'BD', 'BE', 'BF', 'BG', 'BH', 'BI', 'BJ', 'BN', 'BO', 'BR', 'BS', 'BT', 'BW', 'BY', 'BZ', 'CA', 'CD', 'CG', 'CH', 'CI', 'CL', 'CM', 'CO', 'CR', 'CV', 'CW', 'CY', 'CZ', 'DE', 'DJ', 'DK', 'DM', 'DO', 'DZ', 'EC', 'EE', 'EG', 'ES', 'FI', 'FJ', 'FM', 'FR', 'GA', 'GB', 'GD', 'GE', 'GH', 'GM', 'GN', 'GQ', 'GR', 'GT', 'GW', 'GY', 'HK', 'HN', 'HR', 'HT', 'HU', 'ID', 'IE', 'IL', 'IN', 'IQ', 'IS', 'IT', 'JM', 'JO', 'JP', 'KE', 'KG', 'KH', 'KI', 'KM', 'KN', 'KR', 'KW', 'KZ', 'LA', 'LB', 'LC', 'LI', 'LK', 'LR', 'LS', 'LT', 'LU', 'LV', 'LY', 'MA', 'MC', 'MD', 'ME', 'MG', 'MH', 'MK', 'ML', 'MN', 'MO', 'MR', 'MT', 'MU', 'MV', 'MW', 'MX', 'MY', 'MZ', 'NA', 'NE', 'NG', 'NI', 'NL', 'NO', 'NP', 'NR', 'NZ', 'OM', 'PA', 'PE', 'PG', 'PH', 'PK', 'PL', 'PS', 'PT', 'PW', 'PY', 'QA', 'RO', 'RS', 'RW', 'SA', 'SB', 'SC', 'SE', 'SG', 'SI', 'SK', 'SL', 'SM', 'SN', 'SR', 'ST', 'SV', 'SZ', 'TD', 'TG', 'TH', 'TJ', 'TL', 'TN', 'TO', 'TR', 'TT', 'TV', 'TW', 'TZ', 'UA', 'UG', 'US', 'UY', 'UZ', 'VC', 'VE', 'VN', 'VU', 'WS', 'XK', 'ZA', 'ZM', 'ZW'], 'external_urls': {'spotify': 'https://open.spotify.com/album/3wivyOdotHWZ9dcuXMjPKT'}, 'href': 'https://api.spotify.com/v1/albums/3wivyOdotHWZ9dcuXMjPKT', 'id': '3wivyOdotHWZ9dcuXMjPKT', 'images': [{'height': 640, 'url': 'https://i.scdn.co/image/ab67616d0000b273fd56f3c7a294f5cfe51c7b17', 'width': 640}, {'height': 300, 'url': 'https://i.scdn.co/image/ab67616d00001e02fd56f3c7a294f5cfe51c7b17', 'width': 300}, {'height': 64, 'url': 'https://i.scdn.co/image/ab67616d00004851fd56f3c7a294f5cfe51c7b17', 'width': 64}], 'name': 'Jingle Bell Rock/Captain Santa Claus (And His Reindeer Space Patrol)', 'release_date': '1957-12-02', 'release_date_precision': 'day', 'total_tracks': 2, 'type': 'album', 'uri': 'spotify:album:3wivyOdotHWZ9dcuXMjPKT'}, 'artists': [{'external_urls': {'spotify': 'https://open.spotify.com/artist/38EmEgXkgK51MT2tPY0EoC'}, 'href': 'https://api.spotify.com/v1/artists/38EmEgXkgK51MT2tPY0EoC', 'id': '38EmEgXkgK51MT2tPY0EoC', 'name': 'Bobby Helms', 'type': 'artist', 'uri': 'spotify:artist:38EmEgXkgK51MT2tPY0EoC'}], 'available_markets': ['AD', 'AE', 'AG', 'AL', 'AM', 'AO', 'AR', 'AT', 'AU', 'AZ', 'BA', 'BB', 'BD', 'BE', 'BF', 'BG', 'BH', 'BI', 'BJ', 'BN', 'BO', 'BR', 'BS', 'BT', 'BW', 'BY', 'BZ', 'CA', 'CD', 'CG', 'CH', 'CI', 'CL', 'CM', 'CO', 'CR', 'CV', 'CW', 'CY', 'CZ', 'DE', 'DJ', 'DK', 'DM', 'DO', 'DZ', 'EC', 'EE', 'EG', 'ES', 'FI', 'FJ', 'FM', 'FR', 'GA', 'GB', 'GD', 'GE', 'GH', 'GM', 'GN', 'GQ', 'GR', 'GT', 'GW', 'GY', 'HK', 'HN', 'HR', 'HT', 'HU', 'ID', 'IE', 'IL', 'IN', 'IQ', 'IS', 'IT', 'JM', 'JO', 'JP', 'KE', 'KG', 'KH', 'KI', 'KM', 'KN', 'KR', 'KW', 'KZ', 'LA', 'LB', 'LC', 'LI', 'LK', 'LR', 'LS', 'LT', 'LU', 'LV', 'LY', 'MA', 'MC', 'MD', 'ME', 'MG', 'MH', 'MK', 'ML', 'MN', 'MO', 'MR', 'MT', 'MU', 'MV', 'MW', 'MX', 'MY', 'MZ', 'NA', 'NE', 'NG', 'NI', 'NL', 'NO', 'NP', 'NR', 'NZ', 'OM', 'PA', 'PE', 'PG', 'PH', 'PK', 'PL', 'PS', 'PT', 'PW', 'PY', 'QA', 'RO', 'RS', 'RW', 'SA', 'SB', 'SC', 'SE', 'SG', 'SI', 'SK', 'SL', 'SM', 'SN', 'SR', 'ST', 'SV', 'SZ', 'TD', 'TG', 'TH', 'TJ', 'TL', 'TN', 'TO', 'TR', 'TT', 'TV', 'TW', 'TZ', 'UA', 'UG', 'US', 'UY', 'UZ', 'VC', 'VE', 'VN', 'VU', 'WS', 'XK', 'ZA', 'ZM', 'ZW'], 'disc_number': 1, 'duration_ms': 130973, 'episode': False, 'explicit': False, 'external_ids': {'isrc': 'USMC15746480'}, 'external_urls': {'spotify': 'https://open.spotify.com/track/7vQbuQcyTflfCIOu3Uzzya'}, 'href': 'https://api.spotify.com/v1/tracks/7vQbuQcyTflfCIOu3Uzzya', 'id': '7vQbuQcyTflfCIOu3Uzzya', 'is_local': False, 'name': 'Jingle Bell Rock', 'popularity': 88, 'preview_url': None, 'track': True, 'track_number': 1, 'type': 'track', 'uri': 'spotify:track:7vQbuQcyTflfCIOu3Uzzya'},{'album': {'album_type': 'album', 'artists': [{'external_urls': {'spotify': 'https://open.spotify.com/artist/7v4imS0moSyGdXyLgVTIV7'}, 'href': 'https://api.spotify.com/v1/artists/7v4imS0moSyGdXyLgVTIV7', 'id': '7v4imS0moSyGdXyLgVTIV7', 'name': 'Nat King Cole', 'type': 'artist', 'uri': 'spotify:artist:7v4imS0moSyGdXyLgVTIV7'}], 'available_markets': ['AD', 'AE', 'AG', 'AL', 'AM', 'AO', 'AR', 'AT', 'AU', 'AZ', 'BA', 'BB', 'BD', 'BE', 'BF', 'BG', 'BH', 'BI', 'BJ', 'BN', 'BO', 'BR', 'BS', 'BT', 'BW', 'BY', 'BZ', 'CA', 'CD', 'CG', 'CH', 'CI', 'CL', 'CM', 'CO', 'CR', 'CV', 'CW', 'CY', 'CZ', 'DE', 'DJ', 'DK', 'DM', 'DO', 'DZ', 'EC', 'EE', 'EG', 'ES', 'FI', 'FJ', 'FM', 'FR', 'GA', 'GB', 'GD', 'GE', 'GH', 'GM', 'GN', 'GQ', 'GR', 'GT', 'GW', 'GY', 'HK', 'HN', 'HR', 'HT', 'HU', 'ID', 'IE', 'IL', 'IN', 'IQ', 'IS', 'IT', 'JM', 'JO', 'JP', 'KE', 'KG', 'KH', 'KI', 'KM', 'KN', 'KR', 'KW', 'KZ', 'LA', 'LB', 'LC', 'LI', 'LK', 'LR', 'LS', 'LT', 'LU', 'LV', 'LY', 'MA', 'MC', 'MD', 'ME', 'MG', 'MH', 'MK', 'ML', 'MN', 'MO', 'MR', 'MT', 'MU', 'MV', 'MW', 'MX', 'MY', 'MZ', 'NA', 'NE', 'NG', 'NI', 'NL', 'NO', 'NP', 'NR', 'NZ', 'OM', 'PA', 'PE', 'PG', 'PH', 'PK', 'PL', 'PS', 'PT', 'PW', 'PY', 'QA', 'RO', 'RS', 'RW', 'SA', 'SB', 'SC', 'SE', 'SG', 'SI', 'SK', 'SL', 'SM', 'SN', 'SR', 'ST', 'SV', 'SZ', 'TD', 'TG', 'TH', 'TJ', 'TL', 'TN', 'TO', 'TR', 'TT', 'TV', 'TW', 'TZ', 'UA', 'UG', 'US', 'UY', 'UZ', 'VC', 'VE', 'VN', 'VU', 'WS', 'XK', 'ZA', 'ZM', 'ZW'], 'external_urls': {'spotify': 'https://open.spotify.com/album/6vBGI5522jvPi0ZZuGQNp4'}, 'href': 'https://api.spotify.com/v1/albums/6vBGI5522jvPi0ZZuGQNp4', 'id': '6vBGI5522jvPi0ZZuGQNp4', 'images': [{'height': 640, 'url': 'https://i.scdn.co/image/ab67616d0000b273cb474d056615c2c9b49bb4e6', 'width': 640}, {'height': 300, 'url': 'https://i.scdn.co/image/ab67616d00001e02cb474d056615c2c9b49bb4e6', 'width': 300}, {'height': 64, 'url': 'https://i.scdn.co/image/ab67616d00004851cb474d056615c2c9b49bb4e6', 'width': 64}], 'name': 'The Christmas Song (Expanded Edition)', 'release_date': '1962', 'release_date_precision': 'year', 'total_tracks': 19, 'type': 'album', 'uri': 'spotify:album:6vBGI5522jvPi0ZZuGQNp4'}, 'artists': [{'external_urls': {'spotify': 'https://open.spotify.com/artist/7v4imS0moSyGdXyLgVTIV7'}, 'href': 'https://api.spotify.com/v1/artists/7v4imS0moSyGdXyLgVTIV7', 'id': '7v4imS0moSyGdXyLgVTIV7', 'name': 'Nat King Cole', 'type': 'artist', 'uri': 'spotify:artist:7v4imS0moSyGdXyLgVTIV7'}], 'available_markets': ['AD', 'AE', 'AG', 'AL', 'AM', 'AO', 'AR', 'AT', 'AU', 'AZ', 'BA', 'BB', 'BD', 'BE', 'BF', 'BG', 'BH', 'BI', 'BJ', 'BN', 'BO', 'BR', 'BS', 'BT', 'BW', 'BY', 'BZ', 'CA', 'CD', 'CG', 'CH', 'CI', 'CL', 'CM', 'CO', 'CR', 'CV', 'CW', 'CY', 'CZ', 'DE', 'DJ', 'DK', 'DM', 'DO', 'DZ', 'EC', 'EE', 'EG', 'ES', 'FI', 'FJ', 'FM', 'FR', 'GA', 'GB', 'GD', 'GE', 'GH', 'GM', 'GN', 'GQ', 'GR', 'GT', 'GW', 'GY', 'HK', 'HN', 'HR', 'HT', 'HU', 'ID', 'IE', 'IL', 'IN', 'IQ', 'IS', 'IT', 'JM', 'JO', 'JP', 'KE', 'KG', 'KH', 'KI', 'KM', 'KN', 'KR', 'KW', 'KZ', 'LA', 'LB', 'LC', 'LI', 'LK', 'LR', 'LS', 'LT', 'LU', 'LV', 'LY', 'MA', 'MC', 'MD', 'ME', 'MG', 'MH', 'MK', 'ML', 'MN', 'MO', 'MR', 'MT', 'MU', 'MV', 'MW', 'MX', 'MY', 'MZ', 'NA', 'NE', 'NG', 'NI', 'NL', 'NO', 'NP', 'NR', 'NZ', 'OM', 'PA', 'PE', 'PG', 'PH', 'PK', 'PL', 'PS', 'PT', 'PW', 'PY', 'QA', 'RO', 'RS', 'RW', 'SA', 'SB', 'SC', 'SE', 'SG', 'SI', 'SK', 'SL', 'SM', 'SN', 'SR', 'ST', 'SV', 'SZ', 'TD', 'TG', 'TH', 'TJ', 'TL', 'TN', 'TO', 'TR', 'TT', 'TV', 'TW', 'TZ', 'UA', 'UG', 'US', 'UY', 'UZ', 'VC', 'VE', 'VN', 'VU', 'WS', 'XK', 'ZA', 'ZM', 'ZW'], 'disc_number': 1, 'duration_ms': 192160, 'episode': False, 'explicit': False, 'external_ids': {'isrc': 'USCA29900551'}, 'external_urls': {'spotify': 'https://open.spotify.com/track/4PS1e8f2LvuTFgUs1Cn3ON'}, 'href': 'https://api.spotify.com/v1/tracks/4PS1e8f2LvuTFgUs1Cn3ON', 'id': '4PS1e8f2LvuTFgUs1Cn3ON', 'is_local': False, 'name': 'The Christmas Song (Merry Christmas To You)', 'popularity': 81, 'preview_url': None, 'track': True, 'track_number': 1, 'type': 'track', 'uri': 'spotify:track:4PS1e8f2LvuTFgUs1Cn3ON'},{'album': {'album_type': 'album', 'artists': [{'external_urls': {'spotify': 'https://open.spotify.com/artist/0MHgLfmQdutffmvWe5XBTN'}, 'href': 'https://api.spotify.com/v1/artists/0MHgLfmQdutffmvWe5XBTN', 'id': '0MHgLfmQdutffmvWe5XBTN', 'name': 'Burl Ives', 'type': 'artist', 'uri': 'spotify:artist:0MHgLfmQdutffmvWe5XBTN'}], 'available_markets': ['AD', 'AE', 'AG', 'AL', 'AM', 'AO', 'AR', 'AT', 'AU', 'AZ', 'BA', 'BB', 'BD', 'BE', 'BF', 'BG', 'BH', 'BI', 'BJ', 'BN', 'BO', 'BR', 'BS', 'BT', 'BW', 'BY', 'BZ', 'CA', 'CD', 'CG', 'CH', 'CI', 'CL', 'CM', 'CO', 'CR', 'CV', 'CW', 'CY', 'CZ', 'DE', 'DJ', 'DK', 'DM', 'DO', 'DZ', 'EC', 'EE', 'EG', 'ES', 'FI', 'FJ', 'FM', 'FR', 'GA', 'GB', 'GD', 'GE', 'GH', 'GM', 'GN', 'GQ', 'GR', 'GT', 'GW', 'GY', 'HK', 'HN', 'HR', 'HT', 'HU', 'ID', 'IE', 'IL', 'IN', 'IQ', 'IS', 'IT', 'JM', 'JO', 'JP', 'KE', 'KG', 'KH', 'KI', 'KM', 'KN', 'KR', 'KW', 'KZ', 'LA', 'LB', 'LC', 'LI', 'LK', 'LR', 'LS', 'LT', 'LU', 'LV', 'LY', 'MA', 'MC', 'MD', 'ME', 'MG', 'MH', 'MK', 'ML', 'MN', 'MO', 'MR', 'MT', 'MU', 'MV', 'MW', 'MX', 'MY', 'MZ', 'NA', 'NE', 'NG', 'NI', 'NL', 'NO', 'NP', 'NR', 'NZ', 'OM', 'PA', 'PE', 'PG', 'PH', 'PK', 'PL', 'PS', 'PT', 'PW', 'PY', 'QA', 'RO', 'RS', 'RW', 'SA', 'SB', 'SC', 'SE', 'SG', 'SI', 'SK', 'SL', 'SM', 'SN', 'SR', 'ST', 'SV', 'SZ', 'TD', 'TG', 'TH', 'TJ', 'TL', 'TN', 'TO', 'TR', 'TT', 'TV', 'TW', 'TZ', 'UA', 'UG', 'US', 'UY', 'UZ', 'VC', 'VE', 'VN', 'VU', 'WS', 'XK', 'ZA', 'ZM', 'ZW'], 'external_urls': {'spotify': 'https://open.spotify.com/album/6MvKUOSuPdfH0WLeQjR3eR'}, 'href': 'https://api.spotify.com/v1/albums/6MvKUOSuPdfH0WLeQjR3eR', 'id': '6MvKUOSuPdfH0WLeQjR3eR', 'images': [{'height': 640, 'url': 'https://i.scdn.co/image/ab67616d0000b273efe2a536761d4f8e8401ae62', 'width': 640}, {'height': 300, 'url': 'https://i.scdn.co/image/ab67616d00001e02efe2a536761d4f8e8401ae62', 'width': 300}, {'height': 64, 'url': 'https://i.scdn.co/image/ab67616d00004851efe2a536761d4f8e8401ae62', 'width': 64}], 'name': 'Have A Holly Jolly Christmas', 'release_date': '1965-10-01', 'release_date_precision': 'day', 'total_tracks': 12, 'type': 'album', 'uri': 'spotify:album:6MvKUOSuPdfH0WLeQjR3eR'}, 'artists': [{'external_urls': {'spotify': 'https://open.spotify.com/artist/0MHgLfmQdutffmvWe5XBTN'}, 'href': 'https://api.spotify.com/v1/artists/0MHgLfmQdutffmvWe5XBTN', 'id': '0MHgLfmQdutffmvWe5XBTN', 'name': 'Burl Ives', 'type': 'artist', 'uri': 'spotify:artist:0MHgLfmQdutffmvWe5XBTN'}], 'available_markets': ['AD', 'AE', 'AG', 'AL', 'AM', 'AO', 'AR', 'AT', 'AU', 'AZ', 'BA', 'BB', 'BD', 'BE', 'BF', 'BG', 'BH', 'BI', 'BJ', 'BN', 'BO', 'BR', 'BS', 'BT', 'BW', 'BY', 'BZ', 'CA', 'CD', 'CG', 'CH', 'CI', 'CL', 'CM', 'CO', 'CR', 'CV', 'CW', 'CY', 'CZ', 'DE', 'DJ', 'DK', 'DM', 'DO', 'DZ', 'EC', 'EE', 'EG', 'ES', 'FI', 'FJ', 'FM', 'FR', 'GA', 'GB', 'GD', 'GE', 'GH', 'GM', 'GN', 'GQ', 'GR', 'GT', 'GW', 'GY', 'HK', 'HN', 'HR', 'HT', 'HU', 'ID', 'IE', 'IL', 'IN', 'IQ', 'IS', 'IT', 'JM', 'JO', 'JP', 'KE', 'KG', 'KH', 'KI', 'KM', 'KN', 'KR', 'KW', 'KZ', 'LA', 'LB', 'LC', 'LI', 'LK', 'LR', 'LS', 'LT', 'LU', 'LV', 'LY', 'MA', 'MC', 'MD', 'ME', 'MG', 'MH', 'MK', 'ML', 'MN', 'MO', 'MR', 'MT', 'MU', 'MV', 'MW', 'MX', 'MY', 'MZ', 'NA', 'NE', 'NG', 'NI', 'NL', 'NO', 'NP', 'NR', 'NZ', 'OM', 'PA', 'PE', 'PG', 'PH', 'PK', 'PL', 'PS', 'PT', 'PW', 'PY', 'QA', 'RO', 'RS', 'RW', 'SA', 'SB', 'SC', 'SE', 'SG', 'SI', 'SK', 'SL', 'SM', 'SN', 'SR', 'ST', 'SV', 'SZ', 'TD', 'TG', 'TH', 'TJ', 'TL', 'TN', 'TO', 'TR', 'TT', 'TV', 'TW', 'TZ', 'UA', 'UG', 'US', 'UY', 'UZ', 'VC', 'VE', 'VN', 'VU', 'WS', 'XK', 'ZA', 'ZM', 'ZW'], 'disc_number': 1, 'duration_ms': 135533, 'episode': False, 'explicit': False, 'external_ids': {'isrc': 'USMC16414508'}, 'external_urls': {'spotify': 'https://open.spotify.com/track/77khP2fIVhSW23NwxrRluh'}, 'href': 'https://api.spotify.com/v1/tracks/77khP2fIVhSW23NwxrRluh', 'id': '77khP2fIVhSW23NwxrRluh', 'is_local': False, 'name': 'A Holly Jolly Christmas', 'popularity': 83, 'preview_url': None, 'track': True, 'track_number': 1, 'type': 'track', 'uri': 'spotify:track:77khP2fIVhSW23NwxrRluh'},{'album': {'album_type': 'album', 'artists': [{'external_urls': {'spotify': 'https://open.spotify.com/artist/7K78lVZ8XzkjfRSI7570FF'}, 'href': 'https://api.spotify.com/v1/artists/7K78lVZ8XzkjfRSI7570FF', 'id': '7K78lVZ8XzkjfRSI7570FF', 'name': 'José Feliciano', 'type': 'artist', 'uri': 'spotify:artist:7K78lVZ8XzkjfRSI7570FF'}], 'available_markets': ['AD', 'AE', 'AG', 'AL', 'AM', 'AO', 'AR', 'AT', 'AU', 'AZ', 'BA', 'BB', 'BD', 'BE', 'BF', 'BG', 'BH', 'BI', 'BJ', 'BN', 'BO', 'BR', 'BS', 'BT', 'BW', 'BY', 'BZ', 'CA', 'CD', 'CG', 'CH', 'CI', 'CL', 'CM', 'CO', 'CR', 'CV', 'CW', 'CY', 'CZ', 'DE', 'DJ', 'DK', 'DM', 'DO', 'DZ', 'EC', 'EE', 'EG', 'ES', 'FI', 'FJ', 'FM', 'FR', 'GA', 'GB', 'GD', 'GE', 'GH', 'GM', 'GN', 'GQ', 'GR', 'GT', 'GW', 'GY', 'HK', 'HN', 'HR', 'HT', 'HU', 'ID', 'IE', 'IL', 'IN', 'IQ', 'IS', 'IT', 'JM', 'JO', 'JP', 'KE', 'KG', 'KH', 'KI', 'KM', 'KN', 'KR', 'KW', 'KZ', 'LA', 'LB', 'LC', 'LI', 'LK', 'LR', 'LS', 'LT', 'LU', 'LV', 'LY', 'MA', 'MC', 'MD', 'ME', 'MG', 'MH', 'MK', 'ML', 'MN', 'MO', 'MR', 'MT', 'MU', 'MV', 'MW', 'MX', 'MY', 'MZ', 'NA', 'NE', 'NG', 'NI', 'NL', 'NO', 'NP', 'NR', 'NZ', 'OM', 'PA', 'PE', 'PG', 'PH', 'PK', 'PL', 'PS', 'PT', 'PW', 'PY', 'QA', 'RO', 'RS', 'RW', 'SA', 'SB', 'SC', 'SG', 'SI', 'SK', 'SL', 'SM', 'SN', 'SR', 'ST', 'SV', 'SZ', 'TD', 'TG', 'TH', 'TJ', 'TL', 'TN', 'TO', 'TR', 'TT', 'TV', 'TW', 'TZ', 'UA', 'UG', 'US', 'UY', 'UZ', 'VC', 'VE', 'VN', 'VU', 'WS', 'XK', 'ZA', 'ZM', 'ZW'], 'external_urls': {'spotify': 'https://open.spotify.com/album/3No96PtEFyRfX1oELmZTPu'}, 'href': 'https://api.spotify.com/v1/albums/3No96PtEFyRfX1oELmZTPu', 'id': '3No96PtEFyRfX1oELmZTPu', 'images': [{'height': 640, 'url': 'https://i.scdn.co/image/ab67616d0000b273c8ac560f803bba4902f8bbc5', 'width': 640}, {'height': 300, 'url': 'https://i.scdn.co/image/ab67616d00001e02c8ac560f803bba4902f8bbc5', 'width': 300}, {'height': 64, 'url': 'https://i.scdn.co/image/ab67616d00004851c8ac560f803bba4902f8bbc5', 'width': 64}], 'name': 'Feliz Navidad', 'release_date': '2002-09-24', 'release_date_precision': 'day', 'total_tracks': 15, 'type': 'album', 'uri': 'spotify:album:3No96PtEFyRfX1oELmZTPu'}, 'artists': [{'external_urls': {'spotify': 'https://open.spotify.com/artist/7K78lVZ8XzkjfRSI7570FF'}, 'href': 'https://api.spotify.com/v1/artists/7K78lVZ8XzkjfRSI7570FF', 'id': '7K78lVZ8XzkjfRSI7570FF', 'name': 'José Feliciano', 'type': 'artist', 'uri': 'spotify:artist:7K78lVZ8XzkjfRSI7570FF'}], 'available_markets': ['AD', 'AE', 'AG', 'AL', 'AM', 'AO', 'AR', 'AT', 'AU', 'AZ', 'BA', 'BB', 'BD', 'BE', 'BF', 'BG', 'BH', 'BI', 'BJ', 'BN', 'BO', 'BR', 'BS', 'BT', 'BW', 'BY', 'BZ', 'CA', 'CD', 'CG', 'CH', 'CI', 'CL', 'CM', 'CO', 'CR', 'CV', 'CW', 'CY', 'CZ', 'DE', 'DJ', 'DK', 'DM', 'DO', 'DZ', 'EC', 'EE', 'EG', 'ES', 'FI', 'FJ', 'FM', 'FR', 'GA', 'GB', 'GD', 'GE', 'GH', 'GM', 'GN', 'GQ', 'GR', 'GT', 'GW', 'GY', 'HK', 'HN', 'HR', 'HT', 'HU', 'ID', 'IE', 'IL', 'IN', 'IQ', 'IS', 'IT', 'JM', 'JO', 'JP', 'KE', 'KG', 'KH', 'KI', 'KM', 'KN', 'KR', 'KW', 'KZ', 'LA', 'LB', 'LC', 'LI', 'LK', 'LR', 'LS', 'LT', 'LU', 'LV', 'LY', 'MA', 'MC', 'MD', 'ME', 'MG', 'MH', 'MK', 'ML', 'MN', 'MO', 'MR', 'MT', 'MU', 'MV', 'MW', 'MX', 'MY', 'MZ', 'NA', 'NE', 'NG', 'NI', 'NL', 'NO', 'NP', 'NR', 'NZ', 'OM', 'PA', 'PE', 'PG', 'PH', 'PK', 'PL', 'PS', 'PT', 'PW', 'PY', 'QA', 'RO', 'RS', 'RW', 'SA', 'SB', 'SC', 'SG', 'SI', 'SK', 'SL', 'SM', 'SN', 'SR', 'ST', 'SV', 'SZ', 'TD', 'TG', 'TH', 'TJ', 'TL', 'TN', 'TO', 'TR', 'TT', 'TV', 'TW', 'TZ', 'UA', 'UG', 'US', 'UY', 'UZ', 'VC', 'VE', 'VN', 'VU', 'WS', 'XK', 'ZA', 'ZM', 'ZW'], 'disc_number': 1, 'duration_ms': 182066, 'episode': False, 'explicit': False, 'external_ids': {'isrc': 'USRC17002573'}, 'external_urls': {'spotify': 'https://open.spotify.com/track/0oPdaY4dXtc3ZsaG17V972'}, 'href': 'https://api.spotify.com/v1/tracks/0oPdaY4dXtc3ZsaG17V972', 'id': '0oPdaY4dXtc3ZsaG17V972', 'is_local': False, 'name': 'Feliz Navidad', 'popularity': 78, 'preview_url': 'https://p.scdn.co/mp3-preview/837778dd609e1b063c4d64c6cd098905edeb4277?cid=8cc561ad779e4f7ab9474f025c5ca931', 'track': True, 'track_number': 1, 'type': 'track', 'uri': 'spotify:track:0oPdaY4dXtc3ZsaG17V972'},{'album': {'album_type': 'album', 'artists': [{'external_urls': {'spotify': 'https://open.spotify.com/artist/4sj6D0zlMOl25nprDJBiU9'}, 'href': 'https://api.spotify.com/v1/artists/4sj6D0zlMOl25nprDJBiU9', 'id': '4sj6D0zlMOl25nprDJBiU9', 'name': 'Andy Williams', 'type': 'artist', 'uri': 'spotify:artist:4sj6D0zlMOl25nprDJBiU9'}], 'available_markets': ['AD', 'AE', 'AG', 'AL', 'AM', 'AO', 'AR', 'AT', 'AU', 'AZ', 'BA', 'BB', 'BD', 'BE', 'BF', 'BG', 'BH', 'BI', 'BJ', 'BN', 'BO', 'BR', 'BS', 'BT', 'BW', 'BY', 'BZ', 'CA', 'CD', 'CG', 'CH', 'CI', 'CL', 'CM', 'CO', 'CR', 'CV', 'CW', 'CY', 'CZ', 'DE', 'DJ', 'DK', 'DM', 'DO', 'DZ', 'EC', 'EE', 'EG', 'ES', 'FI', 'FJ', 'FM', 'FR', 'GA', 'GB', 'GD', 'GE', 'GH', 'GM', 'GN', 'GQ', 'GR', 'GT', 'GW', 'GY', 'HK', 'HN', 'HR', 'HT', 'HU', 'ID', 'IE', 'IL', 'IN', 'IQ', 'IS', 'IT', 'JM', 'JO', 'JP', 'KE', 'KG', 'KH', 'KI', 'KM', 'KN', 'KR', 'KW', 'KZ', 'LA', 'LB', 'LC', 'LI', 'LK', 'LR', 'LS', 'LT', 'LU', 'LV', 'LY', 'MA', 'MC', 'MD', 'ME', 'MG', 'MH', 'MK', 'ML', 'MN', 'MO', 'MR', 'MT', 'MU', 'MV', 'MW', 'MX', 'MY', 'MZ', 'NA', 'NE', 'NG', 'NI', 'NL', 'NO', 'NP', 'NR', 'NZ', 'OM', 'PA', 'PE', 'PG', 'PH', 'PK', 'PL', 'PS', 'PT', 'PW', 'PY', 'QA', 'RO', 'RS', 'RW', 'SA', 'SB', 'SC', 'SE', 'SG', 'SI', 'SK', 'SL', 'SM', 'SN', 'SR', 'ST', 'SV', 'SZ', 'TD', 'TG', 'TH', 'TJ', 'TL', 'TN', 'TO', 'TR', 'TT', 'TV', 'TW', 'TZ', 'UA', 'UG', 'US', 'UY', 'UZ', 'VC', 'VE', 'VN', 'VU', 'WS', 'XK', 'ZA', 'ZM', 'ZW'], 'external_urls': {'spotify': 'https://open.spotify.com/album/4dcJHxlOJwtyypL7sx1qch'}, 'href': 'https://api.spotify.com/v1/albums/4dcJHxlOJwtyypL7sx1qch', 'id': '4dcJHxlOJwtyypL7sx1qch', 'images': [{'height': 640, 'url': 'https://i.scdn.co/image/ab67616d0000b27398073965947f92f1641b8356', 'width': 640}, {'height': 300, 'url': 'https://i.scdn.co/image/ab67616d00001e0298073965947f92f1641b8356', 'width': 300}, {'height': 64, 'url': 'https://i.scdn.co/image/ab67616d0000485198073965947f92f1641b8356', 'width': 64}], 'name': 'The Andy Williams Christmas Album', 'release_date': '1963-11-24', 'release_date_precision': 'day', 'total_tracks': 12, 'type': 'album', 'uri': 'spotify:album:4dcJHxlOJwtyypL7sx1qch'}, 'artists': [{'external_urls': {'spotify': 'https://open.spotify.com/artist/4sj6D0zlMOl25nprDJBiU9'}, 'href': 'https://api.spotify.com/v1/artists/4sj6D0zlMOl25nprDJBiU9', 'id': '4sj6D0zlMOl25nprDJBiU9', 'name': 'Andy Williams', 'type': 'artist', 'uri': 'spotify:artist:4sj6D0zlMOl25nprDJBiU9'}], 'available_markets': ['AD', 'AE', 'AG', 'AL', 'AM', 'AO', 'AR', 'AT', 'AU', 'AZ', 'BA', 'BB', 'BD', 'BE', 'BF', 'BG', 'BH', 'BI', 'BJ', 'BN', 'BO', 'BR', 'BS', 'BT', 'BW', 'BY', 'BZ', 'CA', 'CD', 'CG', 'CH', 'CI', 'CL', 'CM', 'CO', 'CR', 'CV', 'CW', 'CY', 'CZ', 'DE', 'DJ', 'DK', 'DM', 'DO', 'DZ', 'EC', 'EE', 'EG', 'ES', 'FI', 'FJ', 'FM', 'FR', 'GA', 'GB', 'GD', 'GE', 'GH', 'GM', 'GN', 'GQ', 'GR', 'GT', 'GW', 'GY', 'HK', 'HN', 'HR', 'HT', 'HU', 'ID', 'IE', 'IL', 'IN', 'IQ', 'IS', 'IT', 'JM', 'JO', 'JP', 'KE', 'KG', 'KH', 'KI', 'KM', 'KN', 'KR', 'KW', 'KZ', 'LA', 'LB', 'LC', 'LI', 'LK', 'LR', 'LS', 'LT', 'LU', 'LV', 'LY', 'MA', 'MC', 'MD', 'ME', 'MG', 'MH', 'MK', 'ML', 'MN', 'MO', 'MR', 'MT', 'MU', 'MV', 'MW', 'MX', 'MY', 'MZ', 'NA', 'NE', 'NG', 'NI', 'NL', 'NO', 'NP', 'NR', 'NZ', 'OM', 'PA', 'PE', 'PG', 'PH', 'PK', 'PL', 'PS', 'PT', 'PW', 'PY', 'QA', 'RO', 'RS', 'RW', 'SA', 'SB', 'SC', 'SE', 'SG', 'SI', 'SK', 'SL', 'SM', 'SN', 'SR', 'ST', 'SV', 'SZ', 'TD', 'TG', 'TH', 'TJ', 'TL', 'TN', 'TO', 'TR', 'TT', 'TV', 'TW', 'TZ', 'UA', 'UG', 'US', 'UY', 'UZ', 'VC', 'VE', 'VN', 'VU', 'WS', 'XK', 'ZA', 'ZM', 'ZW'], 'disc_number': 1, 'duration_ms': 151933, 'episode': False, 'explicit': False, 'external_ids': {'isrc': 'USSM16300086'}, 'external_urls': {'spotify': 'https://open.spotify.com/track/5hslUAKq9I9CG2bAulFkHN'}, 'href': 'https://api.spotify.com/v1/tracks/5hslUAKq9I9CG2bAulFkHN', 'id': '5hslUAKq9I9CG2bAulFkHN', 'is_local': False, 'name': \"It's the Most Wonderful Time of the Year\", 'popularity': 84, 'preview_url': 'https://p.scdn.co/mp3-preview/75599af0839478f9d8e68ee63b766f6e193159b7?cid=8cc561ad779e4f7ab9474f025c5ca931', 'track': True, 'track_number': 4, 'type': 'track', 'uri': 'spotify:track:5hslUAKq9I9CG2bAulFkHN'},{'album': {'album_type': 'single', 'artists': [{'external_urls': {'spotify': 'https://open.spotify.com/artist/5lpH0xAS4fVfLkACg9DAuM'}, 'href': 'https://api.spotify.com/v1/artists/5lpH0xAS4fVfLkACg9DAuM', 'id': '5lpH0xAS4fVfLkACg9DAuM', 'name': 'Wham!', 'type': 'artist', 'uri': 'spotify:artist:5lpH0xAS4fVfLkACg9DAuM'}], 'available_markets': ['AD', 'AE', 'AG', 'AL', 'AM', 'AO', 'AR', 'AT', 'AU', 'AZ', 'BA', 'BB', 'BD', 'BE', 'BF', 'BG', 'BH', 'BI', 'BJ', 'BN', 'BO', 'BR', 'BS', 'BT', 'BW', 'BY', 'BZ', 'CA', 'CD', 'CG', 'CH', 'CI', 'CL', 'CM', 'CO', 'CR', 'CV', 'CW', 'CY', 'CZ', 'DE', 'DJ', 'DK', 'DM', 'DO', 'DZ', 'EC', 'EE', 'EG', 'ES', 'FI', 'FJ', 'FM', 'FR', 'GA', 'GB', 'GD', 'GE', 'GH', 'GM', 'GN', 'GQ', 'GR', 'GT', 'GW', 'GY', 'HK', 'HN', 'HR', 'HT', 'HU', 'ID', 'IE', 'IL', 'IN', 'IQ', 'IS', 'IT', 'JM', 'JO', 'JP', 'KE', 'KG', 'KH', 'KI', 'KM', 'KN', 'KR', 'KW', 'KZ', 'LA', 'LB', 'LC', 'LI', 'LK', 'LR', 'LS', 'LT', 'LU', 'LV', 'LY', 'MA', 'MC', 'MD', 'ME', 'MG', 'MH', 'MK', 'ML', 'MN', 'MO', 'MR', 'MT', 'MU', 'MV', 'MW', 'MX', 'MY', 'MZ', 'NA', 'NE', 'NG', 'NI', 'NL', 'NO', 'NP', 'NR', 'NZ', 'OM', 'PA', 'PE', 'PG', 'PH', 'PK', 'PL', 'PS', 'PT', 'PW', 'PY', 'QA', 'RO', 'RS', 'RW', 'SA', 'SB', 'SC', 'SE', 'SG', 'SI', 'SK', 'SL', 'SM', 'SN', 'SR', 'ST', 'SV', 'SZ', 'TD', 'TG', 'TH', 'TJ', 'TL', 'TN', 'TO', 'TR', 'TT', 'TV', 'TW', 'TZ', 'UA', 'UG', 'US', 'UY', 'UZ', 'VC', 'VE', 'VN', 'VU', 'WS', 'XK', 'ZA', 'ZM', 'ZW'], 'external_urls': {'spotify': 'https://open.spotify.com/album/6egzU9NKfora01qaNbvwfZ'}, 'href': 'https://api.spotify.com/v1/albums/6egzU9NKfora01qaNbvwfZ', 'id': '6egzU9NKfora01qaNbvwfZ', 'images': [{'height': 640, 'url': 'https://i.scdn.co/image/ab67616d0000b273f2d2adaa21ad616df6241e7d', 'width': 640}, {'height': 300, 'url': 'https://i.scdn.co/image/ab67616d00001e02f2d2adaa21ad616df6241e7d', 'width': 300}, {'height': 64, 'url': 'https://i.scdn.co/image/ab67616d00004851f2d2adaa21ad616df6241e7d', 'width': 64}], 'name': 'LAST CHRISTMAS', 'release_date': '1984-11-29', 'release_date_precision': 'day', 'total_tracks': 3, 'type': 'album', 'uri': 'spotify:album:6egzU9NKfora01qaNbvwfZ'}, 'artists': [{'external_urls': {'spotify': 'https://open.spotify.com/artist/5lpH0xAS4fVfLkACg9DAuM'}, 'href': 'https://api.spotify.com/v1/artists/5lpH0xAS4fVfLkACg9DAuM', 'id': '5lpH0xAS4fVfLkACg9DAuM', 'name': 'Wham!', 'type': 'artist', 'uri': 'spotify:artist:5lpH0xAS4fVfLkACg9DAuM'}], 'available_markets': ['AD', 'AE', 'AG', 'AL', 'AM', 'AO', 'AR', 'AT', 'AU', 'AZ', 'BA', 'BB', 'BD', 'BE', 'BF', 'BG', 'BH', 'BI', 'BJ', 'BN', 'BO', 'BR', 'BS', 'BT', 'BW', 'BY', 'BZ', 'CA', 'CD', 'CG', 'CH', 'CI', 'CL', 'CM', 'CO', 'CR', 'CV', 'CW', 'CY', 'CZ', 'DE', 'DJ', 'DK', 'DM', 'DO', 'DZ', 'EC', 'EE', 'EG', 'ES', 'FI', 'FJ', 'FM', 'FR', 'GA', 'GB', 'GD', 'GE', 'GH', 'GM', 'GN', 'GQ', 'GR', 'GT', 'GW', 'GY', 'HK', 'HN', 'HR', 'HT', 'HU', 'ID', 'IE', 'IL', 'IN', 'IQ', 'IS', 'IT', 'JM', 'JO', 'JP', 'KE', 'KG', 'KH', 'KI', 'KM', 'KN', 'KR', 'KW', 'KZ', 'LA', 'LB', 'LC', 'LI', 'LK', 'LR', 'LS', 'LT', 'LU', 'LV', 'LY', 'MA', 'MC', 'MD', 'ME', 'MG', 'MH', 'MK', 'ML', 'MN', 'MO', 'MR', 'MT', 'MU', 'MV', 'MW', 'MX', 'MY', 'MZ', 'NA', 'NE', 'NG', 'NI', 'NL', 'NO', 'NP', 'NR', 'NZ', 'OM', 'PA', 'PE', 'PG', 'PH', 'PK', 'PL', 'PS', 'PT', 'PW', 'PY', 'QA', 'RO', 'RS', 'RW', 'SA', 'SB', 'SC', 'SE', 'SG', 'SI', 'SK', 'SL', 'SM', 'SN', 'SR', 'ST', 'SV', 'SZ', 'TD', 'TG', 'TH', 'TJ', 'TL', 'TN', 'TO', 'TR', 'TT', 'TV', 'TW', 'TZ', 'UA', 'UG', 'US', 'UY', 'UZ', 'VC', 'VE', 'VN', 'VU', 'WS', 'XK', 'ZA', 'ZM', 'ZW'], 'disc_number': 1, 'duration_ms': 262960, 'episode': False, 'explicit': False, 'external_ids': {'isrc': 'GBBBM8400019'}, 'external_urls': {'spotify': 'https://open.spotify.com/track/2FRnf9qhLbvw8fu4IBXx78'}, 'href': 'https://api.spotify.com/v1/tracks/2FRnf9qhLbvw8fu4IBXx78', 'id': '2FRnf9qhLbvw8fu4IBXx78', 'is_local': False, 'name': 'Last Christmas', 'popularity': 88, 'preview_url': 'https://p.scdn.co/mp3-preview/e0977ffe721d032577fa5ae8a82ee79540c26970?cid=8cc561ad779e4f7ab9474f025c5ca931', 'track': True, 'track_number': 1, 'type': 'track', 'uri': 'spotify:track:2FRnf9qhLbvw8fu4IBXx78'},{'album': {'album_type': 'album', 'artists': [{'external_urls': {'spotify': 'https://open.spotify.com/artist/6ZjFtWeHP9XN7FeKSUe80S'}, 'href': 'https://api.spotify.com/v1/artists/6ZjFtWeHP9XN7FeKSUe80S', 'id': '6ZjFtWeHP9XN7FeKSUe80S', 'name': 'Bing Crosby', 'type': 'artist', 'uri': 'spotify:artist:6ZjFtWeHP9XN7FeKSUe80S'}, {'external_urls': {'spotify': 'https://open.spotify.com/artist/4BtDAwCZhR6nPrJtbVgQNX'}, 'href': 'https://api.spotify.com/v1/artists/4BtDAwCZhR6nPrJtbVgQNX', 'id': '4BtDAwCZhR6nPrJtbVgQNX', 'name': 'Fred Astaire', 'type': 'artist', 'uri': 'spotify:artist:4BtDAwCZhR6nPrJtbVgQNX'}], 'available_markets': ['AD', 'AE', 'AG', 'AL', 'AM', 'AO', 'AR', 'AT', 'AU', 'AZ', 'BA', 'BB', 'BD', 'BE', 'BF', 'BG', 'BH', 'BI', 'BJ', 'BN', 'BO', 'BR', 'BS', 'BT', 'BW', 'BY', 'BZ', 'CA', 'CD', 'CG', 'CH', 'CI', 'CL', 'CM', 'CO', 'CR', 'CV', 'CW', 'CY', 'CZ', 'DE', 'DJ', 'DK', 'DM', 'DO', 'DZ', 'EC', 'EE', 'EG', 'ES', 'FI', 'FJ', 'FM', 'FR', 'GA', 'GB', 'GD', 'GE', 'GH', 'GM', 'GN', 'GQ', 'GR', 'GT', 'GW', 'GY', 'HK', 'HN', 'HR', 'HT', 'HU', 'ID', 'IE', 'IL', 'IN', 'IQ', 'IS', 'IT', 'JM', 'JO', 'JP', 'KE', 'KG', 'KH', 'KI', 'KM', 'KN', 'KR', 'KW', 'KZ', 'LA', 'LB', 'LC', 'LI', 'LK', 'LR', 'LS', 'LT', 'LU', 'LV', 'LY', 'MA', 'MC', 'MD', 'ME', 'MG', 'MH', 'MK', 'ML', 'MN', 'MO', 'MR', 'MT', 'MU', 'MV', 'MW', 'MX', 'MY', 'MZ', 'NA', 'NE', 'NG', 'NI', 'NL', 'NO', 'NP', 'NR', 'NZ', 'OM', 'PA', 'PE', 'PG', 'PH', 'PK', 'PL', 'PS', 'PT', 'PW', 'PY', 'QA', 'RO', 'RS', 'RW', 'SA', 'SB', 'SC', 'SE', 'SG', 'SI', 'SK', 'SL', 'SM', 'SN', 'SR', 'ST', 'SV', 'SZ', 'TD', 'TG', 'TH', 'TJ', 'TL', 'TN', 'TO', 'TR', 'TT', 'TV', 'TW', 'TZ', 'UA', 'UG', 'US', 'UY', 'UZ', 'VC', 'VE', 'VN', 'VU', 'WS', 'XK', 'ZA', 'ZM', 'ZW'], 'external_urls': {'spotify': 'https://open.spotify.com/album/4ZZvKnA1YJ2KcwjMmHBinq'}, 'href': 'https://api.spotify.com/v1/albums/4ZZvKnA1YJ2KcwjMmHBinq', 'id': '4ZZvKnA1YJ2KcwjMmHBinq', 'images': [{'height': 640, 'url': 'https://i.scdn.co/image/ab67616d0000b273481bb0db1e8bd0c7104368a4', 'width': 640}, {'height': 300, 'url': 'https://i.scdn.co/image/ab67616d00001e02481bb0db1e8bd0c7104368a4', 'width': 300}, {'height': 64, 'url': 'https://i.scdn.co/image/ab67616d00004851481bb0db1e8bd0c7104368a4', 'width': 64}], 'name': 'Holiday Inn (Original Motion Picture Soundtrack)', 'release_date': '1942-01-01', 'release_date_precision': 'day', 'total_tracks': 12, 'type': 'album', 'uri': 'spotify:album:4ZZvKnA1YJ2KcwjMmHBinq'}, 'artists': [{'external_urls': {'spotify': 'https://open.spotify.com/artist/6ZjFtWeHP9XN7FeKSUe80S'}, 'href': 'https://api.spotify.com/v1/artists/6ZjFtWeHP9XN7FeKSUe80S', 'id': '6ZjFtWeHP9XN7FeKSUe80S', 'name': 'Bing Crosby', 'type': 'artist', 'uri': 'spotify:artist:6ZjFtWeHP9XN7FeKSUe80S'}, {'external_urls': {'spotify': 'https://open.spotify.com/artist/69UfPJgUmFFAVT740qGVZi'}, 'href': 'https://api.spotify.com/v1/artists/69UfPJgUmFFAVT740qGVZi', 'id': '69UfPJgUmFFAVT740qGVZi', 'name': 'Ken Darby Singers', 'type': 'artist', 'uri': 'spotify:artist:69UfPJgUmFFAVT740qGVZi'}, {'external_urls': {'spotify': 'https://open.spotify.com/artist/735L650pvygCZZlPMyHqsN'}, 'href': 'https://api.spotify.com/v1/artists/735L650pvygCZZlPMyHqsN', 'id': '735L650pvygCZZlPMyHqsN', 'name': 'John Scott Trotter & His Orchestra', 'type': 'artist', 'uri': 'spotify:artist:735L650pvygCZZlPMyHqsN'}], 'available_markets': ['AD', 'AE', 'AG', 'AL', 'AM', 'AO', 'AR', 'AT', 'AU', 'AZ', 'BA', 'BB', 'BD', 'BE', 'BF', 'BG', 'BH', 'BI', 'BJ', 'BN', 'BO', 'BR', 'BS', 'BT', 'BW', 'BY', 'BZ', 'CA', 'CD', 'CG', 'CH', 'CI', 'CL', 'CM', 'CO', 'CR', 'CV', 'CW', 'CY', 'CZ', 'DE', 'DJ', 'DK', 'DM', 'DO', 'DZ', 'EC', 'EE', 'EG', 'ES', 'FI', 'FJ', 'FM', 'FR', 'GA', 'GB', 'GD', 'GE', 'GH', 'GM', 'GN', 'GQ', 'GR', 'GT', 'GW', 'GY', 'HK', 'HN', 'HR', 'HT', 'HU', 'ID', 'IE', 'IL', 'IN', 'IQ', 'IS', 'JM', 'JO', 'JP', 'KE', 'KG', 'KH', 'KI', 'KM', 'KN', 'KR', 'KW', 'KZ', 'LA', 'LB', 'LC', 'LI', 'LK', 'LR', 'LS', 'LT', 'LU', 'LV', 'LY', 'MA', 'MC', 'MD', 'ME', 'MG', 'MH', 'MK', 'ML', 'MN', 'MO', 'MR', 'MT', 'MU', 'MV', 'MW', 'MX', 'MY', 'MZ', 'NA', 'NE', 'NG', 'NI', 'NL', 'NO', 'NP', 'NR', 'NZ', 'OM', 'PA', 'PE', 'PG', 'PH', 'PK', 'PL', 'PS', 'PT', 'PW', 'PY', 'QA', 'RO', 'RS', 'RW', 'SA', 'SB', 'SC', 'SE', 'SG', 'SI', 'SK', 'SL', 'SM', 'SN', 'SR', 'ST', 'SV', 'SZ', 'TD', 'TG', 'TH', 'TJ', 'TL', 'TN', 'TO', 'TR', 'TT', 'TV', 'TW', 'TZ', 'UA', 'UG', 'US', 'UY', 'UZ', 'VC', 'VE', 'VN', 'VU', 'WS', 'XK', 'ZA', 'ZM', 'ZW'], 'disc_number': 1, 'duration_ms': 177480, 'episode': False, 'explicit': False, 'external_ids': {'isrc': 'USMC14750470'}, 'external_urls': {'spotify': 'https://open.spotify.com/track/4so0Wek9Ig1p6CRCHuINwW'}, 'href': 'https://api.spotify.com/v1/tracks/4so0Wek9Ig1p6CRCHuINwW', 'id': '4so0Wek9Ig1p6CRCHuINwW', 'is_local': False, 'name': 'White Christmas', 'popularity': 79, 'preview_url': None, 'track': True, 'track_number': 11, 'type': 'track', 'uri': 'spotify:track:4so0Wek9Ig1p6CRCHuINwW'},{'album': {'album_type': 'album', 'artists': [{'external_urls': {'spotify': 'https://open.spotify.com/artist/49e4v89VmlDcFCMyDv9wQ9'}, 'href': 'https://api.spotify.com/v1/artists/49e4v89VmlDcFCMyDv9wQ9', 'id': '49e4v89VmlDcFCMyDv9wQ9', 'name': 'Dean Martin', 'type': 'artist', 'uri': 'spotify:artist:49e4v89VmlDcFCMyDv9wQ9'}], 'available_markets': ['AD', 'AE', 'AG', 'AL', 'AM', 'AO', 'AR', 'AT', 'AU', 'AZ', 'BA', 'BB', 'BD', 'BE', 'BF', 'BG', 'BH', 'BI', 'BJ', 'BN', 'BO', 'BR', 'BS', 'BT', 'BW', 'BY', 'BZ', 'CA', 'CD', 'CG', 'CH', 'CI', 'CL', 'CM', 'CO', 'CR', 'CV', 'CW', 'CY', 'CZ', 'DE', 'DJ', 'DK', 'DM', 'DO', 'DZ', 'EC', 'EE', 'EG', 'ES', 'FI', 'FJ', 'FM', 'FR', 'GA', 'GB', 'GD', 'GE', 'GH', 'GM', 'GN', 'GQ', 'GR', 'GT', 'GW', 'GY', 'HK', 'HN', 'HR', 'HT', 'HU', 'ID', 'IE', 'IL', 'IN', 'IQ', 'IS', 'IT', 'JM', 'JO', 'JP', 'KE', 'KG', 'KH', 'KI', 'KM', 'KN', 'KR', 'KW', 'KZ', 'LA', 'LB', 'LC', 'LI', 'LK', 'LR', 'LS', 'LT', 'LU', 'LV', 'LY', 'MA', 'MC', 'MD', 'ME', 'MG', 'MH', 'MK', 'ML', 'MN', 'MO', 'MR', 'MT', 'MU', 'MV', 'MW', 'MX', 'MY', 'MZ', 'NA', 'NE', 'NG', 'NI', 'NL', 'NO', 'NP', 'NR', 'NZ', 'OM', 'PA', 'PE', 'PG', 'PH', 'PK', 'PL', 'PS', 'PT', 'PW', 'PY', 'QA', 'RO', 'RS', 'RW', 'SA', 'SB', 'SC', 'SE', 'SG', 'SI', 'SK', 'SL', 'SM', 'SN', 'SR', 'ST', 'SV', 'SZ', 'TD', 'TG', 'TH', 'TJ', 'TL', 'TN', 'TO', 'TR', 'TT', 'TV', 'TW', 'TZ', 'UA', 'UG', 'US', 'UY', 'UZ', 'VC', 'VE', 'VN', 'VU', 'WS', 'XK', 'ZA', 'ZM', 'ZW'], 'external_urls': {'spotify': 'https://open.spotify.com/album/5I48ENiZiaZZSOpec6PdS5'}, 'href': 'https://api.spotify.com/v1/albums/5I48ENiZiaZZSOpec6PdS5', 'id': '5I48ENiZiaZZSOpec6PdS5', 'images': [{'height': 640, 'url': 'https://i.scdn.co/image/ab67616d0000b273e359bd02a639a4d01b8241ae', 'width': 640}, {'height': 300, 'url': 'https://i.scdn.co/image/ab67616d00001e02e359bd02a639a4d01b8241ae', 'width': 300}, {'height': 64, 'url': 'https://i.scdn.co/image/ab67616d00004851e359bd02a639a4d01b8241ae', 'width': 64}], 'name': 'A Winter Romance', 'release_date': '1959-01-01', 'release_date_precision': 'day', 'total_tracks': 12, 'type': 'album', 'uri': 'spotify:album:5I48ENiZiaZZSOpec6PdS5'}, 'artists': [{'external_urls': {'spotify': 'https://open.spotify.com/artist/49e4v89VmlDcFCMyDv9wQ9'}, 'href': 'https://api.spotify.com/v1/artists/49e4v89VmlDcFCMyDv9wQ9', 'id': '49e4v89VmlDcFCMyDv9wQ9', 'name': 'Dean Martin', 'type': 'artist', 'uri': 'spotify:artist:49e4v89VmlDcFCMyDv9wQ9'}], 'available_markets': ['AD', 'AE', 'AG', 'AL', 'AM', 'AO', 'AR', 'AT', 'AU', 'AZ', 'BA', 'BB', 'BD', 'BE', 'BF', 'BG', 'BH', 'BI', 'BJ', 'BN', 'BO', 'BR', 'BS', 'BT', 'BW', 'BY', 'BZ', 'CA', 'CD', 'CG', 'CH', 'CI', 'CL', 'CM', 'CO', 'CR', 'CV', 'CW', 'CY', 'CZ', 'DE', 'DJ', 'DK', 'DM', 'DO', 'DZ', 'EC', 'EE', 'EG', 'ES', 'FI', 'FJ', 'FM', 'FR', 'GA', 'GB', 'GD', 'GE', 'GH', 'GM', 'GN', 'GQ', 'GR', 'GT', 'GW', 'GY', 'HK', 'HN', 'HR', 'HT', 'HU', 'ID', 'IE', 'IL', 'IN', 'IQ', 'IS', 'IT', 'JM', 'JO', 'JP', 'KE', 'KG', 'KH', 'KI', 'KM', 'KN', 'KR', 'KW', 'KZ', 'LA', 'LB', 'LC', 'LI', 'LK', 'LR', 'LS', 'LT', 'LU', 'LV', 'LY', 'MA', 'MC', 'MD', 'ME', 'MG', 'MH', 'MK', 'ML', 'MN', 'MO', 'MR', 'MT', 'MU', 'MV', 'MW', 'MX', 'MY', 'MZ', 'NA', 'NE', 'NG', 'NI', 'NL', 'NO', 'NP', 'NR', 'NZ', 'OM', 'PA', 'PE', 'PG', 'PH', 'PK', 'PL', 'PS', 'PT', 'PW', 'PY', 'QA', 'RO', 'RS', 'RW', 'SA', 'SB', 'SC', 'SE', 'SG', 'SI', 'SK', 'SL', 'SM', 'SN', 'SR', 'ST', 'SV', 'SZ', 'TD', 'TG', 'TH', 'TJ', 'TL', 'TN', 'TO', 'TR', 'TT', 'TV', 'TW', 'TZ', 'UA', 'UG', 'US', 'UY', 'UZ', 'VC', 'VE', 'VN', 'VU', 'WS', 'XK', 'ZA', 'ZM', 'ZW'], 'disc_number': 1, 'duration_ms': 117146, 'episode': False, 'explicit': False, 'external_ids': {'isrc': 'USCA25900140'}, 'external_urls': {'spotify': 'https://open.spotify.com/track/2uFaJJtFpPDc5Pa95XzTvg'}, 'href': 'https://api.spotify.com/v1/tracks/2uFaJJtFpPDc5Pa95XzTvg', 'id': '2uFaJJtFpPDc5Pa95XzTvg', 'is_local': False, 'name': 'Let It Snow! Let It Snow! Let It Snow!', 'popularity': 86, 'preview_url': None, 'track': True, 'track_number': 2, 'type': 'track', 'uri': 'spotify:track:2uFaJJtFpPDc5Pa95XzTvg'},{'album': {'album_type': 'album', 'artists': [{'external_urls': {'spotify': 'https://open.spotify.com/artist/5OSQDUNmll299ldFIF1Dau'}, 'href': 'https://api.spotify.com/v1/artists/5OSQDUNmll299ldFIF1Dau', 'id': '5OSQDUNmll299ldFIF1Dau', 'name': 'Trans-Siberian Orchestra', 'type': 'artist', 'uri': 'spotify:artist:5OSQDUNmll299ldFIF1Dau'}], 'available_markets': ['AD', 'AE', 'AG', 'AL', 'AM', 'AO', 'AR', 'AT', 'AU', 'AZ', 'BA', 'BB', 'BD', 'BE', 'BF', 'BG', 'BH', 'BI', 'BJ', 'BN', 'BO', 'BR', 'BS', 'BT', 'BW', 'BY', 'BZ', 'CA', 'CD', 'CG', 'CH', 'CI', 'CL', 'CM', 'CO', 'CR', 'CV', 'CW', 'CY', 'CZ', 'DE', 'DJ', 'DK', 'DM', 'DO', 'DZ', 'EC', 'EE', 'EG', 'ES', 'FI', 'FJ', 'FM', 'FR', 'GA', 'GB', 'GD', 'GE', 'GH', 'GM', 'GN', 'GQ', 'GR', 'GT', 'GW', 'GY', 'HK', 'HN', 'HR', 'HT', 'HU', 'ID', 'IE', 'IL', 'IN', 'IQ', 'IS', 'IT', 'JM', 'JO', 'JP', 'KE', 'KG', 'KH', 'KI', 'KM', 'KN', 'KR', 'KW', 'KZ', 'LA', 'LB', 'LC', 'LI', 'LK', 'LR', 'LS', 'LT', 'LU', 'LV', 'LY', 'MA', 'MC', 'MD', 'ME', 'MG', 'MH', 'MK', 'ML', 'MN', 'MO', 'MR', 'MT', 'MU', 'MV', 'MW', 'MX', 'MY', 'MZ', 'NA', 'NE', 'NG', 'NI', 'NL', 'NO', 'NP', 'NR', 'NZ', 'OM', 'PA', 'PE', 'PG', 'PH', 'PK', 'PL', 'PS', 'PT', 'PW', 'PY', 'QA', 'RO', 'RS', 'RW', 'SA', 'SB', 'SC', 'SE', 'SG', 'SI', 'SK', 'SL', 'SM', 'SN', 'SR', 'ST', 'SV', 'SZ', 'TD', 'TG', 'TH', 'TJ', 'TL', 'TN', 'TO', 'TR', 'TT', 'TV', 'TW', 'TZ', 'UA', 'UG', 'US', 'UY', 'UZ', 'VC', 'VE', 'VN', 'VU', 'WS', 'XK', 'ZA', 'ZM', 'ZW'], 'external_urls': {'spotify': 'https://open.spotify.com/album/6QNuH4X7k9Fxsk3lRLOaiT'}, 'href': 'https://api.spotify.com/v1/albums/6QNuH4X7k9Fxsk3lRLOaiT', 'id': '6QNuH4X7k9Fxsk3lRLOaiT', 'images': [{'height': 640, 'url': 'https://i.scdn.co/image/ab67616d0000b2732027a107260c4e284e786975', 'width': 640}, {'height': 300, 'url': 'https://i.scdn.co/image/ab67616d00001e022027a107260c4e284e786975', 'width': 300}, {'height': 64, 'url': 'https://i.scdn.co/image/ab67616d000048512027a107260c4e284e786975', 'width': 64}], 'name': 'Christmas Eve and Other Stories', 'release_date': '1996-10-15', 'release_date_precision': 'day', 'total_tracks': 17, 'type': 'album', 'uri': 'spotify:album:6QNuH4X7k9Fxsk3lRLOaiT'}, 'artists': [{'external_urls': {'spotify': 'https://open.spotify.com/artist/5OSQDUNmll299ldFIF1Dau'}, 'href': 'https://api.spotify.com/v1/artists/5OSQDUNmll299ldFIF1Dau', 'id': '5OSQDUNmll299ldFIF1Dau', 'name': 'Trans-Siberian Orchestra', 'type': 'artist', 'uri': 'spotify:artist:5OSQDUNmll299ldFIF1Dau'}], 'available_markets': ['AD', 'AE', 'AG', 'AL', 'AM', 'AO', 'AR', 'AT', 'AU', 'AZ', 'BA', 'BB', 'BD', 'BE', 'BF', 'BG', 'BH', 'BI', 'BJ', 'BN', 'BO', 'BR', 'BS', 'BT', 'BW', 'BY', 'BZ', 'CA', 'CD', 'CG', 'CH', 'CI', 'CL', 'CM', 'CO', 'CR', 'CV', 'CW', 'CY', 'CZ', 'DE', 'DJ', 'DK', 'DM', 'DO', 'DZ', 'EC', 'EE', 'EG', 'ES', 'FI', 'FJ', 'FM', 'FR', 'GA', 'GB', 'GD', 'GE', 'GH', 'GM', 'GN', 'GQ', 'GR', 'GT', 'GW', 'GY', 'HK', 'HN', 'HR', 'HT', 'HU', 'ID', 'IE', 'IL', 'IN', 'IQ', 'IS', 'IT', 'JM', 'JO', 'JP', 'KE', 'KG', 'KH', 'KI', 'KM', 'KN', 'KR', 'KW', 'KZ', 'LA', 'LB', 'LC', 'LI', 'LK', 'LR', 'LS', 'LT', 'LU', 'LV', 'LY', 'MA', 'MC', 'MD', 'ME', 'MG', 'MH', 'MK', 'ML', 'MN', 'MO', 'MR', 'MT', 'MU', 'MV', 'MW', 'MX', 'MY', 'MZ', 'NA', 'NE', 'NG', 'NI', 'NL', 'NO', 'NP', 'NR', 'NZ', 'OM', 'PA', 'PE', 'PG', 'PH', 'PK', 'PL', 'PS', 'PT', 'PW', 'PY', 'QA', 'RO', 'RS', 'RW', 'SA', 'SB', 'SC', 'SE', 'SG', 'SI', 'SK', 'SL', 'SM', 'SN', 'SR', 'ST', 'SV', 'SZ', 'TD', 'TG', 'TH', 'TJ', 'TL', 'TN', 'TO', 'TR', 'TT', 'TV', 'TW', 'TZ', 'UA', 'UG', 'US', 'UY', 'UZ', 'VC', 'VE', 'VN', 'VU', 'WS', 'XK', 'ZA', 'ZM', 'ZW'], 'disc_number': 1, 'duration_ms': 205333, 'episode': False, 'explicit': False, 'external_ids': {'isrc': 'USAT20101381'}, 'external_urls': {'spotify': 'https://open.spotify.com/track/3sBnSBnzpEYKpJYGsAIbup'}, 'href': 'https://api.spotify.com/v1/tracks/3sBnSBnzpEYKpJYGsAIbup', 'id': '3sBnSBnzpEYKpJYGsAIbup', 'is_local': False, 'name': 'Christmas Eve / Sarajevo 12/24 - Instrumental', 'popularity': 64, 'preview_url': 'https://p.scdn.co/mp3-preview/6a0ad80bb3e411dc4f2743b74dd88326c0b7eb3e?cid=8cc561ad779e4f7ab9474f025c5ca931', 'track': True, 'track_number': 8, 'type': 'track', 'uri': 'spotify:track:3sBnSBnzpEYKpJYGsAIbup'},{'album': {'album_type': 'album', 'artists': [{'external_urls': {'spotify': 'https://open.spotify.com/artist/5ixB75BQR3ADoWQkcHQJTs'}, 'href': 'https://api.spotify.com/v1/artists/5ixB75BQR3ADoWQkcHQJTs', 'id': '5ixB75BQR3ADoWQkcHQJTs', 'name': 'Gene Autry', 'type': 'artist', 'uri': 'spotify:artist:5ixB75BQR3ADoWQkcHQJTs'}], 'available_markets': ['AD', 'AE', 'AG', 'AL', 'AM', 'AO', 'AR', 'AT', 'AU', 'AZ', 'BA', 'BB', 'BD', 'BE', 'BF', 'BG', 'BH', 'BI', 'BJ', 'BN', 'BO', 'BR', 'BS', 'BT', 'BW', 'BY', 'BZ', 'CA', 'CD', 'CG', 'CH', 'CI', 'CL', 'CM', 'CO', 'CR', 'CV', 'CW', 'CY', 'CZ', 'DE', 'DJ', 'DK', 'DM', 'DO', 'DZ', 'EC', 'EE', 'EG', 'ES', 'FI', 'FJ', 'FM', 'FR', 'GA', 'GB', 'GD', 'GE', 'GH', 'GM', 'GN', 'GQ', 'GR', 'GT', 'GW', 'GY', 'HK', 'HN', 'HR', 'HT', 'HU', 'ID', 'IE', 'IL', 'IN', 'IQ', 'IS', 'IT', 'JM', 'JO', 'JP', 'KE', 'KG', 'KH', 'KI', 'KM', 'KN', 'KR', 'KW', 'KZ', 'LA', 'LB', 'LC', 'LI', 'LK', 'LR', 'LS', 'LT', 'LU', 'LV', 'LY', 'MA', 'MC', 'MD', 'ME', 'MG', 'MH', 'MK', 'ML', 'MN', 'MO', 'MR', 'MT', 'MU', 'MV', 'MW', 'MX', 'MY', 'MZ', 'NA', 'NE', 'NG', 'NI', 'NL', 'NO', 'NP', 'NR', 'NZ', 'OM', 'PA', 'PE', 'PG', 'PH', 'PK', 'PL', 'PS', 'PT', 'PW', 'PY', 'QA', 'RO', 'RS', 'RW', 'SA', 'SB', 'SC', 'SE', 'SG', 'SI', 'SK', 'SL', 'SM', 'SN', 'SR', 'ST', 'SV', 'SZ', 'TD', 'TG', 'TH', 'TJ', 'TL', 'TN', 'TO', 'TR', 'TT', 'TV', 'TW', 'TZ', 'UA', 'UG', 'US', 'UY', 'UZ', 'VC', 'VE', 'VN', 'VU', 'WS', 'XK', 'ZA', 'ZM', 'ZW'], 'external_urls': {'spotify': 'https://open.spotify.com/album/3BPDSjoJlho8oiUPUNrShM'}, 'href': 'https://api.spotify.com/v1/albums/3BPDSjoJlho8oiUPUNrShM', 'id': '3BPDSjoJlho8oiUPUNrShM', 'images': [{'height': 640, 'url': 'https://i.scdn.co/image/ab67616d0000b27335e9a6f6a1eded2062526499', 'width': 640}, {'height': 300, 'url': 'https://i.scdn.co/image/ab67616d00001e0235e9a6f6a1eded2062526499', 'width': 300}, {'height': 64, 'url': 'https://i.scdn.co/image/ab67616d0000485135e9a6f6a1eded2062526499', 'width': 64}], 'name': 'Rudolph The Red Nosed Reindeer And Other Christmas Classics', 'release_date': '1947', 'release_date_precision': 'year', 'total_tracks': 18, 'type': 'album', 'uri': 'spotify:album:3BPDSjoJlho8oiUPUNrShM'}, 'artists': [{'external_urls': {'spotify': 'https://open.spotify.com/artist/5ixB75BQR3ADoWQkcHQJTs'}, 'href': 'https://api.spotify.com/v1/artists/5ixB75BQR3ADoWQkcHQJTs', 'id': '5ixB75BQR3ADoWQkcHQJTs', 'name': 'Gene Autry', 'type': 'artist', 'uri': 'spotify:artist:5ixB75BQR3ADoWQkcHQJTs'}], 'available_markets': ['AD', 'AE', 'AG', 'AL', 'AM', 'AO', 'AR', 'AT', 'AU', 'AZ', 'BA', 'BB', 'BD', 'BE', 'BF', 'BG', 'BH', 'BI', 'BJ', 'BN', 'BO', 'BR', 'BS', 'BT', 'BW', 'BY', 'BZ', 'CA', 'CD', 'CG', 'CH', 'CI', 'CL', 'CM', 'CO', 'CR', 'CV', 'CW', 'CY', 'CZ', 'DE', 'DJ', 'DK', 'DM', 'DO', 'DZ', 'EC', 'EE', 'EG', 'ES', 'FI', 'FJ', 'FM', 'FR', 'GA', 'GB', 'GD', 'GE', 'GH', 'GM', 'GN', 'GQ', 'GR', 'GT', 'GW', 'GY', 'HK', 'HN', 'HR', 'HT', 'HU', 'ID', 'IE', 'IL', 'IN', 'IQ', 'IS', 'IT', 'JM', 'JO', 'JP', 'KE', 'KG', 'KH', 'KI', 'KM', 'KN', 'KR', 'KW', 'KZ', 'LA', 'LB', 'LC', 'LI', 'LK', 'LR', 'LS', 'LT', 'LU', 'LV', 'LY', 'MA', 'MC', 'MD', 'ME', 'MG', 'MH', 'MK', 'ML', 'MN', 'MO', 'MR', 'MT', 'MU', 'MV', 'MW', 'MX', 'MY', 'MZ', 'NA', 'NE', 'NG', 'NI', 'NL', 'NO', 'NP', 'NR', 'NZ', 'OM', 'PA', 'PE', 'PG', 'PH', 'PK', 'PL', 'PS', 'PT', 'PW', 'PY', 'QA', 'RO', 'RS', 'RW', 'SA', 'SB', 'SC', 'SE', 'SG', 'SI', 'SK', 'SL', 'SM', 'SN', 'SR', 'ST', 'SV', 'SZ', 'TD', 'TG', 'TH', 'TJ', 'TL', 'TN', 'TO', 'TR', 'TT', 'TV', 'TW', 'TZ', 'UA', 'UG', 'US', 'UY', 'UZ', 'VC', 'VE', 'VN', 'VU', 'WS', 'XK', 'ZA', 'ZM', 'ZW'], 'disc_number': 1, 'duration_ms': 186733, 'episode': False, 'explicit': False, 'external_ids': {'isrc': 'USSM10309761'}, 'external_urls': {'spotify': 'https://open.spotify.com/track/1dtIaSlyrLI04sqYa8nLyN'}, 'href': 'https://api.spotify.com/v1/tracks/1dtIaSlyrLI04sqYa8nLyN', 'id': '1dtIaSlyrLI04sqYa8nLyN', 'is_local': False, 'name': 'Rudolph the Red-Nosed Reindeer', 'popularity': 74, 'preview_url': 'https://p.scdn.co/mp3-preview/2ae868c8bf72ebc4ed7e04665d57a1f83b2f7431?cid=8cc561ad779e4f7ab9474f025c5ca931', 'track': True, 'track_number': 2, 'type': 'track', 'uri': 'spotify:track:1dtIaSlyrLI04sqYa8nLyN'},{'album': {'album_type': 'album', 'artists': [{'external_urls': {'spotify': 'https://open.spotify.com/artist/26AHtbjWKiwYzsoGoUZq53'}, 'href': 'https://api.spotify.com/v1/artists/26AHtbjWKiwYzsoGoUZq53', 'id': '26AHtbjWKiwYzsoGoUZq53', 'name': 'Pentatonix', 'type': 'artist', 'uri': 'spotify:artist:26AHtbjWKiwYzsoGoUZq53'}], 'available_markets': ['AD', 'AE', 'AG', 'AL', 'AM', 'AO', 'AR', 'AT', 'AU', 'AZ', 'BA', 'BB', 'BD', 'BE', 'BF', 'BG', 'BH', 'BI', 'BJ', 'BN', 'BO', 'BR', 'BS', 'BT', 'BW', 'BY', 'BZ', 'CA', 'CD', 'CG', 'CH', 'CI', 'CL', 'CM', 'CO', 'CR', 'CV', 'CW', 'CY', 'CZ', 'DE', 'DJ', 'DK', 'DM', 'DO', 'DZ', 'EC', 'EE', 'EG', 'ES', 'FI', 'FJ', 'FM', 'FR', 'GA', 'GB', 'GD', 'GE', 'GH', 'GM', 'GN', 'GQ', 'GR', 'GT', 'GW', 'GY', 'HK', 'HN', 'HR', 'HT', 'HU', 'ID', 'IE', 'IL', 'IN', 'IQ', 'IS', 'IT', 'JM', 'JO', 'KE', 'KG', 'KH', 'KI', 'KM', 'KN', 'KR', 'KW', 'KZ', 'LA', 'LB', 'LC', 'LI', 'LK', 'LR', 'LS', 'LT', 'LU', 'LV', 'LY', 'MA', 'MC', 'MD', 'ME', 'MG', 'MH', 'MK', 'ML', 'MN', 'MO', 'MR', 'MT', 'MU', 'MV', 'MW', 'MX', 'MY', 'MZ', 'NA', 'NE', 'NG', 'NI', 'NL', 'NO', 'NP', 'NR', 'NZ', 'OM', 'PA', 'PE', 'PG', 'PH', 'PK', 'PL', 'PS', 'PT', 'PW', 'PY', 'QA', 'RO', 'RS', 'RW', 'SA', 'SB', 'SC', 'SE', 'SG', 'SI', 'SK', 'SL', 'SM', 'SN', 'SR', 'ST', 'SV', 'SZ', 'TD', 'TG', 'TH', 'TJ', 'TL', 'TN', 'TO', 'TR', 'TT', 'TV', 'TW', 'TZ', 'UA', 'UG', 'US', 'UY', 'UZ', 'VC', 'VE', 'VN', 'VU', 'WS', 'XK', 'ZA', 'ZM', 'ZW'], 'external_urls': {'spotify': 'https://open.spotify.com/album/082VlX7cBth0o8xqDGclNn'}, 'href': 'https://api.spotify.com/v1/albums/082VlX7cBth0o8xqDGclNn', 'id': '082VlX7cBth0o8xqDGclNn', 'images': [{'height': 640, 'url': 'https://i.scdn.co/image/ab67616d0000b273e0283afa7dd6c6ac806fb67c', 'width': 640}, {'height': 300, 'url': 'https://i.scdn.co/image/ab67616d00001e02e0283afa7dd6c6ac806fb67c', 'width': 300}, {'height': 64, 'url': 'https://i.scdn.co/image/ab67616d00004851e0283afa7dd6c6ac806fb67c', 'width': 64}], 'name': \"That's Christmas To Me (Deluxe Edition)\", 'release_date': '2015-10-30', 'release_date_precision': 'day', 'total_tracks': 16, 'type': 'album', 'uri': 'spotify:album:082VlX7cBth0o8xqDGclNn'}, 'artists': [{'external_urls': {'spotify': 'https://open.spotify.com/artist/26AHtbjWKiwYzsoGoUZq53'}, 'href': 'https://api.spotify.com/v1/artists/26AHtbjWKiwYzsoGoUZq53', 'id': '26AHtbjWKiwYzsoGoUZq53', 'name': 'Pentatonix', 'type': 'artist', 'uri': 'spotify:artist:26AHtbjWKiwYzsoGoUZq53'}], 'available_markets': ['AD', 'AE', 'AG', 'AL', 'AM', 'AO', 'AR', 'AT', 'AU', 'AZ', 'BA', 'BB', 'BD', 'BE', 'BF', 'BG', 'BH', 'BI', 'BJ', 'BN', 'BO', 'BR', 'BS', 'BT', 'BW', 'BY', 'BZ', 'CA', 'CD', 'CG', 'CH', 'CI', 'CL', 'CM', 'CO', 'CR', 'CV', 'CW', 'CY', 'CZ', 'DE', 'DJ', 'DK', 'DM', 'DO', 'DZ', 'EC', 'EE', 'EG', 'ES', 'FI', 'FJ', 'FM', 'FR', 'GA', 'GB', 'GD', 'GE', 'GH', 'GM', 'GN', 'GQ', 'GR', 'GT', 'GW', 'GY', 'HK', 'HN', 'HR', 'HT', 'HU', 'ID', 'IE', 'IL', 'IN', 'IQ', 'IS', 'IT', 'JM', 'JO', 'KE', 'KG', 'KH', 'KI', 'KM', 'KN', 'KR', 'KW', 'KZ', 'LA', 'LB', 'LC', 'LI', 'LK', 'LR', 'LS', 'LT', 'LU', 'LV', 'LY', 'MA', 'MC', 'MD', 'ME', 'MG', 'MH', 'MK', 'ML', 'MN', 'MO', 'MR', 'MT', 'MU', 'MV', 'MW', 'MX', 'MY', 'MZ', 'NA', 'NE', 'NG', 'NI', 'NL', 'NO', 'NP', 'NR', 'NZ', 'OM', 'PA', 'PE', 'PG', 'PH', 'PK', 'PL', 'PS', 'PT', 'PW', 'PY', 'QA', 'RO', 'RS', 'RW', 'SA', 'SB', 'SC', 'SE', 'SG', 'SI', 'SK', 'SL', 'SM', 'SN', 'SR', 'ST', 'SV', 'SZ', 'TD', 'TG', 'TH', 'TJ', 'TL', 'TN', 'TO', 'TR', 'TT', 'TV', 'TW', 'TZ', 'UA', 'UG', 'US', 'UY', 'UZ', 'VC', 'VE', 'VN', 'VU', 'WS', 'XK', 'ZA', 'ZM', 'ZW'], 'disc_number': 1, 'duration_ms': 203373, 'episode': False, 'explicit': False, 'external_ids': {'isrc': 'USRC11402151'}, 'external_urls': {'spotify': 'https://open.spotify.com/track/4z8sz6E4YyFuEkv5o7IJni'}, 'href': 'https://api.spotify.com/v1/tracks/4z8sz6E4YyFuEkv5o7IJni', 'id': '4z8sz6E4YyFuEkv5o7IJni', 'is_local': False, 'name': 'Mary, Did You Know?', 'popularity': 71, 'preview_url': 'https://p.scdn.co/mp3-preview/3dcd1bcaafb6b99b655a36b992b785eccdc6cd4a?cid=8cc561ad779e4f7ab9474f025c5ca931', 'track': True, 'track_number': 6, 'type': 'track', 'uri': 'spotify:track:4z8sz6E4YyFuEkv5o7IJni'},{'album': {'album_type': 'album', 'artists': [{'external_urls': {'spotify': 'https://open.spotify.com/artist/1GxkXlMwML1oSg5eLPiAz3'}, 'href': 'https://api.spotify.com/v1/artists/1GxkXlMwML1oSg5eLPiAz3', 'id': '1GxkXlMwML1oSg5eLPiAz3', 'name': 'Michael Bublé', 'type': 'artist', 'uri': 'spotify:artist:1GxkXlMwML1oSg5eLPiAz3'}], 'available_markets': ['AD', 'AE', 'AG', 'AL', 'AM', 'AO', 'AR', 'AT', 'AU', 'AZ', 'BA', 'BB', 'BD', 'BE', 'BF', 'BG', 'BH', 'BI', 'BJ', 'BN', 'BO', 'BR', 'BS', 'BW', 'BY', 'BZ', 'CA', 'CD', 'CG', 'CH', 'CI', 'CL', 'CM', 'CO', 'CR', 'CV', 'CW', 'CY', 'CZ', 'DE', 'DJ', 'DK', 'DM', 'DO', 'DZ', 'EC', 'EE', 'EG', 'ES', 'FI', 'FJ', 'FM', 'FR', 'GA', 'GB', 'GD', 'GH', 'GM', 'GN', 'GQ', 'GR', 'GT', 'GW', 'HK', 'HN', 'HR', 'HT', 'HU', 'ID', 'IE', 'IL', 'IN', 'IQ', 'IS', 'IT', 'JM', 'JO', 'JP', 'KE', 'KG', 'KH', 'KM', 'KN', 'KR', 'KW', 'KZ', 'LA', 'LB', 'LC', 'LK', 'LR', 'LS', 'LT', 'LU', 'LV', 'LY', 'MA', 'MC', 'MD', 'ME', 'MG', 'MK', 'ML', 'MN', 'MO', 'MR', 'MT', 'MU', 'MW', 'MX', 'MY', 'MZ', 'NA', 'NE', 'NG', 'NI', 'NL', 'NO', 'NP', 'NZ', 'OM', 'PA', 'PE', 'PG', 'PH', 'PK', 'PL', 'PT', 'PY', 'QA', 'RO', 'RS', 'RW', 'SA', 'SC', 'SE', 'SG', 'SI', 'SK', 'SL', 'SM', 'SN', 'ST', 'SV', 'SZ', 'TD', 'TG', 'TH', 'TJ', 'TL', 'TN', 'TR', 'TT', 'TW', 'TZ', 'UA', 'UG', 'US', 'UY', 'UZ', 'VC', 'VE', 'VN', 'XK', 'ZA', 'ZM', 'ZW'], 'external_urls': {'spotify': 'https://open.spotify.com/album/7uVimUILdzSZG4KKKWToq0'}, 'href': 'https://api.spotify.com/v1/albums/7uVimUILdzSZG4KKKWToq0', 'id': '7uVimUILdzSZG4KKKWToq0', 'images': [{'height': 640, 'url': 'https://i.scdn.co/image/ab67616d0000b273119e4094f07a8123b471ac1d', 'width': 640}, {'height': 300, 'url': 'https://i.scdn.co/image/ab67616d00001e02119e4094f07a8123b471ac1d', 'width': 300}, {'height': 64, 'url': 'https://i.scdn.co/image/ab67616d00004851119e4094f07a8123b471ac1d', 'width': 64}], 'name': 'Christmas (Deluxe Special Edition)', 'release_date': '2012-11-09', 'release_date_precision': 'day', 'total_tracks': 20, 'type': 'album', 'uri': 'spotify:album:7uVimUILdzSZG4KKKWToq0'}, 'artists': [{'external_urls': {'spotify': 'https://open.spotify.com/artist/1GxkXlMwML1oSg5eLPiAz3'}, 'href': 'https://api.spotify.com/v1/artists/1GxkXlMwML1oSg5eLPiAz3', 'id': '1GxkXlMwML1oSg5eLPiAz3', 'name': 'Michael Bublé', 'type': 'artist', 'uri': 'spotify:artist:1GxkXlMwML1oSg5eLPiAz3'}], 'available_markets': ['AD', 'AE', 'AG', 'AL', 'AM', 'AO', 'AR', 'AT', 'AU', 'AZ', 'BA', 'BB', 'BD', 'BE', 'BF', 'BG', 'BH', 'BI', 'BJ', 'BN', 'BO', 'BR', 'BS', 'BW', 'BY', 'BZ', 'CA', 'CD', 'CG', 'CH', 'CI', 'CL', 'CM', 'CO', 'CR', 'CV', 'CW', 'CY', 'CZ', 'DE', 'DJ', 'DK', 'DM', 'DO', 'DZ', 'EC', 'EE', 'EG', 'ES', 'FI', 'FJ', 'FM', 'FR', 'GA', 'GB', 'GD', 'GH', 'GM', 'GN', 'GQ', 'GR', 'GT', 'GW', 'HK', 'HN', 'HR', 'HT', 'HU', 'ID', 'IE', 'IL', 'IN', 'IQ', 'IS', 'IT', 'JM', 'JO', 'JP', 'KE', 'KG', 'KH', 'KM', 'KN', 'KR', 'KW', 'KZ', 'LA', 'LB', 'LC', 'LK', 'LR', 'LS', 'LT', 'LU', 'LV', 'LY', 'MA', 'MC', 'MD', 'ME', 'MG', 'MK', 'ML', 'MN', 'MO', 'MR', 'MT', 'MU', 'MW', 'MX', 'MY', 'MZ', 'NA', 'NE', 'NG', 'NI', 'NL', 'NO', 'NP', 'NZ', 'OM', 'PA', 'PE', 'PG', 'PH', 'PK', 'PL', 'PT', 'PY', 'QA', 'RO', 'RS', 'RW', 'SA', 'SC', 'SE', 'SG', 'SI', 'SK', 'SL', 'SM', 'SN', 'ST', 'SV', 'SZ', 'TD', 'TG', 'TH', 'TJ', 'TL', 'TN', 'TR', 'TT', 'TW', 'TZ', 'UA', 'UG', 'US', 'UY', 'UZ', 'VC', 'VE', 'VN', 'XK', 'ZA', 'ZM', 'ZW'], 'disc_number': 1, 'duration_ms': 206639, 'episode': False, 'explicit': False, 'external_ids': {'isrc': 'USRE11100700'}, 'external_urls': {'spotify': 'https://open.spotify.com/track/5a1iz510sv2W9Dt1MvFd5R'}, 'href': 'https://api.spotify.com/v1/tracks/5a1iz510sv2W9Dt1MvFd5R', 'id': '5a1iz510sv2W9Dt1MvFd5R', 'is_local': False, 'name': \"It's Beginning to Look a Lot like Christmas\", 'popularity': 84, 'preview_url': 'https://p.scdn.co/mp3-preview/e63ec1a7b235a23e07eba91092fc4b33b5ed7552?cid=8cc561ad779e4f7ab9474f025c5ca931', 'track': True, 'track_number': 1, 'type': 'track', 'uri': 'spotify:track:5a1iz510sv2W9Dt1MvFd5R'},{'album': {'album_type': 'compilation', 'artists': [{'external_urls': {'spotify': 'https://open.spotify.com/artist/0LyfQWJT6nXafLPZqxe9Of'}, 'href': 'https://api.spotify.com/v1/artists/0LyfQWJT6nXafLPZqxe9Of', 'id': '0LyfQWJT6nXafLPZqxe9Of', 'name': 'Various Artists', 'type': 'artist', 'uri': 'spotify:artist:0LyfQWJT6nXafLPZqxe9Of'}], 'available_markets': ['AD', 'AE', 'AG', 'AL', 'AM', 'AO', 'AR', 'AT', 'AU', 'AZ', 'BA', 'BB', 'BD', 'BE', 'BF', 'BG', 'BH', 'BI', 'BJ', 'BN', 'BO', 'BR', 'BS', 'BT', 'BW', 'BY', 'BZ', 'CA', 'CD', 'CG', 'CH', 'CI', 'CL', 'CM', 'CO', 'CR', 'CV', 'CW', 'CY', 'CZ', 'DE', 'DJ', 'DK', 'DM', 'DO', 'DZ', 'EC', 'EE', 'EG', 'ES', 'FI', 'FJ', 'FM', 'FR', 'GA', 'GB', 'GD', 'GE', 'GH', 'GM', 'GN', 'GQ', 'GR', 'GT', 'GW', 'GY', 'HK', 'HN', 'HR', 'HT', 'HU', 'ID', 'IE', 'IL', 'IN', 'IQ', 'IS', 'IT', 'JM', 'JO', 'JP', 'KE', 'KG', 'KH', 'KI', 'KM', 'KN', 'KR', 'KW', 'KZ', 'LA', 'LB', 'LC', 'LI', 'LK', 'LR', 'LS', 'LT', 'LU', 'LV', 'LY', 'MA', 'MC', 'MD', 'ME', 'MG', 'MH', 'MK', 'ML', 'MN', 'MO', 'MR', 'MT', 'MU', 'MV', 'MW', 'MX', 'MY', 'MZ', 'NA', 'NE', 'NG', 'NI', 'NL', 'NO', 'NP', 'NR', 'NZ', 'OM', 'PA', 'PE', 'PG', 'PH', 'PK', 'PL', 'PS', 'PT', 'PW', 'PY', 'QA', 'RO', 'RS', 'RW', 'SA', 'SB', 'SC', 'SE', 'SG', 'SI', 'SK', 'SL', 'SM', 'SN', 'SR', 'ST', 'SV', 'SZ', 'TD', 'TG', 'TH', 'TJ', 'TL', 'TN', 'TO', 'TR', 'TT', 'TV', 'TW', 'TZ', 'UA', 'UG', 'US', 'UY', 'UZ', 'VC', 'VE', 'VN', 'VU', 'WS', 'XK', 'ZA', 'ZM', 'ZW'], 'external_urls': {'spotify': 'https://open.spotify.com/album/2kzkwgOFAtRsDsas5Hi0Qu'}, 'href': 'https://api.spotify.com/v1/albums/2kzkwgOFAtRsDsas5Hi0Qu', 'id': '2kzkwgOFAtRsDsas5Hi0Qu', 'images': [{'height': 640, 'url': 'https://i.scdn.co/image/ab67616d0000b273adad4220d51bd720481d4be4', 'width': 640}, {'height': 300, 'url': 'https://i.scdn.co/image/ab67616d00001e02adad4220d51bd720481d4be4', 'width': 300}, {'height': 64, 'url': 'https://i.scdn.co/image/ab67616d00004851adad4220d51bd720481d4be4', 'width': 64}], 'name': 'A Christmas Gift For You From Phil Spector', 'release_date': '1963', 'release_date_precision': 'year', 'total_tracks': 13, 'type': 'album', 'uri': 'spotify:album:2kzkwgOFAtRsDsas5Hi0Qu'}, 'artists': [{'external_urls': {'spotify': 'https://open.spotify.com/artist/7CyeXFnOrfC1N6z4naIpgo'}, 'href': 'https://api.spotify.com/v1/artists/7CyeXFnOrfC1N6z4naIpgo', 'id': '7CyeXFnOrfC1N6z4naIpgo', 'name': 'The Ronettes', 'type': 'artist', 'uri': 'spotify:artist:7CyeXFnOrfC1N6z4naIpgo'}], 'available_markets': ['AD', 'AE', 'AG', 'AL', 'AM', 'AO', 'AR', 'AT', 'AU', 'AZ', 'BA', 'BB', 'BD', 'BE', 'BF', 'BG', 'BH', 'BI', 'BJ', 'BN', 'BO', 'BR', 'BS', 'BT', 'BW', 'BY', 'BZ', 'CA', 'CD', 'CG', 'CH', 'CI', 'CL', 'CM', 'CO', 'CR', 'CV', 'CW', 'CY', 'CZ', 'DE', 'DJ', 'DK', 'DM', 'DO', 'DZ', 'EC', 'EE', 'EG', 'ES', 'FI', 'FJ', 'FM', 'FR', 'GA', 'GB', 'GD', 'GE', 'GH', 'GM', 'GN', 'GQ', 'GR', 'GT', 'GW', 'GY', 'HK', 'HN', 'HR', 'HT', 'HU', 'ID', 'IE', 'IL', 'IN', 'IQ', 'IS', 'IT', 'JM', 'JO', 'JP', 'KE', 'KG', 'KH', 'KI', 'KM', 'KN', 'KR', 'KW', 'KZ', 'LA', 'LB', 'LC', 'LI', 'LK', 'LR', 'LS', 'LT', 'LU', 'LV', 'LY', 'MA', 'MC', 'MD', 'ME', 'MG', 'MH', 'MK', 'ML', 'MN', 'MO', 'MR', 'MT', 'MU', 'MV', 'MW', 'MX', 'MY', 'MZ', 'NA', 'NE', 'NG', 'NI', 'NL', 'NO', 'NP', 'NR', 'NZ', 'OM', 'PA', 'PE', 'PG', 'PH', 'PK', 'PL', 'PS', 'PT', 'PW', 'PY', 'QA', 'RO', 'RS', 'RW', 'SA', 'SB', 'SC', 'SE', 'SG', 'SI', 'SK', 'SL', 'SM', 'SN', 'SR', 'ST', 'SV', 'SZ', 'TD', 'TG', 'TH', 'TJ', 'TL', 'TN', 'TO', 'TR', 'TT', 'TV', 'TW', 'TZ', 'UA', 'UG', 'US', 'UY', 'UZ', 'VC', 'VE', 'VN', 'VU', 'WS', 'XK', 'ZA', 'ZM', 'ZW'], 'disc_number': 1, 'duration_ms': 181266, 'episode': False, 'explicit': False, 'external_ids': {'isrc': 'USSM10905166'}, 'external_urls': {'spotify': 'https://open.spotify.com/track/5ASM6Qjiav2xPe7gRkQMsQ'}, 'href': 'https://api.spotify.com/v1/tracks/5ASM6Qjiav2xPe7gRkQMsQ', 'id': '5ASM6Qjiav2xPe7gRkQMsQ', 'is_local': False, 'name': 'Sleigh Ride', 'popularity': 81, 'preview_url': 'https://p.scdn.co/mp3-preview/1661788ea468bdbfa2871ffbc614060c64c09c1d?cid=8cc561ad779e4f7ab9474f025c5ca931', 'track': True, 'track_number': 5, 'type': 'track', 'uri': 'spotify:track:5ASM6Qjiav2xPe7gRkQMsQ'},{'album': {'album_type': 'compilation', 'artists': [{'external_urls': {'spotify': 'https://open.spotify.com/artist/0LyfQWJT6nXafLPZqxe9Of'}, 'href': 'https://api.spotify.com/v1/artists/0LyfQWJT6nXafLPZqxe9Of', 'id': '0LyfQWJT6nXafLPZqxe9Of', 'name': 'Various Artists', 'type': 'artist', 'uri': 'spotify:artist:0LyfQWJT6nXafLPZqxe9Of'}], 'available_markets': ['AD', 'AE', 'AG', 'AL', 'AM', 'AO', 'AR', 'AT', 'AU', 'AZ', 'BA', 'BB', 'BD', 'BE', 'BF', 'BG', 'BH', 'BI', 'BJ', 'BN', 'BO', 'BR', 'BS', 'BT', 'BW', 'BY', 'BZ', 'CA', 'CD', 'CG', 'CH', 'CI', 'CL', 'CM', 'CO', 'CR', 'CV', 'CW', 'CY', 'CZ', 'DE', 'DJ', 'DK', 'DM', 'DO', 'DZ', 'EC', 'EE', 'EG', 'ES', 'FI', 'FJ', 'FM', 'FR', 'GA', 'GB', 'GD', 'GE', 'GH', 'GM', 'GN', 'GQ', 'GR', 'GT', 'GW', 'GY', 'HK', 'HN', 'HR', 'HT', 'HU', 'ID', 'IE', 'IL', 'IN', 'IQ', 'IS', 'IT', 'JM', 'JO', 'JP', 'KE', 'KG', 'KH', 'KI', 'KM', 'KN', 'KR', 'KW', 'KZ', 'LA', 'LB', 'LC', 'LI', 'LK', 'LR', 'LS', 'LT', 'LU', 'LV', 'LY', 'MA', 'MC', 'MD', 'ME', 'MG', 'MH', 'MK', 'ML', 'MN', 'MO', 'MR', 'MT', 'MU', 'MV', 'MW', 'MX', 'MY', 'MZ', 'NA', 'NE', 'NG', 'NI', 'NL', 'NO', 'NP', 'NR', 'NZ', 'OM', 'PA', 'PE', 'PG', 'PH', 'PK', 'PL', 'PS', 'PT', 'PW', 'PY', 'QA', 'RO', 'RS', 'RW', 'SB', 'SC', 'SE', 'SG', 'SI', 'SK', 'SL', 'SM', 'SN', 'SR', 'ST', 'SV', 'SZ', 'TD', 'TG', 'TH', 'TJ', 'TL', 'TN', 'TO', 'TR', 'TT', 'TV', 'TW', 'TZ', 'UA', 'UG', 'US', 'UY', 'UZ', 'VC', 'VE', 'VN', 'VU', 'WS', 'XK', 'ZA', 'ZM', 'ZW'], 'external_urls': {'spotify': 'https://open.spotify.com/album/6fWMI7wago7rUSySPlwv2F'}, 'href': 'https://api.spotify.com/v1/albums/6fWMI7wago7rUSySPlwv2F', 'id': '6fWMI7wago7rUSySPlwv2F', 'images': [{'height': 640, 'url': 'https://i.scdn.co/image/ab67616d0000b273c63204be472d8bb88c41051d', 'width': 640}, {'height': 300, 'url': 'https://i.scdn.co/image/ab67616d00001e02c63204be472d8bb88c41051d', 'width': 300}, {'height': 64, 'url': 'https://i.scdn.co/image/ab67616d00004851c63204be472d8bb88c41051d', 'width': 64}], 'name': 'Classic Rock Christmas', 'release_date': '2015-01-01', 'release_date_precision': 'day', 'total_tracks': 11, 'type': 'album', 'uri': 'spotify:album:6fWMI7wago7rUSySPlwv2F'}, 'artists': [{'external_urls': {'spotify': 'https://open.spotify.com/artist/4x1nvY2FN8jxqAFA0DA02H'}, 'href': 'https://api.spotify.com/v1/artists/4x1nvY2FN8jxqAFA0DA02H', 'id': '4x1nvY2FN8jxqAFA0DA02H', 'name': 'John Lennon', 'type': 'artist', 'uri': 'spotify:artist:4x1nvY2FN8jxqAFA0DA02H'}, {'external_urls': {'spotify': 'https://open.spotify.com/artist/4m2kfAHEnK7Z7qLGxeWtro'}, 'href': 'https://api.spotify.com/v1/artists/4m2kfAHEnK7Z7qLGxeWtro', 'id': '4m2kfAHEnK7Z7qLGxeWtro', 'name': 'The Plastic Ono Band', 'type': 'artist', 'uri': 'spotify:artist:4m2kfAHEnK7Z7qLGxeWtro'}, {'external_urls': {'spotify': 'https://open.spotify.com/artist/0vneleczrRRNPF1vj0x0vy'}, 'href': 'https://api.spotify.com/v1/artists/0vneleczrRRNPF1vj0x0vy', 'id': '0vneleczrRRNPF1vj0x0vy', 'name': 'The Harlem Community Choir', 'type': 'artist', 'uri': 'spotify:artist:0vneleczrRRNPF1vj0x0vy'}], 'available_markets': ['AD', 'AE', 'AG', 'AL', 'AM', 'AO', 'AR', 'AT', 'AU', 'AZ', 'BA', 'BB', 'BD', 'BE', 'BF', 'BG', 'BH', 'BI', 'BJ', 'BN', 'BO', 'BR', 'BS', 'BT', 'BW', 'BY', 'BZ', 'CA', 'CD', 'CG', 'CH', 'CI', 'CL', 'CM', 'CO', 'CR', 'CV', 'CW', 'CY', 'CZ', 'DE', 'DJ', 'DK', 'DM', 'DO', 'DZ', 'EC', 'EE', 'EG', 'ES', 'FI', 'FJ', 'FM', 'FR', 'GA', 'GB', 'GD', 'GE', 'GH', 'GM', 'GN', 'GQ', 'GR', 'GT', 'GW', 'GY', 'HK', 'HN', 'HR', 'HT', 'HU', 'ID', 'IE', 'IL', 'IN', 'IQ', 'IS', 'IT', 'JM', 'JO', 'JP', 'KE', 'KG', 'KH', 'KI', 'KM', 'KN', 'KR', 'KW', 'KZ', 'LA', 'LB', 'LC', 'LI', 'LK', 'LR', 'LS', 'LT', 'LU', 'LV', 'LY', 'MA', 'MC', 'MD', 'ME', 'MG', 'MH', 'MK', 'ML', 'MN', 'MO', 'MR', 'MT', 'MU', 'MV', 'MW', 'MX', 'MY', 'MZ', 'NA', 'NE', 'NG', 'NI', 'NL', 'NO', 'NP', 'NR', 'NZ', 'OM', 'PA', 'PE', 'PG', 'PH', 'PK', 'PL', 'PS', 'PT', 'PW', 'PY', 'QA', 'RO', 'RS', 'RW', 'SB', 'SC', 'SE', 'SG', 'SI', 'SK', 'SL', 'SM', 'SN', 'SR', 'ST', 'SV', 'SZ', 'TD', 'TG', 'TH', 'TJ', 'TL', 'TN', 'TO', 'TR', 'TT', 'TV', 'TW', 'TZ', 'UA', 'UG', 'US', 'UY', 'UZ', 'VC', 'VE', 'VN', 'VU', 'WS', 'XK', 'ZA', 'ZM', 'ZW'], 'disc_number': 1, 'duration_ms': 212040, 'episode': False, 'explicit': False, 'external_ids': {'isrc': 'USCA29800675'}, 'external_urls': {'spotify': 'https://open.spotify.com/track/4hAkwE0k1MlzDoOIf9J8ty'}, 'href': 'https://api.spotify.com/v1/tracks/4hAkwE0k1MlzDoOIf9J8ty', 'id': '4hAkwE0k1MlzDoOIf9J8ty', 'is_local': False, 'name': 'Happy Xmas (War Is Over)', 'popularity': 50, 'preview_url': None, 'track': True, 'track_number': 10, 'type': 'track', 'uri': 'spotify:track:4hAkwE0k1MlzDoOIf9J8ty'},{'album': {'album_type': 'album', 'artists': [{'external_urls': {'spotify': 'https://open.spotify.com/artist/1uNFoZAHBGtllmzznpCI3s'}, 'href': 'https://api.spotify.com/v1/artists/1uNFoZAHBGtllmzznpCI3s', 'id': '1uNFoZAHBGtllmzznpCI3s', 'name': 'Justin Bieber', 'type': 'artist', 'uri': 'spotify:artist:1uNFoZAHBGtllmzznpCI3s'}], 'available_markets': ['AD', 'AE', 'AG', 'AL', 'AM', 'AO', 'AR', 'AT', 'AU', 'AZ', 'BA', 'BB', 'BD', 'BE', 'BF', 'BG', 'BH', 'BI', 'BJ', 'BN', 'BO', 'BR', 'BS', 'BT', 'BW', 'BY', 'BZ', 'CA', 'CD', 'CG', 'CH', 'CI', 'CL', 'CM', 'CO', 'CR', 'CV', 'CW', 'CY', 'CZ', 'DE', 'DJ', 'DK', 'DM', 'DO', 'DZ', 'EC', 'EE', 'EG', 'ES', 'FI', 'FJ', 'FM', 'FR', 'GA', 'GB', 'GD', 'GH', 'GM', 'GN', 'GQ', 'GR', 'GT', 'GW', 'GY', 'HK', 'HN', 'HR', 'HT', 'HU', 'ID', 'IE', 'IL', 'IN', 'IQ', 'IS', 'IT', 'JM', 'JO', 'KE', 'KG', 'KH', 'KI', 'KM', 'KN', 'KR', 'KW', 'KZ', 'LA', 'LB', 'LC', 'LI', 'LK', 'LR', 'LS', 'LT', 'LU', 'LV', 'LY', 'MA', 'MC', 'MD', 'ME', 'MG', 'MH', 'MK', 'ML', 'MN', 'MO', 'MR', 'MT', 'MU', 'MV', 'MW', 'MY', 'MZ', 'NA', 'NE', 'NG', 'NI', 'NL', 'NO', 'NP', 'NR', 'NZ', 'OM', 'PA', 'PE', 'PG', 'PH', 'PK', 'PL', 'PS', 'PT', 'PW', 'PY', 'QA', 'RO', 'RS', 'RW', 'SA', 'SB', 'SC', 'SE', 'SG', 'SI', 'SK', 'SL', 'SN', 'SR', 'ST', 'SV', 'SZ', 'TD', 'TG', 'TH', 'TJ', 'TL', 'TN', 'TO', 'TR', 'TT', 'TV', 'TW', 'TZ', 'UA', 'UG', 'US', 'UY', 'UZ', 'VC', 'VE', 'VN', 'WS', 'XK', 'ZA', 'ZM', 'ZW'], 'external_urls': {'spotify': 'https://open.spotify.com/album/63MKT9hwmiMFFdFp5SdB1p'}, 'href': 'https://api.spotify.com/v1/albums/63MKT9hwmiMFFdFp5SdB1p', 'id': '63MKT9hwmiMFFdFp5SdB1p', 'images': [{'height': 640, 'url': 'https://i.scdn.co/image/ab67616d0000b2730315efc555d5a157b0392652', 'width': 640}, {'height': 300, 'url': 'https://i.scdn.co/image/ab67616d00001e020315efc555d5a157b0392652', 'width': 300}, {'height': 64, 'url': 'https://i.scdn.co/image/ab67616d000048510315efc555d5a157b0392652', 'width': 64}], 'name': 'Under The Mistletoe (Deluxe Edition)', 'release_date': '2011-01-01', 'release_date_precision': 'day', 'total_tracks': 15, 'type': 'album', 'uri': 'spotify:album:63MKT9hwmiMFFdFp5SdB1p'}, 'artists': [{'external_urls': {'spotify': 'https://open.spotify.com/artist/1uNFoZAHBGtllmzznpCI3s'}, 'href': 'https://api.spotify.com/v1/artists/1uNFoZAHBGtllmzznpCI3s', 'id': '1uNFoZAHBGtllmzznpCI3s', 'name': 'Justin Bieber', 'type': 'artist', 'uri': 'spotify:artist:1uNFoZAHBGtllmzznpCI3s'}], 'available_markets': ['AD', 'AE', 'AG', 'AL', 'AM', 'AO', 'AR', 'AT', 'AU', 'AZ', 'BA', 'BB', 'BD', 'BE', 'BF', 'BG', 'BH', 'BI', 'BJ', 'BN', 'BO', 'BR', 'BS', 'BT', 'BW', 'BY', 'BZ', 'CA', 'CD', 'CG', 'CH', 'CI', 'CL', 'CM', 'CO', 'CR', 'CV', 'CW', 'CY', 'CZ', 'DE', 'DJ', 'DK', 'DM', 'DO', 'DZ', 'EC', 'EE', 'EG', 'ES', 'FI', 'FJ', 'FM', 'FR', 'GA', 'GB', 'GD', 'GH', 'GM', 'GN', 'GQ', 'GR', 'GT', 'GW', 'GY', 'HK', 'HN', 'HR', 'HT', 'HU', 'ID', 'IE', 'IL', 'IN', 'IQ', 'IS', 'IT', 'JM', 'JO', 'KE', 'KG', 'KH', 'KI', 'KM', 'KN', 'KR', 'KW', 'KZ', 'LA', 'LB', 'LC', 'LI', 'LK', 'LR', 'LS', 'LT', 'LU', 'LV', 'LY', 'MA', 'MC', 'MD', 'ME', 'MG', 'MH', 'MK', 'ML', 'MN', 'MO', 'MR', 'MT', 'MU', 'MV', 'MW', 'MY', 'MZ', 'NA', 'NE', 'NG', 'NI', 'NL', 'NO', 'NP', 'NR', 'NZ', 'OM', 'PA', 'PE', 'PG', 'PH', 'PK', 'PL', 'PS', 'PT', 'PW', 'PY', 'QA', 'RO', 'RS', 'RW', 'SA', 'SB', 'SC', 'SE', 'SG', 'SI', 'SK', 'SL', 'SN', 'SR', 'ST', 'SV', 'SZ', 'TD', 'TG', 'TH', 'TJ', 'TL', 'TN', 'TO', 'TR', 'TT', 'TV', 'TW', 'TZ', 'UA', 'UG', 'US', 'UY', 'UZ', 'VC', 'VE', 'VN', 'WS', 'XK', 'ZA', 'ZM', 'ZW'], 'disc_number': 1, 'duration_ms': 182946, 'episode': False, 'explicit': False, 'external_ids': {'isrc': 'USUM71116290'}, 'external_urls': {'spotify': 'https://open.spotify.com/track/7xapw9Oy21WpfEcib2ErSA'}, 'href': 'https://api.spotify.com/v1/tracks/7xapw9Oy21WpfEcib2ErSA', 'id': '7xapw9Oy21WpfEcib2ErSA', 'is_local': False, 'name': 'Mistletoe', 'popularity': 84, 'preview_url': None, 'track': True, 'track_number': 2, 'type': 'track', 'uri': 'spotify:track:7xapw9Oy21WpfEcib2ErSA'},{'album': {'album_type': 'album', 'artists': [{'external_urls': {'spotify': 'https://open.spotify.com/artist/43ZHCT0cAZBISjO8DG9PnE'}, 'href': 'https://api.spotify.com/v1/artists/43ZHCT0cAZBISjO8DG9PnE', 'id': '43ZHCT0cAZBISjO8DG9PnE', 'name': 'Elvis Presley', 'type': 'artist', 'uri': 'spotify:artist:43ZHCT0cAZBISjO8DG9PnE'}], 'available_markets': ['AD', 'AE', 'AG', 'AL', 'AM', 'AO', 'AR', 'AT', 'AU', 'AZ', 'BA', 'BB', 'BD', 'BE', 'BF', 'BG', 'BH', 'BI', 'BJ', 'BN', 'BO', 'BR', 'BS', 'BT', 'BW', 'BY', 'BZ', 'CA', 'CD', 'CG', 'CH', 'CI', 'CL', 'CM', 'CO', 'CR', 'CV', 'CW', 'CY', 'CZ', 'DE', 'DJ', 'DK', 'DM', 'DO', 'DZ', 'EC', 'EE', 'EG', 'ES', 'FI', 'FJ', 'FM', 'FR', 'GA', 'GB', 'GD', 'GE', 'GH', 'GM', 'GN', 'GQ', 'GR', 'GT', 'GW', 'GY', 'HK', 'HN', 'HR', 'HT', 'HU', 'ID', 'IE', 'IL', 'IN', 'IQ', 'IS', 'IT', 'JM', 'JO', 'JP', 'KE', 'KG', 'KH', 'KI', 'KM', 'KN', 'KR', 'KW', 'KZ', 'LA', 'LB', 'LC', 'LI', 'LK', 'LR', 'LS', 'LT', 'LU', 'LV', 'LY', 'MA', 'MC', 'MD', 'ME', 'MG', 'MH', 'MK', 'ML', 'MN', 'MO', 'MR', 'MT', 'MU', 'MV', 'MW', 'MX', 'MY', 'MZ', 'NA', 'NE', 'NG', 'NI', 'NL', 'NO', 'NP', 'NR', 'NZ', 'OM', 'PA', 'PE', 'PG', 'PH', 'PK', 'PL', 'PS', 'PT', 'PW', 'PY', 'QA', 'RO', 'RS', 'RW', 'SA', 'SB', 'SC', 'SE', 'SG', 'SI', 'SK', 'SL', 'SM', 'SN', 'SR', 'ST', 'SV', 'SZ', 'TD', 'TG', 'TH', 'TJ', 'TL', 'TN', 'TO', 'TR', 'TT', 'TV', 'TW', 'TZ', 'UA', 'UG', 'US', 'UY', 'UZ', 'VC', 'VE', 'VN', 'VU', 'WS', 'XK', 'ZA', 'ZM', 'ZW'], 'external_urls': {'spotify': 'https://open.spotify.com/album/6zk4RKl6JFlgLCV4Z7DQ7N'}, 'href': 'https://api.spotify.com/v1/albums/6zk4RKl6JFlgLCV4Z7DQ7N', 'id': '6zk4RKl6JFlgLCV4Z7DQ7N', 'images': [{'height': 640, 'url': 'https://i.scdn.co/image/ab67616d0000b273aa509be2dd24fb6c753cf292', 'width': 640}, {'height': 300, 'url': 'https://i.scdn.co/image/ab67616d00001e02aa509be2dd24fb6c753cf292', 'width': 300}, {'height': 64, 'url': 'https://i.scdn.co/image/ab67616d00004851aa509be2dd24fb6c753cf292', 'width': 64}], 'name': \"Elvis' Christmas Album\", 'release_date': '1957-10-15', 'release_date_precision': 'day', 'total_tracks': 12, 'type': 'album', 'uri': 'spotify:album:6zk4RKl6JFlgLCV4Z7DQ7N'}, 'artists': [{'external_urls': {'spotify': 'https://open.spotify.com/artist/43ZHCT0cAZBISjO8DG9PnE'}, 'href': 'https://api.spotify.com/v1/artists/43ZHCT0cAZBISjO8DG9PnE', 'id': '43ZHCT0cAZBISjO8DG9PnE', 'name': 'Elvis Presley', 'type': 'artist', 'uri': 'spotify:artist:43ZHCT0cAZBISjO8DG9PnE'}], 'available_markets': ['AD', 'AE', 'AG', 'AL', 'AM', 'AO', 'AR', 'AT', 'AU', 'AZ', 'BA', 'BB', 'BD', 'BE', 'BF', 'BG', 'BH', 'BI', 'BJ', 'BN', 'BO', 'BR', 'BS', 'BT', 'BW', 'BY', 'BZ', 'CA', 'CD', 'CG', 'CH', 'CI', 'CL', 'CM', 'CO', 'CR', 'CV', 'CW', 'CY', 'CZ', 'DE', 'DJ', 'DK', 'DM', 'DO', 'DZ', 'EC', 'EE', 'EG', 'ES', 'FI', 'FJ', 'FM', 'FR', 'GA', 'GB', 'GD', 'GE', 'GH', 'GM', 'GN', 'GQ', 'GR', 'GT', 'GW', 'GY', 'HK', 'HN', 'HR', 'HT', 'HU', 'ID', 'IE', 'IL', 'IN', 'IQ', 'IS', 'IT', 'JM', 'JO', 'JP', 'KE', 'KG', 'KH', 'KI', 'KM', 'KN', 'KR', 'KW', 'KZ', 'LA', 'LB', 'LC', 'LI', 'LK', 'LR', 'LS', 'LT', 'LU', 'LV', 'LY', 'MA', 'MC', 'MD', 'ME', 'MG', 'MH', 'MK', 'ML', 'MN', 'MO', 'MR', 'MT', 'MU', 'MV', 'MW', 'MX', 'MY', 'MZ', 'NA', 'NE', 'NG', 'NI', 'NL', 'NO', 'NP', 'NR', 'NZ', 'OM', 'PA', 'PE', 'PG', 'PH', 'PK', 'PL', 'PS', 'PT', 'PW', 'PY', 'QA', 'RO', 'RS', 'RW', 'SA', 'SB', 'SC', 'SE', 'SG', 'SI', 'SK', 'SL', 'SM', 'SN', 'SR', 'ST', 'SV', 'SZ', 'TD', 'TG', 'TH', 'TJ', 'TL', 'TN', 'TO', 'TR', 'TT', 'TV', 'TW', 'TZ', 'UA', 'UG', 'US', 'UY', 'UZ', 'VC', 'VE', 'VN', 'VU', 'WS', 'XK', 'ZA', 'ZM', 'ZW'], 'disc_number': 1, 'duration_ms': 129173, 'episode': False, 'explicit': False, 'external_ids': {'isrc': 'USRC15701155'}, 'external_urls': {'spotify': 'https://open.spotify.com/track/3QiAAp20rPC3dcAtKtMaqQ'}, 'href': 'https://api.spotify.com/v1/tracks/3QiAAp20rPC3dcAtKtMaqQ', 'id': '3QiAAp20rPC3dcAtKtMaqQ', 'is_local': False, 'name': 'Blue Christmas', 'popularity': 79, 'preview_url': 'https://p.scdn.co/mp3-preview/5c7b79aefed9c3c55ba78d8f2a5734b42c2f7cec?cid=8cc561ad779e4f7ab9474f025c5ca931', 'track': True, 'track_number': 5, 'type': 'track', 'uri': 'spotify:track:3QiAAp20rPC3dcAtKtMaqQ'},{'album': {'album_type': 'album', 'artists': [{'external_urls': {'spotify': 'https://open.spotify.com/artist/5OSQDUNmll299ldFIF1Dau'}, 'href': 'https://api.spotify.com/v1/artists/5OSQDUNmll299ldFIF1Dau', 'id': '5OSQDUNmll299ldFIF1Dau', 'name': 'Trans-Siberian Orchestra', 'type': 'artist', 'uri': 'spotify:artist:5OSQDUNmll299ldFIF1Dau'}], 'available_markets': ['US'], 'external_urls': {'spotify': 'https://open.spotify.com/album/6DsIXONf5oi48VDiCVG1bu'}, 'href': 'https://api.spotify.com/v1/albums/6DsIXONf5oi48VDiCVG1bu', 'id': '6DsIXONf5oi48VDiCVG1bu', 'images': [{'height': 640, 'url': 'https://i.scdn.co/image/ab67616d0000b2737f4e01c570166b981d88b37d', 'width': 640}, {'height': 300, 'url': 'https://i.scdn.co/image/ab67616d00001e027f4e01c570166b981d88b37d', 'width': 300}, {'height': 64, 'url': 'https://i.scdn.co/image/ab67616d000048517f4e01c570166b981d88b37d', 'width': 64}], 'name': 'The Christmas Attic', 'release_date': '1998-09-15', 'release_date_precision': 'day', 'total_tracks': 17, 'type': 'album', 'uri': 'spotify:album:6DsIXONf5oi48VDiCVG1bu'}, 'artists': [{'external_urls': {'spotify': 'https://open.spotify.com/artist/5OSQDUNmll299ldFIF1Dau'}, 'href': 'https://api.spotify.com/v1/artists/5OSQDUNmll299ldFIF1Dau', 'id': '5OSQDUNmll299ldFIF1Dau', 'name': 'Trans-Siberian Orchestra', 'type': 'artist', 'uri': 'spotify:artist:5OSQDUNmll299ldFIF1Dau'}], 'available_markets': ['US'], 'disc_number': 1, 'duration_ms': 257986, 'episode': False, 'explicit': False, 'external_ids': {'isrc': 'USAT29800938'}, 'external_urls': {'spotify': 'https://open.spotify.com/track/0O4vuJynWVVdyvoHvZtnk3'}, 'href': 'https://api.spotify.com/v1/tracks/0O4vuJynWVVdyvoHvZtnk3', 'id': '0O4vuJynWVVdyvoHvZtnk3', 'is_local': False, 'name': 'Christmas Canon', 'popularity': 65, 'preview_url': 'https://p.scdn.co/mp3-preview/dea32ce9db3ba70af07f97b4dadc86bbae60341e?cid=8cc561ad779e4f7ab9474f025c5ca931', 'track': True, 'track_number': 8, 'type': 'track', 'uri': 'spotify:track:0O4vuJynWVVdyvoHvZtnk3'},{'album': {'album_type': 'compilation', 'artists': [{'external_urls': {'spotify': 'https://open.spotify.com/artist/0LyfQWJT6nXafLPZqxe9Of'}, 'href': 'https://api.spotify.com/v1/artists/0LyfQWJT6nXafLPZqxe9Of', 'id': '0LyfQWJT6nXafLPZqxe9Of', 'name': 'Various Artists', 'type': 'artist', 'uri': 'spotify:artist:0LyfQWJT6nXafLPZqxe9Of'}], 'available_markets': ['AE', 'AL', 'AR', 'AT', 'AU', 'BA', 'BE', 'BG', 'BH', 'BO', 'BR', 'CA', 'CH', 'CI', 'CL', 'CM', 'CO', 'CR', 'CW', 'CY', 'CZ', 'DE', 'DK', 'DO', 'DZ', 'EC', 'EE', 'EG', 'ES', 'FI', 'FR', 'GB', 'GH', 'GR', 'GT', 'HK', 'HN', 'HR', 'HU', 'ID', 'IE', 'IL', 'IN', 'IS', 'IT', 'JP', 'KE', 'KH', 'KR', 'KW', 'LB', 'LK', 'LT', 'LU', 'LV', 'MA', 'ME', 'MK', 'MT', 'MX', 'MY', 'NG', 'NI', 'NL', 'NO', 'NZ', 'OM', 'PA', 'PE', 'PH', 'PL', 'PT', 'PY', 'QA', 'RO', 'RS', 'SA', 'SE', 'SG', 'SI', 'SK', 'SN', 'SV', 'TH', 'TN', 'TR', 'TT', 'TW', 'UA', 'US', 'UY', 'VE', 'VN', 'XK', 'ZA'], 'external_urls': {'spotify': 'https://open.spotify.com/album/59CugdPue0ig1rBmTWJ2AB'}, 'href': 'https://api.spotify.com/v1/albums/59CugdPue0ig1rBmTWJ2AB', 'id': '59CugdPue0ig1rBmTWJ2AB', 'images': [{'height': 640, 'url': 'https://i.scdn.co/image/ab67616d0000b2736054b248ae130c01a3d13dfd', 'width': 640}, {'height': 300, 'url': 'https://i.scdn.co/image/ab67616d00001e026054b248ae130c01a3d13dfd', 'width': 300}, {'height': 64, 'url': 'https://i.scdn.co/image/ab67616d000048516054b248ae130c01a3d13dfd', 'width': 64}], 'name': 'Holidays Are Coming', 'release_date': '2022-10-17', 'release_date_precision': 'day', 'total_tracks': 100, 'type': 'album', 'uri': 'spotify:album:59CugdPue0ig1rBmTWJ2AB'}, 'artists': [{'external_urls': {'spotify': 'https://open.spotify.com/artist/4STHEaNw4mPZ2tzheohgXB'}, 'href': 'https://api.spotify.com/v1/artists/4STHEaNw4mPZ2tzheohgXB', 'id': '4STHEaNw4mPZ2tzheohgXB', 'name': 'Paul McCartney', 'type': 'artist', 'uri': 'spotify:artist:4STHEaNw4mPZ2tzheohgXB'}], 'available_markets': ['AE', 'AL', 'AR', 'AT', 'AU', 'BA', 'BE', 'BG', 'BH', 'BO', 'BR', 'CA', 'CH', 'CI', 'CL', 'CM', 'CO', 'CR', 'CW', 'CY', 'CZ', 'DE', 'DK', 'DO', 'DZ', 'EC', 'EE', 'EG', 'ES', 'FI', 'FR', 'GB', 'GH', 'GR', 'GT', 'HK', 'HN', 'HR', 'HU', 'ID', 'IE', 'IL', 'IN', 'IS', 'IT', 'JP', 'KE', 'KH', 'KR', 'KW', 'LB', 'LK', 'LT', 'LU', 'LV', 'MA', 'ME', 'MK', 'MT', 'MX', 'MY', 'NG', 'NI', 'NL', 'NO', 'NZ', 'OM', 'PA', 'PE', 'PH', 'PL', 'PT', 'PY', 'QA', 'RO', 'RS', 'SA', 'SE', 'SG', 'SI', 'SK', 'SN', 'SV', 'TH', 'TN', 'TR', 'TT', 'TW', 'UA', 'US', 'UY', 'VE', 'VN', 'XK', 'ZA'], 'disc_number': 1, 'duration_ms': 225933, 'episode': False, 'explicit': False, 'external_ids': {'isrc': 'GBCCS8401051'}, 'external_urls': {'spotify': 'https://open.spotify.com/track/5aj4UEKeW7T3eI4ETaN7Me'}, 'href': 'https://api.spotify.com/v1/tracks/5aj4UEKeW7T3eI4ETaN7Me', 'id': '5aj4UEKeW7T3eI4ETaN7Me', 'is_local': False, 'name': 'Wonderful Christmastime', 'popularity': 52, 'preview_url': None, 'track': True, 'track_number': 10, 'type': 'track', 'uri': 'spotify:track:5aj4UEKeW7T3eI4ETaN7Me'},{'album': {'album_type': 'single', 'artists': [{'external_urls': {'spotify': 'https://open.spotify.com/artist/66CXWjxzNUsdJxJ2JdwvnR'}, 'href': 'https://api.spotify.com/v1/artists/66CXWjxzNUsdJxJ2JdwvnR', 'id': '66CXWjxzNUsdJxJ2JdwvnR', 'name': 'Ariana Grande', 'type': 'artist', 'uri': 'spotify:artist:66CXWjxzNUsdJxJ2JdwvnR'}], 'available_markets': ['AD', 'AE', 'AG', 'AL', 'AM', 'AO', 'AR', 'AT', 'AU', 'AZ', 'BA', 'BB', 'BD', 'BE', 'BF', 'BG', 'BH', 'BI', 'BJ', 'BN', 'BO', 'BR', 'BS', 'BT', 'BW', 'BY', 'BZ', 'CA', 'CD', 'CG', 'CH', 'CI', 'CL', 'CM', 'CO', 'CR', 'CV', 'CW', 'CY', 'CZ', 'DE', 'DJ', 'DK', 'DM', 'DO', 'DZ', 'EC', 'EE', 'EG', 'ES', 'FI', 'FJ', 'FM', 'FR', 'GA', 'GB', 'GD', 'GE', 'GH', 'GM', 'GN', 'GQ', 'GR', 'GT', 'GW', 'GY', 'HK', 'HN', 'HR', 'HT', 'HU', 'ID', 'IE', 'IL', 'IN', 'IQ', 'IS', 'IT', 'JM', 'JO', 'JP', 'KE', 'KG', 'KH', 'KI', 'KM', 'KN', 'KR', 'KW', 'KZ', 'LA', 'LB', 'LC', 'LI', 'LK', 'LR', 'LS', 'LT', 'LU', 'LV', 'LY', 'MA', 'MC', 'MD', 'ME', 'MG', 'MH', 'MK', 'ML', 'MN', 'MO', 'MR', 'MT', 'MU', 'MV', 'MW', 'MX', 'MY', 'MZ', 'NA', 'NE', 'NG', 'NI', 'NL', 'NO', 'NP', 'NR', 'NZ', 'OM', 'PA', 'PE', 'PG', 'PH', 'PK', 'PL', 'PS', 'PT', 'PW', 'PY', 'QA', 'RO', 'RS', 'RW', 'SA', 'SB', 'SC', 'SE', 'SG', 'SI', 'SK', 'SL', 'SM', 'SN', 'SR', 'ST', 'SV', 'SZ', 'TD', 'TG', 'TH', 'TJ', 'TL', 'TN', 'TO', 'TR', 'TT', 'TV', 'TW', 'TZ', 'UA', 'UG', 'US', 'UY', 'UZ', 'VC', 'VE', 'VN', 'VU', 'WS', 'XK', 'ZA', 'ZM', 'ZW'], 'external_urls': {'spotify': 'https://open.spotify.com/album/27MNgBEnLCKoafz1g2Zu97'}, 'href': 'https://api.spotify.com/v1/albums/27MNgBEnLCKoafz1g2Zu97', 'id': '27MNgBEnLCKoafz1g2Zu97', 'images': [{'height': 640, 'url': 'https://i.scdn.co/image/ab67616d0000b273fb704b7e832b40f08c14629c', 'width': 640}, {'height': 300, 'url': 'https://i.scdn.co/image/ab67616d00001e02fb704b7e832b40f08c14629c', 'width': 300}, {'height': 64, 'url': 'https://i.scdn.co/image/ab67616d00004851fb704b7e832b40f08c14629c', 'width': 64}], 'name': 'Santa Tell Me', 'release_date': '2014-11-24', 'release_date_precision': 'day', 'total_tracks': 1, 'type': 'album', 'uri': 'spotify:album:27MNgBEnLCKoafz1g2Zu97'}, 'artists': [{'external_urls': {'spotify': 'https://open.spotify.com/artist/66CXWjxzNUsdJxJ2JdwvnR'}, 'href': 'https://api.spotify.com/v1/artists/66CXWjxzNUsdJxJ2JdwvnR', 'id': '66CXWjxzNUsdJxJ2JdwvnR', 'name': 'Ariana Grande', 'type': 'artist', 'uri': 'spotify:artist:66CXWjxzNUsdJxJ2JdwvnR'}], 'available_markets': ['AD', 'AE', 'AG', 'AL', 'AM', 'AO', 'AR', 'AT', 'AU', 'AZ', 'BA', 'BB', 'BD', 'BE', 'BF', 'BG', 'BH', 'BI', 'BJ', 'BN', 'BO', 'BR', 'BS', 'BT', 'BW', 'BY', 'BZ', 'CA', 'CD', 'CG', 'CH', 'CI', 'CL', 'CM', 'CO', 'CR', 'CV', 'CW', 'CY', 'CZ', 'DE', 'DJ', 'DK', 'DM', 'DO', 'DZ', 'EC', 'EE', 'EG', 'ES', 'FI', 'FJ', 'FM', 'FR', 'GA', 'GB', 'GD', 'GE', 'GH', 'GM', 'GN', 'GQ', 'GR', 'GT', 'GW', 'GY', 'HK', 'HN', 'HR', 'HT', 'HU', 'ID', 'IE', 'IL', 'IN', 'IQ', 'IS', 'IT', 'JM', 'JO', 'JP', 'KE', 'KG', 'KH', 'KI', 'KM', 'KN', 'KR', 'KW', 'KZ', 'LA', 'LB', 'LC', 'LI', 'LK', 'LR', 'LS', 'LT', 'LU', 'LV', 'LY', 'MA', 'MC', 'MD', 'ME', 'MG', 'MH', 'MK', 'ML', 'MN', 'MO', 'MR', 'MT', 'MU', 'MV', 'MW', 'MX', 'MY', 'MZ', 'NA', 'NE', 'NG', 'NI', 'NL', 'NO', 'NP', 'NR', 'NZ', 'OM', 'PA', 'PE', 'PG', 'PH', 'PK', 'PL', 'PS', 'PT', 'PW', 'PY', 'QA', 'RO', 'RS', 'RW', 'SA', 'SB', 'SC', 'SE', 'SG', 'SI', 'SK', 'SL', 'SM', 'SN', 'SR', 'ST', 'SV', 'SZ', 'TD', 'TG', 'TH', 'TJ', 'TL', 'TN', 'TO', 'TR', 'TT', 'TV', 'TW', 'TZ', 'UA', 'UG', 'US', 'UY', 'UZ', 'VC', 'VE', 'VN', 'VU', 'WS', 'XK', 'ZA', 'ZM', 'ZW'], 'disc_number': 1, 'duration_ms': 204093, 'episode': False, 'explicit': False, 'external_ids': {'isrc': 'USUM71417401'}, 'external_urls': {'spotify': 'https://open.spotify.com/track/0lizgQ7Qw35od7CYaoMBZb'}, 'href': 'https://api.spotify.com/v1/tracks/0lizgQ7Qw35od7CYaoMBZb', 'id': '0lizgQ7Qw35od7CYaoMBZb', 'is_local': False, 'name': 'Santa Tell Me', 'popularity': 88, 'preview_url': None, 'track': True, 'track_number': 1, 'type': 'track', 'uri': 'spotify:track:0lizgQ7Qw35od7CYaoMBZb'},{'album': {'album_type': 'album', 'artists': [{'external_urls': {'spotify': 'https://open.spotify.com/artist/1W9sjfsJp3TqWFgvScMZdG'}, 'href': 'https://api.spotify.com/v1/artists/1W9sjfsJp3TqWFgvScMZdG', 'id': '1W9sjfsJp3TqWFgvScMZdG', 'name': 'Boris Karloff', 'type': 'artist', 'uri': 'spotify:artist:1W9sjfsJp3TqWFgvScMZdG'}], 'available_markets': ['AD', 'AE', 'AG', 'AL', 'AM', 'AO', 'AR', 'AT', 'AU', 'AZ', 'BA', 'BB', 'BD', 'BF', 'BG', 'BH', 'BI', 'BJ', 'BN', 'BO', 'BR', 'BS', 'BT', 'BW', 'BY', 'BZ', 'CA', 'CD', 'CG', 'CH', 'CI', 'CL', 'CM', 'CO', 'CR', 'CV', 'CW', 'CY', 'CZ', 'DE', 'DJ', 'DK', 'DM', 'DO', 'DZ', 'EC', 'EE', 'EG', 'ES', 'FI', 'FJ', 'FM', 'FR', 'GA', 'GB', 'GD', 'GE', 'GH', 'GM', 'GN', 'GQ', 'GR', 'GT', 'GW', 'GY', 'HK', 'HN', 'HR', 'HT', 'HU', 'ID', 'IE', 'IL', 'IN', 'IQ', 'IS', 'IT', 'JM', 'JO', 'JP', 'KE', 'KG', 'KH', 'KI', 'KM', 'KN', 'KR', 'KW', 'KZ', 'LA', 'LB', 'LC', 'LI', 'LK', 'LR', 'LS', 'LT', 'LU', 'LV', 'LY', 'MA', 'MC', 'MD', 'ME', 'MG', 'MH', 'MK', 'ML', 'MN', 'MO', 'MR', 'MT', 'MU', 'MV', 'MW', 'MX', 'MY', 'MZ', 'NA', 'NE', 'NG', 'NI', 'NO', 'NP', 'NR', 'NZ', 'OM', 'PA', 'PE', 'PG', 'PH', 'PK', 'PL', 'PS', 'PT', 'PW', 'PY', 'QA', 'RO', 'RS', 'RW', 'SA', 'SB', 'SC', 'SE', 'SG', 'SI', 'SK', 'SL', 'SM', 'SN', 'SR', 'ST', 'SV', 'SZ', 'TD', 'TG', 'TH', 'TJ', 'TL', 'TN', 'TO', 'TR', 'TT', 'TV', 'TW', 'TZ', 'UA', 'UG', 'US', 'UY', 'UZ', 'VC', 'VE', 'VN', 'VU', 'WS', 'XK', 'ZA', 'ZM', 'ZW'], 'external_urls': {'spotify': 'https://open.spotify.com/album/13cUx8LoPoOcG4LEeRBv2q'}, 'href': 'https://api.spotify.com/v1/albums/13cUx8LoPoOcG4LEeRBv2q', 'id': '13cUx8LoPoOcG4LEeRBv2q', 'images': [{'height': 640, 'url': 'https://i.scdn.co/image/ab67616d0000b2733c7c2f36269debe54658e0f2', 'width': 640}, {'height': 300, 'url': 'https://i.scdn.co/image/ab67616d00001e023c7c2f36269debe54658e0f2', 'width': 300}, {'height': 64, 'url': 'https://i.scdn.co/image/ab67616d000048513c7c2f36269debe54658e0f2', 'width': 64}], 'name': 'How The Grinch Stole Christmas', 'release_date': '1966-12-18', 'release_date_precision': 'day', 'total_tracks': 5, 'type': 'album', 'uri': 'spotify:album:13cUx8LoPoOcG4LEeRBv2q'}, 'artists': [{'external_urls': {'spotify': 'https://open.spotify.com/artist/5Gejwv3xz2DpLcxVpMD6hL'}, 'href': 'https://api.spotify.com/v1/artists/5Gejwv3xz2DpLcxVpMD6hL', 'id': '5Gejwv3xz2DpLcxVpMD6hL', 'name': 'Thurl Ravenscroft', 'type': 'artist', 'uri': 'spotify:artist:5Gejwv3xz2DpLcxVpMD6hL'}], 'available_markets': ['AD', 'AE', 'AG', 'AL', 'AM', 'AO', 'AR', 'AT', 'AU', 'AZ', 'BA', 'BB', 'BD', 'BF', 'BG', 'BH', 'BI', 'BJ', 'BN', 'BO', 'BR', 'BS', 'BT', 'BW', 'BY', 'BZ', 'CA', 'CD', 'CG', 'CH', 'CI', 'CL', 'CM', 'CO', 'CR', 'CV', 'CW', 'CY', 'CZ', 'DE', 'DJ', 'DK', 'DM', 'DO', 'DZ', 'EC', 'EE', 'EG', 'ES', 'FI', 'FJ', 'FM', 'FR', 'GA', 'GB', 'GD', 'GE', 'GH', 'GM', 'GN', 'GQ', 'GR', 'GT', 'GW', 'GY', 'HK', 'HN', 'HR', 'HT', 'HU', 'ID', 'IE', 'IL', 'IN', 'IQ', 'IS', 'IT', 'JM', 'JO', 'JP', 'KE', 'KG', 'KH', 'KI', 'KM', 'KN', 'KR', 'KW', 'KZ', 'LA', 'LB', 'LC', 'LI', 'LK', 'LR', 'LS', 'LT', 'LU', 'LV', 'LY', 'MA', 'MC', 'MD', 'ME', 'MG', 'MH', 'MK', 'ML', 'MN', 'MO', 'MR', 'MT', 'MU', 'MV', 'MW', 'MX', 'MY', 'MZ', 'NA', 'NE', 'NG', 'NI', 'NO', 'NP', 'NR', 'NZ', 'OM', 'PA', 'PE', 'PG', 'PH', 'PK', 'PL', 'PS', 'PT', 'PW', 'PY', 'QA', 'RO', 'RS', 'RW', 'SA', 'SB', 'SC', 'SE', 'SG', 'SI', 'SK', 'SL', 'SM', 'SN', 'SR', 'ST', 'SV', 'SZ', 'TD', 'TG', 'TH', 'TJ', 'TL', 'TN', 'TO', 'TR', 'TT', 'TV', 'TW', 'TZ', 'UA', 'UG', 'US', 'UY', 'UZ', 'VC', 'VE', 'VN', 'VU', 'WS', 'XK', 'ZA', 'ZM', 'ZW'], 'disc_number': 1, 'duration_ms': 176333, 'episode': False, 'explicit': False, 'external_ids': {'isrc': 'USPR36607103'}, 'external_urls': {'spotify': 'https://open.spotify.com/track/6ZgigeSB0XUMqc0jjzaq6d'}, 'href': 'https://api.spotify.com/v1/tracks/6ZgigeSB0XUMqc0jjzaq6d', 'id': '6ZgigeSB0XUMqc0jjzaq6d', 'is_local': False, 'name': \"You're A Mean One, Mr. Grinch\", 'popularity': 72, 'preview_url': None, 'track': True, 'track_number': 4, 'type': 'track', 'uri': 'spotify:track:6ZgigeSB0XUMqc0jjzaq6d'},{'album': {'album_type': 'album', 'artists': [{'external_urls': {'spotify': 'https://open.spotify.com/artist/4sj6D0zlMOl25nprDJBiU9'}, 'href': 'https://api.spotify.com/v1/artists/4sj6D0zlMOl25nprDJBiU9', 'id': '4sj6D0zlMOl25nprDJBiU9', 'name': 'Andy Williams', 'type': 'artist', 'uri': 'spotify:artist:4sj6D0zlMOl25nprDJBiU9'}], 'available_markets': ['AD', 'AE', 'AG', 'AL', 'AM', 'AO', 'AR', 'AT', 'AU', 'AZ', 'BA', 'BB', 'BD', 'BE', 'BF', 'BG', 'BH', 'BI', 'BJ', 'BN', 'BO', 'BR', 'BS', 'BT', 'BW', 'BY', 'BZ', 'CA', 'CD', 'CG', 'CH', 'CI', 'CL', 'CM', 'CO', 'CR', 'CV', 'CW', 'CY', 'CZ', 'DE', 'DJ', 'DK', 'DM', 'DO', 'DZ', 'EC', 'EE', 'EG', 'ES', 'FI', 'FJ', 'FM', 'FR', 'GA', 'GB', 'GD', 'GE', 'GH', 'GM', 'GN', 'GQ', 'GR', 'GT', 'GW', 'GY', 'HK', 'HN', 'HR', 'HT', 'HU', 'ID', 'IE', 'IL', 'IN', 'IQ', 'IS', 'IT', 'JM', 'JO', 'JP', 'KE', 'KG', 'KH', 'KI', 'KM', 'KN', 'KR', 'KW', 'KZ', 'LA', 'LB', 'LC', 'LI', 'LK', 'LR', 'LS', 'LT', 'LU', 'LV', 'LY', 'MA', 'MC', 'MD', 'ME', 'MG', 'MH', 'MK', 'ML', 'MN', 'MO', 'MR', 'MT', 'MU', 'MV', 'MW', 'MX', 'MY', 'MZ', 'NA', 'NE', 'NG', 'NI', 'NL', 'NO', 'NP', 'NR', 'NZ', 'OM', 'PA', 'PE', 'PG', 'PH', 'PK', 'PL', 'PS', 'PT', 'PW', 'PY', 'QA', 'RO', 'RS', 'RW', 'SA', 'SB', 'SC', 'SE', 'SG', 'SI', 'SK', 'SL', 'SM', 'SN', 'SR', 'ST', 'SV', 'SZ', 'TD', 'TG', 'TH', 'TJ', 'TL', 'TN', 'TO', 'TR', 'TT', 'TV', 'TW', 'TZ', 'UA', 'UG', 'US', 'UY', 'UZ', 'VC', 'VE', 'VN', 'VU', 'WS', 'XK', 'ZA', 'ZM', 'ZW'], 'external_urls': {'spotify': 'https://open.spotify.com/album/4dcJHxlOJwtyypL7sx1qch'}, 'href': 'https://api.spotify.com/v1/albums/4dcJHxlOJwtyypL7sx1qch', 'id': '4dcJHxlOJwtyypL7sx1qch', 'images': [{'height': 640, 'url': 'https://i.scdn.co/image/ab67616d0000b27398073965947f92f1641b8356', 'width': 640}, {'height': 300, 'url': 'https://i.scdn.co/image/ab67616d00001e0298073965947f92f1641b8356', 'width': 300}, {'height': 64, 'url': 'https://i.scdn.co/image/ab67616d0000485198073965947f92f1641b8356', 'width': 64}], 'name': 'The Andy Williams Christmas Album', 'release_date': '1963-11-24', 'release_date_precision': 'day', 'total_tracks': 12, 'type': 'album', 'uri': 'spotify:album:4dcJHxlOJwtyypL7sx1qch'}, 'artists': [{'external_urls': {'spotify': 'https://open.spotify.com/artist/4sj6D0zlMOl25nprDJBiU9'}, 'href': 'https://api.spotify.com/v1/artists/4sj6D0zlMOl25nprDJBiU9', 'id': '4sj6D0zlMOl25nprDJBiU9', 'name': 'Andy Williams', 'type': 'artist', 'uri': 'spotify:artist:4sj6D0zlMOl25nprDJBiU9'}], 'available_markets': ['AD', 'AE', 'AG', 'AL', 'AM', 'AO', 'AR', 'AT', 'AU', 'AZ', 'BA', 'BB', 'BD', 'BE', 'BF', 'BG', 'BH', 'BI', 'BJ', 'BN', 'BO', 'BR', 'BS', 'BT', 'BW', 'BY', 'BZ', 'CA', 'CD', 'CG', 'CH', 'CI', 'CL', 'CM', 'CO', 'CR', 'CV', 'CW', 'CY', 'CZ', 'DE', 'DJ', 'DK', 'DM', 'DO', 'DZ', 'EC', 'EE', 'EG', 'ES', 'FI', 'FJ', 'FM', 'FR', 'GA', 'GB', 'GD', 'GE', 'GH', 'GM', 'GN', 'GQ', 'GR', 'GT', 'GW', 'GY', 'HK', 'HN', 'HR', 'HT', 'HU', 'ID', 'IE', 'IL', 'IN', 'IQ', 'IS', 'IT', 'JM', 'JO', 'JP', 'KE', 'KG', 'KH', 'KI', 'KM', 'KN', 'KR', 'KW', 'KZ', 'LA', 'LB', 'LC', 'LI', 'LK', 'LR', 'LS', 'LT', 'LU', 'LV', 'LY', 'MA', 'MC', 'MD', 'ME', 'MG', 'MH', 'MK', 'ML', 'MN', 'MO', 'MR', 'MT', 'MU', 'MV', 'MW', 'MX', 'MY', 'MZ', 'NA', 'NE', 'NG', 'NI', 'NL', 'NO', 'NP', 'NR', 'NZ', 'OM', 'PA', 'PE', 'PG', 'PH', 'PK', 'PL', 'PS', 'PT', 'PW', 'PY', 'QA', 'RO', 'RS', 'RW', 'SA', 'SB', 'SC', 'SE', 'SG', 'SI', 'SK', 'SL', 'SM', 'SN', 'SR', 'ST', 'SV', 'SZ', 'TD', 'TG', 'TH', 'TJ', 'TL', 'TN', 'TO', 'TR', 'TT', 'TV', 'TW', 'TZ', 'UA', 'UG', 'US', 'UY', 'UZ', 'VC', 'VE', 'VN', 'VU', 'WS', 'XK', 'ZA', 'ZM', 'ZW'], 'disc_number': 1, 'duration_ms': 156866, 'episode': False, 'explicit': False, 'external_ids': {'isrc': 'USSM10027541'}, 'external_urls': {'spotify': 'https://open.spotify.com/track/3sDdyBHQ60Cs1opmIyRvhp'}, 'href': 'https://api.spotify.com/v1/tracks/3sDdyBHQ60Cs1opmIyRvhp', 'id': '3sDdyBHQ60Cs1opmIyRvhp', 'is_local': False, 'name': 'Happy Holiday / The Holiday Season', 'popularity': 75, 'preview_url': 'https://p.scdn.co/mp3-preview/4302a2b56a45c6950d594f008e2221a397283eae?cid=8cc561ad779e4f7ab9474f025c5ca931', 'track': True, 'track_number': 2, 'type': 'track', 'uri': 'spotify:track:3sDdyBHQ60Cs1opmIyRvhp'},{'album': {'album_type': 'album', 'artists': [{'external_urls': {'spotify': 'https://open.spotify.com/artist/3BmGtnKgCSGYIUhmivXKWX'}, 'href': 'https://api.spotify.com/v1/artists/3BmGtnKgCSGYIUhmivXKWX', 'id': '3BmGtnKgCSGYIUhmivXKWX', 'name': 'Kelly Clarkson', 'type': 'artist', 'uri': 'spotify:artist:3BmGtnKgCSGYIUhmivXKWX'}], 'available_markets': ['US'], 'external_urls': {'spotify': 'https://open.spotify.com/album/7Jahqd1kx9Qau0E9x9iZj6'}, 'href': 'https://api.spotify.com/v1/albums/7Jahqd1kx9Qau0E9x9iZj6', 'id': '7Jahqd1kx9Qau0E9x9iZj6', 'images': [{'height': 640, 'url': 'https://i.scdn.co/image/ab67616d0000b273f54a315f1d2445791fe601a7', 'width': 640}, {'height': 300, 'url': 'https://i.scdn.co/image/ab67616d00001e02f54a315f1d2445791fe601a7', 'width': 300}, {'height': 64, 'url': 'https://i.scdn.co/image/ab67616d00004851f54a315f1d2445791fe601a7', 'width': 64}], 'name': 'Wrapped In Red', 'release_date': '2013-10-29', 'release_date_precision': 'day', 'total_tracks': 14, 'type': 'album', 'uri': 'spotify:album:7Jahqd1kx9Qau0E9x9iZj6'}, 'artists': [{'external_urls': {'spotify': 'https://open.spotify.com/artist/3BmGtnKgCSGYIUhmivXKWX'}, 'href': 'https://api.spotify.com/v1/artists/3BmGtnKgCSGYIUhmivXKWX', 'id': '3BmGtnKgCSGYIUhmivXKWX', 'name': 'Kelly Clarkson', 'type': 'artist', 'uri': 'spotify:artist:3BmGtnKgCSGYIUhmivXKWX'}], 'available_markets': ['US'], 'disc_number': 1, 'duration_ms': 229640, 'episode': False, 'explicit': False, 'external_ids': {'isrc': 'GBCTA1300103'}, 'external_urls': {'spotify': 'https://open.spotify.com/track/3YZE5qDV7u1ZD1gZc47ZeR'}, 'href': 'https://api.spotify.com/v1/tracks/3YZE5qDV7u1ZD1gZc47ZeR', 'id': '3YZE5qDV7u1ZD1gZc47ZeR', 'is_local': False, 'name': 'Underneath the Tree', 'popularity': 78, 'preview_url': 'https://p.scdn.co/mp3-preview/a74730e3ee63105bfa813194ba6ecb9924a1cffb?cid=8cc561ad779e4f7ab9474f025c5ca931', 'track': True, 'track_number': 2, 'type': 'track', 'uri': 'spotify:track:3YZE5qDV7u1ZD1gZc47ZeR'},{'album': {'album_type': 'album', 'artists': [{'external_urls': {'spotify': 'https://open.spotify.com/artist/5ixB75BQR3ADoWQkcHQJTs'}, 'href': 'https://api.spotify.com/v1/artists/5ixB75BQR3ADoWQkcHQJTs', 'id': '5ixB75BQR3ADoWQkcHQJTs', 'name': 'Gene Autry', 'type': 'artist', 'uri': 'spotify:artist:5ixB75BQR3ADoWQkcHQJTs'}], 'available_markets': ['AD', 'AE', 'AG', 'AL', 'AM', 'AO', 'AR', 'AT', 'AU', 'AZ', 'BA', 'BB', 'BD', 'BE', 'BF', 'BG', 'BH', 'BI', 'BJ', 'BN', 'BO', 'BR', 'BS', 'BT', 'BW', 'BY', 'BZ', 'CA', 'CD', 'CG', 'CH', 'CI', 'CL', 'CM', 'CO', 'CR', 'CV', 'CW', 'CY', 'CZ', 'DE', 'DJ', 'DK', 'DM', 'DO', 'DZ', 'EC', 'EE', 'EG', 'ES', 'FI', 'FJ', 'FM', 'FR', 'GA', 'GB', 'GD', 'GE', 'GH', 'GM', 'GN', 'GQ', 'GR', 'GT', 'GW', 'GY', 'HK', 'HN', 'HR', 'HT', 'HU', 'ID', 'IE', 'IL', 'IN', 'IQ', 'IS', 'IT', 'JM', 'JO', 'JP', 'KE', 'KG', 'KH', 'KI', 'KM', 'KN', 'KR', 'KW', 'KZ', 'LA', 'LB', 'LC', 'LI', 'LK', 'LR', 'LS', 'LT', 'LU', 'LV', 'LY', 'MA', 'MC', 'MD', 'ME', 'MG', 'MH', 'MK', 'ML', 'MN', 'MO', 'MR', 'MT', 'MU', 'MV', 'MW', 'MX', 'MY', 'MZ', 'NA', 'NE', 'NG', 'NI', 'NL', 'NO', 'NP', 'NR', 'NZ', 'OM', 'PA', 'PE', 'PG', 'PH', 'PK', 'PL', 'PS', 'PT', 'PW', 'PY', 'QA', 'RO', 'RS', 'RW', 'SA', 'SB', 'SC', 'SE', 'SG', 'SI', 'SK', 'SL', 'SM', 'SN', 'SR', 'ST', 'SV', 'SZ', 'TD', 'TG', 'TH', 'TJ', 'TL', 'TN', 'TO', 'TR', 'TT', 'TV', 'TW', 'TZ', 'UA', 'UG', 'US', 'UY', 'UZ', 'VC', 'VE', 'VN', 'VU', 'WS', 'XK', 'ZA', 'ZM', 'ZW'], 'external_urls': {'spotify': 'https://open.spotify.com/album/3BPDSjoJlho8oiUPUNrShM'}, 'href': 'https://api.spotify.com/v1/albums/3BPDSjoJlho8oiUPUNrShM', 'id': '3BPDSjoJlho8oiUPUNrShM', 'images': [{'height': 640, 'url': 'https://i.scdn.co/image/ab67616d0000b27335e9a6f6a1eded2062526499', 'width': 640}, {'height': 300, 'url': 'https://i.scdn.co/image/ab67616d00001e0235e9a6f6a1eded2062526499', 'width': 300}, {'height': 64, 'url': 'https://i.scdn.co/image/ab67616d0000485135e9a6f6a1eded2062526499', 'width': 64}], 'name': 'Rudolph The Red Nosed Reindeer And Other Christmas Classics', 'release_date': '1947', 'release_date_precision': 'year', 'total_tracks': 18, 'type': 'album', 'uri': 'spotify:album:3BPDSjoJlho8oiUPUNrShM'}, 'artists': [{'external_urls': {'spotify': 'https://open.spotify.com/artist/5ixB75BQR3ADoWQkcHQJTs'}, 'href': 'https://api.spotify.com/v1/artists/5ixB75BQR3ADoWQkcHQJTs', 'id': '5ixB75BQR3ADoWQkcHQJTs', 'name': 'Gene Autry', 'type': 'artist', 'uri': 'spotify:artist:5ixB75BQR3ADoWQkcHQJTs'}], 'available_markets': ['AD', 'AE', 'AG', 'AL', 'AM', 'AO', 'AR', 'AT', 'AU', 'AZ', 'BA', 'BB', 'BD', 'BE', 'BF', 'BG', 'BH', 'BI', 'BJ', 'BN', 'BO', 'BR', 'BS', 'BT', 'BW', 'BY', 'BZ', 'CA', 'CD', 'CG', 'CH', 'CI', 'CL', 'CM', 'CO', 'CR', 'CV', 'CW', 'CY', 'CZ', 'DE', 'DJ', 'DK', 'DM', 'DO', 'DZ', 'EC', 'EE', 'EG', 'ES', 'FI', 'FJ', 'FM', 'FR', 'GA', 'GB', 'GD', 'GE', 'GH', 'GM', 'GN', 'GQ', 'GR', 'GT', 'GW', 'GY', 'HK', 'HN', 'HR', 'HT', 'HU', 'ID', 'IE', 'IL', 'IN', 'IQ', 'IS', 'IT', 'JM', 'JO', 'JP', 'KE', 'KG', 'KH', 'KI', 'KM', 'KN', 'KR', 'KW', 'KZ', 'LA', 'LB', 'LC', 'LI', 'LK', 'LR', 'LS', 'LT', 'LU', 'LV', 'LY', 'MA', 'MC', 'MD', 'ME', 'MG', 'MH', 'MK', 'ML', 'MN', 'MO', 'MR', 'MT', 'MU', 'MV', 'MW', 'MX', 'MY', 'MZ', 'NA', 'NE', 'NG', 'NI', 'NL', 'NO', 'NP', 'NR', 'NZ', 'OM', 'PA', 'PE', 'PG', 'PH', 'PK', 'PL', 'PS', 'PT', 'PW', 'PY', 'QA', 'RO', 'RS', 'RW', 'SA', 'SB', 'SC', 'SE', 'SG', 'SI', 'SK', 'SL', 'SM', 'SN', 'SR', 'ST', 'SV', 'SZ', 'TD', 'TG', 'TH', 'TJ', 'TL', 'TN', 'TO', 'TR', 'TT', 'TV', 'TW', 'TZ', 'UA', 'UG', 'US', 'UY', 'UZ', 'VC', 'VE', 'VN', 'VU', 'WS', 'XK', 'ZA', 'ZM', 'ZW'], 'disc_number': 1, 'duration_ms': 150266, 'episode': False, 'explicit': False, 'external_ids': {'isrc': 'USSM10309760'}, 'external_urls': {'spotify': 'https://open.spotify.com/track/25leEEaz1gIpp7o21Fqyjo'}, 'href': 'https://api.spotify.com/v1/tracks/25leEEaz1gIpp7o21Fqyjo', 'id': '25leEEaz1gIpp7o21Fqyjo', 'is_local': False, 'name': 'Here Comes Santa Claus (Right Down Santa Claus Lane) - 1947 Version', 'popularity': 74, 'preview_url': 'https://p.scdn.co/mp3-preview/5f46e92cd3b4ef76b3d119b0d3291d94bc892f3f?cid=8cc561ad779e4f7ab9474f025c5ca931', 'track': True, 'track_number': 1, 'type': 'track', 'uri': 'spotify:track:25leEEaz1gIpp7o21Fqyjo'},{'album': {'album_type': 'album', 'artists': [{'external_urls': {'spotify': 'https://open.spotify.com/artist/26AHtbjWKiwYzsoGoUZq53'}, 'href': 'https://api.spotify.com/v1/artists/26AHtbjWKiwYzsoGoUZq53', 'id': '26AHtbjWKiwYzsoGoUZq53', 'name': 'Pentatonix', 'type': 'artist', 'uri': 'spotify:artist:26AHtbjWKiwYzsoGoUZq53'}], 'available_markets': ['AD', 'AE', 'AG', 'AL', 'AM', 'AO', 'AR', 'AT', 'AU', 'AZ', 'BA', 'BB', 'BD', 'BE', 'BF', 'BG', 'BH', 'BI', 'BJ', 'BN', 'BO', 'BR', 'BS', 'BT', 'BW', 'BY', 'BZ', 'CA', 'CD', 'CG', 'CH', 'CI', 'CL', 'CM', 'CO', 'CR', 'CV', 'CW', 'CY', 'CZ', 'DE', 'DJ', 'DK', 'DM', 'DO', 'DZ', 'EC', 'EE', 'EG', 'ES', 'FI', 'FJ', 'FM', 'FR', 'GA', 'GB', 'GD', 'GE', 'GH', 'GM', 'GN', 'GQ', 'GR', 'GT', 'GW', 'GY', 'HK', 'HN', 'HR', 'HT', 'HU', 'ID', 'IE', 'IL', 'IN', 'IQ', 'IS', 'IT', 'JM', 'JO', 'JP', 'KE', 'KG', 'KH', 'KI', 'KM', 'KN', 'KR', 'KW', 'KZ', 'LA', 'LB', 'LC', 'LI', 'LK', 'LR', 'LS', 'LT', 'LU', 'LV', 'LY', 'MA', 'MC', 'MD', 'ME', 'MG', 'MH', 'MK', 'ML', 'MN', 'MO', 'MR', 'MT', 'MU', 'MV', 'MW', 'MX', 'MY', 'MZ', 'NA', 'NE', 'NG', 'NI', 'NL', 'NO', 'NP', 'NR', 'NZ', 'OM', 'PA', 'PE', 'PG', 'PH', 'PK', 'PL', 'PS', 'PT', 'PW', 'PY', 'QA', 'RO', 'RS', 'RW', 'SA', 'SB', 'SC', 'SE', 'SG', 'SI', 'SK', 'SL', 'SM', 'SN', 'SR', 'ST', 'SV', 'SZ', 'TD', 'TG', 'TH', 'TJ', 'TL', 'TN', 'TO', 'TR', 'TT', 'TV', 'TW', 'TZ', 'UA', 'UG', 'US', 'UY', 'UZ', 'VC', 'VE', 'VN', 'VU', 'WS', 'XK', 'ZA', 'ZM', 'ZW'], 'external_urls': {'spotify': 'https://open.spotify.com/album/3sId8sOH47yqOWopzbEtJn'}, 'href': 'https://api.spotify.com/v1/albums/3sId8sOH47yqOWopzbEtJn', 'id': '3sId8sOH47yqOWopzbEtJn', 'images': [{'height': 640, 'url': 'https://i.scdn.co/image/ab67616d0000b273ddbbb08d6f7a6ed263fa6afc', 'width': 640}, {'height': 300, 'url': 'https://i.scdn.co/image/ab67616d00001e02ddbbb08d6f7a6ed263fa6afc', 'width': 300}, {'height': 64, 'url': 'https://i.scdn.co/image/ab67616d00004851ddbbb08d6f7a6ed263fa6afc', 'width': 64}], 'name': 'A Pentatonix Christmas Deluxe', 'release_date': '2017-12-06', 'release_date_precision': 'day', 'total_tracks': 16, 'type': 'album', 'uri': 'spotify:album:3sId8sOH47yqOWopzbEtJn'}, 'artists': [{'external_urls': {'spotify': 'https://open.spotify.com/artist/26AHtbjWKiwYzsoGoUZq53'}, 'href': 'https://api.spotify.com/v1/artists/26AHtbjWKiwYzsoGoUZq53', 'id': '26AHtbjWKiwYzsoGoUZq53', 'name': 'Pentatonix', 'type': 'artist', 'uri': 'spotify:artist:26AHtbjWKiwYzsoGoUZq53'}], 'available_markets': ['AD', 'AE', 'AG', 'AL', 'AM', 'AO', 'AR', 'AT', 'AU', 'AZ', 'BA', 'BB', 'BD', 'BE', 'BF', 'BG', 'BH', 'BI', 'BJ', 'BN', 'BO', 'BR', 'BS', 'BT', 'BW', 'BY', 'BZ', 'CA', 'CD', 'CG', 'CH', 'CI', 'CL', 'CM', 'CO', 'CR', 'CV', 'CW', 'CY', 'CZ', 'DE', 'DJ', 'DK', 'DM', 'DO', 'DZ', 'EC', 'EE', 'EG', 'ES', 'FI', 'FJ', 'FM', 'FR', 'GA', 'GB', 'GD', 'GE', 'GH', 'GM', 'GN', 'GQ', 'GR', 'GT', 'GW', 'GY', 'HK', 'HN', 'HR', 'HT', 'HU', 'ID', 'IE', 'IL', 'IN', 'IQ', 'IS', 'IT', 'JM', 'JO', 'JP', 'KE', 'KG', 'KH', 'KI', 'KM', 'KN', 'KR', 'KW', 'KZ', 'LA', 'LB', 'LC', 'LI', 'LK', 'LR', 'LS', 'LT', 'LU', 'LV', 'LY', 'MA', 'MC', 'MD', 'ME', 'MG', 'MH', 'MK', 'ML', 'MN', 'MO', 'MR', 'MT', 'MU', 'MV', 'MW', 'MX', 'MY', 'MZ', 'NA', 'NE', 'NG', 'NI', 'NL', 'NO', 'NP', 'NR', 'NZ', 'OM', 'PA', 'PE', 'PG', 'PH', 'PK', 'PL', 'PS', 'PT', 'PW', 'PY', 'QA', 'RO', 'RS', 'RW', 'SA', 'SB', 'SC', 'SE', 'SG', 'SI', 'SK', 'SL', 'SM', 'SN', 'SR', 'ST', 'SV', 'SZ', 'TD', 'TG', 'TH', 'TJ', 'TL', 'TN', 'TO', 'TR', 'TT', 'TV', 'TW', 'TZ', 'UA', 'UG', 'US', 'UY', 'UZ', 'VC', 'VE', 'VN', 'VU', 'WS', 'XK', 'ZA', 'ZM', 'ZW'], 'disc_number': 1, 'duration_ms': 268960, 'episode': False, 'explicit': False, 'external_ids': {'isrc': 'USRC11601833'}, 'external_urls': {'spotify': 'https://open.spotify.com/track/0HZk0QsXPhMNAWNDR3rYE8'}, 'href': 'https://api.spotify.com/v1/tracks/0HZk0QsXPhMNAWNDR3rYE8', 'id': '0HZk0QsXPhMNAWNDR3rYE8', 'is_local': False, 'name': 'Hallelujah', 'popularity': 71, 'preview_url': 'https://p.scdn.co/mp3-preview/97835641cdf46ade8cc96e50ca4d6b48682e0606?cid=8cc561ad779e4f7ab9474f025c5ca931', 'track': True, 'track_number': 8, 'type': 'track', 'uri': 'spotify:track:0HZk0QsXPhMNAWNDR3rYE8'},{'album': {'album_type': 'single', 'artists': [{'external_urls': {'spotify': 'https://open.spotify.com/artist/0ECwFtbIWEVNwjlrfc6xoL'}, 'href': 'https://api.spotify.com/v1/artists/0ECwFtbIWEVNwjlrfc6xoL', 'id': '0ECwFtbIWEVNwjlrfc6xoL', 'name': 'Eagles', 'type': 'artist', 'uri': 'spotify:artist:0ECwFtbIWEVNwjlrfc6xoL'}], 'available_markets': ['AD', 'AE', 'AG', 'AL', 'AM', 'AO', 'AR', 'AT', 'AU', 'AZ', 'BA', 'BB', 'BE', 'BF', 'BG', 'BH', 'BI', 'BJ', 'BN', 'BO', 'BR', 'BS', 'BW', 'BY', 'BZ', 'CA', 'CD', 'CG', 'CH', 'CI', 'CL', 'CM', 'CO', 'CR', 'CV', 'CW', 'CY', 'CZ', 'DE', 'DJ', 'DK', 'DM', 'DO', 'DZ', 'EC', 'EE', 'EG', 'ES', 'FI', 'FJ', 'FM', 'FR', 'GA', 'GB', 'GD', 'GH', 'GM', 'GN', 'GQ', 'GR', 'GT', 'GW', 'HK', 'HN', 'HR', 'HT', 'HU', 'ID', 'IE', 'IL', 'IN', 'IQ', 'IS', 'IT', 'JM', 'JO', 'JP', 'KE', 'KG', 'KH', 'KM', 'KN', 'KR', 'KW', 'KZ', 'LA', 'LB', 'LC', 'LI', 'LK', 'LR', 'LS', 'LT', 'LU', 'LV', 'LY', 'MA', 'MC', 'MD', 'ME', 'MG', 'MK', 'ML', 'MN', 'MO', 'MR', 'MT', 'MU', 'MV', 'MW', 'MX', 'MY', 'MZ', 'NA', 'NE', 'NG', 'NI', 'NL', 'NO', 'NP', 'NZ', 'OM', 'PA', 'PE', 'PG', 'PH', 'PL', 'PS', 'PT', 'PY', 'QA', 'RO', 'RS', 'RW', 'SA', 'SC', 'SE', 'SG', 'SI', 'SK', 'SL', 'SM', 'SN', 'ST', 'SV', 'SZ', 'TD', 'TG', 'TH', 'TJ', 'TL', 'TN', 'TR', 'TT', 'TW', 'TZ', 'UA', 'UG', 'US', 'UY', 'UZ', 'VC', 'VE', 'VN', 'XK', 'ZA', 'ZM', 'ZW'], 'external_urls': {'spotify': 'https://open.spotify.com/album/4QxtDUU3U7gCCyT9Lm3bg5'}, 'href': 'https://api.spotify.com/v1/albums/4QxtDUU3U7gCCyT9Lm3bg5', 'id': '4QxtDUU3U7gCCyT9Lm3bg5', 'images': [{'height': 640, 'url': 'https://i.scdn.co/image/ab67616d0000b2736d4362a2b2e39422000f8ed3', 'width': 640}, {'height': 300, 'url': 'https://i.scdn.co/image/ab67616d00001e026d4362a2b2e39422000f8ed3', 'width': 300}, {'height': 64, 'url': 'https://i.scdn.co/image/ab67616d000048516d4362a2b2e39422000f8ed3', 'width': 64}], 'name': 'Please Come Home for Christmas / Funky New Year (2013 Remaster)', 'release_date': '1994', 'release_date_precision': 'year', 'total_tracks': 2, 'type': 'album', 'uri': 'spotify:album:4QxtDUU3U7gCCyT9Lm3bg5'}, 'artists': [{'external_urls': {'spotify': 'https://open.spotify.com/artist/0ECwFtbIWEVNwjlrfc6xoL'}, 'href': 'https://api.spotify.com/v1/artists/0ECwFtbIWEVNwjlrfc6xoL', 'id': '0ECwFtbIWEVNwjlrfc6xoL', 'name': 'Eagles', 'type': 'artist', 'uri': 'spotify:artist:0ECwFtbIWEVNwjlrfc6xoL'}], 'available_markets': ['AD', 'AE', 'AG', 'AL', 'AM', 'AO', 'AR', 'AT', 'AU', 'AZ', 'BA', 'BB', 'BE', 'BF', 'BG', 'BH', 'BI', 'BJ', 'BN', 'BO', 'BR', 'BS', 'BW', 'BY', 'BZ', 'CA', 'CD', 'CG', 'CH', 'CI', 'CL', 'CM', 'CO', 'CR', 'CV', 'CW', 'CY', 'CZ', 'DE', 'DJ', 'DK', 'DM', 'DO', 'DZ', 'EC', 'EE', 'EG', 'ES', 'FI', 'FJ', 'FM', 'FR', 'GA', 'GB', 'GD', 'GH', 'GM', 'GN', 'GQ', 'GR', 'GT', 'GW', 'HK', 'HN', 'HR', 'HT', 'HU', 'ID', 'IE', 'IL', 'IN', 'IQ', 'IS', 'IT', 'JM', 'JO', 'JP', 'KE', 'KG', 'KH', 'KM', 'KN', 'KR', 'KW', 'KZ', 'LA', 'LB', 'LC', 'LI', 'LK', 'LR', 'LS', 'LT', 'LU', 'LV', 'LY', 'MA', 'MC', 'MD', 'ME', 'MG', 'MK', 'ML', 'MN', 'MO', 'MR', 'MT', 'MU', 'MV', 'MW', 'MX', 'MY', 'MZ', 'NA', 'NE', 'NG', 'NI', 'NL', 'NO', 'NP', 'NZ', 'OM', 'PA', 'PE', 'PG', 'PH', 'PL', 'PS', 'PT', 'PY', 'QA', 'RO', 'RS', 'RW', 'SA', 'SC', 'SE', 'SG', 'SI', 'SK', 'SL', 'SM', 'SN', 'ST', 'SV', 'SZ', 'TD', 'TG', 'TH', 'TJ', 'TL', 'TN', 'TR', 'TT', 'TW', 'TZ', 'UA', 'UG', 'US', 'UY', 'UZ', 'VC', 'VE', 'VN', 'XK', 'ZA', 'ZM', 'ZW'], 'disc_number': 1, 'duration_ms': 177440, 'episode': False, 'explicit': False, 'external_ids': {'isrc': 'USEE11300376'}, 'external_urls': {'spotify': 'https://open.spotify.com/track/3QIoEi8Enr9uHffwInGIsC'}, 'href': 'https://api.spotify.com/v1/tracks/3QIoEi8Enr9uHffwInGIsC', 'id': '3QIoEi8Enr9uHffwInGIsC', 'is_local': False, 'name': 'Please Come Home for Christmas - 2013 Remaster', 'popularity': 76, 'preview_url': 'https://p.scdn.co/mp3-preview/fdea2bd35baefefdbdac0fe9499b5fcb822f6200?cid=8cc561ad779e4f7ab9474f025c5ca931', 'track': True, 'track_number': 1, 'type': 'track', 'uri': 'spotify:track:3QIoEi8Enr9uHffwInGIsC'},{'album': {'album_type': 'album', 'artists': [{'external_urls': {'spotify': 'https://open.spotify.com/artist/4ytkhMSAnrDP8XzRNlw9FS'}, 'href': 'https://api.spotify.com/v1/artists/4ytkhMSAnrDP8XzRNlw9FS', 'id': '4ytkhMSAnrDP8XzRNlw9FS', 'name': 'Vince Guaraldi Trio', 'type': 'artist', 'uri': 'spotify:artist:4ytkhMSAnrDP8XzRNlw9FS'}], 'available_markets': ['AD', 'AE', 'AR', 'AT', 'AU', 'BA', 'BD', 'BE', 'BG', 'BN', 'BO', 'BR', 'CA', 'CH', 'CI', 'CL', 'CM', 'CO', 'CR', 'CW', 'CY', 'CZ', 'DE', 'DK', 'DO', 'EC', 'EE', 'EG', 'ES', 'FI', 'FJ', 'FR', 'GB', 'GN', 'GR', 'GT', 'HK', 'HN', 'HR', 'HU', 'ID', 'IE', 'IL', 'IN', 'IS', 'IT', 'JP', 'KH', 'KR', 'LA', 'LI', 'LK', 'LT', 'LU', 'LV', 'MC', 'ME', 'MK', 'MO', 'MT', 'MU', 'MX', 'MY', 'NG', 'NI', 'NL', 'NO', 'NZ', 'PA', 'PE', 'PH', 'PL', 'PT', 'PY', 'RO', 'RS', 'RW', 'SA', 'SE', 'SG', 'SI', 'SK', 'SV', 'TH', 'TN', 'TR', 'TW', 'UA', 'US', 'VE', 'VN', 'XK', 'ZA'], 'external_urls': {'spotify': 'https://open.spotify.com/album/1d3w7T3iyK3JJQ6kdpE6l9'}, 'href': 'https://api.spotify.com/v1/albums/1d3w7T3iyK3JJQ6kdpE6l9', 'id': '1d3w7T3iyK3JJQ6kdpE6l9', 'images': [{'height': 640, 'url': 'https://i.scdn.co/image/ab67616d0000b273a1c6bc83f5404947ffb87891', 'width': 640}, {'height': 300, 'url': 'https://i.scdn.co/image/ab67616d00001e02a1c6bc83f5404947ffb87891', 'width': 300}, {'height': 64, 'url': 'https://i.scdn.co/image/ab67616d00004851a1c6bc83f5404947ffb87891', 'width': 64}], 'name': 'Charlie Brown Holiday Hits', 'release_date': '1998-01-01', 'release_date_precision': 'day', 'total_tracks': 14, 'type': 'album', 'uri': 'spotify:album:1d3w7T3iyK3JJQ6kdpE6l9'}, 'artists': [{'external_urls': {'spotify': 'https://open.spotify.com/artist/4ytkhMSAnrDP8XzRNlw9FS'}, 'href': 'https://api.spotify.com/v1/artists/4ytkhMSAnrDP8XzRNlw9FS', 'id': '4ytkhMSAnrDP8XzRNlw9FS', 'name': 'Vince Guaraldi Trio', 'type': 'artist', 'uri': 'spotify:artist:4ytkhMSAnrDP8XzRNlw9FS'}], 'available_markets': ['AD', 'AE', 'AR', 'AT', 'AU', 'BA', 'BD', 'BE', 'BG', 'BN', 'BO', 'BR', 'CA', 'CH', 'CI', 'CL', 'CM', 'CO', 'CR', 'CW', 'CY', 'CZ', 'DE', 'DK', 'DO', 'EC', 'EE', 'EG', 'ES', 'FI', 'FJ', 'FR', 'GB', 'GN', 'GR', 'GT', 'HK', 'HN', 'HR', 'HU', 'ID', 'IE', 'IL', 'IN', 'IS', 'IT', 'JP', 'KH', 'KR', 'LA', 'LI', 'LK', 'LT', 'LU', 'LV', 'MC', 'ME', 'MK', 'MO', 'MT', 'MU', 'MX', 'MY', 'NG', 'NI', 'NL', 'NO', 'NZ', 'PA', 'PE', 'PH', 'PL', 'PT', 'PY', 'RO', 'RS', 'RW', 'SA', 'SE', 'SG', 'SI', 'SK', 'SV', 'TH', 'TN', 'TR', 'TW', 'UA', 'US', 'VE', 'VN', 'XK', 'ZA'], 'disc_number': 1, 'duration_ms': 163093, 'episode': False, 'explicit': False, 'external_ids': {'isrc': 'USFI86600065'}, 'external_urls': {'spotify': 'https://open.spotify.com/track/3bMfUUpzUzqWp9II00yRhE'}, 'href': 'https://api.spotify.com/v1/tracks/3bMfUUpzUzqWp9II00yRhE', 'id': '3bMfUUpzUzqWp9II00yRhE', 'is_local': False, 'name': 'Christmas Time Is Here', 'popularity': 76, 'preview_url': None, 'track': True, 'track_number': 13, 'type': 'track', 'uri': 'spotify:track:3bMfUUpzUzqWp9II00yRhE'},{'album': {'album_type': 'compilation', 'artists': [{'external_urls': {'spotify': 'https://open.spotify.com/artist/0LyfQWJT6nXafLPZqxe9Of'}, 'href': 'https://api.spotify.com/v1/artists/0LyfQWJT6nXafLPZqxe9Of', 'id': '0LyfQWJT6nXafLPZqxe9Of', 'name': 'Various Artists', 'type': 'artist', 'uri': 'spotify:artist:0LyfQWJT6nXafLPZqxe9Of'}], 'available_markets': ['AD', 'AE', 'AG', 'AL', 'AM', 'AO', 'AR', 'AT', 'AU', 'AZ', 'BA', 'BB', 'BD', 'BE', 'BF', 'BG', 'BH', 'BI', 'BJ', 'BN', 'BO', 'BR', 'BS', 'BT', 'BW', 'BY', 'BZ', 'CA', 'CD', 'CG', 'CH', 'CI', 'CL', 'CM', 'CO', 'CR', 'CV', 'CW', 'CY', 'CZ', 'DE', 'DJ', 'DK', 'DM', 'DO', 'DZ', 'EC', 'EE', 'EG', 'ES', 'FI', 'FJ', 'FM', 'FR', 'GA', 'GB', 'GD', 'GE', 'GH', 'GM', 'GN', 'GQ', 'GR', 'GT', 'GW', 'GY', 'HK', 'HN', 'HR', 'HT', 'HU', 'ID', 'IE', 'IL', 'IN', 'IQ', 'IS', 'IT', 'JM', 'JO', 'JP', 'KE', 'KG', 'KH', 'KI', 'KM', 'KN', 'KR', 'KW', 'KZ', 'LA', 'LB', 'LC', 'LI', 'LK', 'LR', 'LS', 'LT', 'LU', 'LV', 'LY', 'MA', 'MC', 'MD', 'ME', 'MG', 'MH', 'MK', 'ML', 'MN', 'MO', 'MR', 'MT', 'MU', 'MV', 'MW', 'MX', 'MY', 'MZ', 'NA', 'NE', 'NG', 'NI', 'NL', 'NO', 'NP', 'NR', 'NZ', 'OM', 'PA', 'PE', 'PG', 'PH', 'PK', 'PL', 'PS', 'PT', 'PW', 'PY', 'QA', 'RO', 'RS', 'RW', 'SA', 'SB', 'SC', 'SE', 'SG', 'SI', 'SK', 'SL', 'SM', 'SN', 'SR', 'ST', 'SV', 'SZ', 'TD', 'TG', 'TH', 'TJ', 'TL', 'TN', 'TO', 'TR', 'TT', 'TV', 'TW', 'TZ', 'UA', 'UG', 'US', 'UY', 'UZ', 'VC', 'VE', 'VN', 'VU', 'WS', 'XK', 'ZA', 'ZM', 'ZW'], 'external_urls': {'spotify': 'https://open.spotify.com/album/7amTmusZ4kqLR4wMby0lmS'}, 'href': 'https://api.spotify.com/v1/albums/7amTmusZ4kqLR4wMby0lmS', 'id': '7amTmusZ4kqLR4wMby0lmS', 'images': [{'height': 640, 'url': 'https://i.scdn.co/image/ab67616d0000b27357b8427f045cb4b314a68055', 'width': 640}, {'height': 300, 'url': 'https://i.scdn.co/image/ab67616d00001e0257b8427f045cb4b314a68055', 'width': 300}, {'height': 64, 'url': 'https://i.scdn.co/image/ab67616d0000485157b8427f045cb4b314a68055', 'width': 64}], 'name': 'Christmas Crooners', 'release_date': '2016-09-09', 'release_date_precision': 'day', 'total_tracks': 60, 'type': 'album', 'uri': 'spotify:album:7amTmusZ4kqLR4wMby0lmS'}, 'artists': [{'external_urls': {'spotify': 'https://open.spotify.com/artist/21LGsW7bziR4Ledx7WZ1Wf'}, 'href': 'https://api.spotify.com/v1/artists/21LGsW7bziR4Ledx7WZ1Wf', 'id': '21LGsW7bziR4Ledx7WZ1Wf', 'name': 'Johnny Mathis', 'type': 'artist', 'uri': 'spotify:artist:21LGsW7bziR4Ledx7WZ1Wf'}], 'available_markets': ['AD', 'AE', 'AG', 'AL', 'AM', 'AO', 'AR', 'AT', 'AU', 'AZ', 'BA', 'BB', 'BD', 'BE', 'BF', 'BG', 'BH', 'BI', 'BJ', 'BN', 'BO', 'BR', 'BS', 'BT', 'BW', 'BY', 'BZ', 'CA', 'CD', 'CG', 'CH', 'CI', 'CL', 'CM', 'CO', 'CR', 'CV', 'CW', 'CY', 'CZ', 'DE', 'DJ', 'DK', 'DM', 'DO', 'DZ', 'EC', 'EE', 'EG', 'ES', 'FI', 'FJ', 'FM', 'FR', 'GA', 'GB', 'GD', 'GE', 'GH', 'GM', 'GN', 'GQ', 'GR', 'GT', 'GW', 'GY', 'HK', 'HN', 'HR', 'HT', 'HU', 'ID', 'IE', 'IL', 'IN', 'IQ', 'IS', 'IT', 'JM', 'JO', 'JP', 'KE', 'KG', 'KH', 'KI', 'KM', 'KN', 'KR', 'KW', 'KZ', 'LA', 'LB', 'LC', 'LI', 'LK', 'LR', 'LS', 'LT', 'LU', 'LV', 'LY', 'MA', 'MC', 'MD', 'ME', 'MG', 'MH', 'MK', 'ML', 'MN', 'MO', 'MR', 'MT', 'MU', 'MV', 'MW', 'MX', 'MY', 'MZ', 'NA', 'NE', 'NG', 'NI', 'NL', 'NO', 'NP', 'NR', 'NZ', 'OM', 'PA', 'PE', 'PG', 'PH', 'PK', 'PL', 'PS', 'PT', 'PW', 'PY', 'QA', 'RO', 'RS', 'RW', 'SA', 'SB', 'SC', 'SE', 'SG', 'SI', 'SK', 'SL', 'SM', 'SN', 'SR', 'ST', 'SV', 'SZ', 'TD', 'TG', 'TH', 'TJ', 'TL', 'TN', 'TO', 'TR', 'TT', 'TV', 'TW', 'TZ', 'UA', 'UG', 'US', 'UY', 'UZ', 'VC', 'VE', 'VN', 'VU', 'WS', 'XK', 'ZA', 'ZM', 'ZW'], 'disc_number': 1, 'duration_ms': 134653, 'episode': False, 'explicit': False, 'external_ids': {'isrc': 'USSM10014395'}, 'external_urls': {'spotify': 'https://open.spotify.com/track/4p401d3dipTVawmjZ2AXsx'}, 'href': 'https://api.spotify.com/v1/tracks/4p401d3dipTVawmjZ2AXsx', 'id': '4p401d3dipTVawmjZ2AXsx', 'is_local': False, 'name': \"It's Beginning to Look a Lot Like Christmas\", 'popularity': 26, 'preview_url': 'https://p.scdn.co/mp3-preview/cc60ca3beb8c8131a7892a4c9e59711384bfc1d2?cid=8cc561ad779e4f7ab9474f025c5ca931', 'track': True, 'track_number': 20, 'type': 'track', 'uri': 'spotify:track:4p401d3dipTVawmjZ2AXsx'},{'album': {'album_type': 'single', 'artists': [{'external_urls': {'spotify': 'https://open.spotify.com/artist/71UcB6UtI3juKDx2wsOaqn'}, 'href': 'https://api.spotify.com/v1/artists/71UcB6UtI3juKDx2wsOaqn', 'id': '71UcB6UtI3juKDx2wsOaqn', 'name': 'Band Aid 20', 'type': 'artist', 'uri': 'spotify:artist:71UcB6UtI3juKDx2wsOaqn'}], 'available_markets': ['AE', 'AR', 'AT', 'AU', 'BA', 'BD', 'BE', 'BG', 'BH', 'BR', 'BY', 'CA', 'CH', 'CL', 'CO', 'CR', 'CW', 'CZ', 'DK', 'DZ', 'EE', 'ES', 'FI', 'FR', 'GR', 'HK', 'HR', 'HU', 'ID', 'IE', 'IL', 'IN', 'IQ', 'IS', 'IT', 'JO', 'JP', 'KR', 'KW', 'KZ', 'LB', 'LK', 'LT', 'LU', 'LV', 'MA', 'MK', 'MU', 'MX', 'MY', 'NG', 'NL', 'NO', 'OM', 'PH', 'PL', 'PT', 'QA', 'RO', 'SA', 'SE', 'SG', 'SI', 'SK', 'SN', 'TH', 'TJ', 'TN', 'TR', 'TW', 'TZ', 'UA', 'US', 'VE', 'ZA'], 'external_urls': {'spotify': 'https://open.spotify.com/album/0Q96oESySVI3gLFTkhttn5'}, 'href': 'https://api.spotify.com/v1/albums/0Q96oESySVI3gLFTkhttn5', 'id': '0Q96oESySVI3gLFTkhttn5', 'images': [{'height': 640, 'url': 'https://i.scdn.co/image/ab67616d0000b2732f77772e5c981e44fc347e22', 'width': 640}, {'height': 300, 'url': 'https://i.scdn.co/image/ab67616d00001e022f77772e5c981e44fc347e22', 'width': 300}, {'height': 64, 'url': 'https://i.scdn.co/image/ab67616d000048512f77772e5c981e44fc347e22', 'width': 64}], 'name': \"Do They Know It's Christmas?\", 'release_date': '2004-01-01', 'release_date_precision': 'day', 'total_tracks': 2, 'type': 'album', 'uri': 'spotify:album:0Q96oESySVI3gLFTkhttn5'}, 'artists': [{'external_urls': {'spotify': 'https://open.spotify.com/artist/35S20clEkkSNUo23ViaslZ'}, 'href': 'https://api.spotify.com/v1/artists/35S20clEkkSNUo23ViaslZ', 'id': '35S20clEkkSNUo23ViaslZ', 'name': 'Band Aid', 'type': 'artist', 'uri': 'spotify:artist:35S20clEkkSNUo23ViaslZ'}], 'available_markets': ['AE', 'AR', 'AT', 'AU', 'BA', 'BD', 'BE', 'BG', 'BH', 'BR', 'BY', 'CA', 'CH', 'CL', 'CO', 'CR', 'CW', 'CZ', 'DK', 'DZ', 'EE', 'ES', 'FI', 'FR', 'GR', 'HK', 'HR', 'HU', 'ID', 'IE', 'IL', 'IN', 'IQ', 'IS', 'IT', 'JO', 'JP', 'KR', 'KW', 'KZ', 'LB', 'LK', 'LT', 'LU', 'LV', 'MA', 'MK', 'MU', 'MX', 'MY', 'NG', 'NL', 'NO', 'OM', 'PH', 'PL', 'PT', 'QA', 'RO', 'SA', 'SE', 'SG', 'SI', 'SK', 'SN', 'TH', 'TJ', 'TN', 'TR', 'TW', 'TZ', 'UA', 'US', 'VE', 'ZA'], 'disc_number': 1, 'duration_ms': 222533, 'episode': False, 'explicit': False, 'external_ids': {'isrc': 'GBF088400001'}, 'external_urls': {'spotify': 'https://open.spotify.com/track/0247StOpd3AkeBQzANX4Zf'}, 'href': 'https://api.spotify.com/v1/tracks/0247StOpd3AkeBQzANX4Zf', 'id': '0247StOpd3AkeBQzANX4Zf', 'is_local': False, 'name': \"Do They Know It's Christmas? - 1984 Version\", 'popularity': 64, 'preview_url': None, 'track': True, 'track_number': 2, 'type': 'track', 'uri': 'spotify:track:0247StOpd3AkeBQzANX4Zf'},{'album': {'album_type': 'album', 'artists': [{'external_urls': {'spotify': 'https://open.spotify.com/artist/1AwO9pWEBSBoWdEZu28XDC'}, 'href': 'https://api.spotify.com/v1/artists/1AwO9pWEBSBoWdEZu28XDC', 'id': '1AwO9pWEBSBoWdEZu28XDC', 'name': 'Eartha Kitt', 'type': 'artist', 'uri': 'spotify:artist:1AwO9pWEBSBoWdEZu28XDC'}], 'available_markets': ['AD', 'AE', 'AG', 'AL', 'AM', 'AO', 'AR', 'AT', 'AU', 'AZ', 'BA', 'BB', 'BD', 'BE', 'BF', 'BG', 'BH', 'BI', 'BJ', 'BN', 'BO', 'BR', 'BS', 'BT', 'BW', 'BY', 'BZ', 'CA', 'CD', 'CG', 'CH', 'CI', 'CL', 'CM', 'CO', 'CR', 'CV', 'CW', 'CY', 'CZ', 'DE', 'DJ', 'DK', 'DM', 'DO', 'DZ', 'EC', 'EE', 'EG', 'ES', 'FI', 'FJ', 'FM', 'FR', 'GA', 'GB', 'GD', 'GE', 'GH', 'GM', 'GN', 'GQ', 'GR', 'GT', 'GW', 'GY', 'HK', 'HN', 'HR', 'HT', 'HU', 'ID', 'IE', 'IL', 'IN', 'IQ', 'IS', 'IT', 'JM', 'JO', 'JP', 'KE', 'KG', 'KH', 'KI', 'KM', 'KN', 'KR', 'KW', 'KZ', 'LA', 'LB', 'LC', 'LI', 'LK', 'LR', 'LS', 'LT', 'LU', 'LV', 'LY', 'MA', 'MC', 'MD', 'ME', 'MG', 'MH', 'MK', 'ML', 'MN', 'MO', 'MR', 'MT', 'MU', 'MV', 'MW', 'MX', 'MY', 'MZ', 'NA', 'NE', 'NG', 'NI', 'NL', 'NO', 'NP', 'NR', 'NZ', 'OM', 'PA', 'PE', 'PG', 'PH', 'PK', 'PL', 'PS', 'PT', 'PW', 'PY', 'QA', 'RO', 'RS', 'RW', 'SA', 'SB', 'SC', 'SE', 'SG', 'SI', 'SK', 'SL', 'SM', 'SN', 'SR', 'ST', 'SV', 'SZ', 'TD', 'TG', 'TH', 'TJ', 'TL', 'TN', 'TO', 'TR', 'TT', 'TV', 'TW', 'TZ', 'UA', 'UG', 'US', 'UY', 'UZ', 'VC', 'VE', 'VN', 'VU', 'WS', 'XK', 'ZA', 'ZM', 'ZW'], 'external_urls': {'spotify': 'https://open.spotify.com/album/6gOVmmV26wBBgxUtbF8YZd'}, 'href': 'https://api.spotify.com/v1/albums/6gOVmmV26wBBgxUtbF8YZd', 'id': '6gOVmmV26wBBgxUtbF8YZd', 'images': [{'height': 640, 'url': 'https://i.scdn.co/image/ab67616d0000b273cfbcba7cc35a40e08e5aff67', 'width': 640}, {'height': 300, 'url': 'https://i.scdn.co/image/ab67616d00001e02cfbcba7cc35a40e08e5aff67', 'width': 300}, {'height': 64, 'url': 'https://i.scdn.co/image/ab67616d00004851cfbcba7cc35a40e08e5aff67', 'width': 64}], 'name': 'Heavenly Eartha', 'release_date': '2002', 'release_date_precision': 'year', 'total_tracks': 14, 'type': 'album', 'uri': 'spotify:album:6gOVmmV26wBBgxUtbF8YZd'}, 'artists': [{'external_urls': {'spotify': 'https://open.spotify.com/artist/1AwO9pWEBSBoWdEZu28XDC'}, 'href': 'https://api.spotify.com/v1/artists/1AwO9pWEBSBoWdEZu28XDC', 'id': '1AwO9pWEBSBoWdEZu28XDC', 'name': 'Eartha Kitt', 'type': 'artist', 'uri': 'spotify:artist:1AwO9pWEBSBoWdEZu28XDC'}, {'external_urls': {'spotify': 'https://open.spotify.com/artist/0oK8UXKZbQezeRhE0KeBAV'}, 'href': 'https://api.spotify.com/v1/artists/0oK8UXKZbQezeRhE0KeBAV', 'id': '0oK8UXKZbQezeRhE0KeBAV', 'name': 'Henri René and His Orchestra', 'type': 'artist', 'uri': 'spotify:artist:0oK8UXKZbQezeRhE0KeBAV'}], 'available_markets': ['AD', 'AE', 'AG', 'AL', 'AM', 'AO', 'AR', 'AT', 'AU', 'AZ', 'BA', 'BB', 'BD', 'BE', 'BF', 'BG', 'BH', 'BI', 'BJ', 'BN', 'BO', 'BR', 'BS', 'BT', 'BW', 'BY', 'BZ', 'CA', 'CD', 'CG', 'CH', 'CI', 'CL', 'CM', 'CO', 'CR', 'CV', 'CW', 'CY', 'CZ', 'DE', 'DJ', 'DK', 'DM', 'DO', 'DZ', 'EC', 'EE', 'EG', 'ES', 'FI', 'FJ', 'FM', 'FR', 'GA', 'GB', 'GD', 'GE', 'GH', 'GM', 'GN', 'GQ', 'GR', 'GT', 'GW', 'GY', 'HK', 'HN', 'HR', 'HT', 'HU', 'ID', 'IE', 'IL', 'IN', 'IQ', 'IS', 'IT', 'JM', 'JO', 'JP', 'KE', 'KG', 'KH', 'KI', 'KM', 'KN', 'KR', 'KW', 'KZ', 'LA', 'LB', 'LC', 'LI', 'LK', 'LR', 'LS', 'LT', 'LU', 'LV', 'LY', 'MA', 'MC', 'MD', 'ME', 'MG', 'MH', 'MK', 'ML', 'MN', 'MO', 'MR', 'MT', 'MU', 'MV', 'MW', 'MX', 'MY', 'MZ', 'NA', 'NE', 'NG', 'NI', 'NL', 'NO', 'NP', 'NR', 'NZ', 'OM', 'PA', 'PE', 'PG', 'PH', 'PK', 'PL', 'PS', 'PT', 'PW', 'PY', 'QA', 'RO', 'RS', 'RW', 'SA', 'SB', 'SC', 'SE', 'SG', 'SI', 'SK', 'SL', 'SM', 'SN', 'SR', 'ST', 'SV', 'SZ', 'TD', 'TG', 'TH', 'TJ', 'TL', 'TN', 'TO', 'TR', 'TT', 'TV', 'TW', 'TZ', 'UA', 'UG', 'US', 'UY', 'UZ', 'VC', 'VE', 'VN', 'VU', 'WS', 'XK', 'ZA', 'ZM', 'ZW'], 'disc_number': 1, 'duration_ms': 206066, 'episode': False, 'explicit': False, 'external_ids': {'isrc': 'USBB10101085'}, 'external_urls': {'spotify': 'https://open.spotify.com/track/1foCxQtxBweJtZmdxhEHVO'}, 'href': 'https://api.spotify.com/v1/tracks/1foCxQtxBweJtZmdxhEHVO', 'id': '1foCxQtxBweJtZmdxhEHVO', 'is_local': False, 'name': 'Santa Baby (with Henri René & His Orchestra)', 'popularity': 72, 'preview_url': 'https://p.scdn.co/mp3-preview/3991d1d71c4b2415f5fe9e308b7f4c387fd9ef59?cid=8cc561ad779e4f7ab9474f025c5ca931', 'track': True, 'track_number': 13, 'type': 'track', 'uri': 'spotify:track:1foCxQtxBweJtZmdxhEHVO'},{'album': {'album_type': 'album', 'artists': [{'external_urls': {'spotify': 'https://open.spotify.com/artist/6ZjFtWeHP9XN7FeKSUe80S'}, 'href': 'https://api.spotify.com/v1/artists/6ZjFtWeHP9XN7FeKSUe80S', 'id': '6ZjFtWeHP9XN7FeKSUe80S', 'name': 'Bing Crosby', 'type': 'artist', 'uri': 'spotify:artist:6ZjFtWeHP9XN7FeKSUe80S'}], 'available_markets': ['AD', 'AE', 'AG', 'AL', 'AM', 'AO', 'AR', 'AT', 'AU', 'AZ', 'BA', 'BB', 'BD', 'BE', 'BF', 'BG', 'BH', 'BI', 'BJ', 'BN', 'BO', 'BR', 'BS', 'BT', 'BW', 'BY', 'BZ', 'CA', 'CD', 'CG', 'CH', 'CI', 'CL', 'CM', 'CO', 'CR', 'CV', 'CW', 'CY', 'CZ', 'DE', 'DJ', 'DK', 'DM', 'DO', 'DZ', 'EC', 'EE', 'EG', 'ES', 'FI', 'FJ', 'FM', 'FR', 'GA', 'GB', 'GD', 'GE', 'GH', 'GM', 'GN', 'GQ', 'GR', 'GT', 'GW', 'GY', 'HK', 'HN', 'HR', 'HT', 'HU', 'ID', 'IE', 'IL', 'IN', 'IQ', 'IS', 'IT', 'JM', 'JO', 'JP', 'KE', 'KG', 'KH', 'KI', 'KM', 'KN', 'KR', 'KW', 'KZ', 'LA', 'LB', 'LC', 'LI', 'LK', 'LR', 'LS', 'LT', 'LU', 'LV', 'LY', 'MA', 'MC', 'MD', 'ME', 'MG', 'MH', 'MK', 'ML', 'MN', 'MO', 'MR', 'MT', 'MU', 'MV', 'MW', 'MX', 'MY', 'MZ', 'NA', 'NE', 'NG', 'NI', 'NL', 'NO', 'NP', 'NR', 'NZ', 'OM', 'PA', 'PE', 'PG', 'PH', 'PK', 'PL', 'PS', 'PT', 'PW', 'PY', 'QA', 'RO', 'RS', 'RW', 'SA', 'SB', 'SC', 'SE', 'SG', 'SI', 'SK', 'SL', 'SM', 'SN', 'SR', 'ST', 'SV', 'SZ', 'TD', 'TG', 'TH', 'TJ', 'TL', 'TN', 'TO', 'TR', 'TT', 'TV', 'TW', 'TZ', 'UA', 'UG', 'US', 'UY', 'UZ', 'VC', 'VE', 'VN', 'VU', 'WS', 'XK', 'ZA', 'ZM', 'ZW'], 'external_urls': {'spotify': 'https://open.spotify.com/album/3r4C6wYkCYL65QjkU5oJ8y'}, 'href': 'https://api.spotify.com/v1/albums/3r4C6wYkCYL65QjkU5oJ8y', 'id': '3r4C6wYkCYL65QjkU5oJ8y', 'images': [{'height': 640, 'url': 'https://i.scdn.co/image/ab67616d0000b273d25d9f0dc71bb01fbc3fe0f6', 'width': 640}, {'height': 300, 'url': 'https://i.scdn.co/image/ab67616d00001e02d25d9f0dc71bb01fbc3fe0f6', 'width': 300}, {'height': 64, 'url': 'https://i.scdn.co/image/ab67616d00004851d25d9f0dc71bb01fbc3fe0f6', 'width': 64}], 'name': 'Christmas', 'release_date': '2015-09-30', 'release_date_precision': 'day', 'total_tracks': 11, 'type': 'album', 'uri': 'spotify:album:3r4C6wYkCYL65QjkU5oJ8y'}, 'artists': [{'external_urls': {'spotify': 'https://open.spotify.com/artist/6ZjFtWeHP9XN7FeKSUe80S'}, 'href': 'https://api.spotify.com/v1/artists/6ZjFtWeHP9XN7FeKSUe80S', 'id': '6ZjFtWeHP9XN7FeKSUe80S', 'name': 'Bing Crosby', 'type': 'artist', 'uri': 'spotify:artist:6ZjFtWeHP9XN7FeKSUe80S'}], 'available_markets': ['AD', 'AE', 'AG', 'AL', 'AM', 'AO', 'AR', 'AT', 'AU', 'AZ', 'BA', 'BB', 'BD', 'BE', 'BF', 'BG', 'BH', 'BI', 'BJ', 'BN', 'BO', 'BR', 'BS', 'BT', 'BW', 'BY', 'BZ', 'CA', 'CD', 'CG', 'CH', 'CI', 'CL', 'CM', 'CO', 'CR', 'CV', 'CW', 'CY', 'CZ', 'DE', 'DJ', 'DK', 'DM', 'DO', 'DZ', 'EC', 'EE', 'EG', 'ES', 'FI', 'FJ', 'FM', 'FR', 'GA', 'GB', 'GD', 'GE', 'GH', 'GM', 'GN', 'GQ', 'GR', 'GT', 'GW', 'GY', 'HK', 'HN', 'HR', 'HT', 'HU', 'ID', 'IE', 'IL', 'IN', 'IQ', 'IS', 'IT', 'JM', 'JO', 'JP', 'KE', 'KG', 'KH', 'KI', 'KM', 'KN', 'KR', 'KW', 'KZ', 'LA', 'LB', 'LC', 'LI', 'LK', 'LR', 'LS', 'LT', 'LU', 'LV', 'LY', 'MA', 'MC', 'MD', 'ME', 'MG', 'MH', 'MK', 'ML', 'MN', 'MO', 'MR', 'MT', 'MU', 'MV', 'MW', 'MX', 'MY', 'MZ', 'NA', 'NE', 'NG', 'NI', 'NL', 'NO', 'NP', 'NR', 'NZ', 'OM', 'PA', 'PE', 'PG', 'PH', 'PK', 'PL', 'PS', 'PT', 'PW', 'PY', 'QA', 'RO', 'RS', 'RW', 'SA', 'SB', 'SC', 'SE', 'SG', 'SI', 'SK', 'SL', 'SM', 'SN', 'SR', 'ST', 'SV', 'SZ', 'TD', 'TG', 'TH', 'TJ', 'TL', 'TN', 'TO', 'TR', 'TT', 'TV', 'TW', 'TZ', 'UA', 'UG', 'US', 'UY', 'UZ', 'VC', 'VE', 'VN', 'VU', 'WS', 'XK', 'ZA', 'ZM', 'ZW'], 'disc_number': 1, 'duration_ms': 164613, 'episode': False, 'explicit': False, 'external_ids': {'isrc': 'USMC15151057'}, 'external_urls': {'spotify': 'https://open.spotify.com/track/1uh1iaMqBdx4XyrXhssKGD'}, 'href': 'https://api.spotify.com/v1/tracks/1uh1iaMqBdx4XyrXhssKGD', 'id': '1uh1iaMqBdx4XyrXhssKGD', 'is_local': False, 'name': \"It's Beginning To Look A Lot Like Christmas\", 'popularity': 72, 'preview_url': None, 'track': True, 'track_number': 1, 'type': 'track', 'uri': 'spotify:track:1uh1iaMqBdx4XyrXhssKGD'},{'album': {'album_type': 'album', 'artists': [{'external_urls': {'spotify': 'https://open.spotify.com/artist/4ytkhMSAnrDP8XzRNlw9FS'}, 'href': 'https://api.spotify.com/v1/artists/4ytkhMSAnrDP8XzRNlw9FS', 'id': '4ytkhMSAnrDP8XzRNlw9FS', 'name': 'Vince Guaraldi Trio', 'type': 'artist', 'uri': 'spotify:artist:4ytkhMSAnrDP8XzRNlw9FS'}], 'available_markets': ['AD', 'AE', 'AR', 'AT', 'AU', 'BA', 'BD', 'BE', 'BG', 'BN', 'BO', 'BR', 'CA', 'CH', 'CI', 'CL', 'CM', 'CO', 'CR', 'CW', 'CY', 'CZ', 'DE', 'DK', 'DO', 'EC', 'EE', 'EG', 'ES', 'FI', 'FJ', 'FR', 'GB', 'GN', 'GR', 'GT', 'HK', 'HN', 'HR', 'HU', 'ID', 'IE', 'IL', 'IN', 'IS', 'IT', 'JP', 'KH', 'KR', 'LA', 'LI', 'LK', 'LT', 'LU', 'LV', 'MC', 'ME', 'MK', 'MO', 'MT', 'MU', 'MX', 'MY', 'NG', 'NI', 'NL', 'NO', 'NZ', 'PA', 'PE', 'PH', 'PL', 'PT', 'PY', 'RO', 'RS', 'RW', 'SA', 'SE', 'SG', 'SI', 'SK', 'SV', 'TH', 'TN', 'TR', 'TW', 'UA', 'US', 'VE', 'VN', 'XK', 'ZA'], 'external_urls': {'spotify': 'https://open.spotify.com/album/1d3w7T3iyK3JJQ6kdpE6l9'}, 'href': 'https://api.spotify.com/v1/albums/1d3w7T3iyK3JJQ6kdpE6l9', 'id': '1d3w7T3iyK3JJQ6kdpE6l9', 'images': [{'height': 640, 'url': 'https://i.scdn.co/image/ab67616d0000b273a1c6bc83f5404947ffb87891', 'width': 640}, {'height': 300, 'url': 'https://i.scdn.co/image/ab67616d00001e02a1c6bc83f5404947ffb87891', 'width': 300}, {'height': 64, 'url': 'https://i.scdn.co/image/ab67616d00004851a1c6bc83f5404947ffb87891', 'width': 64}], 'name': 'Charlie Brown Holiday Hits', 'release_date': '1998-01-01', 'release_date_precision': 'day', 'total_tracks': 14, 'type': 'album', 'uri': 'spotify:album:1d3w7T3iyK3JJQ6kdpE6l9'}, 'artists': [{'external_urls': {'spotify': 'https://open.spotify.com/artist/4ytkhMSAnrDP8XzRNlw9FS'}, 'href': 'https://api.spotify.com/v1/artists/4ytkhMSAnrDP8XzRNlw9FS', 'id': '4ytkhMSAnrDP8XzRNlw9FS', 'name': 'Vince Guaraldi Trio', 'type': 'artist', 'uri': 'spotify:artist:4ytkhMSAnrDP8XzRNlw9FS'}], 'available_markets': ['AD', 'AE', 'AR', 'AT', 'AU', 'BA', 'BD', 'BE', 'BG', 'BN', 'BO', 'BR', 'CA', 'CH', 'CI', 'CL', 'CM', 'CO', 'CR', 'CW', 'CY', 'CZ', 'DE', 'DK', 'DO', 'EC', 'EE', 'EG', 'ES', 'FI', 'FJ', 'FR', 'GB', 'GN', 'GR', 'GT', 'HK', 'HN', 'HR', 'HU', 'ID', 'IE', 'IL', 'IN', 'IS', 'IT', 'JP', 'KH', 'KR', 'LA', 'LI', 'LK', 'LT', 'LU', 'LV', 'MC', 'ME', 'MK', 'MO', 'MT', 'MU', 'MX', 'MY', 'NG', 'NI', 'NL', 'NO', 'NZ', 'PA', 'PE', 'PH', 'PL', 'PT', 'PY', 'RO', 'RS', 'RW', 'SA', 'SE', 'SG', 'SI', 'SK', 'SV', 'TH', 'TN', 'TR', 'TW', 'UA', 'US', 'VE', 'VN', 'XK', 'ZA'], 'disc_number': 1, 'duration_ms': 184440, 'episode': False, 'explicit': False, 'external_ids': {'isrc': 'USFI86600063'}, 'external_urls': {'spotify': 'https://open.spotify.com/track/33EcmYsTQVIGRGnGPOfTwu'}, 'href': 'https://api.spotify.com/v1/tracks/33EcmYsTQVIGRGnGPOfTwu', 'id': '33EcmYsTQVIGRGnGPOfTwu', 'is_local': False, 'name': 'Linus And Lucy', 'popularity': 70, 'preview_url': None, 'track': True, 'track_number': 12, 'type': 'track', 'uri': 'spotify:track:33EcmYsTQVIGRGnGPOfTwu'},{'album': {'album_type': 'compilation', 'artists': [{'external_urls': {'spotify': 'https://open.spotify.com/artist/0LyfQWJT6nXafLPZqxe9Of'}, 'href': 'https://api.spotify.com/v1/artists/0LyfQWJT6nXafLPZqxe9Of', 'id': '0LyfQWJT6nXafLPZqxe9Of', 'name': 'Various Artists', 'type': 'artist', 'uri': 'spotify:artist:0LyfQWJT6nXafLPZqxe9Of'}], 'available_markets': ['AD', 'AE', 'AG', 'AL', 'AM', 'AO', 'AR', 'AT', 'AU', 'AZ', 'BA', 'BB', 'BD', 'BE', 'BF', 'BG', 'BH', 'BI', 'BJ', 'BN', 'BO', 'BR', 'BS', 'BT', 'BW', 'BY', 'BZ', 'CA', 'CD', 'CG', 'CH', 'CI', 'CL', 'CM', 'CO', 'CR', 'CV', 'CW', 'CY', 'CZ', 'DE', 'DJ', 'DK', 'DM', 'DO', 'DZ', 'EC', 'EE', 'EG', 'ES', 'FI', 'FJ', 'FM', 'FR', 'GA', 'GB', 'GD', 'GE', 'GH', 'GM', 'GN', 'GQ', 'GR', 'GT', 'GW', 'GY', 'HK', 'HN', 'HR', 'HT', 'HU', 'ID', 'IE', 'IL', 'IN', 'IQ', 'IS', 'IT', 'JM', 'JO', 'JP', 'KE', 'KG', 'KH', 'KI', 'KM', 'KN', 'KR', 'KW', 'KZ', 'LA', 'LB', 'LC', 'LI', 'LK', 'LR', 'LS', 'LT', 'LU', 'LV', 'LY', 'MA', 'MC', 'MD', 'ME', 'MG', 'MH', 'MK', 'ML', 'MN', 'MO', 'MR', 'MT', 'MU', 'MV', 'MW', 'MX', 'MY', 'MZ', 'NA', 'NE', 'NG', 'NI', 'NL', 'NO', 'NP', 'NR', 'NZ', 'OM', 'PA', 'PE', 'PG', 'PH', 'PK', 'PL', 'PS', 'PT', 'PW', 'PY', 'QA', 'RO', 'RS', 'RW', 'SA', 'SB', 'SC', 'SE', 'SG', 'SI', 'SK', 'SL', 'SM', 'SN', 'SR', 'ST', 'SV', 'SZ', 'TD', 'TG', 'TH', 'TJ', 'TL', 'TN', 'TO', 'TR', 'TT', 'TV', 'TW', 'TZ', 'UA', 'UG', 'US', 'UY', 'UZ', 'VC', 'VE', 'VN', 'VU', 'WS', 'XK', 'ZA', 'ZM', 'ZW'], 'external_urls': {'spotify': 'https://open.spotify.com/album/3eWFPHtloHTw9Ilod4Ivi6'}, 'href': 'https://api.spotify.com/v1/albums/3eWFPHtloHTw9Ilod4Ivi6', 'id': '3eWFPHtloHTw9Ilod4Ivi6', 'images': [{'height': 640, 'url': 'https://i.scdn.co/image/ab67616d0000b2732cc11a5fd0c6442611627956', 'width': 640}, {'height': 300, 'url': 'https://i.scdn.co/image/ab67616d00001e022cc11a5fd0c6442611627956', 'width': 300}, {'height': 64, 'url': 'https://i.scdn.co/image/ab67616d000048512cc11a5fd0c6442611627956', 'width': 64}], 'name': \"Dr. Seuss' How The Grinch Stole Christmas\", 'release_date': '2000-01-01', 'release_date_precision': 'day', 'total_tracks': 23, 'type': 'album', 'uri': 'spotify:album:3eWFPHtloHTw9Ilod4Ivi6'}, 'artists': [{'external_urls': {'spotify': 'https://open.spotify.com/artist/25NQNriVT2YbSW80ILRWJa'}, 'href': 'https://api.spotify.com/v1/artists/25NQNriVT2YbSW80ILRWJa', 'id': '25NQNriVT2YbSW80ILRWJa', 'name': 'Faith Hill', 'type': 'artist', 'uri': 'spotify:artist:25NQNriVT2YbSW80ILRWJa'}], 'available_markets': ['AD', 'AE', 'AG', 'AL', 'AM', 'AO', 'AR', 'AT', 'AU', 'AZ', 'BA', 'BB', 'BD', 'BE', 'BF', 'BG', 'BH', 'BI', 'BJ', 'BN', 'BO', 'BR', 'BS', 'BT', 'BW', 'BY', 'BZ', 'CA', 'CD', 'CG', 'CH', 'CI', 'CL', 'CM', 'CO', 'CR', 'CV', 'CW', 'CY', 'CZ', 'DE', 'DJ', 'DK', 'DM', 'DO', 'DZ', 'EC', 'EE', 'EG', 'ES', 'FI', 'FJ', 'FM', 'FR', 'GA', 'GB', 'GD', 'GE', 'GH', 'GM', 'GN', 'GQ', 'GR', 'GT', 'GW', 'GY', 'HK', 'HN', 'HR', 'HT', 'HU', 'ID', 'IE', 'IL', 'IN', 'IQ', 'IS', 'IT', 'JM', 'JO', 'JP', 'KE', 'KG', 'KH', 'KI', 'KM', 'KN', 'KR', 'KW', 'KZ', 'LA', 'LB', 'LC', 'LI', 'LK', 'LR', 'LS', 'LT', 'LU', 'LV', 'LY', 'MA', 'MC', 'MD', 'ME', 'MG', 'MH', 'MK', 'ML', 'MN', 'MO', 'MR', 'MT', 'MU', 'MV', 'MW', 'MX', 'MY', 'MZ', 'NA', 'NE', 'NG', 'NI', 'NL', 'NO', 'NP', 'NR', 'NZ', 'OM', 'PA', 'PE', 'PG', 'PH', 'PK', 'PL', 'PS', 'PT', 'PW', 'PY', 'QA', 'RO', 'RS', 'RW', 'SA', 'SB', 'SC', 'SE', 'SG', 'SI', 'SK', 'SL', 'SM', 'SN', 'SR', 'ST', 'SV', 'SZ', 'TD', 'TG', 'TH', 'TJ', 'TL', 'TN', 'TO', 'TR', 'TT', 'TV', 'TW', 'TZ', 'UA', 'UG', 'US', 'UY', 'UZ', 'VC', 'VE', 'VN', 'VU', 'WS', 'XK', 'ZA', 'ZM', 'ZW'], 'disc_number': 1, 'duration_ms': 247040, 'episode': False, 'explicit': False, 'external_ids': {'isrc': 'USIR10001309'}, 'external_urls': {'spotify': 'https://open.spotify.com/track/1msuiw6pnXYfxZ7Edyit9U'}, 'href': 'https://api.spotify.com/v1/tracks/1msuiw6pnXYfxZ7Edyit9U', 'id': '1msuiw6pnXYfxZ7Edyit9U', 'is_local': False, 'name': 'Where Are You Christmas - From \"Dr. Seuss\\' How The Grinch Stole Christmas\" Soundtrack', 'popularity': 68, 'preview_url': None, 'track': True, 'track_number': 14, 'type': 'track', 'uri': 'spotify:track:1msuiw6pnXYfxZ7Edyit9U'},{'album': {'album_type': 'single', 'artists': [{'external_urls': {'spotify': 'https://open.spotify.com/artist/3eqjTLE0HfPfh78zjh6TqT'}, 'href': 'https://api.spotify.com/v1/artists/3eqjTLE0HfPfh78zjh6TqT', 'id': '3eqjTLE0HfPfh78zjh6TqT', 'name': 'Bruce Springsteen', 'type': 'artist', 'uri': 'spotify:artist:3eqjTLE0HfPfh78zjh6TqT'}], 'available_markets': ['AD', 'AE', 'AG', 'AL', 'AM', 'AO', 'AR', 'AT', 'AU', 'AZ', 'BA', 'BB', 'BD', 'BE', 'BF', 'BG', 'BH', 'BI', 'BJ', 'BN', 'BO', 'BR', 'BS', 'BT', 'BW', 'BY', 'BZ', 'CA', 'CD', 'CG', 'CH', 'CI', 'CL', 'CM', 'CO', 'CR', 'CV', 'CW', 'CY', 'CZ', 'DE', 'DJ', 'DK', 'DM', 'DO', 'DZ', 'EC', 'EE', 'EG', 'ES', 'FI', 'FJ', 'FM', 'FR', 'GA', 'GB', 'GD', 'GE', 'GH', 'GM', 'GN', 'GQ', 'GR', 'GT', 'GW', 'GY', 'HK', 'HN', 'HR', 'HT', 'HU', 'ID', 'IE', 'IL', 'IN', 'IQ', 'IS', 'IT', 'JM', 'JO', 'JP', 'KE', 'KG', 'KH', 'KI', 'KM', 'KN', 'KR', 'KW', 'KZ', 'LA', 'LB', 'LC', 'LI', 'LK', 'LR', 'LS', 'LT', 'LU', 'LV', 'LY', 'MA', 'MC', 'MD', 'ME', 'MG', 'MH', 'MK', 'ML', 'MN', 'MO', 'MR', 'MT', 'MU', 'MV', 'MW', 'MX', 'MY', 'MZ', 'NA', 'NE', 'NG', 'NI', 'NL', 'NO', 'NP', 'NR', 'NZ', 'OM', 'PA', 'PE', 'PG', 'PH', 'PK', 'PL', 'PS', 'PT', 'PW', 'PY', 'QA', 'RO', 'RS', 'RW', 'SA', 'SB', 'SC', 'SE', 'SG', 'SI', 'SK', 'SL', 'SM', 'SN', 'SR', 'ST', 'SV', 'SZ', 'TD', 'TG', 'TH', 'TJ', 'TL', 'TN', 'TO', 'TR', 'TT', 'TV', 'TW', 'TZ', 'UA', 'UG', 'US', 'UY', 'UZ', 'VC', 'VE', 'VN', 'VU', 'WS', 'XK', 'ZA', 'ZM', 'ZW'], 'external_urls': {'spotify': 'https://open.spotify.com/album/6SEtGOi92yZM5TyAGlXlpZ'}, 'href': 'https://api.spotify.com/v1/albums/6SEtGOi92yZM5TyAGlXlpZ', 'id': '6SEtGOi92yZM5TyAGlXlpZ', 'images': [{'height': 640, 'url': 'https://i.scdn.co/image/ab67616d0000b2736a68798b2ac41fde44823eb5', 'width': 640}, {'height': 300, 'url': 'https://i.scdn.co/image/ab67616d00001e026a68798b2ac41fde44823eb5', 'width': 300}, {'height': 64, 'url': 'https://i.scdn.co/image/ab67616d000048516a68798b2ac41fde44823eb5', 'width': 64}], 'name': \"Santa Claus Is Comin' to Town (Live at C.W. Post College, Greenvale, NY - December 1975)\", 'release_date': '1981', 'release_date_precision': 'year', 'total_tracks': 1, 'type': 'album', 'uri': 'spotify:album:6SEtGOi92yZM5TyAGlXlpZ'}, 'artists': [{'external_urls': {'spotify': 'https://open.spotify.com/artist/3eqjTLE0HfPfh78zjh6TqT'}, 'href': 'https://api.spotify.com/v1/artists/3eqjTLE0HfPfh78zjh6TqT', 'id': '3eqjTLE0HfPfh78zjh6TqT', 'name': 'Bruce Springsteen', 'type': 'artist', 'uri': 'spotify:artist:3eqjTLE0HfPfh78zjh6TqT'}], 'available_markets': ['AD', 'AE', 'AG', 'AL', 'AM', 'AO', 'AR', 'AT', 'AU', 'AZ', 'BA', 'BB', 'BD', 'BE', 'BF', 'BG', 'BH', 'BI', 'BJ', 'BN', 'BO', 'BR', 'BS', 'BT', 'BW', 'BY', 'BZ', 'CA', 'CD', 'CG', 'CH', 'CI', 'CL', 'CM', 'CO', 'CR', 'CV', 'CW', 'CY', 'CZ', 'DE', 'DJ', 'DK', 'DM', 'DO', 'DZ', 'EC', 'EE', 'EG', 'ES', 'FI', 'FJ', 'FM', 'FR', 'GA', 'GB', 'GD', 'GE', 'GH', 'GM', 'GN', 'GQ', 'GR', 'GT', 'GW', 'GY', 'HK', 'HN', 'HR', 'HT', 'HU', 'ID', 'IE', 'IL', 'IN', 'IQ', 'IS', 'IT', 'JM', 'JO', 'JP', 'KE', 'KG', 'KH', 'KI', 'KM', 'KN', 'KR', 'KW', 'KZ', 'LA', 'LB', 'LC', 'LI', 'LK', 'LR', 'LS', 'LT', 'LU', 'LV', 'LY', 'MA', 'MC', 'MD', 'ME', 'MG', 'MH', 'MK', 'ML', 'MN', 'MO', 'MR', 'MT', 'MU', 'MV', 'MW', 'MX', 'MY', 'MZ', 'NA', 'NE', 'NG', 'NI', 'NL', 'NO', 'NP', 'NR', 'NZ', 'OM', 'PA', 'PE', 'PG', 'PH', 'PK', 'PL', 'PS', 'PT', 'PW', 'PY', 'QA', 'RO', 'RS', 'RW', 'SA', 'SB', 'SC', 'SE', 'SG', 'SI', 'SK', 'SL', 'SM', 'SN', 'SR', 'ST', 'SV', 'SZ', 'TD', 'TG', 'TH', 'TJ', 'TL', 'TN', 'TO', 'TR', 'TT', 'TV', 'TW', 'TZ', 'UA', 'UG', 'US', 'UY', 'UZ', 'VC', 'VE', 'VN', 'VU', 'WS', 'XK', 'ZA', 'ZM', 'ZW'], 'disc_number': 1, 'duration_ms': 267600, 'episode': False, 'explicit': False, 'external_ids': {'isrc': 'USSM17500461'}, 'external_urls': {'spotify': 'https://open.spotify.com/track/6s2wpWPFPAgKg2LXxi1Oee'}, 'href': 'https://api.spotify.com/v1/tracks/6s2wpWPFPAgKg2LXxi1Oee', 'id': '6s2wpWPFPAgKg2LXxi1Oee', 'is_local': False, 'name': \"Santa Claus Is Comin' to Town - Live at C.W. Post College, Greenvale, NY - December 1975\", 'popularity': 77, 'preview_url': 'https://p.scdn.co/mp3-preview/9f296be636ecda8b532b2b2fc3b574d8fd33b178?cid=8cc561ad779e4f7ab9474f025c5ca931', 'track': True, 'track_number': 1, 'type': 'track', 'uri': 'spotify:track:6s2wpWPFPAgKg2LXxi1Oee'},{'album': {'album_type': 'album', 'artists': [{'external_urls': {'spotify': 'https://open.spotify.com/artist/26AHtbjWKiwYzsoGoUZq53'}, 'href': 'https://api.spotify.com/v1/artists/26AHtbjWKiwYzsoGoUZq53', 'id': '26AHtbjWKiwYzsoGoUZq53', 'name': 'Pentatonix', 'type': 'artist', 'uri': 'spotify:artist:26AHtbjWKiwYzsoGoUZq53'}], 'available_markets': ['AD', 'AE', 'AG', 'AL', 'AM', 'AO', 'AR', 'AT', 'AU', 'AZ', 'BA', 'BB', 'BD', 'BE', 'BF', 'BG', 'BH', 'BI', 'BJ', 'BN', 'BO', 'BR', 'BS', 'BT', 'BW', 'BY', 'BZ', 'CA', 'CD', 'CG', 'CH', 'CI', 'CL', 'CM', 'CO', 'CR', 'CV', 'CW', 'CY', 'CZ', 'DE', 'DJ', 'DK', 'DM', 'DO', 'DZ', 'EC', 'EE', 'EG', 'ES', 'FI', 'FJ', 'FM', 'FR', 'GA', 'GB', 'GD', 'GE', 'GH', 'GM', 'GN', 'GQ', 'GR', 'GT', 'GW', 'GY', 'HK', 'HN', 'HR', 'HT', 'HU', 'ID', 'IE', 'IL', 'IN', 'IQ', 'IS', 'IT', 'JM', 'JO', 'JP', 'KE', 'KG', 'KH', 'KI', 'KM', 'KN', 'KR', 'KW', 'KZ', 'LA', 'LB', 'LC', 'LI', 'LK', 'LR', 'LS', 'LT', 'LU', 'LV', 'LY', 'MA', 'MC', 'MD', 'ME', 'MG', 'MH', 'MK', 'ML', 'MN', 'MO', 'MR', 'MT', 'MU', 'MV', 'MW', 'MX', 'MY', 'MZ', 'NA', 'NE', 'NG', 'NI', 'NL', 'NO', 'NP', 'NR', 'NZ', 'OM', 'PA', 'PE', 'PG', 'PH', 'PK', 'PL', 'PS', 'PT', 'PW', 'PY', 'QA', 'RO', 'RS', 'RW', 'SA', 'SB', 'SC', 'SE', 'SG', 'SI', 'SK', 'SL', 'SM', 'SN', 'SR', 'ST', 'SV', 'SZ', 'TD', 'TG', 'TH', 'TJ', 'TL', 'TN', 'TO', 'TR', 'TT', 'TV', 'TW', 'TZ', 'UA', 'UG', 'US', 'UY', 'UZ', 'VC', 'VE', 'VN', 'VU', 'WS', 'XK', 'ZA', 'ZM', 'ZW'], 'external_urls': {'spotify': 'https://open.spotify.com/album/5ZwH7KH8Zw0m76hYwANMos'}, 'href': 'https://api.spotify.com/v1/albums/5ZwH7KH8Zw0m76hYwANMos', 'id': '5ZwH7KH8Zw0m76hYwANMos', 'images': [{'height': 640, 'url': 'https://i.scdn.co/image/ab67616d0000b2733a58f9ec8f85fab3e17ee75e', 'width': 640}, {'height': 300, 'url': 'https://i.scdn.co/image/ab67616d00001e023a58f9ec8f85fab3e17ee75e', 'width': 300}, {'height': 64, 'url': 'https://i.scdn.co/image/ab67616d000048513a58f9ec8f85fab3e17ee75e', 'width': 64}], 'name': 'PTXmas (Deluxe Edition)', 'release_date': '2012-11-12', 'release_date_precision': 'day', 'total_tracks': 8, 'type': 'album', 'uri': 'spotify:album:5ZwH7KH8Zw0m76hYwANMos'}, 'artists': [{'external_urls': {'spotify': 'https://open.spotify.com/artist/26AHtbjWKiwYzsoGoUZq53'}, 'href': 'https://api.spotify.com/v1/artists/26AHtbjWKiwYzsoGoUZq53', 'id': '26AHtbjWKiwYzsoGoUZq53', 'name': 'Pentatonix', 'type': 'artist', 'uri': 'spotify:artist:26AHtbjWKiwYzsoGoUZq53'}], 'available_markets': ['AD', 'AE', 'AG', 'AL', 'AM', 'AO', 'AR', 'AT', 'AU', 'AZ', 'BA', 'BB', 'BD', 'BE', 'BF', 'BG', 'BH', 'BI', 'BJ', 'BN', 'BO', 'BR', 'BS', 'BT', 'BW', 'BY', 'BZ', 'CA', 'CD', 'CG', 'CH', 'CI', 'CL', 'CM', 'CO', 'CR', 'CV', 'CW', 'CY', 'CZ', 'DE', 'DJ', 'DK', 'DM', 'DO', 'DZ', 'EC', 'EE', 'EG', 'ES', 'FI', 'FJ', 'FM', 'FR', 'GA', 'GB', 'GD', 'GE', 'GH', 'GM', 'GN', 'GQ', 'GR', 'GT', 'GW', 'GY', 'HK', 'HN', 'HR', 'HT', 'HU', 'ID', 'IE', 'IL', 'IN', 'IQ', 'IS', 'IT', 'JM', 'JO', 'JP', 'KE', 'KG', 'KH', 'KI', 'KM', 'KN', 'KR', 'KW', 'KZ', 'LA', 'LB', 'LC', 'LI', 'LK', 'LR', 'LS', 'LT', 'LU', 'LV', 'LY', 'MA', 'MC', 'MD', 'ME', 'MG', 'MH', 'MK', 'ML', 'MN', 'MO', 'MR', 'MT', 'MU', 'MV', 'MW', 'MX', 'MY', 'MZ', 'NA', 'NE', 'NG', 'NI', 'NL', 'NO', 'NP', 'NR', 'NZ', 'OM', 'PA', 'PE', 'PG', 'PH', 'PK', 'PL', 'PS', 'PT', 'PW', 'PY', 'QA', 'RO', 'RS', 'RW', 'SA', 'SB', 'SC', 'SE', 'SG', 'SI', 'SK', 'SL', 'SM', 'SN', 'SR', 'ST', 'SV', 'SZ', 'TD', 'TG', 'TH', 'TJ', 'TL', 'TN', 'TO', 'TR', 'TT', 'TV', 'TW', 'TZ', 'UA', 'UG', 'US', 'UY', 'UZ', 'VC', 'VE', 'VN', 'VU', 'WS', 'XK', 'ZA', 'ZM', 'ZW'], 'disc_number': 1, 'duration_ms': 255878, 'episode': False, 'explicit': False, 'external_ids': {'isrc': 'US4DG1300070'}, 'external_urls': {'spotify': 'https://open.spotify.com/track/7BvCDrlYwJ5D9RUqvvs3BT'}, 'href': 'https://api.spotify.com/v1/tracks/7BvCDrlYwJ5D9RUqvvs3BT', 'id': '7BvCDrlYwJ5D9RUqvvs3BT', 'is_local': False, 'name': 'Little Drummer Boy', 'popularity': 63, 'preview_url': 'https://p.scdn.co/mp3-preview/b1fdaf9e1cf1253116f8dd20102ceec25beda1af?cid=8cc561ad779e4f7ab9474f025c5ca931', 'track': True, 'track_number': 7, 'type': 'track', 'uri': 'spotify:track:7BvCDrlYwJ5D9RUqvvs3BT'},{'album': {'album_type': 'album', 'artists': [{'external_urls': {'spotify': 'https://open.spotify.com/artist/3oDbviiivRWhXwIE8hxkVV'}, 'href': 'https://api.spotify.com/v1/artists/3oDbviiivRWhXwIE8hxkVV', 'id': '3oDbviiivRWhXwIE8hxkVV', 'name': 'The Beach Boys', 'type': 'artist', 'uri': 'spotify:artist:3oDbviiivRWhXwIE8hxkVV'}], 'available_markets': ['AD', 'AE', 'AG', 'AL', 'AM', 'AO', 'AR', 'AT', 'AU', 'AZ', 'BA', 'BB', 'BD', 'BE', 'BF', 'BG', 'BH', 'BI', 'BJ', 'BN', 'BO', 'BR', 'BS', 'BT', 'BW', 'BY', 'BZ', 'CA', 'CD', 'CG', 'CH', 'CI', 'CL', 'CM', 'CO', 'CR', 'CV', 'CW', 'CY', 'CZ', 'DE', 'DJ', 'DK', 'DM', 'DO', 'DZ', 'EC', 'EE', 'EG', 'ES', 'FI', 'FJ', 'FM', 'FR', 'GA', 'GB', 'GD', 'GE', 'GH', 'GM', 'GN', 'GQ', 'GR', 'GT', 'GW', 'GY', 'HK', 'HN', 'HR', 'HT', 'HU', 'ID', 'IE', 'IL', 'IN', 'IQ', 'IS', 'IT', 'JM', 'JO', 'JP', 'KE', 'KG', 'KH', 'KI', 'KM', 'KN', 'KR', 'KW', 'KZ', 'LA', 'LB', 'LC', 'LI', 'LK', 'LR', 'LS', 'LT', 'LU', 'LV', 'LY', 'MA', 'MC', 'MD', 'ME', 'MG', 'MH', 'MK', 'ML', 'MN', 'MO', 'MR', 'MT', 'MU', 'MV', 'MW', 'MX', 'MY', 'MZ', 'NA', 'NE', 'NG', 'NI', 'NL', 'NO', 'NP', 'NR', 'NZ', 'OM', 'PA', 'PE', 'PG', 'PH', 'PK', 'PL', 'PS', 'PT', 'PW', 'PY', 'QA', 'RO', 'RS', 'RW', 'SA', 'SB', 'SC', 'SE', 'SG', 'SI', 'SK', 'SL', 'SM', 'SN', 'SR', 'ST', 'SV', 'SZ', 'TD', 'TG', 'TH', 'TJ', 'TL', 'TN', 'TO', 'TR', 'TT', 'TV', 'TW', 'TZ', 'UA', 'UG', 'US', 'UY', 'UZ', 'VC', 'VE', 'VN', 'VU', 'WS', 'XK', 'ZA', 'ZM', 'ZW'], 'external_urls': {'spotify': 'https://open.spotify.com/album/67nqYhvjDyJXGD64937Lw3'}, 'href': 'https://api.spotify.com/v1/albums/67nqYhvjDyJXGD64937Lw3', 'id': '67nqYhvjDyJXGD64937Lw3', 'images': [{'height': 640, 'url': 'https://i.scdn.co/image/ab67616d0000b27308c270b3ef1602ff84ed2c05', 'width': 640}, {'height': 300, 'url': 'https://i.scdn.co/image/ab67616d00001e0208c270b3ef1602ff84ed2c05', 'width': 300}, {'height': 64, 'url': 'https://i.scdn.co/image/ab67616d0000485108c270b3ef1602ff84ed2c05', 'width': 64}], 'name': \"The Beach Boys' Christmas Album\", 'release_date': '1964-11-09', 'release_date_precision': 'day', 'total_tracks': 12, 'type': 'album', 'uri': 'spotify:album:67nqYhvjDyJXGD64937Lw3'}, 'artists': [{'external_urls': {'spotify': 'https://open.spotify.com/artist/3oDbviiivRWhXwIE8hxkVV'}, 'href': 'https://api.spotify.com/v1/artists/3oDbviiivRWhXwIE8hxkVV', 'id': '3oDbviiivRWhXwIE8hxkVV', 'name': 'The Beach Boys', 'type': 'artist', 'uri': 'spotify:artist:3oDbviiivRWhXwIE8hxkVV'}], 'available_markets': ['AD', 'AE', 'AG', 'AL', 'AM', 'AO', 'AR', 'AT', 'AU', 'AZ', 'BA', 'BB', 'BD', 'BE', 'BF', 'BG', 'BH', 'BI', 'BJ', 'BN', 'BO', 'BR', 'BS', 'BT', 'BW', 'BY', 'BZ', 'CA', 'CD', 'CG', 'CH', 'CI', 'CL', 'CM', 'CO', 'CR', 'CV', 'CW', 'CY', 'CZ', 'DE', 'DJ', 'DK', 'DM', 'DO', 'DZ', 'EC', 'EE', 'EG', 'ES', 'FI', 'FJ', 'FM', 'FR', 'GA', 'GB', 'GD', 'GE', 'GH', 'GM', 'GN', 'GQ', 'GR', 'GT', 'GW', 'GY', 'HK', 'HN', 'HR', 'HT', 'HU', 'ID', 'IE', 'IL', 'IN', 'IQ', 'IS', 'IT', 'JM', 'JO', 'JP', 'KE', 'KG', 'KH', 'KI', 'KM', 'KN', 'KR', 'KW', 'KZ', 'LA', 'LB', 'LC', 'LI', 'LK', 'LR', 'LS', 'LT', 'LU', 'LV', 'LY', 'MA', 'MC', 'MD', 'ME', 'MG', 'MH', 'MK', 'ML', 'MN', 'MO', 'MR', 'MT', 'MU', 'MV', 'MW', 'MX', 'MY', 'MZ', 'NA', 'NE', 'NG', 'NI', 'NL', 'NO', 'NP', 'NR', 'NZ', 'OM', 'PA', 'PE', 'PG', 'PH', 'PK', 'PL', 'PS', 'PT', 'PW', 'PY', 'QA', 'RO', 'RS', 'RW', 'SA', 'SB', 'SC', 'SE', 'SG', 'SI', 'SK', 'SL', 'SM', 'SN', 'SR', 'ST', 'SV', 'SZ', 'TD', 'TG', 'TH', 'TJ', 'TL', 'TN', 'TO', 'TR', 'TT', 'TV', 'TW', 'TZ', 'UA', 'UG', 'US', 'UY', 'UZ', 'VC', 'VE', 'VN', 'VU', 'WS', 'XK', 'ZA', 'ZM', 'ZW'], 'disc_number': 1, 'duration_ms': 118840, 'episode': False, 'explicit': False, 'external_ids': {'isrc': 'USCA29100193'}, 'external_urls': {'spotify': 'https://open.spotify.com/track/5xlS0QkVrSH7ssEbBgBzbM'}, 'href': 'https://api.spotify.com/v1/tracks/5xlS0QkVrSH7ssEbBgBzbM', 'id': '5xlS0QkVrSH7ssEbBgBzbM', 'is_local': False, 'name': 'Little Saint Nick - 1991 Remix', 'popularity': 78, 'preview_url': None, 'track': True, 'track_number': 1, 'type': 'track', 'uri': 'spotify:track:5xlS0QkVrSH7ssEbBgBzbM'},{'album': {'album_type': 'album', 'artists': [{'external_urls': {'spotify': 'https://open.spotify.com/artist/5v8jlSmAQfrkTjAlpUfWtu'}, 'href': 'https://api.spotify.com/v1/artists/5v8jlSmAQfrkTjAlpUfWtu', 'id': '5v8jlSmAQfrkTjAlpUfWtu', 'name': 'Perry Como', 'type': 'artist', 'uri': 'spotify:artist:5v8jlSmAQfrkTjAlpUfWtu'}], 'available_markets': ['AD', 'AE', 'AG', 'AL', 'AM', 'AO', 'AR', 'AT', 'AU', 'AZ', 'BA', 'BB', 'BD', 'BE', 'BF', 'BG', 'BH', 'BI', 'BJ', 'BN', 'BO', 'BR', 'BS', 'BT', 'BW', 'BY', 'BZ', 'CA', 'CD', 'CG', 'CH', 'CI', 'CL', 'CM', 'CO', 'CR', 'CV', 'CW', 'CY', 'CZ', 'DE', 'DJ', 'DK', 'DM', 'DO', 'DZ', 'EC', 'EE', 'EG', 'ES', 'FI', 'FJ', 'FM', 'FR', 'GA', 'GB', 'GD', 'GE', 'GH', 'GM', 'GN', 'GQ', 'GR', 'GT', 'GW', 'GY', 'HK', 'HN', 'HR', 'HT', 'HU', 'ID', 'IE', 'IL', 'IN', 'IQ', 'IS', 'IT', 'JM', 'JO', 'JP', 'KE', 'KG', 'KH', 'KI', 'KM', 'KN', 'KR', 'KW', 'KZ', 'LA', 'LB', 'LC', 'LI', 'LK', 'LR', 'LS', 'LT', 'LU', 'LV', 'LY', 'MA', 'MC', 'MD', 'ME', 'MG', 'MH', 'MK', 'ML', 'MN', 'MO', 'MR', 'MT', 'MU', 'MV', 'MW', 'MX', 'MY', 'MZ', 'NA', 'NE', 'NG', 'NI', 'NL', 'NO', 'NP', 'NR', 'NZ', 'OM', 'PA', 'PE', 'PG', 'PH', 'PK', 'PL', 'PS', 'PT', 'PW', 'PY', 'QA', 'RO', 'RS', 'RW', 'SA', 'SB', 'SC', 'SE', 'SG', 'SI', 'SK', 'SL', 'SM', 'SN', 'SR', 'ST', 'SV', 'SZ', 'TD', 'TG', 'TH', 'TJ', 'TL', 'TN', 'TO', 'TR', 'TT', 'TV', 'TW', 'TZ', 'UA', 'UG', 'US', 'UY', 'UZ', 'VC', 'VE', 'VN', 'VU', 'WS', 'XK', 'ZA', 'ZM', 'ZW'], 'external_urls': {'spotify': 'https://open.spotify.com/album/4lculT3R9mxFqdmXOCLuY7'}, 'href': 'https://api.spotify.com/v1/albums/4lculT3R9mxFqdmXOCLuY7', 'id': '4lculT3R9mxFqdmXOCLuY7', 'images': [{'height': 640, 'url': 'https://i.scdn.co/image/ab67616d0000b273d5f598be32d3027b9578ecd6', 'width': 640}, {'height': 300, 'url': 'https://i.scdn.co/image/ab67616d00001e02d5f598be32d3027b9578ecd6', 'width': 300}, {'height': 64, 'url': 'https://i.scdn.co/image/ab67616d00004851d5f598be32d3027b9578ecd6', 'width': 64}], 'name': 'Greatest Christmas Songs', 'release_date': '1999-08-20', 'release_date_precision': 'day', 'total_tracks': 21, 'type': 'album', 'uri': 'spotify:album:4lculT3R9mxFqdmXOCLuY7'}, 'artists': [{'external_urls': {'spotify': 'https://open.spotify.com/artist/5v8jlSmAQfrkTjAlpUfWtu'}, 'href': 'https://api.spotify.com/v1/artists/5v8jlSmAQfrkTjAlpUfWtu', 'id': '5v8jlSmAQfrkTjAlpUfWtu', 'name': 'Perry Como', 'type': 'artist', 'uri': 'spotify:artist:5v8jlSmAQfrkTjAlpUfWtu'}, {'external_urls': {'spotify': 'https://open.spotify.com/artist/1Ml4OuStDoympbREURAM15'}, 'href': 'https://api.spotify.com/v1/artists/1Ml4OuStDoympbREURAM15', 'id': '1Ml4OuStDoympbREURAM15', 'name': 'The Fontane Sisters', 'type': 'artist', 'uri': 'spotify:artist:1Ml4OuStDoympbREURAM15'}, {'external_urls': {'spotify': 'https://open.spotify.com/artist/0HS96tPggl2nwiz3gNWWI5'}, 'href': 'https://api.spotify.com/v1/artists/0HS96tPggl2nwiz3gNWWI5', 'id': '0HS96tPggl2nwiz3gNWWI5', 'name': 'Mitchell Ayres & His Orchestra', 'type': 'artist', 'uri': 'spotify:artist:0HS96tPggl2nwiz3gNWWI5'}], 'available_markets': ['AD', 'AE', 'AG', 'AL', 'AM', 'AO', 'AR', 'AT', 'AU', 'AZ', 'BA', 'BB', 'BD', 'BE', 'BF', 'BG', 'BH', 'BI', 'BJ', 'BN', 'BO', 'BR', 'BS', 'BT', 'BW', 'BY', 'BZ', 'CA', 'CD', 'CG', 'CH', 'CI', 'CL', 'CM', 'CO', 'CR', 'CV', 'CW', 'CY', 'CZ', 'DE', 'DJ', 'DK', 'DM', 'DO', 'DZ', 'EC', 'EE', 'EG', 'ES', 'FI', 'FJ', 'FM', 'FR', 'GA', 'GB', 'GD', 'GE', 'GH', 'GM', 'GN', 'GQ', 'GR', 'GT', 'GW', 'GY', 'HK', 'HN', 'HR', 'HT', 'HU', 'ID', 'IE', 'IL', 'IN', 'IQ', 'IS', 'IT', 'JM', 'JO', 'JP', 'KE', 'KG', 'KH', 'KI', 'KM', 'KN', 'KR', 'KW', 'KZ', 'LA', 'LB', 'LC', 'LI', 'LK', 'LR', 'LS', 'LT', 'LU', 'LV', 'LY', 'MA', 'MC', 'MD', 'ME', 'MG', 'MH', 'MK', 'ML', 'MN', 'MO', 'MR', 'MT', 'MU', 'MV', 'MW', 'MX', 'MY', 'MZ', 'NA', 'NE', 'NG', 'NI', 'NL', 'NO', 'NP', 'NR', 'NZ', 'OM', 'PA', 'PE', 'PG', 'PH', 'PK', 'PL', 'PS', 'PT', 'PW', 'PY', 'QA', 'RO', 'RS', 'RW', 'SA', 'SB', 'SC', 'SE', 'SG', 'SI', 'SK', 'SL', 'SM', 'SN', 'SR', 'ST', 'SV', 'SZ', 'TD', 'TG', 'TH', 'TJ', 'TL', 'TN', 'TO', 'TR', 'TT', 'TV', 'TW', 'TZ', 'UA', 'UG', 'US', 'UY', 'UZ', 'VC', 'VE', 'VN', 'VU', 'WS', 'XK', 'ZA', 'ZM', 'ZW'], 'disc_number': 1, 'duration_ms': 155933, 'episode': False, 'explicit': False, 'external_ids': {'isrc': 'USRC15106173'}, 'external_urls': {'spotify': 'https://open.spotify.com/track/2pXpURmn6zC5ZYDMms6fwa'}, 'href': 'https://api.spotify.com/v1/tracks/2pXpURmn6zC5ZYDMms6fwa', 'id': '2pXpURmn6zC5ZYDMms6fwa', 'is_local': False, 'name': \"It's Beginning to Look a Lot Like Christmas (with Mitchell Ayres & His Orchestra)\", 'popularity': 81, 'preview_url': 'https://p.scdn.co/mp3-preview/26cacf250890fdc406b25912e766296ada73e9ec?cid=8cc561ad779e4f7ab9474f025c5ca931', 'track': True, 'track_number': 8, 'type': 'track', 'uri': 'spotify:track:2pXpURmn6zC5ZYDMms6fwa'},{'album': {'album_type': 'album', 'artists': [{'external_urls': {'spotify': 'https://open.spotify.com/artist/1Mxqyy3pSjf8kZZL4QVxS0'}, 'href': 'https://api.spotify.com/v1/artists/1Mxqyy3pSjf8kZZL4QVxS0', 'id': '1Mxqyy3pSjf8kZZL4QVxS0', 'name': 'Frank Sinatra', 'type': 'artist', 'uri': 'spotify:artist:1Mxqyy3pSjf8kZZL4QVxS0'}], 'available_markets': ['AD', 'AE', 'AG', 'AL', 'AM', 'AO', 'AR', 'AT', 'AU', 'AZ', 'BA', 'BB', 'BD', 'BE', 'BF', 'BG', 'BH', 'BI', 'BJ', 'BN', 'BO', 'BR', 'BS', 'BT', 'BW', 'BY', 'BZ', 'CA', 'CD', 'CG', 'CH', 'CI', 'CL', 'CM', 'CO', 'CR', 'CV', 'CW', 'CY', 'CZ', 'DE', 'DJ', 'DK', 'DM', 'DO', 'DZ', 'EC', 'EE', 'EG', 'ES', 'FI', 'FJ', 'FM', 'FR', 'GA', 'GB', 'GD', 'GE', 'GH', 'GM', 'GN', 'GQ', 'GR', 'GT', 'GW', 'GY', 'HK', 'HN', 'HR', 'HT', 'HU', 'ID', 'IE', 'IL', 'IN', 'IQ', 'IS', 'IT', 'JM', 'JO', 'JP', 'KE', 'KG', 'KH', 'KI', 'KM', 'KN', 'KR', 'KW', 'KZ', 'LA', 'LB', 'LC', 'LI', 'LK', 'LR', 'LS', 'LT', 'LU', 'LV', 'LY', 'MA', 'MC', 'MD', 'ME', 'MG', 'MH', 'MK', 'ML', 'MN', 'MO', 'MR', 'MT', 'MU', 'MV', 'MW', 'MX', 'MY', 'MZ', 'NA', 'NE', 'NG', 'NI', 'NL', 'NO', 'NP', 'NR', 'NZ', 'OM', 'PA', 'PE', 'PG', 'PH', 'PK', 'PL', 'PS', 'PT', 'PW', 'PY', 'QA', 'RO', 'RS', 'RW', 'SA', 'SB', 'SC', 'SE', 'SG', 'SI', 'SK', 'SL', 'SM', 'SN', 'SR', 'ST', 'SV', 'SZ', 'TD', 'TG', 'TH', 'TJ', 'TL', 'TN', 'TO', 'TR', 'TT', 'TV', 'TW', 'TZ', 'UA', 'UG', 'US', 'UY', 'UZ', 'VC', 'VE', 'VN', 'VU', 'WS', 'XK', 'ZA', 'ZM', 'ZW'], 'external_urls': {'spotify': 'https://open.spotify.com/album/0ny6mZMBrYSO0s8HAKbcVq'}, 'href': 'https://api.spotify.com/v1/albums/0ny6mZMBrYSO0s8HAKbcVq', 'id': '0ny6mZMBrYSO0s8HAKbcVq', 'images': [{'height': 640, 'url': 'https://i.scdn.co/image/ab67616d0000b27394fd2e614d0862bdd2592594', 'width': 640}, {'height': 300, 'url': 'https://i.scdn.co/image/ab67616d00001e0294fd2e614d0862bdd2592594', 'width': 300}, {'height': 64, 'url': 'https://i.scdn.co/image/ab67616d0000485194fd2e614d0862bdd2592594', 'width': 64}], 'name': 'A Jolly Christmas From Frank Sinatra', 'release_date': '1957-09', 'release_date_precision': 'month', 'total_tracks': 15, 'type': 'album', 'uri': 'spotify:album:0ny6mZMBrYSO0s8HAKbcVq'}, 'artists': [{'external_urls': {'spotify': 'https://open.spotify.com/artist/1Mxqyy3pSjf8kZZL4QVxS0'}, 'href': 'https://api.spotify.com/v1/artists/1Mxqyy3pSjf8kZZL4QVxS0', 'id': '1Mxqyy3pSjf8kZZL4QVxS0', 'name': 'Frank Sinatra', 'type': 'artist', 'uri': 'spotify:artist:1Mxqyy3pSjf8kZZL4QVxS0'}], 'available_markets': ['AD', 'AE', 'AG', 'AL', 'AM', 'AO', 'AR', 'AT', 'AU', 'AZ', 'BA', 'BB', 'BD', 'BE', 'BF', 'BG', 'BH', 'BI', 'BJ', 'BN', 'BO', 'BR', 'BS', 'BT', 'BW', 'BY', 'BZ', 'CA', 'CD', 'CG', 'CH', 'CI', 'CL', 'CM', 'CO', 'CR', 'CV', 'CW', 'CY', 'CZ', 'DE', 'DJ', 'DK', 'DM', 'DO', 'DZ', 'EC', 'EE', 'EG', 'ES', 'FI', 'FJ', 'FM', 'FR', 'GA', 'GB', 'GD', 'GE', 'GH', 'GM', 'GN', 'GQ', 'GR', 'GT', 'GW', 'GY', 'HK', 'HN', 'HR', 'HT', 'HU', 'ID', 'IE', 'IL', 'IN', 'IQ', 'IS', 'IT', 'JM', 'JO', 'JP', 'KE', 'KG', 'KH', 'KI', 'KM', 'KN', 'KR', 'KW', 'KZ', 'LA', 'LB', 'LC', 'LI', 'LK', 'LR', 'LS', 'LT', 'LU', 'LV', 'LY', 'MA', 'MC', 'MD', 'ME', 'MG', 'MH', 'MK', 'ML', 'MN', 'MO', 'MR', 'MT', 'MU', 'MV', 'MW', 'MX', 'MY', 'MZ', 'NA', 'NE', 'NG', 'NI', 'NL', 'NO', 'NP', 'NR', 'NZ', 'OM', 'PA', 'PE', 'PG', 'PH', 'PK', 'PL', 'PS', 'PT', 'PW', 'PY', 'QA', 'RO', 'RS', 'RW', 'SA', 'SB', 'SC', 'SE', 'SG', 'SI', 'SK', 'SL', 'SM', 'SN', 'SR', 'ST', 'SV', 'SZ', 'TD', 'TG', 'TH', 'TJ', 'TL', 'TN', 'TO', 'TR', 'TT', 'TV', 'TW', 'TZ', 'UA', 'UG', 'US', 'UY', 'UZ', 'VC', 'VE', 'VN', 'VU', 'WS', 'XK', 'ZA', 'ZM', 'ZW'], 'disc_number': 1, 'duration_ms': 120693, 'episode': False, 'explicit': False, 'external_ids': {'isrc': 'USCA29900545'}, 'external_urls': {'spotify': 'https://open.spotify.com/track/4HEOgBHRCExyYVeTyrXsnL'}, 'href': 'https://api.spotify.com/v1/tracks/4HEOgBHRCExyYVeTyrXsnL', 'id': '4HEOgBHRCExyYVeTyrXsnL', 'is_local': False, 'name': 'Jingle Bells - Remastered 1999', 'popularity': 77, 'preview_url': None, 'track': True, 'track_number': 1, 'type': 'track', 'uri': 'spotify:track:4HEOgBHRCExyYVeTyrXsnL'},{'album': {'album_type': 'album', 'artists': [{'external_urls': {'spotify': 'https://open.spotify.com/artist/293zczrfYafIItmnmM3coR'}, 'href': 'https://api.spotify.com/v1/artists/293zczrfYafIItmnmM3coR', 'id': '293zczrfYafIItmnmM3coR', 'name': 'Chuck Berry', 'type': 'artist', 'uri': 'spotify:artist:293zczrfYafIItmnmM3coR'}], 'available_markets': ['AD', 'AE', 'AG', 'AL', 'AM', 'AO', 'AR', 'AT', 'AU', 'AZ', 'BA', 'BB', 'BD', 'BE', 'BF', 'BG', 'BH', 'BI', 'BJ', 'BN', 'BO', 'BR', 'BS', 'BT', 'BW', 'BY', 'BZ', 'CA', 'CD', 'CG', 'CH', 'CI', 'CL', 'CM', 'CO', 'CR', 'CV', 'CW', 'CY', 'CZ', 'DE', 'DJ', 'DK', 'DM', 'DO', 'DZ', 'EC', 'EE', 'EG', 'ES', 'FI', 'FJ', 'FM', 'FR', 'GA', 'GB', 'GD', 'GE', 'GH', 'GM', 'GN', 'GQ', 'GR', 'GT', 'GW', 'GY', 'HK', 'HN', 'HR', 'HT', 'HU', 'ID', 'IE', 'IL', 'IN', 'IQ', 'IS', 'IT', 'JM', 'JO', 'JP', 'KE', 'KG', 'KH', 'KI', 'KM', 'KN', 'KR', 'KW', 'KZ', 'LA', 'LB', 'LC', 'LI', 'LK', 'LR', 'LS', 'LT', 'LU', 'LV', 'LY', 'MA', 'MC', 'MD', 'ME', 'MG', 'MH', 'MK', 'ML', 'MN', 'MO', 'MR', 'MT', 'MU', 'MV', 'MW', 'MX', 'MY', 'MZ', 'NA', 'NE', 'NG', 'NI', 'NL', 'NO', 'NP', 'NR', 'NZ', 'OM', 'PA', 'PE', 'PG', 'PH', 'PK', 'PL', 'PS', 'PT', 'PW', 'PY', 'QA', 'RO', 'RS', 'RW', 'SA', 'SB', 'SC', 'SE', 'SG', 'SI', 'SK', 'SL', 'SM', 'SN', 'SR', 'ST', 'SV', 'SZ', 'TD', 'TG', 'TH', 'TJ', 'TL', 'TN', 'TO', 'TR', 'TT', 'TV', 'TW', 'TZ', 'UA', 'UG', 'US', 'UY', 'UZ', 'VC', 'VE', 'VN', 'VU', 'WS', 'XK', 'ZA', 'ZM', 'ZW'], 'external_urls': {'spotify': 'https://open.spotify.com/album/1DILNh7maaYyKxe15V9xLq'}, 'href': 'https://api.spotify.com/v1/albums/1DILNh7maaYyKxe15V9xLq', 'id': '1DILNh7maaYyKxe15V9xLq', 'images': [{'height': 640, 'url': 'https://i.scdn.co/image/ab67616d0000b27339807cff601735a3dec9e24c', 'width': 640}, {'height': 300, 'url': 'https://i.scdn.co/image/ab67616d00001e0239807cff601735a3dec9e24c', 'width': 300}, {'height': 64, 'url': 'https://i.scdn.co/image/ab67616d0000485139807cff601735a3dec9e24c', 'width': 64}], 'name': \"Rock 'N' Roll Rarities\", 'release_date': '1986-01-01', 'release_date_precision': 'day', 'total_tracks': 20, 'type': 'album', 'uri': 'spotify:album:1DILNh7maaYyKxe15V9xLq'}, 'artists': [{'external_urls': {'spotify': 'https://open.spotify.com/artist/293zczrfYafIItmnmM3coR'}, 'href': 'https://api.spotify.com/v1/artists/293zczrfYafIItmnmM3coR', 'id': '293zczrfYafIItmnmM3coR', 'name': 'Chuck Berry', 'type': 'artist', 'uri': 'spotify:artist:293zczrfYafIItmnmM3coR'}], 'available_markets': ['AD', 'AE', 'AG', 'AL', 'AM', 'AO', 'AR', 'AT', 'AU', 'AZ', 'BA', 'BB', 'BD', 'BE', 'BF', 'BG', 'BH', 'BI', 'BJ', 'BN', 'BO', 'BR', 'BS', 'BT', 'BW', 'BY', 'BZ', 'CA', 'CD', 'CG', 'CH', 'CI', 'CL', 'CM', 'CO', 'CR', 'CV', 'CW', 'CY', 'CZ', 'DE', 'DJ', 'DK', 'DM', 'DO', 'DZ', 'EC', 'EE', 'EG', 'ES', 'FI', 'FJ', 'FM', 'FR', 'GA', 'GB', 'GD', 'GE', 'GH', 'GM', 'GN', 'GQ', 'GR', 'GT', 'GW', 'GY', 'HK', 'HN', 'HR', 'HT', 'HU', 'ID', 'IE', 'IL', 'IN', 'IQ', 'IS', 'IT', 'JM', 'JO', 'JP', 'KE', 'KG', 'KH', 'KI', 'KM', 'KN', 'KR', 'KW', 'KZ', 'LA', 'LB', 'LC', 'LI', 'LK', 'LR', 'LS', 'LT', 'LU', 'LV', 'LY', 'MA', 'MC', 'MD', 'ME', 'MG', 'MH', 'MK', 'ML', 'MN', 'MO', 'MR', 'MT', 'MU', 'MV', 'MW', 'MX', 'MY', 'MZ', 'NA', 'NE', 'NG', 'NI', 'NL', 'NO', 'NP', 'NR', 'NZ', 'OM', 'PA', 'PE', 'PG', 'PH', 'PK', 'PL', 'PS', 'PT', 'PW', 'PY', 'QA', 'RO', 'RS', 'RW', 'SA', 'SB', 'SC', 'SE', 'SG', 'SI', 'SK', 'SL', 'SM', 'SN', 'SR', 'ST', 'SV', 'SZ', 'TD', 'TG', 'TH', 'TJ', 'TL', 'TN', 'TO', 'TR', 'TT', 'TV', 'TW', 'TZ', 'UA', 'UG', 'US', 'UY', 'UZ', 'VC', 'VE', 'VN', 'VU', 'WS', 'XK', 'ZA', 'ZM', 'ZW'], 'disc_number': 1, 'duration_ms': 165733, 'episode': False, 'explicit': False, 'external_ids': {'isrc': 'USMC15819663'}, 'external_urls': {'spotify': 'https://open.spotify.com/track/2pnPe4pJtq7689i5ydzvJJ'}, 'href': 'https://api.spotify.com/v1/tracks/2pnPe4pJtq7689i5ydzvJJ', 'id': '2pnPe4pJtq7689i5ydzvJJ', 'is_local': False, 'name': 'Run Rudolph Run', 'popularity': 78, 'preview_url': None, 'track': True, 'track_number': 15, 'type': 'track', 'uri': 'spotify:track:2pnPe4pJtq7689i5ydzvJJ'},{'album': {'album_type': 'album', 'artists': [{'external_urls': {'spotify': 'https://open.spotify.com/artist/1GxkXlMwML1oSg5eLPiAz3'}, 'href': 'https://api.spotify.com/v1/artists/1GxkXlMwML1oSg5eLPiAz3', 'id': '1GxkXlMwML1oSg5eLPiAz3', 'name': 'Michael Bublé', 'type': 'artist', 'uri': 'spotify:artist:1GxkXlMwML1oSg5eLPiAz3'}], 'available_markets': ['CA', 'US', 'ZA'], 'external_urls': {'spotify': 'https://open.spotify.com/album/3CKVXhODttZebJAzjUs2un'}, 'href': 'https://api.spotify.com/v1/albums/3CKVXhODttZebJAzjUs2un', 'id': '3CKVXhODttZebJAzjUs2un', 'images': [{'height': 640, 'url': 'https://i.scdn.co/image/ab67616d0000b27395517befb15ad5d63af701ab', 'width': 640}, {'height': 300, 'url': 'https://i.scdn.co/image/ab67616d00001e0295517befb15ad5d63af701ab', 'width': 300}, {'height': 64, 'url': 'https://i.scdn.co/image/ab67616d0000485195517befb15ad5d63af701ab', 'width': 64}], 'name': 'Christmas', 'release_date': '2011-10-14', 'release_date_precision': 'day', 'total_tracks': 16, 'type': 'album', 'uri': 'spotify:album:3CKVXhODttZebJAzjUs2un'}, 'artists': [{'external_urls': {'spotify': 'https://open.spotify.com/artist/1GxkXlMwML1oSg5eLPiAz3'}, 'href': 'https://api.spotify.com/v1/artists/1GxkXlMwML1oSg5eLPiAz3', 'id': '1GxkXlMwML1oSg5eLPiAz3', 'name': 'Michael Bublé', 'type': 'artist', 'uri': 'spotify:artist:1GxkXlMwML1oSg5eLPiAz3'}], 'available_markets': ['CA', 'US', 'ZA'], 'disc_number': 1, 'duration_ms': 119786, 'episode': False, 'explicit': False, 'external_ids': {'isrc': 'USRE11100705'}, 'external_urls': {'spotify': 'https://open.spotify.com/track/6tjituizSxwSmBB5vtgHZE'}, 'href': 'https://api.spotify.com/v1/tracks/6tjituizSxwSmBB5vtgHZE', 'id': '6tjituizSxwSmBB5vtgHZE', 'is_local': False, 'name': 'Holly Jolly Christmas', 'popularity': 76, 'preview_url': 'https://p.scdn.co/mp3-preview/dd9b2c687b546e12a8a2d29230ba34594112c8c5?cid=8cc561ad779e4f7ab9474f025c5ca931', 'track': True, 'track_number': 6, 'type': 'track', 'uri': 'spotify:track:6tjituizSxwSmBB5vtgHZE'},{'album': {'album_type': 'album', 'artists': [{'external_urls': {'spotify': 'https://open.spotify.com/artist/5v8jlSmAQfrkTjAlpUfWtu'}, 'href': 'https://api.spotify.com/v1/artists/5v8jlSmAQfrkTjAlpUfWtu', 'id': '5v8jlSmAQfrkTjAlpUfWtu', 'name': 'Perry Como', 'type': 'artist', 'uri': 'spotify:artist:5v8jlSmAQfrkTjAlpUfWtu'}], 'available_markets': ['AD', 'AE', 'AG', 'AL', 'AM', 'AO', 'AR', 'AT', 'AU', 'AZ', 'BA', 'BB', 'BD', 'BE', 'BF', 'BG', 'BH', 'BI', 'BJ', 'BN', 'BO', 'BR', 'BS', 'BT', 'BW', 'BY', 'BZ', 'CA', 'CD', 'CG', 'CH', 'CI', 'CL', 'CM', 'CO', 'CR', 'CV', 'CW', 'CY', 'CZ', 'DE', 'DJ', 'DK', 'DM', 'DO', 'DZ', 'EC', 'EE', 'EG', 'ES', 'FI', 'FJ', 'FM', 'FR', 'GA', 'GB', 'GD', 'GE', 'GH', 'GM', 'GN', 'GQ', 'GR', 'GT', 'GW', 'GY', 'HK', 'HN', 'HR', 'HT', 'HU', 'ID', 'IE', 'IL', 'IN', 'IQ', 'IS', 'IT', 'JM', 'JO', 'JP', 'KE', 'KG', 'KH', 'KI', 'KM', 'KN', 'KR', 'KW', 'KZ', 'LA', 'LB', 'LC', 'LI', 'LK', 'LR', 'LS', 'LT', 'LU', 'LV', 'LY', 'MA', 'MC', 'MD', 'ME', 'MG', 'MH', 'MK', 'ML', 'MN', 'MO', 'MR', 'MT', 'MU', 'MV', 'MW', 'MX', 'MY', 'MZ', 'NA', 'NE', 'NG', 'NI', 'NL', 'NO', 'NP', 'NR', 'NZ', 'OM', 'PA', 'PE', 'PG', 'PH', 'PK', 'PL', 'PS', 'PT', 'PW', 'PY', 'QA', 'RO', 'RS', 'RW', 'SA', 'SB', 'SC', 'SE', 'SG', 'SI', 'SK', 'SL', 'SM', 'SN', 'SR', 'ST', 'SV', 'SZ', 'TD', 'TG', 'TH', 'TJ', 'TL', 'TN', 'TO', 'TR', 'TT', 'TV', 'TW', 'TZ', 'UA', 'UG', 'US', 'UY', 'UZ', 'VC', 'VE', 'VN', 'VU', 'WS', 'XK', 'ZA', 'ZM', 'ZW'], 'external_urls': {'spotify': 'https://open.spotify.com/album/62nWLvkugm41tvnzjMw7a9'}, 'href': 'https://api.spotify.com/v1/albums/62nWLvkugm41tvnzjMw7a9', 'id': '62nWLvkugm41tvnzjMw7a9', 'images': [{'height': 640, 'url': 'https://i.scdn.co/image/ab67616d0000b2738b73946056c94e40928046cb', 'width': 640}, {'height': 300, 'url': 'https://i.scdn.co/image/ab67616d00001e028b73946056c94e40928046cb', 'width': 300}, {'height': 64, 'url': 'https://i.scdn.co/image/ab67616d000048518b73946056c94e40928046cb', 'width': 64}], 'name': \"Season's Greetings\", 'release_date': '1991-08-26', 'release_date_precision': 'day', 'total_tracks': 10, 'type': 'album', 'uri': 'spotify:album:62nWLvkugm41tvnzjMw7a9'}, 'artists': [{'external_urls': {'spotify': 'https://open.spotify.com/artist/5v8jlSmAQfrkTjAlpUfWtu'}, 'href': 'https://api.spotify.com/v1/artists/5v8jlSmAQfrkTjAlpUfWtu', 'id': '5v8jlSmAQfrkTjAlpUfWtu', 'name': 'Perry Como', 'type': 'artist', 'uri': 'spotify:artist:5v8jlSmAQfrkTjAlpUfWtu'}], 'available_markets': ['AD', 'AE', 'AG', 'AL', 'AM', 'AO', 'AR', 'AT', 'AU', 'AZ', 'BA', 'BB', 'BD', 'BE', 'BF', 'BG', 'BH', 'BI', 'BJ', 'BN', 'BO', 'BR', 'BS', 'BT', 'BW', 'BY', 'BZ', 'CA', 'CD', 'CG', 'CH', 'CI', 'CL', 'CM', 'CO', 'CR', 'CV', 'CW', 'CY', 'CZ', 'DE', 'DJ', 'DK', 'DM', 'DO', 'DZ', 'EC', 'EE', 'EG', 'ES', 'FI', 'FJ', 'FM', 'FR', 'GA', 'GB', 'GD', 'GE', 'GH', 'GM', 'GN', 'GQ', 'GR', 'GT', 'GW', 'GY', 'HK', 'HN', 'HR', 'HT', 'HU', 'ID', 'IE', 'IL', 'IN', 'IQ', 'IS', 'IT', 'JM', 'JO', 'JP', 'KE', 'KG', 'KH', 'KI', 'KM', 'KN', 'KR', 'KW', 'KZ', 'LA', 'LB', 'LC', 'LI', 'LK', 'LR', 'LS', 'LT', 'LU', 'LV', 'LY', 'MA', 'MC', 'MD', 'ME', 'MG', 'MH', 'MK', 'ML', 'MN', 'MO', 'MR', 'MT', 'MU', 'MV', 'MW', 'MX', 'MY', 'MZ', 'NA', 'NE', 'NG', 'NI', 'NL', 'NO', 'NP', 'NR', 'NZ', 'OM', 'PA', 'PE', 'PG', 'PH', 'PK', 'PL', 'PS', 'PT', 'PW', 'PY', 'QA', 'RO', 'RS', 'RW', 'SA', 'SB', 'SC', 'SE', 'SG', 'SI', 'SK', 'SL', 'SM', 'SN', 'SR', 'ST', 'SV', 'SZ', 'TD', 'TG', 'TH', 'TJ', 'TL', 'TN', 'TO', 'TR', 'TT', 'TV', 'TW', 'TZ', 'UA', 'UG', 'US', 'UY', 'UZ', 'VC', 'VE', 'VN', 'VU', 'WS', 'XK', 'ZA', 'ZM', 'ZW'], 'disc_number': 1, 'duration_ms': 175893, 'episode': False, 'explicit': False, 'external_ids': {'isrc': 'USRC10101096'}, 'external_urls': {'spotify': 'https://open.spotify.com/track/0hvN2v6fAcB6xWyW7UaooA'}, 'href': 'https://api.spotify.com/v1/tracks/0hvN2v6fAcB6xWyW7UaooA', 'id': '0hvN2v6fAcB6xWyW7UaooA', 'is_local': False, 'name': \"(There's No Place Like) Home for the Holidays - 1959 Version\", 'popularity': 67, 'preview_url': 'https://p.scdn.co/mp3-preview/258e58d82e4d9eb37ce9e591cdc19db20cc1f287?cid=8cc561ad779e4f7ab9474f025c5ca931', 'track': True, 'track_number': 1, 'type': 'track', 'uri': 'spotify:track:0hvN2v6fAcB6xWyW7UaooA'},{'album': {'album_type': 'album', 'artists': [{'external_urls': {'spotify': 'https://open.spotify.com/artist/2iE18Oxc8YSumAU232n4rW'}, 'href': 'https://api.spotify.com/v1/artists/2iE18Oxc8YSumAU232n4rW', 'id': '2iE18Oxc8YSumAU232n4rW', 'name': 'The Jackson 5', 'type': 'artist', 'uri': 'spotify:artist:2iE18Oxc8YSumAU232n4rW'}], 'available_markets': ['AD', 'AE', 'AG', 'AL', 'AM', 'AO', 'AR', 'AT', 'AU', 'AZ', 'BA', 'BB', 'BD', 'BE', 'BF', 'BG', 'BH', 'BI', 'BJ', 'BN', 'BO', 'BR', 'BS', 'BT', 'BW', 'BY', 'BZ', 'CA', 'CD', 'CG', 'CH', 'CI', 'CL', 'CM', 'CO', 'CR', 'CV', 'CW', 'CY', 'CZ', 'DE', 'DJ', 'DK', 'DM', 'DO', 'DZ', 'EC', 'EE', 'EG', 'ES', 'FI', 'FJ', 'FM', 'FR', 'GA', 'GB', 'GD', 'GE', 'GH', 'GM', 'GN', 'GQ', 'GR', 'GT', 'GW', 'GY', 'HK', 'HN', 'HR', 'HT', 'HU', 'ID', 'IE', 'IL', 'IN', 'IQ', 'IS', 'IT', 'JM', 'JO', 'JP', 'KE', 'KG', 'KH', 'KI', 'KM', 'KN', 'KR', 'KW', 'KZ', 'LA', 'LB', 'LC', 'LI', 'LK', 'LR', 'LS', 'LT', 'LU', 'LV', 'LY', 'MA', 'MC', 'MD', 'ME', 'MG', 'MH', 'MK', 'ML', 'MN', 'MO', 'MR', 'MT', 'MU', 'MV', 'MW', 'MX', 'MY', 'MZ', 'NA', 'NE', 'NG', 'NI', 'NL', 'NO', 'NP', 'NR', 'NZ', 'OM', 'PA', 'PE', 'PG', 'PH', 'PK', 'PL', 'PS', 'PT', 'PW', 'PY', 'QA', 'RO', 'RS', 'RW', 'SA', 'SB', 'SC', 'SE', 'SG', 'SI', 'SK', 'SL', 'SM', 'SN', 'SR', 'ST', 'SV', 'SZ', 'TD', 'TG', 'TH', 'TJ', 'TL', 'TN', 'TO', 'TR', 'TT', 'TV', 'TW', 'TZ', 'UA', 'UG', 'US', 'UY', 'UZ', 'VC', 'VE', 'VN', 'VU', 'WS', 'XK', 'ZA', 'ZM', 'ZW'], 'external_urls': {'spotify': 'https://open.spotify.com/album/5M8U1qYKvRQHJJVHmPY7QD'}, 'href': 'https://api.spotify.com/v1/albums/5M8U1qYKvRQHJJVHmPY7QD', 'id': '5M8U1qYKvRQHJJVHmPY7QD', 'images': [{'height': 640, 'url': 'https://i.scdn.co/image/ab67616d0000b27308a0fe33e91b991d2c9c9cde', 'width': 640}, {'height': 300, 'url': 'https://i.scdn.co/image/ab67616d00001e0208a0fe33e91b991d2c9c9cde', 'width': 300}, {'height': 64, 'url': 'https://i.scdn.co/image/ab67616d0000485108a0fe33e91b991d2c9c9cde', 'width': 64}], 'name': 'Christmas Album', 'release_date': '1970-10-15', 'release_date_precision': 'day', 'total_tracks': 11, 'type': 'album', 'uri': 'spotify:album:5M8U1qYKvRQHJJVHmPY7QD'}, 'artists': [{'external_urls': {'spotify': 'https://open.spotify.com/artist/2iE18Oxc8YSumAU232n4rW'}, 'href': 'https://api.spotify.com/v1/artists/2iE18Oxc8YSumAU232n4rW', 'id': '2iE18Oxc8YSumAU232n4rW', 'name': 'The Jackson 5', 'type': 'artist', 'uri': 'spotify:artist:2iE18Oxc8YSumAU232n4rW'}], 'available_markets': ['AD', 'AE', 'AG', 'AL', 'AM', 'AO', 'AR', 'AT', 'AU', 'AZ', 'BA', 'BB', 'BD', 'BE', 'BF', 'BG', 'BH', 'BI', 'BJ', 'BN', 'BO', 'BR', 'BS', 'BT', 'BW', 'BY', 'BZ', 'CA', 'CD', 'CG', 'CH', 'CI', 'CL', 'CM', 'CO', 'CR', 'CV', 'CW', 'CY', 'CZ', 'DE', 'DJ', 'DK', 'DM', 'DO', 'DZ', 'EC', 'EE', 'EG', 'ES', 'FI', 'FJ', 'FM', 'FR', 'GA', 'GB', 'GD', 'GE', 'GH', 'GM', 'GN', 'GQ', 'GR', 'GT', 'GW', 'GY', 'HK', 'HN', 'HR', 'HT', 'HU', 'ID', 'IE', 'IL', 'IN', 'IQ', 'IS', 'IT', 'JM', 'JO', 'JP', 'KE', 'KG', 'KH', 'KI', 'KM', 'KN', 'KR', 'KW', 'KZ', 'LA', 'LB', 'LC', 'LI', 'LK', 'LR', 'LS', 'LT', 'LU', 'LV', 'LY', 'MA', 'MC', 'MD', 'ME', 'MG', 'MH', 'MK', 'ML', 'MN', 'MO', 'MR', 'MT', 'MU', 'MV', 'MW', 'MX', 'MY', 'MZ', 'NA', 'NE', 'NG', 'NI', 'NL', 'NO', 'NP', 'NR', 'NZ', 'OM', 'PA', 'PE', 'PG', 'PH', 'PK', 'PL', 'PS', 'PT', 'PW', 'PY', 'QA', 'RO', 'RS', 'RW', 'SA', 'SB', 'SC', 'SE', 'SG', 'SI', 'SK', 'SL', 'SM', 'SN', 'SR', 'ST', 'SV', 'SZ', 'TD', 'TG', 'TH', 'TJ', 'TL', 'TN', 'TO', 'TR', 'TT', 'TV', 'TW', 'TZ', 'UA', 'UG', 'US', 'UY', 'UZ', 'VC', 'VE', 'VN', 'VU', 'WS', 'XK', 'ZA', 'ZM', 'ZW'], 'disc_number': 1, 'duration_ms': 144013, 'episode': False, 'explicit': False, 'external_ids': {'isrc': 'USMO17082641'}, 'external_urls': {'spotify': 'https://open.spotify.com/track/2QpN1ZVw8eJO5f7WcvUA1k'}, 'href': 'https://api.spotify.com/v1/tracks/2QpN1ZVw8eJO5f7WcvUA1k', 'id': '2QpN1ZVw8eJO5f7WcvUA1k', 'is_local': False, 'name': 'Santa Claus Is Coming To Town', 'popularity': 79, 'preview_url': None, 'track': True, 'track_number': 2, 'type': 'track', 'uri': 'spotify:track:2QpN1ZVw8eJO5f7WcvUA1k'},{'album': {'album_type': 'album', 'artists': [{'external_urls': {'spotify': 'https://open.spotify.com/artist/391oLRVmoTkumiN79HkTWu'}, 'href': 'https://api.spotify.com/v1/artists/391oLRVmoTkumiN79HkTWu', 'id': '391oLRVmoTkumiN79HkTWu', 'name': 'Darlene Love', 'type': 'artist', 'uri': 'spotify:artist:391oLRVmoTkumiN79HkTWu'}], 'available_markets': ['AD', 'AE', 'AG', 'AL', 'AM', 'AO', 'AR', 'AT', 'AU', 'AZ', 'BA', 'BB', 'BD', 'BE', 'BF', 'BG', 'BH', 'BI', 'BJ', 'BN', 'BO', 'BR', 'BS', 'BT', 'BW', 'BY', 'BZ', 'CA', 'CD', 'CG', 'CH', 'CI', 'CL', 'CM', 'CO', 'CR', 'CV', 'CW', 'CY', 'CZ', 'DE', 'DJ', 'DK', 'DM', 'DO', 'DZ', 'EC', 'EE', 'EG', 'ES', 'FI', 'FJ', 'FM', 'FR', 'GA', 'GB', 'GD', 'GE', 'GH', 'GM', 'GN', 'GQ', 'GR', 'GT', 'GW', 'GY', 'HK', 'HN', 'HR', 'HT', 'HU', 'ID', 'IE', 'IL', 'IN', 'IQ', 'IS', 'IT', 'JM', 'JO', 'JP', 'KE', 'KG', 'KH', 'KI', 'KM', 'KN', 'KR', 'KW', 'KZ', 'LA', 'LB', 'LC', 'LI', 'LK', 'LR', 'LS', 'LT', 'LU', 'LV', 'LY', 'MA', 'MC', 'MD', 'ME', 'MG', 'MH', 'MK', 'ML', 'MN', 'MO', 'MR', 'MT', 'MU', 'MV', 'MW', 'MX', 'MY', 'MZ', 'NA', 'NE', 'NG', 'NI', 'NL', 'NO', 'NP', 'NR', 'NZ', 'OM', 'PA', 'PE', 'PG', 'PH', 'PK', 'PL', 'PS', 'PT', 'PW', 'PY', 'QA', 'RO', 'RS', 'RW', 'SA', 'SB', 'SC', 'SE', 'SG', 'SI', 'SK', 'SL', 'SM', 'SN', 'SR', 'ST', 'SV', 'SZ', 'TD', 'TG', 'TH', 'TJ', 'TL', 'TN', 'TO', 'TR', 'TT', 'TV', 'TW', 'TZ', 'UA', 'UG', 'US', 'UY', 'UZ', 'VC', 'VE', 'VN', 'VU', 'WS', 'XK', 'ZA', 'ZM', 'ZW'], 'external_urls': {'spotify': 'https://open.spotify.com/album/3miX7IkmfMBJhQejq5rsA6'}, 'href': 'https://api.spotify.com/v1/albums/3miX7IkmfMBJhQejq5rsA6', 'id': '3miX7IkmfMBJhQejq5rsA6', 'images': [{'height': 640, 'url': 'https://i.scdn.co/image/ab67616d0000b2734bd42504ca3569f71af64fc8', 'width': 640}, {'height': 300, 'url': 'https://i.scdn.co/image/ab67616d00001e024bd42504ca3569f71af64fc8', 'width': 300}, {'height': 64, 'url': 'https://i.scdn.co/image/ab67616d000048514bd42504ca3569f71af64fc8', 'width': 64}], 'name': 'Christmas (Baby, Please Come Home)', 'release_date': '2020-12-04', 'release_date_precision': 'day', 'total_tracks': 15, 'type': 'album', 'uri': 'spotify:album:3miX7IkmfMBJhQejq5rsA6'}, 'artists': [{'external_urls': {'spotify': 'https://open.spotify.com/artist/391oLRVmoTkumiN79HkTWu'}, 'href': 'https://api.spotify.com/v1/artists/391oLRVmoTkumiN79HkTWu', 'id': '391oLRVmoTkumiN79HkTWu', 'name': 'Darlene Love', 'type': 'artist', 'uri': 'spotify:artist:391oLRVmoTkumiN79HkTWu'}], 'available_markets': ['AD', 'AE', 'AG', 'AL', 'AM', 'AO', 'AR', 'AT', 'AU', 'AZ', 'BA', 'BB', 'BD', 'BE', 'BF', 'BG', 'BH', 'BI', 'BJ', 'BN', 'BO', 'BR', 'BS', 'BT', 'BW', 'BY', 'BZ', 'CA', 'CD', 'CG', 'CH', 'CI', 'CL', 'CM', 'CO', 'CR', 'CV', 'CW', 'CY', 'CZ', 'DE', 'DJ', 'DK', 'DM', 'DO', 'DZ', 'EC', 'EE', 'EG', 'ES', 'FI', 'FJ', 'FM', 'FR', 'GA', 'GB', 'GD', 'GE', 'GH', 'GM', 'GN', 'GQ', 'GR', 'GT', 'GW', 'GY', 'HK', 'HN', 'HR', 'HT', 'HU', 'ID', 'IE', 'IL', 'IN', 'IQ', 'IS', 'IT', 'JM', 'JO', 'JP', 'KE', 'KG', 'KH', 'KI', 'KM', 'KN', 'KR', 'KW', 'KZ', 'LA', 'LB', 'LC', 'LI', 'LK', 'LR', 'LS', 'LT', 'LU', 'LV', 'LY', 'MA', 'MC', 'MD', 'ME', 'MG', 'MH', 'MK', 'ML', 'MN', 'MO', 'MR', 'MT', 'MU', 'MV', 'MW', 'MX', 'MY', 'MZ', 'NA', 'NE', 'NG', 'NI', 'NL', 'NO', 'NP', 'NR', 'NZ', 'OM', 'PA', 'PE', 'PG', 'PH', 'PK', 'PL', 'PS', 'PT', 'PW', 'PY', 'QA', 'RO', 'RS', 'RW', 'SA', 'SB', 'SC', 'SE', 'SG', 'SI', 'SK', 'SL', 'SM', 'SN', 'SR', 'ST', 'SV', 'SZ', 'TD', 'TG', 'TH', 'TJ', 'TL', 'TN', 'TO', 'TR', 'TT', 'TV', 'TW', 'TZ', 'UA', 'UG', 'US', 'UY', 'UZ', 'VC', 'VE', 'VN', 'VU', 'WS', 'XK', 'ZA', 'ZM', 'ZW'], 'disc_number': 1, 'duration_ms': 166453, 'episode': False, 'explicit': False, 'external_ids': {'isrc': 'USSM10905172'}, 'external_urls': {'spotify': 'https://open.spotify.com/track/47ohYW8e7dxCYn9qbUMBCI'}, 'href': 'https://api.spotify.com/v1/tracks/47ohYW8e7dxCYn9qbUMBCI', 'id': '47ohYW8e7dxCYn9qbUMBCI', 'is_local': False, 'name': 'Christmas (Baby Please Come Home)', 'popularity': 74, 'preview_url': 'https://p.scdn.co/mp3-preview/5ce76754e6d75f20a8b01eafce4ee7ac02d760d5?cid=8cc561ad779e4f7ab9474f025c5ca931', 'track': True, 'track_number': 1, 'type': 'track', 'uri': 'spotify:track:47ohYW8e7dxCYn9qbUMBCI'},{'album': {'album_type': 'album', 'artists': [{'external_urls': {'spotify': 'https://open.spotify.com/artist/4iHNK0tOyZPYnBU7nGAgpQ'}, 'href': 'https://api.spotify.com/v1/artists/4iHNK0tOyZPYnBU7nGAgpQ', 'id': '4iHNK0tOyZPYnBU7nGAgpQ', 'name': 'Mariah Carey', 'type': 'artist', 'uri': 'spotify:artist:4iHNK0tOyZPYnBU7nGAgpQ'}], 'available_markets': ['AD', 'AE', 'AG', 'AL', 'AM', 'AO', 'AR', 'AT', 'AU', 'AZ', 'BA', 'BB', 'BD', 'BE', 'BF', 'BG', 'BH', 'BI', 'BJ', 'BN', 'BO', 'BR', 'BS', 'BT', 'BW', 'BY', 'BZ', 'CA', 'CD', 'CG', 'CH', 'CI', 'CL', 'CM', 'CO', 'CR', 'CV', 'CW', 'CY', 'CZ', 'DE', 'DJ', 'DK', 'DM', 'DO', 'DZ', 'EC', 'EE', 'EG', 'ES', 'FI', 'FJ', 'FM', 'FR', 'GA', 'GB', 'GD', 'GE', 'GH', 'GM', 'GN', 'GQ', 'GR', 'GT', 'GW', 'GY', 'HK', 'HN', 'HR', 'HT', 'HU', 'ID', 'IE', 'IL', 'IN', 'IQ', 'IS', 'IT', 'JM', 'JO', 'JP', 'KE', 'KG', 'KH', 'KI', 'KM', 'KN', 'KR', 'KW', 'KZ', 'LA', 'LB', 'LC', 'LI', 'LK', 'LR', 'LS', 'LT', 'LU', 'LV', 'LY', 'MA', 'MC', 'MD', 'ME', 'MG', 'MH', 'MK', 'ML', 'MN', 'MO', 'MR', 'MT', 'MU', 'MV', 'MW', 'MX', 'MY', 'MZ', 'NA', 'NE', 'NG', 'NI', 'NL', 'NO', 'NP', 'NR', 'NZ', 'OM', 'PA', 'PE', 'PG', 'PH', 'PK', 'PL', 'PS', 'PT', 'PW', 'PY', 'QA', 'RO', 'RS', 'RW', 'SA', 'SB', 'SC', 'SE', 'SG', 'SI', 'SK', 'SL', 'SM', 'SN', 'SR', 'ST', 'SV', 'SZ', 'TD', 'TG', 'TH', 'TJ', 'TL', 'TN', 'TO', 'TR', 'TT', 'TV', 'TW', 'TZ', 'UA', 'UG', 'US', 'UY', 'UZ', 'VC', 'VE', 'VN', 'VU', 'WS', 'XK', 'ZA', 'ZM', 'ZW'], 'external_urls': {'spotify': 'https://open.spotify.com/album/61ulfFSmmxMhc2wCdmdMkN'}, 'href': 'https://api.spotify.com/v1/albums/61ulfFSmmxMhc2wCdmdMkN', 'id': '61ulfFSmmxMhc2wCdmdMkN', 'images': [{'height': 640, 'url': 'https://i.scdn.co/image/ab67616d0000b2734246e3158421f5abb75abc4f', 'width': 640}, {'height': 300, 'url': 'https://i.scdn.co/image/ab67616d00001e024246e3158421f5abb75abc4f', 'width': 300}, {'height': 64, 'url': 'https://i.scdn.co/image/ab67616d000048514246e3158421f5abb75abc4f', 'width': 64}], 'name': 'Merry Christmas', 'release_date': '1994-10-28', 'release_date_precision': 'day', 'total_tracks': 10, 'type': 'album', 'uri': 'spotify:album:61ulfFSmmxMhc2wCdmdMkN'}, 'artists': [{'external_urls': {'spotify': 'https://open.spotify.com/artist/4iHNK0tOyZPYnBU7nGAgpQ'}, 'href': 'https://api.spotify.com/v1/artists/4iHNK0tOyZPYnBU7nGAgpQ', 'id': '4iHNK0tOyZPYnBU7nGAgpQ', 'name': 'Mariah Carey', 'type': 'artist', 'uri': 'spotify:artist:4iHNK0tOyZPYnBU7nGAgpQ'}], 'available_markets': ['AD', 'AE', 'AG', 'AL', 'AM', 'AO', 'AR', 'AT', 'AU', 'AZ', 'BA', 'BB', 'BD', 'BE', 'BF', 'BG', 'BH', 'BI', 'BJ', 'BN', 'BO', 'BR', 'BS', 'BT', 'BW', 'BY', 'BZ', 'CA', 'CD', 'CG', 'CH', 'CI', 'CL', 'CM', 'CO', 'CR', 'CV', 'CW', 'CY', 'CZ', 'DE', 'DJ', 'DK', 'DM', 'DO', 'DZ', 'EC', 'EE', 'EG', 'ES', 'FI', 'FJ', 'FM', 'FR', 'GA', 'GB', 'GD', 'GE', 'GH', 'GM', 'GN', 'GQ', 'GR', 'GT', 'GW', 'GY', 'HK', 'HN', 'HR', 'HT', 'HU', 'ID', 'IE', 'IL', 'IN', 'IQ', 'IS', 'IT', 'JM', 'JO', 'JP', 'KE', 'KG', 'KH', 'KI', 'KM', 'KN', 'KR', 'KW', 'KZ', 'LA', 'LB', 'LC', 'LI', 'LK', 'LR', 'LS', 'LT', 'LU', 'LV', 'LY', 'MA', 'MC', 'MD', 'ME', 'MG', 'MH', 'MK', 'ML', 'MN', 'MO', 'MR', 'MT', 'MU', 'MV', 'MW', 'MX', 'MY', 'MZ', 'NA', 'NE', 'NG', 'NI', 'NL', 'NO', 'NP', 'NR', 'NZ', 'OM', 'PA', 'PE', 'PG', 'PH', 'PK', 'PL', 'PS', 'PT', 'PW', 'PY', 'QA', 'RO', 'RS', 'RW', 'SA', 'SB', 'SC', 'SE', 'SG', 'SI', 'SK', 'SL', 'SM', 'SN', 'SR', 'ST', 'SV', 'SZ', 'TD', 'TG', 'TH', 'TJ', 'TL', 'TN', 'TO', 'TR', 'TT', 'TV', 'TW', 'TZ', 'UA', 'UG', 'US', 'UY', 'UZ', 'VC', 'VE', 'VN', 'VU', 'WS', 'XK', 'ZA', 'ZM', 'ZW'], 'disc_number': 1, 'duration_ms': 153240, 'episode': False, 'explicit': False, 'external_ids': {'isrc': 'USSM19402077'}, 'external_urls': {'spotify': 'https://open.spotify.com/track/3PIDciSFdrQxSQSihim3hN'}, 'href': 'https://api.spotify.com/v1/tracks/3PIDciSFdrQxSQSihim3hN', 'id': '3PIDciSFdrQxSQSihim3hN', 'is_local': False, 'name': 'Christmas (Baby Please Come Home)', 'popularity': 80, 'preview_url': 'https://p.scdn.co/mp3-preview/bfe010c2fa967d0c62d555ca705a48585b29ae05?cid=8cc561ad779e4f7ab9474f025c5ca931', 'track': True, 'track_number': 4, 'type': 'track', 'uri': 'spotify:track:3PIDciSFdrQxSQSihim3hN'},{'album': {'album_type': 'single', 'artists': [{'external_urls': {'spotify': 'https://open.spotify.com/artist/5FNHfTn3yzVpqdUyWwej0v'}, 'href': 'https://api.spotify.com/v1/artists/5FNHfTn3yzVpqdUyWwej0v', 'id': '5FNHfTn3yzVpqdUyWwej0v', 'name': 'Jimmy Durante', 'type': 'artist', 'uri': 'spotify:artist:5FNHfTn3yzVpqdUyWwej0v'}], 'available_markets': ['AD', 'AE', 'AG', 'AL', 'AM', 'AO', 'AR', 'AT', 'AU', 'AZ', 'BA', 'BB', 'BD', 'BE', 'BF', 'BG', 'BH', 'BI', 'BJ', 'BN', 'BO', 'BR', 'BS', 'BT', 'BW', 'BY', 'BZ', 'CA', 'CD', 'CG', 'CH', 'CI', 'CL', 'CM', 'CO', 'CR', 'CV', 'CW', 'CY', 'CZ', 'DE', 'DJ', 'DK', 'DM', 'DO', 'DZ', 'EC', 'EE', 'EG', 'ES', 'FI', 'FJ', 'FM', 'FR', 'GA', 'GB', 'GD', 'GE', 'GH', 'GM', 'GN', 'GQ', 'GR', 'GT', 'GW', 'GY', 'HK', 'HN', 'HR', 'HT', 'HU', 'ID', 'IE', 'IL', 'IN', 'IQ', 'IS', 'IT', 'JM', 'JO', 'JP', 'KE', 'KG', 'KH', 'KI', 'KM', 'KN', 'KR', 'KW', 'KZ', 'LA', 'LB', 'LC', 'LI', 'LK', 'LR', 'LS', 'LT', 'LU', 'LV', 'LY', 'MA', 'MC', 'MD', 'ME', 'MG', 'MH', 'MK', 'ML', 'MN', 'MO', 'MR', 'MT', 'MU', 'MV', 'MW', 'MX', 'MY', 'MZ', 'NA', 'NE', 'NG', 'NI', 'NL', 'NO', 'NP', 'NR', 'NZ', 'OM', 'PA', 'PE', 'PG', 'PH', 'PK', 'PL', 'PS', 'PT', 'PW', 'PY', 'QA', 'RO', 'RS', 'RW', 'SA', 'SB', 'SC', 'SE', 'SG', 'SI', 'SK', 'SL', 'SM', 'SN', 'SR', 'ST', 'SV', 'SZ', 'TD', 'TG', 'TH', 'TJ', 'TL', 'TN', 'TO', 'TR', 'TT', 'TV', 'TW', 'TZ', 'UA', 'UG', 'US', 'UY', 'UZ', 'VC', 'VE', 'VN', 'VU', 'WS', 'XK', 'ZA', 'ZM', 'ZW'], 'external_urls': {'spotify': 'https://open.spotify.com/album/6H0mINIC2ZWBpEhg2JAGz4'}, 'href': 'https://api.spotify.com/v1/albums/6H0mINIC2ZWBpEhg2JAGz4', 'id': '6H0mINIC2ZWBpEhg2JAGz4', 'images': [{'height': 640, 'url': 'https://i.scdn.co/image/ab67616d0000b273c8769c2ca401307f6122b5c1', 'width': 640}, {'height': 300, 'url': 'https://i.scdn.co/image/ab67616d00001e02c8769c2ca401307f6122b5c1', 'width': 300}, {'height': 64, 'url': 'https://i.scdn.co/image/ab67616d00004851c8769c2ca401307f6122b5c1', 'width': 64}], 'name': 'Frosty The Snowman', 'release_date': '1950-01-01', 'release_date_precision': 'day', 'total_tracks': 2, 'type': 'album', 'uri': 'spotify:album:6H0mINIC2ZWBpEhg2JAGz4'}, 'artists': [{'external_urls': {'spotify': 'https://open.spotify.com/artist/5FNHfTn3yzVpqdUyWwej0v'}, 'href': 'https://api.spotify.com/v1/artists/5FNHfTn3yzVpqdUyWwej0v', 'id': '5FNHfTn3yzVpqdUyWwej0v', 'name': 'Jimmy Durante', 'type': 'artist', 'uri': 'spotify:artist:5FNHfTn3yzVpqdUyWwej0v'}], 'available_markets': ['AD', 'AE', 'AG', 'AL', 'AM', 'AO', 'AR', 'AT', 'AU', 'AZ', 'BA', 'BB', 'BD', 'BE', 'BF', 'BG', 'BH', 'BI', 'BJ', 'BN', 'BO', 'BR', 'BS', 'BT', 'BW', 'BY', 'BZ', 'CA', 'CD', 'CG', 'CH', 'CI', 'CL', 'CM', 'CO', 'CR', 'CV', 'CW', 'CY', 'CZ', 'DE', 'DJ', 'DK', 'DM', 'DO', 'DZ', 'EC', 'EE', 'EG', 'ES', 'FI', 'FJ', 'FM', 'FR', 'GA', 'GB', 'GD', 'GE', 'GH', 'GM', 'GN', 'GQ', 'GR', 'GT', 'GW', 'GY', 'HK', 'HN', 'HR', 'HT', 'HU', 'ID', 'IE', 'IL', 'IN', 'IQ', 'IS', 'IT', 'JM', 'JO', 'JP', 'KE', 'KG', 'KH', 'KI', 'KM', 'KN', 'KR', 'KW', 'KZ', 'LA', 'LB', 'LC', 'LI', 'LK', 'LR', 'LS', 'LT', 'LU', 'LV', 'LY', 'MA', 'MC', 'MD', 'ME', 'MG', 'MH', 'MK', 'ML', 'MN', 'MO', 'MR', 'MT', 'MU', 'MV', 'MW', 'MX', 'MY', 'MZ', 'NA', 'NE', 'NG', 'NI', 'NL', 'NO', 'NP', 'NR', 'NZ', 'OM', 'PA', 'PE', 'PG', 'PH', 'PK', 'PL', 'PS', 'PT', 'PW', 'PY', 'QA', 'RO', 'RS', 'RW', 'SA', 'SB', 'SC', 'SE', 'SG', 'SI', 'SK', 'SL', 'SM', 'SN', 'SR', 'ST', 'SV', 'SZ', 'TD', 'TG', 'TH', 'TJ', 'TL', 'TN', 'TO', 'TR', 'TT', 'TV', 'TW', 'TZ', 'UA', 'UG', 'US', 'UY', 'UZ', 'VC', 'VE', 'VN', 'VU', 'WS', 'XK', 'ZA', 'ZM', 'ZW'], 'disc_number': 1, 'duration_ms': 179826, 'episode': False, 'explicit': False, 'external_ids': {'isrc': 'USIR20000442'}, 'external_urls': {'spotify': 'https://open.spotify.com/track/2C31Z2B4Z4zb4L7gv6FbJg'}, 'href': 'https://api.spotify.com/v1/tracks/2C31Z2B4Z4zb4L7gv6FbJg', 'id': '2C31Z2B4Z4zb4L7gv6FbJg', 'is_local': False, 'name': 'Frosty The Snowman', 'popularity': 48, 'preview_url': None, 'track': True, 'track_number': 1, 'type': 'track', 'uri': 'spotify:track:2C31Z2B4Z4zb4L7gv6FbJg'},{'album': {'album_type': 'compilation', 'artists': [{'external_urls': {'spotify': 'https://open.spotify.com/artist/0LyfQWJT6nXafLPZqxe9Of'}, 'href': 'https://api.spotify.com/v1/artists/0LyfQWJT6nXafLPZqxe9Of', 'id': '0LyfQWJT6nXafLPZqxe9Of', 'name': 'Various Artists', 'type': 'artist', 'uri': 'spotify:artist:0LyfQWJT6nXafLPZqxe9Of'}], 'available_markets': ['AD', 'AE', 'AG', 'AL', 'AM', 'AO', 'AR', 'AT', 'AU', 'AZ', 'BA', 'BB', 'BD', 'BE', 'BF', 'BG', 'BH', 'BI', 'BJ', 'BN', 'BO', 'BR', 'BS', 'BT', 'BW', 'BZ', 'CA', 'CD', 'CG', 'CH', 'CI', 'CL', 'CM', 'CO', 'CR', 'CV', 'CW', 'CY', 'CZ', 'DE', 'DJ', 'DK', 'DM', 'DO', 'DZ', 'EC', 'EE', 'EG', 'ES', 'FI', 'FJ', 'FM', 'FR', 'GA', 'GB', 'GD', 'GE', 'GH', 'GM', 'GN', 'GQ', 'GR', 'GT', 'GW', 'GY', 'HK', 'HN', 'HR', 'HT', 'HU', 'ID', 'IE', 'IL', 'IN', 'IQ', 'IS', 'IT', 'JM', 'JO', 'JP', 'KE', 'KG', 'KH', 'KI', 'KM', 'KN', 'KR', 'KW', 'KZ', 'LA', 'LB', 'LC', 'LI', 'LK', 'LR', 'LS', 'LT', 'LU', 'LV', 'LY', 'MA', 'MC', 'MD', 'ME', 'MG', 'MH', 'MK', 'ML', 'MN', 'MO', 'MR', 'MT', 'MU', 'MV', 'MW', 'MX', 'MY', 'MZ', 'NA', 'NE', 'NG', 'NI', 'NL', 'NO', 'NP', 'NR', 'NZ', 'OM', 'PA', 'PE', 'PG', 'PH', 'PK', 'PL', 'PS', 'PT', 'PW', 'PY', 'QA', 'RO', 'RS', 'RW', 'SA', 'SB', 'SC', 'SE', 'SG', 'SI', 'SK', 'SL', 'SM', 'SN', 'SR', 'ST', 'SV', 'SZ', 'TD', 'TG', 'TH', 'TJ', 'TL', 'TN', 'TO', 'TR', 'TT', 'TV', 'TW', 'TZ', 'UA', 'UG', 'US', 'UY', 'UZ', 'VC', 'VE', 'VN', 'VU', 'WS', 'XK', 'ZA', 'ZM', 'ZW'], 'external_urls': {'spotify': 'https://open.spotify.com/album/7lZs5r4oQV2nutddffLrg0'}, 'href': 'https://api.spotify.com/v1/albums/7lZs5r4oQV2nutddffLrg0', 'id': '7lZs5r4oQV2nutddffLrg0', 'images': [{'height': 640, 'url': 'https://i.scdn.co/image/ab67616d0000b2734b1899123e484c034e31164e', 'width': 640}, {'height': 300, 'url': 'https://i.scdn.co/image/ab67616d00001e024b1899123e484c034e31164e', 'width': 300}, {'height': 64, 'url': 'https://i.scdn.co/image/ab67616d000048514b1899123e484c034e31164e', 'width': 64}], 'name': 'Frozen (Original Motion Picture Soundtrack / Deluxe Edition)', 'release_date': '2013-01-01', 'release_date_precision': 'day', 'total_tracks': 59, 'type': 'album', 'uri': 'spotify:album:7lZs5r4oQV2nutddffLrg0'}, 'artists': [{'external_urls': {'spotify': 'https://open.spotify.com/artist/2kHxkdiKCSnHMkhIgFBZaI'}, 'href': 'https://api.spotify.com/v1/artists/2kHxkdiKCSnHMkhIgFBZaI', 'id': '2kHxkdiKCSnHMkhIgFBZaI', 'name': 'Kristen Bell', 'type': 'artist', 'uri': 'spotify:artist:2kHxkdiKCSnHMkhIgFBZaI'}, {'external_urls': {'spotify': 'https://open.spotify.com/artist/6kHu5ICQRBZdsAHjAjQlmp'}, 'href': 'https://api.spotify.com/v1/artists/6kHu5ICQRBZdsAHjAjQlmp', 'id': '6kHu5ICQRBZdsAHjAjQlmp', 'name': 'Agatha Lee Monn', 'type': 'artist', 'uri': 'spotify:artist:6kHu5ICQRBZdsAHjAjQlmp'}, {'external_urls': {'spotify': 'https://open.spotify.com/artist/5Kkhk21siwbW3BfZUwpykJ'}, 'href': 'https://api.spotify.com/v1/artists/5Kkhk21siwbW3BfZUwpykJ', 'id': '5Kkhk21siwbW3BfZUwpykJ', 'name': 'Katie Lopez', 'type': 'artist', 'uri': 'spotify:artist:5Kkhk21siwbW3BfZUwpykJ'}], 'available_markets': ['AD', 'AE', 'AG', 'AL', 'AM', 'AO', 'AR', 'AT', 'AU', 'AZ', 'BA', 'BB', 'BD', 'BE', 'BF', 'BG', 'BH', 'BI', 'BJ', 'BN', 'BO', 'BR', 'BS', 'BT', 'BW', 'BZ', 'CA', 'CD', 'CG', 'CH', 'CI', 'CL', 'CM', 'CO', 'CR', 'CV', 'CW', 'CY', 'CZ', 'DE', 'DJ', 'DK', 'DM', 'DO', 'DZ', 'EC', 'EE', 'EG', 'ES', 'FI', 'FJ', 'FM', 'FR', 'GA', 'GB', 'GD', 'GE', 'GH', 'GM', 'GN', 'GQ', 'GR', 'GT', 'GW', 'GY', 'HK', 'HN', 'HR', 'HT', 'HU', 'ID', 'IE', 'IL', 'IN', 'IQ', 'IS', 'IT', 'JM', 'JO', 'JP', 'KE', 'KG', 'KH', 'KI', 'KM', 'KN', 'KR', 'KW', 'KZ', 'LA', 'LB', 'LC', 'LI', 'LK', 'LR', 'LS', 'LT', 'LU', 'LV', 'LY', 'MA', 'MC', 'MD', 'ME', 'MG', 'MH', 'MK', 'ML', 'MN', 'MO', 'MR', 'MT', 'MU', 'MV', 'MW', 'MX', 'MY', 'MZ', 'NA', 'NE', 'NG', 'NI', 'NL', 'NO', 'NP', 'NR', 'NZ', 'OM', 'PA', 'PE', 'PG', 'PH', 'PK', 'PL', 'PS', 'PT', 'PW', 'PY', 'QA', 'RO', 'RS', 'RW', 'SA', 'SB', 'SC', 'SE', 'SG', 'SI', 'SK', 'SL', 'SM', 'SN', 'SR', 'ST', 'SV', 'SZ', 'TD', 'TG', 'TH', 'TJ', 'TL', 'TN', 'TO', 'TR', 'TT', 'TV', 'TW', 'TZ', 'UA', 'UG', 'US', 'UY', 'UZ', 'VC', 'VE', 'VN', 'VU', 'WS', 'XK', 'ZA', 'ZM', 'ZW'], 'disc_number': 1, 'duration_ms': 206506, 'episode': False, 'explicit': False, 'external_ids': {'isrc': 'USWD11366364'}, 'external_urls': {'spotify': 'https://open.spotify.com/track/2yi7HZrBOC4bMUSTcs4VK6'}, 'href': 'https://api.spotify.com/v1/tracks/2yi7HZrBOC4bMUSTcs4VK6', 'id': '2yi7HZrBOC4bMUSTcs4VK6', 'is_local': False, 'name': 'Do You Want to Build a Snowman? - From \"Frozen\"/Soundtrack Version', 'popularity': 69, 'preview_url': None, 'track': True, 'track_number': 2, 'type': 'track', 'uri': 'spotify:track:2yi7HZrBOC4bMUSTcs4VK6'},{'album': {'album_type': 'album', 'artists': [{'external_urls': {'spotify': 'https://open.spotify.com/artist/1Mxqyy3pSjf8kZZL4QVxS0'}, 'href': 'https://api.spotify.com/v1/artists/1Mxqyy3pSjf8kZZL4QVxS0', 'id': '1Mxqyy3pSjf8kZZL4QVxS0', 'name': 'Frank Sinatra', 'type': 'artist', 'uri': 'spotify:artist:1Mxqyy3pSjf8kZZL4QVxS0'}], 'available_markets': ['AD', 'AE', 'AG', 'AL', 'AM', 'AO', 'AR', 'AT', 'AU', 'AZ', 'BA', 'BB', 'BD', 'BE', 'BF', 'BG', 'BH', 'BI', 'BJ', 'BN', 'BO', 'BR', 'BS', 'BT', 'BW', 'BY', 'BZ', 'CA', 'CD', 'CG', 'CH', 'CI', 'CL', 'CM', 'CO', 'CR', 'CV', 'CW', 'CY', 'CZ', 'DE', 'DJ', 'DK', 'DM', 'DO', 'DZ', 'EC', 'EE', 'EG', 'ES', 'FI', 'FJ', 'FM', 'FR', 'GA', 'GB', 'GD', 'GE', 'GH', 'GM', 'GN', 'GQ', 'GR', 'GT', 'GW', 'GY', 'HK', 'HN', 'HR', 'HT', 'HU', 'ID', 'IE', 'IL', 'IN', 'IQ', 'IS', 'IT', 'JM', 'JO', 'JP', 'KE', 'KG', 'KH', 'KI', 'KM', 'KN', 'KR', 'KW', 'KZ', 'LA', 'LB', 'LC', 'LI', 'LK', 'LR', 'LS', 'LT', 'LU', 'LV', 'LY', 'MA', 'MC', 'MD', 'ME', 'MG', 'MH', 'MK', 'ML', 'MN', 'MO', 'MR', 'MT', 'MU', 'MV', 'MW', 'MX', 'MY', 'MZ', 'NA', 'NE', 'NG', 'NI', 'NL', 'NO', 'NP', 'NR', 'NZ', 'OM', 'PA', 'PE', 'PG', 'PH', 'PK', 'PL', 'PS', 'PT', 'PW', 'PY', 'QA', 'RO', 'RS', 'RW', 'SA', 'SB', 'SC', 'SE', 'SG', 'SI', 'SK', 'SL', 'SM', 'SN', 'SR', 'ST', 'SV', 'SZ', 'TD', 'TG', 'TH', 'TJ', 'TL', 'TN', 'TO', 'TR', 'TT', 'TV', 'TW', 'TZ', 'UA', 'UG', 'US', 'UY', 'UZ', 'VC', 'VE', 'VN', 'VU', 'WS', 'XK', 'ZA', 'ZM', 'ZW'], 'external_urls': {'spotify': 'https://open.spotify.com/album/0ny6mZMBrYSO0s8HAKbcVq'}, 'href': 'https://api.spotify.com/v1/albums/0ny6mZMBrYSO0s8HAKbcVq', 'id': '0ny6mZMBrYSO0s8HAKbcVq', 'images': [{'height': 640, 'url': 'https://i.scdn.co/image/ab67616d0000b27394fd2e614d0862bdd2592594', 'width': 640}, {'height': 300, 'url': 'https://i.scdn.co/image/ab67616d00001e0294fd2e614d0862bdd2592594', 'width': 300}, {'height': 64, 'url': 'https://i.scdn.co/image/ab67616d0000485194fd2e614d0862bdd2592594', 'width': 64}], 'name': 'A Jolly Christmas From Frank Sinatra', 'release_date': '1957-09', 'release_date_precision': 'month', 'total_tracks': 15, 'type': 'album', 'uri': 'spotify:album:0ny6mZMBrYSO0s8HAKbcVq'}, 'artists': [{'external_urls': {'spotify': 'https://open.spotify.com/artist/1Mxqyy3pSjf8kZZL4QVxS0'}, 'href': 'https://api.spotify.com/v1/artists/1Mxqyy3pSjf8kZZL4QVxS0', 'id': '1Mxqyy3pSjf8kZZL4QVxS0', 'name': 'Frank Sinatra', 'type': 'artist', 'uri': 'spotify:artist:1Mxqyy3pSjf8kZZL4QVxS0'}], 'available_markets': ['AD', 'AE', 'AG', 'AL', 'AM', 'AO', 'AR', 'AT', 'AU', 'AZ', 'BA', 'BB', 'BD', 'BE', 'BF', 'BG', 'BH', 'BI', 'BJ', 'BN', 'BO', 'BR', 'BS', 'BT', 'BW', 'BY', 'BZ', 'CA', 'CD', 'CG', 'CH', 'CI', 'CL', 'CM', 'CO', 'CR', 'CV', 'CW', 'CY', 'CZ', 'DE', 'DJ', 'DK', 'DM', 'DO', 'DZ', 'EC', 'EE', 'EG', 'ES', 'FI', 'FJ', 'FM', 'FR', 'GA', 'GB', 'GD', 'GE', 'GH', 'GM', 'GN', 'GQ', 'GR', 'GT', 'GW', 'GY', 'HK', 'HN', 'HR', 'HT', 'HU', 'ID', 'IE', 'IL', 'IN', 'IQ', 'IS', 'IT', 'JM', 'JO', 'JP', 'KE', 'KG', 'KH', 'KI', 'KM', 'KN', 'KR', 'KW', 'KZ', 'LA', 'LB', 'LC', 'LI', 'LK', 'LR', 'LS', 'LT', 'LU', 'LV', 'LY', 'MA', 'MC', 'MD', 'ME', 'MG', 'MH', 'MK', 'ML', 'MN', 'MO', 'MR', 'MT', 'MU', 'MV', 'MW', 'MX', 'MY', 'MZ', 'NA', 'NE', 'NG', 'NI', 'NL', 'NO', 'NP', 'NR', 'NZ', 'OM', 'PA', 'PE', 'PG', 'PH', 'PK', 'PL', 'PS', 'PT', 'PW', 'PY', 'QA', 'RO', 'RS', 'RW', 'SA', 'SB', 'SC', 'SE', 'SG', 'SI', 'SK', 'SL', 'SM', 'SN', 'SR', 'ST', 'SV', 'SZ', 'TD', 'TG', 'TH', 'TJ', 'TL', 'TN', 'TO', 'TR', 'TT', 'TV', 'TW', 'TZ', 'UA', 'UG', 'US', 'UY', 'UZ', 'VC', 'VE', 'VN', 'VU', 'WS', 'XK', 'ZA', 'ZM', 'ZW'], 'disc_number': 1, 'duration_ms': 206600, 'episode': False, 'explicit': False, 'external_ids': {'isrc': 'USCA29900549'}, 'external_urls': {'spotify': 'https://open.spotify.com/track/2FPfeYlrbSBR8PwCU0zaqq'}, 'href': 'https://api.spotify.com/v1/tracks/2FPfeYlrbSBR8PwCU0zaqq', 'id': '2FPfeYlrbSBR8PwCU0zaqq', 'is_local': False, 'name': 'Have Yourself A Merry Little Christmas - Remastered 1999', 'popularity': 79, 'preview_url': None, 'track': True, 'track_number': 6, 'type': 'track', 'uri': 'spotify:track:2FPfeYlrbSBR8PwCU0zaqq'},{'album': {'album_type': 'album', 'artists': [{'external_urls': {'spotify': 'https://open.spotify.com/artist/1eEfMU2AhEo7XnKgL7c304'}, 'href': 'https://api.spotify.com/v1/artists/1eEfMU2AhEo7XnKgL7c304', 'id': '1eEfMU2AhEo7XnKgL7c304', 'name': 'Carpenters', 'type': 'artist', 'uri': 'spotify:artist:1eEfMU2AhEo7XnKgL7c304'}], 'available_markets': ['AD', 'AE', 'AG', 'AL', 'AM', 'AO', 'AR', 'AT', 'AU', 'AZ', 'BA', 'BB', 'BD', 'BE', 'BF', 'BG', 'BH', 'BI', 'BJ', 'BN', 'BO', 'BR', 'BS', 'BT', 'BW', 'BY', 'BZ', 'CA', 'CD', 'CG', 'CH', 'CI', 'CL', 'CM', 'CO', 'CR', 'CV', 'CW', 'CY', 'CZ', 'DE', 'DJ', 'DK', 'DM', 'DO', 'DZ', 'EC', 'EE', 'EG', 'ES', 'FI', 'FJ', 'FM', 'FR', 'GA', 'GB', 'GD', 'GE', 'GH', 'GM', 'GN', 'GQ', 'GR', 'GT', 'GW', 'GY', 'HK', 'HN', 'HR', 'HT', 'HU', 'ID', 'IE', 'IL', 'IN', 'IQ', 'IS', 'IT', 'JM', 'JO', 'JP', 'KE', 'KG', 'KH', 'KI', 'KM', 'KN', 'KR', 'KW', 'KZ', 'LA', 'LB', 'LC', 'LI', 'LK', 'LR', 'LS', 'LT', 'LU', 'LV', 'LY', 'MA', 'MC', 'MD', 'ME', 'MG', 'MH', 'MK', 'ML', 'MN', 'MO', 'MR', 'MT', 'MU', 'MV', 'MW', 'MX', 'MY', 'MZ', 'NA', 'NE', 'NG', 'NI', 'NL', 'NO', 'NP', 'NR', 'NZ', 'OM', 'PA', 'PE', 'PG', 'PH', 'PK', 'PL', 'PS', 'PT', 'PW', 'PY', 'QA', 'RO', 'RS', 'RW', 'SA', 'SB', 'SC', 'SE', 'SG', 'SI', 'SK', 'SL', 'SM', 'SN', 'SR', 'ST', 'SV', 'SZ', 'TD', 'TG', 'TH', 'TJ', 'TL', 'TN', 'TO', 'TR', 'TT', 'TV', 'TW', 'TZ', 'UA', 'UG', 'US', 'UY', 'UZ', 'VC', 'VE', 'VN', 'VU', 'WS', 'XK', 'ZA', 'ZM', 'ZW'], 'external_urls': {'spotify': 'https://open.spotify.com/album/5GMAtv4CU6GYQMo36Uuiqc'}, 'href': 'https://api.spotify.com/v1/albums/5GMAtv4CU6GYQMo36Uuiqc', 'id': '5GMAtv4CU6GYQMo36Uuiqc', 'images': [{'height': 640, 'url': 'https://i.scdn.co/image/ab67616d0000b273d044360064a0177e4208a870', 'width': 640}, {'height': 300, 'url': 'https://i.scdn.co/image/ab67616d00001e02d044360064a0177e4208a870', 'width': 300}, {'height': 64, 'url': 'https://i.scdn.co/image/ab67616d00004851d044360064a0177e4208a870', 'width': 64}], 'name': 'Christmas Portrait (Special Edition/Reissue)', 'release_date': '1978-10-13', 'release_date_precision': 'day', 'total_tracks': 21, 'type': 'album', 'uri': 'spotify:album:5GMAtv4CU6GYQMo36Uuiqc'}, 'artists': [{'external_urls': {'spotify': 'https://open.spotify.com/artist/1eEfMU2AhEo7XnKgL7c304'}, 'href': 'https://api.spotify.com/v1/artists/1eEfMU2AhEo7XnKgL7c304', 'id': '1eEfMU2AhEo7XnKgL7c304', 'name': 'Carpenters', 'type': 'artist', 'uri': 'spotify:artist:1eEfMU2AhEo7XnKgL7c304'}], 'available_markets': ['AD', 'AE', 'AG', 'AL', 'AM', 'AO', 'AR', 'AT', 'AU', 'AZ', 'BA', 'BB', 'BD', 'BE', 'BF', 'BG', 'BH', 'BI', 'BJ', 'BN', 'BO', 'BR', 'BS', 'BT', 'BW', 'BY', 'BZ', 'CA', 'CD', 'CG', 'CH', 'CI', 'CL', 'CM', 'CO', 'CR', 'CV', 'CW', 'CY', 'CZ', 'DE', 'DJ', 'DK', 'DM', 'DO', 'DZ', 'EC', 'EE', 'EG', 'ES', 'FI', 'FJ', 'FM', 'FR', 'GA', 'GB', 'GD', 'GE', 'GH', 'GM', 'GN', 'GQ', 'GR', 'GT', 'GW', 'GY', 'HK', 'HN', 'HR', 'HT', 'HU', 'ID', 'IE', 'IL', 'IN', 'IQ', 'IS', 'IT', 'JM', 'JO', 'JP', 'KE', 'KG', 'KH', 'KI', 'KM', 'KN', 'KR', 'KW', 'KZ', 'LA', 'LB', 'LC', 'LI', 'LK', 'LR', 'LS', 'LT', 'LU', 'LV', 'LY', 'MA', 'MC', 'MD', 'ME', 'MG', 'MH', 'MK', 'ML', 'MN', 'MO', 'MR', 'MT', 'MU', 'MV', 'MW', 'MX', 'MY', 'MZ', 'NA', 'NE', 'NG', 'NI', 'NL', 'NO', 'NP', 'NR', 'NZ', 'OM', 'PA', 'PE', 'PG', 'PH', 'PK', 'PL', 'PS', 'PT', 'PW', 'PY', 'QA', 'RO', 'RS', 'RW', 'SA', 'SB', 'SC', 'SE', 'SG', 'SI', 'SK', 'SL', 'SM', 'SN', 'SR', 'ST', 'SV', 'SZ', 'TD', 'TG', 'TH', 'TJ', 'TL', 'TN', 'TO', 'TR', 'TT', 'TV', 'TW', 'TZ', 'UA', 'UG', 'US', 'UY', 'UZ', 'VC', 'VE', 'VN', 'VU', 'WS', 'XK', 'ZA', 'ZM', 'ZW'], 'disc_number': 1, 'duration_ms': 186973, 'episode': False, 'explicit': False, 'external_ids': {'isrc': 'USAM17800383'}, 'external_urls': {'spotify': 'https://open.spotify.com/track/0z5HSQGWgnjdNvwbOmhB2w'}, 'href': 'https://api.spotify.com/v1/tracks/0z5HSQGWgnjdNvwbOmhB2w', 'id': '0z5HSQGWgnjdNvwbOmhB2w', 'is_local': False, 'name': 'Merry Christmas Darling - Remix', 'popularity': 73, 'preview_url': None, 'track': True, 'track_number': 11, 'type': 'track', 'uri': 'spotify:track:0z5HSQGWgnjdNvwbOmhB2w'},{'album': {'album_type': 'album', 'artists': [{'external_urls': {'spotify': 'https://open.spotify.com/artist/0HU0U9kdXEHZVxUNbuQe8S'}, 'href': 'https://api.spotify.com/v1/artists/0HU0U9kdXEHZVxUNbuQe8S', 'id': '0HU0U9kdXEHZVxUNbuQe8S', 'name': 'Donny Hathaway', 'type': 'artist', 'uri': 'spotify:artist:0HU0U9kdXEHZVxUNbuQe8S'}], 'available_markets': ['AD', 'AE', 'AG', 'AL', 'AM', 'AO', 'AR', 'AT', 'AU', 'AZ', 'BA', 'BB', 'BE', 'BF', 'BG', 'BH', 'BI', 'BJ', 'BN', 'BO', 'BR', 'BS', 'BW', 'BY', 'BZ', 'CA', 'CD', 'CG', 'CH', 'CI', 'CL', 'CM', 'CO', 'CR', 'CV', 'CW', 'CY', 'CZ', 'DE', 'DJ', 'DK', 'DM', 'DO', 'DZ', 'EC', 'EE', 'EG', 'ES', 'FI', 'FJ', 'FM', 'FR', 'GA', 'GB', 'GD', 'GH', 'GM', 'GN', 'GQ', 'GR', 'GT', 'GW', 'GY', 'HK', 'HN', 'HR', 'HT', 'HU', 'ID', 'IE', 'IL', 'IN', 'IQ', 'IS', 'IT', 'JM', 'JO', 'JP', 'KE', 'KG', 'KH', 'KM', 'KN', 'KR', 'KW', 'KZ', 'LA', 'LB', 'LC', 'LI', 'LK', 'LR', 'LS', 'LT', 'LU', 'LV', 'LY', 'MA', 'MC', 'MD', 'ME', 'MG', 'MK', 'ML', 'MN', 'MO', 'MR', 'MT', 'MU', 'MV', 'MW', 'MX', 'MY', 'MZ', 'NA', 'NE', 'NG', 'NI', 'NL', 'NO', 'NP', 'NZ', 'OM', 'PA', 'PE', 'PG', 'PH', 'PL', 'PS', 'PT', 'PY', 'QA', 'RO', 'RS', 'RW', 'SA', 'SC', 'SE', 'SG', 'SI', 'SK', 'SL', 'SM', 'SN', 'SR', 'ST', 'SV', 'SZ', 'TD', 'TG', 'TH', 'TJ', 'TL', 'TN', 'TR', 'TT', 'TW', 'TZ', 'UA', 'UG', 'US', 'UY', 'UZ', 'VC', 'VE', 'VN', 'XK', 'ZA', 'ZM', 'ZW'], 'external_urls': {'spotify': 'https://open.spotify.com/album/4yzozr59813IAXnxhWUl7i'}, 'href': 'https://api.spotify.com/v1/albums/4yzozr59813IAXnxhWUl7i', 'id': '4yzozr59813IAXnxhWUl7i', 'images': [{'height': 640, 'url': 'https://i.scdn.co/image/ab67616d0000b273e0ebc1dc512103af0b79055a', 'width': 640}, {'height': 300, 'url': 'https://i.scdn.co/image/ab67616d00001e02e0ebc1dc512103af0b79055a', 'width': 300}, {'height': 64, 'url': 'https://i.scdn.co/image/ab67616d00004851e0ebc1dc512103af0b79055a', 'width': 64}], 'name': 'Donny Hathaway', 'release_date': '1971', 'release_date_precision': 'year', 'total_tracks': 11, 'type': 'album', 'uri': 'spotify:album:4yzozr59813IAXnxhWUl7i'}, 'artists': [{'external_urls': {'spotify': 'https://open.spotify.com/artist/0HU0U9kdXEHZVxUNbuQe8S'}, 'href': 'https://api.spotify.com/v1/artists/0HU0U9kdXEHZVxUNbuQe8S', 'id': '0HU0U9kdXEHZVxUNbuQe8S', 'name': 'Donny Hathaway', 'type': 'artist', 'uri': 'spotify:artist:0HU0U9kdXEHZVxUNbuQe8S'}], 'available_markets': ['AD', 'AE', 'AG', 'AL', 'AM', 'AO', 'AR', 'AT', 'AU', 'AZ', 'BA', 'BB', 'BE', 'BF', 'BG', 'BH', 'BI', 'BJ', 'BN', 'BO', 'BR', 'BS', 'BW', 'BY', 'BZ', 'CA', 'CD', 'CG', 'CH', 'CI', 'CL', 'CM', 'CO', 'CR', 'CV', 'CW', 'CY', 'CZ', 'DE', 'DJ', 'DK', 'DM', 'DO', 'DZ', 'EC', 'EE', 'EG', 'ES', 'FI', 'FJ', 'FM', 'FR', 'GA', 'GB', 'GD', 'GH', 'GM', 'GN', 'GQ', 'GR', 'GT', 'GW', 'GY', 'HK', 'HN', 'HR', 'HT', 'HU', 'ID', 'IE', 'IL', 'IN', 'IQ', 'IS', 'IT', 'JM', 'JO', 'JP', 'KE', 'KG', 'KH', 'KM', 'KN', 'KR', 'KW', 'KZ', 'LA', 'LB', 'LC', 'LI', 'LK', 'LR', 'LS', 'LT', 'LU', 'LV', 'LY', 'MA', 'MC', 'MD', 'ME', 'MG', 'MK', 'ML', 'MN', 'MO', 'MR', 'MT', 'MU', 'MV', 'MW', 'MX', 'MY', 'MZ', 'NA', 'NE', 'NG', 'NI', 'NL', 'NO', 'NP', 'NZ', 'OM', 'PA', 'PE', 'PG', 'PH', 'PL', 'PS', 'PT', 'PY', 'QA', 'RO', 'RS', 'RW', 'SA', 'SC', 'SE', 'SG', 'SI', 'SK', 'SL', 'SM', 'SN', 'SR', 'ST', 'SV', 'SZ', 'TD', 'TG', 'TH', 'TJ', 'TL', 'TN', 'TR', 'TT', 'TW', 'TZ', 'UA', 'UG', 'US', 'UY', 'UZ', 'VC', 'VE', 'VN', 'XK', 'ZA', 'ZM', 'ZW'], 'disc_number': 1, 'duration_ms': 231173, 'episode': False, 'explicit': False, 'external_ids': {'isrc': 'USAT20180585'}, 'external_urls': {'spotify': 'https://open.spotify.com/track/7MSYSOobsombc1mbDWFxtD'}, 'href': 'https://api.spotify.com/v1/tracks/7MSYSOobsombc1mbDWFxtD', 'id': '7MSYSOobsombc1mbDWFxtD', 'is_local': False, 'name': 'This Christmas', 'popularity': 57, 'preview_url': 'https://p.scdn.co/mp3-preview/fe083b52ff74c69616af490c5d5c4b0a38f91a93?cid=8cc561ad779e4f7ab9474f025c5ca931', 'track': True, 'track_number': 11, 'type': 'track', 'uri': 'spotify:track:7MSYSOobsombc1mbDWFxtD'}\n"
     ]
    }
   ],
   "source": [
    "print(winter_track_strings)"
   ]
  },
  {
   "cell_type": "markdown",
   "id": "98fedb3c",
   "metadata": {},
   "source": [
    "After finishing the collected dataframe for the most popular Winter holiday songs I will collect the audio features and merge them together."
   ]
  },
  {
   "cell_type": "code",
   "execution_count": 128,
   "id": "9307d64a",
   "metadata": {},
   "outputs": [],
   "source": [
    "Win_track_features_endpoint = \"https://api.spotify.com/v1/audio-features?ids={}\".format(Hal_pop_strings)"
   ]
  },
  {
   "cell_type": "code",
   "execution_count": 129,
   "id": "523a7e49",
   "metadata": {},
   "outputs": [],
   "source": [
    "Win_features = requests.get(Win_track_features_endpoint, headers = session_header)"
   ]
  },
  {
   "cell_type": "code",
   "execution_count": 130,
   "id": "d4856163",
   "metadata": {},
   "outputs": [
    {
     "data": {
      "text/plain": [
       "200"
      ]
     },
     "execution_count": 130,
     "metadata": {},
     "output_type": "execute_result"
    }
   ],
   "source": [
    "Win_features.status_code"
   ]
  },
  {
   "cell_type": "code",
   "execution_count": 131,
   "id": "5fd0a478",
   "metadata": {
    "scrolled": true
   },
   "outputs": [
    {
     "data": {
      "text/html": [
       "<div>\n",
       "<style scoped>\n",
       "    .dataframe tbody tr th:only-of-type {\n",
       "        vertical-align: middle;\n",
       "    }\n",
       "\n",
       "    .dataframe tbody tr th {\n",
       "        vertical-align: top;\n",
       "    }\n",
       "\n",
       "    .dataframe thead th {\n",
       "        text-align: right;\n",
       "    }\n",
       "</style>\n",
       "<table border=\"1\" class=\"dataframe\">\n",
       "  <thead>\n",
       "    <tr style=\"text-align: right;\">\n",
       "      <th></th>\n",
       "      <th>danceability</th>\n",
       "      <th>energy</th>\n",
       "      <th>key</th>\n",
       "      <th>loudness</th>\n",
       "      <th>mode</th>\n",
       "      <th>speechiness</th>\n",
       "      <th>acousticness</th>\n",
       "      <th>instrumentalness</th>\n",
       "      <th>liveness</th>\n",
       "      <th>valence</th>\n",
       "      <th>tempo</th>\n",
       "      <th>type</th>\n",
       "      <th>id</th>\n",
       "      <th>uri</th>\n",
       "      <th>track_href</th>\n",
       "      <th>analysis_url</th>\n",
       "      <th>duration_ms</th>\n",
       "      <th>time_signature</th>\n",
       "    </tr>\n",
       "  </thead>\n",
       "  <tbody>\n",
       "    <tr>\n",
       "      <th>0</th>\n",
       "      <td>0.773</td>\n",
       "      <td>0.859</td>\n",
       "      <td>11</td>\n",
       "      <td>-4.913</td>\n",
       "      <td>1</td>\n",
       "      <td>0.0747</td>\n",
       "      <td>0.0855</td>\n",
       "      <td>0.000187</td>\n",
       "      <td>0.914</td>\n",
       "      <td>0.813</td>\n",
       "      <td>118.459</td>\n",
       "      <td>audio_features</td>\n",
       "      <td>3S2R0EVwBSAVMd5UMgKTL0</td>\n",
       "      <td>spotify:track:3S2R0EVwBSAVMd5UMgKTL0</td>\n",
       "      <td>https://api.spotify.com/v1/tracks/3S2R0EVwBSAV...</td>\n",
       "      <td>https://api.spotify.com/v1/audio-analysis/3S2R...</td>\n",
       "      <td>357267</td>\n",
       "      <td>4</td>\n",
       "    </tr>\n",
       "    <tr>\n",
       "      <th>1</th>\n",
       "      <td>0.778</td>\n",
       "      <td>0.719</td>\n",
       "      <td>4</td>\n",
       "      <td>-9.698</td>\n",
       "      <td>1</td>\n",
       "      <td>0.0345</td>\n",
       "      <td>0.0123</td>\n",
       "      <td>0.026200</td>\n",
       "      <td>0.297</td>\n",
       "      <td>0.729</td>\n",
       "      <td>115.400</td>\n",
       "      <td>audio_features</td>\n",
       "      <td>569uHYIB0X324FZOBEhvit</td>\n",
       "      <td>spotify:track:569uHYIB0X324FZOBEhvit</td>\n",
       "      <td>https://api.spotify.com/v1/tracks/569uHYIB0X32...</td>\n",
       "      <td>https://api.spotify.com/v1/audio-analysis/569u...</td>\n",
       "      <td>239133</td>\n",
       "      <td>4</td>\n",
       "    </tr>\n",
       "    <tr>\n",
       "      <th>2</th>\n",
       "      <td>0.541</td>\n",
       "      <td>0.504</td>\n",
       "      <td>11</td>\n",
       "      <td>-14.191</td>\n",
       "      <td>0</td>\n",
       "      <td>0.4570</td>\n",
       "      <td>0.3750</td>\n",
       "      <td>0.000000</td>\n",
       "      <td>0.421</td>\n",
       "      <td>0.707</td>\n",
       "      <td>68.482</td>\n",
       "      <td>audio_features</td>\n",
       "      <td>0xxZY5C9xxij3D1HkzbnfC</td>\n",
       "      <td>spotify:track:0xxZY5C9xxij3D1HkzbnfC</td>\n",
       "      <td>https://api.spotify.com/v1/tracks/0xxZY5C9xxij...</td>\n",
       "      <td>https://api.spotify.com/v1/audio-analysis/0xxZ...</td>\n",
       "      <td>192040</td>\n",
       "      <td>4</td>\n",
       "    </tr>\n",
       "    <tr>\n",
       "      <th>3</th>\n",
       "      <td>0.333</td>\n",
       "      <td>0.927</td>\n",
       "      <td>9</td>\n",
       "      <td>-8.550</td>\n",
       "      <td>0</td>\n",
       "      <td>0.0733</td>\n",
       "      <td>0.0029</td>\n",
       "      <td>0.000208</td>\n",
       "      <td>0.297</td>\n",
       "      <td>0.385</td>\n",
       "      <td>141.466</td>\n",
       "      <td>audio_features</td>\n",
       "      <td>5QTxFnGygVM4jFQiBovmRo</td>\n",
       "      <td>spotify:track:5QTxFnGygVM4jFQiBovmRo</td>\n",
       "      <td>https://api.spotify.com/v1/tracks/5QTxFnGygVM4...</td>\n",
       "      <td>https://api.spotify.com/v1/audio-analysis/5QTx...</td>\n",
       "      <td>308120</td>\n",
       "      <td>4</td>\n",
       "    </tr>\n",
       "    <tr>\n",
       "      <th>4</th>\n",
       "      <td>0.574</td>\n",
       "      <td>0.913</td>\n",
       "      <td>6</td>\n",
       "      <td>-4.793</td>\n",
       "      <td>0</td>\n",
       "      <td>0.1330</td>\n",
       "      <td>0.0610</td>\n",
       "      <td>0.001580</td>\n",
       "      <td>0.156</td>\n",
       "      <td>0.423</td>\n",
       "      <td>115.728</td>\n",
       "      <td>audio_features</td>\n",
       "      <td>2zYzyRzz6pRmhPzyfMEC8s</td>\n",
       "      <td>spotify:track:2zYzyRzz6pRmhPzyfMEC8s</td>\n",
       "      <td>https://api.spotify.com/v1/tracks/2zYzyRzz6pRm...</td>\n",
       "      <td>https://api.spotify.com/v1/audio-analysis/2zYz...</td>\n",
       "      <td>208400</td>\n",
       "      <td>4</td>\n",
       "    </tr>\n",
       "  </tbody>\n",
       "</table>\n",
       "</div>"
      ],
      "text/plain": [
       "   danceability  energy  key  loudness  mode  speechiness  acousticness  \\\n",
       "0         0.773   0.859   11    -4.913     1       0.0747        0.0855   \n",
       "1         0.778   0.719    4    -9.698     1       0.0345        0.0123   \n",
       "2         0.541   0.504   11   -14.191     0       0.4570        0.3750   \n",
       "3         0.333   0.927    9    -8.550     0       0.0733        0.0029   \n",
       "4         0.574   0.913    6    -4.793     0       0.1330        0.0610   \n",
       "\n",
       "   instrumentalness  liveness  valence    tempo            type  \\\n",
       "0          0.000187     0.914    0.813  118.459  audio_features   \n",
       "1          0.026200     0.297    0.729  115.400  audio_features   \n",
       "2          0.000000     0.421    0.707   68.482  audio_features   \n",
       "3          0.000208     0.297    0.385  141.466  audio_features   \n",
       "4          0.001580     0.156    0.423  115.728  audio_features   \n",
       "\n",
       "                       id                                   uri  \\\n",
       "0  3S2R0EVwBSAVMd5UMgKTL0  spotify:track:3S2R0EVwBSAVMd5UMgKTL0   \n",
       "1  569uHYIB0X324FZOBEhvit  spotify:track:569uHYIB0X324FZOBEhvit   \n",
       "2  0xxZY5C9xxij3D1HkzbnfC  spotify:track:0xxZY5C9xxij3D1HkzbnfC   \n",
       "3  5QTxFnGygVM4jFQiBovmRo  spotify:track:5QTxFnGygVM4jFQiBovmRo   \n",
       "4  2zYzyRzz6pRmhPzyfMEC8s  spotify:track:2zYzyRzz6pRmhPzyfMEC8s   \n",
       "\n",
       "                                          track_href  \\\n",
       "0  https://api.spotify.com/v1/tracks/3S2R0EVwBSAV...   \n",
       "1  https://api.spotify.com/v1/tracks/569uHYIB0X32...   \n",
       "2  https://api.spotify.com/v1/tracks/0xxZY5C9xxij...   \n",
       "3  https://api.spotify.com/v1/tracks/5QTxFnGygVM4...   \n",
       "4  https://api.spotify.com/v1/tracks/2zYzyRzz6pRm...   \n",
       "\n",
       "                                        analysis_url  duration_ms  \\\n",
       "0  https://api.spotify.com/v1/audio-analysis/3S2R...       357267   \n",
       "1  https://api.spotify.com/v1/audio-analysis/569u...       239133   \n",
       "2  https://api.spotify.com/v1/audio-analysis/0xxZ...       192040   \n",
       "3  https://api.spotify.com/v1/audio-analysis/5QTx...       308120   \n",
       "4  https://api.spotify.com/v1/audio-analysis/2zYz...       208400   \n",
       "\n",
       "   time_signature  \n",
       "0               4  \n",
       "1               4  \n",
       "2               4  \n",
       "3               4  \n",
       "4               4  "
      ]
     },
     "execution_count": 131,
     "metadata": {},
     "output_type": "execute_result"
    }
   ],
   "source": [
    "Win_dict = json.loads(Win_features.text)\n",
    "Win_dict.keys()\n",
    "Winter_af = Win_dict['audio_features']\n",
    "Winter_df = pd.DataFrame(Winter_af)\n",
    "Winter_df.head()"
   ]
  },
  {
   "cell_type": "code",
   "execution_count": 132,
   "id": "e470643e",
   "metadata": {},
   "outputs": [],
   "source": [
    "Win_pop['danceability'] = Winter_df['danceability']\n",
    "Win_pop['energy'] = Winter_df['energy']\n",
    "Win_pop['key'] = Winter_df['key']\n",
    "Win_pop['loudness'] = Winter_df['loudness']\n",
    "Win_pop['mode'] = Winter_df['mode']\n",
    "Win_pop['speechiness'] = Winter_df['speechiness']\n",
    "Win_pop['acousticness'] = Winter_df['acousticness']\n",
    "Win_pop['instrumentalness'] = Winter_df['instrumentalness']\n",
    "Win_pop['liveness'] = Winter_df['liveness']\n",
    "Win_pop['valence'] = Winter_df['valence']\n",
    "Win_pop['tempo'] = Winter_df['tempo']\n",
    "Win_pop['id'] = Winter_df['id']\n",
    "Win_pop['duration_ms'] = Winter_df['duration_ms']\n",
    "Win_pop['time_signature'] = Winter_df['time_signature']"
   ]
  },
  {
   "cell_type": "code",
   "execution_count": 133,
   "id": "42aea55c",
   "metadata": {
    "scrolled": true
   },
   "outputs": [
    {
     "data": {
      "text/html": [
       "<div>\n",
       "<style scoped>\n",
       "    .dataframe tbody tr th:only-of-type {\n",
       "        vertical-align: middle;\n",
       "    }\n",
       "\n",
       "    .dataframe tbody tr th {\n",
       "        vertical-align: top;\n",
       "    }\n",
       "\n",
       "    .dataframe thead th {\n",
       "        text-align: right;\n",
       "    }\n",
       "</style>\n",
       "<table border=\"1\" class=\"dataframe\">\n",
       "  <thead>\n",
       "    <tr style=\"text-align: right;\">\n",
       "      <th></th>\n",
       "      <th>duration_ms</th>\n",
       "      <th>id</th>\n",
       "      <th>name</th>\n",
       "      <th>popularity</th>\n",
       "      <th>artists_name</th>\n",
       "      <th>album_name</th>\n",
       "      <th>danceability</th>\n",
       "      <th>energy</th>\n",
       "      <th>key</th>\n",
       "      <th>loudness</th>\n",
       "      <th>mode</th>\n",
       "      <th>speechiness</th>\n",
       "      <th>acousticness</th>\n",
       "      <th>instrumentalness</th>\n",
       "      <th>liveness</th>\n",
       "      <th>valence</th>\n",
       "      <th>tempo</th>\n",
       "      <th>time_signature</th>\n",
       "    </tr>\n",
       "  </thead>\n",
       "  <tbody>\n",
       "    <tr>\n",
       "      <th>0</th>\n",
       "      <td>357267.0</td>\n",
       "      <td>3S2R0EVwBSAVMd5UMgKTL0</td>\n",
       "      <td>All I Want for Christmas Is You</td>\n",
       "      <td>92</td>\n",
       "      <td>Michael Jackson</td>\n",
       "      <td>All I Want for Christmas Is You</td>\n",
       "      <td>0.773</td>\n",
       "      <td>0.859</td>\n",
       "      <td>11.0</td>\n",
       "      <td>-4.913</td>\n",
       "      <td>1.0</td>\n",
       "      <td>0.0747</td>\n",
       "      <td>0.0855</td>\n",
       "      <td>0.000187</td>\n",
       "      <td>0.914</td>\n",
       "      <td>0.813</td>\n",
       "      <td>118.459</td>\n",
       "      <td>4.0</td>\n",
       "    </tr>\n",
       "    <tr>\n",
       "      <th>1</th>\n",
       "      <td>239133.0</td>\n",
       "      <td>569uHYIB0X324FZOBEhvit</td>\n",
       "      <td>Rockin' Around The Christmas Tree</td>\n",
       "      <td>89</td>\n",
       "      <td>Ray Parker Jr.</td>\n",
       "      <td>Rockin' Around The Christmas Tree</td>\n",
       "      <td>0.778</td>\n",
       "      <td>0.719</td>\n",
       "      <td>4.0</td>\n",
       "      <td>-9.698</td>\n",
       "      <td>1.0</td>\n",
       "      <td>0.0345</td>\n",
       "      <td>0.0123</td>\n",
       "      <td>0.026200</td>\n",
       "      <td>0.297</td>\n",
       "      <td>0.729</td>\n",
       "      <td>115.400</td>\n",
       "      <td>4.0</td>\n",
       "    </tr>\n",
       "    <tr>\n",
       "      <th>2</th>\n",
       "      <td>192040.0</td>\n",
       "      <td>0xxZY5C9xxij3D1HkzbnfC</td>\n",
       "      <td>Jingle Bell Rock</td>\n",
       "      <td>88</td>\n",
       "      <td>Bobby \"Boris\" Pickett</td>\n",
       "      <td>Jingle Bell Rock</td>\n",
       "      <td>0.541</td>\n",
       "      <td>0.504</td>\n",
       "      <td>11.0</td>\n",
       "      <td>-14.191</td>\n",
       "      <td>0.0</td>\n",
       "      <td>0.4570</td>\n",
       "      <td>0.3750</td>\n",
       "      <td>0.000000</td>\n",
       "      <td>0.421</td>\n",
       "      <td>0.707</td>\n",
       "      <td>68.482</td>\n",
       "      <td>4.0</td>\n",
       "    </tr>\n",
       "    <tr>\n",
       "      <th>3</th>\n",
       "      <td>308120.0</td>\n",
       "      <td>5QTxFnGygVM4jFQiBovmRo</td>\n",
       "      <td>The Christmas Song (Merry Christmas To You)</td>\n",
       "      <td>81</td>\n",
       "      <td>Blue Öyster Cult</td>\n",
       "      <td>The Christmas Song (Merry Christmas To You)</td>\n",
       "      <td>0.333</td>\n",
       "      <td>0.927</td>\n",
       "      <td>9.0</td>\n",
       "      <td>-8.550</td>\n",
       "      <td>0.0</td>\n",
       "      <td>0.0733</td>\n",
       "      <td>0.0029</td>\n",
       "      <td>0.000208</td>\n",
       "      <td>0.297</td>\n",
       "      <td>0.385</td>\n",
       "      <td>141.466</td>\n",
       "      <td>4.0</td>\n",
       "    </tr>\n",
       "    <tr>\n",
       "      <th>4</th>\n",
       "      <td>208400.0</td>\n",
       "      <td>2zYzyRzz6pRmhPzyfMEC8s</td>\n",
       "      <td>A Holly Jolly Christmas</td>\n",
       "      <td>83</td>\n",
       "      <td>AC/DC</td>\n",
       "      <td>A Holly Jolly Christmas</td>\n",
       "      <td>0.574</td>\n",
       "      <td>0.913</td>\n",
       "      <td>6.0</td>\n",
       "      <td>-4.793</td>\n",
       "      <td>0.0</td>\n",
       "      <td>0.1330</td>\n",
       "      <td>0.0610</td>\n",
       "      <td>0.001580</td>\n",
       "      <td>0.156</td>\n",
       "      <td>0.423</td>\n",
       "      <td>115.728</td>\n",
       "      <td>4.0</td>\n",
       "    </tr>\n",
       "  </tbody>\n",
       "</table>\n",
       "</div>"
      ],
      "text/plain": [
       "   duration_ms                      id  \\\n",
       "0     357267.0  3S2R0EVwBSAVMd5UMgKTL0   \n",
       "1     239133.0  569uHYIB0X324FZOBEhvit   \n",
       "2     192040.0  0xxZY5C9xxij3D1HkzbnfC   \n",
       "3     308120.0  5QTxFnGygVM4jFQiBovmRo   \n",
       "4     208400.0  2zYzyRzz6pRmhPzyfMEC8s   \n",
       "\n",
       "                                          name  popularity  \\\n",
       "0              All I Want for Christmas Is You          92   \n",
       "1            Rockin' Around The Christmas Tree          89   \n",
       "2                             Jingle Bell Rock          88   \n",
       "3  The Christmas Song (Merry Christmas To You)          81   \n",
       "4                      A Holly Jolly Christmas          83   \n",
       "\n",
       "            artists_name                                   album_name  \\\n",
       "0        Michael Jackson              All I Want for Christmas Is You   \n",
       "1         Ray Parker Jr.            Rockin' Around The Christmas Tree   \n",
       "2  Bobby \"Boris\" Pickett                             Jingle Bell Rock   \n",
       "3       Blue Öyster Cult  The Christmas Song (Merry Christmas To You)   \n",
       "4                  AC/DC                      A Holly Jolly Christmas   \n",
       "\n",
       "   danceability  energy   key  loudness  mode  speechiness  acousticness  \\\n",
       "0         0.773   0.859  11.0    -4.913   1.0       0.0747        0.0855   \n",
       "1         0.778   0.719   4.0    -9.698   1.0       0.0345        0.0123   \n",
       "2         0.541   0.504  11.0   -14.191   0.0       0.4570        0.3750   \n",
       "3         0.333   0.927   9.0    -8.550   0.0       0.0733        0.0029   \n",
       "4         0.574   0.913   6.0    -4.793   0.0       0.1330        0.0610   \n",
       "\n",
       "   instrumentalness  liveness  valence    tempo  time_signature  \n",
       "0          0.000187     0.914    0.813  118.459             4.0  \n",
       "1          0.026200     0.297    0.729  115.400             4.0  \n",
       "2          0.000000     0.421    0.707   68.482             4.0  \n",
       "3          0.000208     0.297    0.385  141.466             4.0  \n",
       "4          0.001580     0.156    0.423  115.728             4.0  "
      ]
     },
     "execution_count": 133,
     "metadata": {},
     "output_type": "execute_result"
    }
   ],
   "source": [
    "Win_pop.head()"
   ]
  },
  {
   "cell_type": "code",
   "execution_count": 139,
   "id": "854260ce",
   "metadata": {
    "scrolled": true
   },
   "outputs": [
    {
     "data": {
      "image/png": "[encoded data removed]",
      "text/plain": [
       "<Figure size 432x288 with 1 Axes>"
      ]
     },
     "metadata": {
      "needs_background": "light"
     },
     "output_type": "display_data"
    }
   ],
   "source": [
    "Halloween1 = Hal_pop['popularity'].plot.hist()\n",
    "plt.show()"
   ]
  },
  {
   "cell_type": "markdown",
   "id": "218bae5e",
   "metadata": {},
   "source": [
    "Here is the histogram of the Fall/Hallloween playlist popularity."
   ]
  },
  {
   "cell_type": "code",
   "execution_count": 140,
   "id": "c117610d",
   "metadata": {
    "scrolled": true
   },
   "outputs": [
    {
     "data": {
      "image/png": "[encoded data removed]",
      "text/plain": [
       "<Figure size 432x288 with 1 Axes>"
      ]
     },
     "metadata": {
      "needs_background": "light"
     },
     "output_type": "display_data"
    }
   ],
   "source": [
    "Winter1 = Win_pop['popularity'].plot.hist()\n",
    "plt.show()"
   ]
  },
  {
   "cell_type": "markdown",
   "id": "285c0aa5",
   "metadata": {},
   "source": [
    "Here is the histogram of the Winter Holiday Playlist popularity."
   ]
  }
 ],
 "metadata": {
  "kernelspec": {
   "display_name": "Python 3 (ipykernel)",
   "language": "python",
   "name": "python3"
  },
  "language_info": {
   "codemirror_mode": {
    "name": "ipython",
    "version": 3
   },
   "file_extension": ".py",
   "mimetype": "text/x-python",
   "name": "python",
   "nbconvert_exporter": "python",
   "pygments_lexer": "ipython3",
   "version": "3.10.4"
  }
 },
 "nbformat": 4,
 "nbformat_minor": 5
}

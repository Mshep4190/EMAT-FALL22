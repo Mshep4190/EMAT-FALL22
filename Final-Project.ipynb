{
 "cells": [
  {
   "cell_type": "code",
   "execution_count": 48,
   "id": "98e5f63c",
   "metadata": {},
   "outputs": [],
   "source": [
    "import pandas as pd\n",
    "import json\n",
    "from matplotlib import pyplot as plt\n",
    "from scipy import stats\n",
    "import base64\n",
    "import numpy as np\n",
    "import requests"
   ]
  },
  {
   "cell_type": "markdown",
   "id": "fd61858e",
   "metadata": {},
   "source": [
    "I'll need to get Spotify data for my report, but first I must obtain my Spotify authorization keys."
   ]
  },
  {
   "cell_type": "code",
   "execution_count": 49,
   "id": "76a31fd7",
   "metadata": {
    "scrolled": true
   },
   "outputs": [
    {
     "name": "stdout",
     "output_type": "stream",
     "text": [
      " Volume in drive C is Windows\n",
      " Volume Serial Number is 2A5E-5FC9\n",
      "\n",
      " Directory of C:\\Users\\shep4\\EMAT-FALL22\n",
      "\n",
      "12/02/2022  06:34 PM    <DIR>          .\n",
      "11/01/2022  10:28 AM    <DIR>          ..\n",
      "12/02/2022  12:44 PM               205 .cache\n",
      "12/02/2022  10:12 AM    <DIR>          .ipynb_checkpoints\n",
      "10/20/2022  11:07 AM            48,817 10-18_in-class_spotify.ipynb\n",
      "10/23/2022  11:38 AM            39,806 10-18_in-class-Copy1.ipynb\n",
      "10/27/2022  11:11 AM            37,345 10-27_in-class.ipynb\n",
      "10/06/2022  10:19 AM             8,378 10-4_in-class.ipynb\n",
      "10/06/2022  11:14 AM            27,295 10-6_in-class.ipynb\n",
      "11/01/2022  11:06 AM            51,208 11-1_in-class.ipynb\n",
      "11/10/2022  12:14 PM            13,121 11-10_in-class.ipynb\n",
      "11/17/2022  12:05 PM            40,714 11-17_in-class.ipynb\n",
      "11/22/2022  05:10 PM               589 11-3_in-class.ipynb\n",
      "09/01/2022  10:24 AM               732 9-1_in-class.ipynb\n",
      "11/23/2022  01:18 PM             8,773 audio_features.csv\n",
      "11/01/2022  10:09 AM            77,889 cces_example_data.csv\n",
      "10/04/2022  09:42 AM    <DIR>          Chinook\n",
      "09/06/2022  10:18 AM         6,198,504 Facebook Files.zip\n",
      "11/22/2022  02:19 PM    <DIR>          FB\n",
      "12/02/2022  06:34 PM            42,297 Final-Project.ipynb\n",
      "11/15/2022  12:16 PM            66,691 in-class_11-15-22.ipynb\n",
      "11/29/2022  11:47 AM            27,344 In-class_11-29.ipynb\n",
      "09/06/2022  10:38 AM    <DIR>          Insta\n",
      "09/06/2022  10:19 AM       114,757,116 Instagram Files.zip\n",
      "08/30/2022  11:13 AM               650 Lecture_8-30_inclass.ipynb\n",
      "09/30/2022  12:44 PM            35,546 Liked-Post-Report.ipynb\n",
      "11/29/2022  11:27 AM           119,578 message_1.json\n",
      "11/23/2022  04:45 PM           532,031 Off-Facebook_Analysis-Report.ipynb\n",
      "09/01/2022  01:33 PM             1,412 Schoeppner_SystemsCheck.ipynb\n",
      "09/06/2022  11:11 AM             2,775 Sep-6_in-class.ipynb\n",
      "09/15/2022  11:15 AM           310,762 Sept-8_in-class.ipynb\n",
      "09/22/2022  11:14 AM            11,963 September-22-22.ipynb\n",
      "10/18/2022  11:11 AM                89 Spotify-Keys_10-18-22.txt\n",
      "11/15/2022  11:49 AM            57,377 Spotify-track-data-collection.ipynb\n",
      "11/23/2022  12:45 PM           821,743 Twitter text Report.ipynb\n",
      "10/25/2022  03:55 PM           199,602 Twitter text Report.ipynb.csv\n",
      "09/22/2022  10:46 AM               125 Twitter_Token_9-22-22.txt\n",
      "              31 File(s)    123,540,477 bytes\n",
      "               6 Dir(s)  784,334,000,128 bytes free\n"
     ]
    }
   ],
   "source": [
    "ls"
   ]
  },
  {
   "cell_type": "code",
   "execution_count": 50,
   "id": "0b27705b",
   "metadata": {},
   "outputs": [],
   "source": [
    "keys = pd.read_csv(\"Spotify-Keys_10-18-22.txt\", header = 0, sep = \",\")"
   ]
  },
  {
   "cell_type": "code",
   "execution_count": 51,
   "id": "0a6f0455",
   "metadata": {},
   "outputs": [],
   "source": [
    "appid = keys['Client_ID'][0]"
   ]
  },
  {
   "cell_type": "code",
   "execution_count": 52,
   "id": "4839ce8a",
   "metadata": {},
   "outputs": [],
   "source": [
    "appsecret = keys['Client_Secret'][0]"
   ]
  },
  {
   "cell_type": "code",
   "execution_count": 53,
   "id": "c697f341",
   "metadata": {},
   "outputs": [],
   "source": [
    "client_cred = base64.b64encode(str(appid + \":\" + appsecret).encode('ascii'))"
   ]
  },
  {
   "cell_type": "code",
   "execution_count": 54,
   "id": "69806686",
   "metadata": {},
   "outputs": [],
   "source": [
    "headers = {'Authorization': 'Basic {}'.format(client_cred.decode('ascii'))}"
   ]
  },
  {
   "cell_type": "code",
   "execution_count": 55,
   "id": "2558be96",
   "metadata": {},
   "outputs": [],
   "source": [
    "payload = {'grant_type' : 'client_credentials'}\n",
    "access_token_url = \"https://accounts.spotify.com/api/token\""
   ]
  },
  {
   "cell_type": "code",
   "execution_count": 56,
   "id": "daefd4bf",
   "metadata": {},
   "outputs": [],
   "source": [
    "response = requests.post(access_token_url, headers = headers, data = payload)"
   ]
  },
  {
   "cell_type": "code",
   "execution_count": 57,
   "id": "5cb10494",
   "metadata": {},
   "outputs": [],
   "source": [
    "session_token = response.json()['access_token']"
   ]
  },
  {
   "cell_type": "code",
   "execution_count": 58,
   "id": "273afd9c",
   "metadata": {},
   "outputs": [],
   "source": [
    "session_header = {'Authorization': 'Bearer {}'.format(response.json()['access_token'])}"
   ]
  },
  {
   "cell_type": "markdown",
   "id": "76a8690c",
   "metadata": {},
   "source": [
    "I was able to estimate the number of the most well-known fall and Halloween-themed songs from a recent article I discovered, which was from this past October. I then used this article to make a playlist, ordering each song according to how popular it was at the time. I'll now collect the information from this playlist."
   ]
  },
  {
   "cell_type": "code",
   "execution_count": 59,
   "id": "1cb48f93",
   "metadata": {},
   "outputs": [],
   "source": [
    "spooky_id = '6xuHrxObOuzSAgfuJpNyLm'"
   ]
  },
  {
   "cell_type": "markdown",
   "id": "c709d169",
   "metadata": {},
   "source": [
    "Playlist of the Fall/Halloween music I put together = 6xuHrxObOuzSAgfuJpNyLm"
   ]
  },
  {
   "cell_type": "code",
   "execution_count": 60,
   "id": "7e383887",
   "metadata": {
    "scrolled": true
   },
   "outputs": [],
   "source": [
    "playlist_tracks_endpoint = \"https://api.spotify.com/v1/playlists/{}\".format(spooky_id)"
   ]
  },
  {
   "cell_type": "code",
   "execution_count": 61,
   "id": "888f9821",
   "metadata": {},
   "outputs": [],
   "source": [
    "spooky_tracks = requests.get(playlist_tracks_endpoint, headers = session_header)"
   ]
  },
  {
   "cell_type": "code",
   "execution_count": 62,
   "id": "fa1d0b81",
   "metadata": {},
   "outputs": [
    {
     "data": {
      "text/plain": [
       "200"
      ]
     },
     "execution_count": 62,
     "metadata": {},
     "output_type": "execute_result"
    }
   ],
   "source": [
    "spooky_tracks.status_code"
   ]
  },
  {
   "cell_type": "code",
   "execution_count": 63,
   "id": "5a6f2c21",
   "metadata": {},
   "outputs": [],
   "source": [
    "spooky_dict = json.loads(spooky_tracks.text)"
   ]
  },
  {
   "cell_type": "code",
   "execution_count": 64,
   "id": "37daedd5",
   "metadata": {},
   "outputs": [
    {
     "data": {
      "text/plain": [
       "dict_keys(['collaborative', 'description', 'external_urls', 'followers', 'href', 'id', 'images', 'name', 'owner', 'primary_color', 'public', 'snapshot_id', 'tracks', 'type', 'uri'])"
      ]
     },
     "execution_count": 64,
     "metadata": {},
     "output_type": "execute_result"
    }
   ],
   "source": [
    "spooky_dict.keys()"
   ]
  },
  {
   "cell_type": "code",
   "execution_count": 65,
   "id": "fc403959",
   "metadata": {},
   "outputs": [
    {
     "data": {
      "text/plain": [
       "dict_keys(['href', 'items', 'limit', 'next', 'offset', 'previous', 'total'])"
      ]
     },
     "execution_count": 65,
     "metadata": {},
     "output_type": "execute_result"
    }
   ],
   "source": [
    "spooky_dict['tracks'].keys()"
   ]
  },
  {
   "cell_type": "code",
   "execution_count": 66,
   "id": "b9ee9717",
   "metadata": {},
   "outputs": [
    {
     "data": {
      "text/plain": [
       "dict_keys(['added_at', 'added_by', 'is_local', 'primary_color', 'track', 'video_thumbnail'])"
      ]
     },
     "execution_count": 66,
     "metadata": {},
     "output_type": "execute_result"
    }
   ],
   "source": [
    "spooky_dict['tracks']['items'][0].keys()"
   ]
  },
  {
   "cell_type": "code",
   "execution_count": 67,
   "id": "1a0bb7b7",
   "metadata": {},
   "outputs": [],
   "source": [
    "spooky_track_ids = [x['track'] for x in spooky_dict['tracks']['items']]"
   ]
  },
  {
   "cell_type": "code",
   "execution_count": 68,
   "id": "743e904c",
   "metadata": {},
   "outputs": [],
   "source": [
    "spooky = pd.DataFrame(spooky_track_ids)"
   ]
  },
  {
   "cell_type": "markdown",
   "id": "db0cb10e",
   "metadata": {},
   "source": [
    "Every song on the created playlist will now be available."
   ]
  },
  {
   "cell_type": "code",
   "execution_count": 69,
   "id": "36ee6619",
   "metadata": {},
   "outputs": [
    {
     "data": {
      "text/html": [
       "<div>\n",
       "<style scoped>\n",
       "    .dataframe tbody tr th:only-of-type {\n",
       "        vertical-align: middle;\n",
       "    }\n",
       "\n",
       "    .dataframe tbody tr th {\n",
       "        vertical-align: top;\n",
       "    }\n",
       "\n",
       "    .dataframe thead th {\n",
       "        text-align: right;\n",
       "    }\n",
       "</style>\n",
       "<table border=\"1\" class=\"dataframe\">\n",
       "  <thead>\n",
       "    <tr style=\"text-align: right;\">\n",
       "      <th></th>\n",
       "      <th>album</th>\n",
       "      <th>artists</th>\n",
       "      <th>available_markets</th>\n",
       "      <th>disc_number</th>\n",
       "      <th>duration_ms</th>\n",
       "      <th>episode</th>\n",
       "      <th>explicit</th>\n",
       "      <th>external_ids</th>\n",
       "      <th>external_urls</th>\n",
       "      <th>href</th>\n",
       "      <th>id</th>\n",
       "      <th>is_local</th>\n",
       "      <th>name</th>\n",
       "      <th>popularity</th>\n",
       "      <th>preview_url</th>\n",
       "      <th>track</th>\n",
       "      <th>track_number</th>\n",
       "      <th>type</th>\n",
       "      <th>uri</th>\n",
       "    </tr>\n",
       "  </thead>\n",
       "  <tbody>\n",
       "    <tr>\n",
       "      <th>0</th>\n",
       "      <td>{'album_type': 'album', 'artists': [{'external...</td>\n",
       "      <td>[{'external_urls': {'spotify': 'https://open.s...</td>\n",
       "      <td>[AD, AE, AG, AL, AM, AO, AR, AT, AU, AZ, BA, B...</td>\n",
       "      <td>1</td>\n",
       "      <td>357266</td>\n",
       "      <td>False</td>\n",
       "      <td>False</td>\n",
       "      <td>{'isrc': 'USSM19902989'}</td>\n",
       "      <td>{'spotify': 'https://open.spotify.com/track/3S...</td>\n",
       "      <td>https://api.spotify.com/v1/tracks/3S2R0EVwBSAV...</td>\n",
       "      <td>3S2R0EVwBSAVMd5UMgKTL0</td>\n",
       "      <td>False</td>\n",
       "      <td>Thriller</td>\n",
       "      <td>73</td>\n",
       "      <td>https://p.scdn.co/mp3-preview/04e2e4889d434ec0...</td>\n",
       "      <td>True</td>\n",
       "      <td>4</td>\n",
       "      <td>track</td>\n",
       "      <td>spotify:track:3S2R0EVwBSAVMd5UMgKTL0</td>\n",
       "    </tr>\n",
       "    <tr>\n",
       "      <th>1</th>\n",
       "      <td>{'album_type': 'compilation', 'artists': [{'ex...</td>\n",
       "      <td>[{'external_urls': {'spotify': 'https://open.s...</td>\n",
       "      <td>[AD, AE, AG, AL, AM, AO, AR, AT, AU, AZ, BA, B...</td>\n",
       "      <td>1</td>\n",
       "      <td>239133</td>\n",
       "      <td>False</td>\n",
       "      <td>False</td>\n",
       "      <td>{'isrc': 'USAR18400117'}</td>\n",
       "      <td>{'spotify': 'https://open.spotify.com/track/56...</td>\n",
       "      <td>https://api.spotify.com/v1/tracks/569uHYIB0X32...</td>\n",
       "      <td>569uHYIB0X324FZOBEhvit</td>\n",
       "      <td>False</td>\n",
       "      <td>Ghostbusters</td>\n",
       "      <td>70</td>\n",
       "      <td>https://p.scdn.co/mp3-preview/9f4aa5928f0ebd49...</td>\n",
       "      <td>True</td>\n",
       "      <td>1</td>\n",
       "      <td>track</td>\n",
       "      <td>spotify:track:569uHYIB0X324FZOBEhvit</td>\n",
       "    </tr>\n",
       "    <tr>\n",
       "      <th>2</th>\n",
       "      <td>{'album_type': 'album', 'artists': [{'external...</td>\n",
       "      <td>[{'external_urls': {'spotify': 'https://open.s...</td>\n",
       "      <td>[AD, AE, AG, AL, AM, AO, AR, AT, AU, AZ, BA, B...</td>\n",
       "      <td>1</td>\n",
       "      <td>192040</td>\n",
       "      <td>False</td>\n",
       "      <td>False</td>\n",
       "      <td>{'isrc': 'GBBBA7360050'}</td>\n",
       "      <td>{'spotify': 'https://open.spotify.com/track/0x...</td>\n",
       "      <td>https://api.spotify.com/v1/tracks/0xxZY5C9xxij...</td>\n",
       "      <td>0xxZY5C9xxij3D1HkzbnfC</td>\n",
       "      <td>False</td>\n",
       "      <td>Monster Mash</td>\n",
       "      <td>70</td>\n",
       "      <td>None</td>\n",
       "      <td>True</td>\n",
       "      <td>1</td>\n",
       "      <td>track</td>\n",
       "      <td>spotify:track:0xxZY5C9xxij3D1HkzbnfC</td>\n",
       "    </tr>\n",
       "    <tr>\n",
       "      <th>3</th>\n",
       "      <td>{'album_type': 'album', 'artists': [{'external...</td>\n",
       "      <td>[{'external_urls': {'spotify': 'https://open.s...</td>\n",
       "      <td>[AD, AE, AG, AL, AM, AO, AR, AT, AU, AZ, BA, B...</td>\n",
       "      <td>1</td>\n",
       "      <td>308120</td>\n",
       "      <td>False</td>\n",
       "      <td>False</td>\n",
       "      <td>{'isrc': 'USSM17600477'}</td>\n",
       "      <td>{'spotify': 'https://open.spotify.com/track/5Q...</td>\n",
       "      <td>https://api.spotify.com/v1/tracks/5QTxFnGygVM4...</td>\n",
       "      <td>5QTxFnGygVM4jFQiBovmRo</td>\n",
       "      <td>False</td>\n",
       "      <td>(Don't Fear) The Reaper</td>\n",
       "      <td>76</td>\n",
       "      <td>https://p.scdn.co/mp3-preview/7506c69eeadd2ba6...</td>\n",
       "      <td>True</td>\n",
       "      <td>3</td>\n",
       "      <td>track</td>\n",
       "      <td>spotify:track:5QTxFnGygVM4jFQiBovmRo</td>\n",
       "    </tr>\n",
       "    <tr>\n",
       "      <th>4</th>\n",
       "      <td>{'album_type': 'album', 'artists': [{'external...</td>\n",
       "      <td>[{'external_urls': {'spotify': 'https://open.s...</td>\n",
       "      <td>[AD, AE, AG, AL, AM, AO, AR, AT, AU, AZ, BA, B...</td>\n",
       "      <td>1</td>\n",
       "      <td>208400</td>\n",
       "      <td>False</td>\n",
       "      <td>False</td>\n",
       "      <td>{'isrc': 'AUAP07900028'}</td>\n",
       "      <td>{'spotify': 'https://open.spotify.com/track/2z...</td>\n",
       "      <td>https://api.spotify.com/v1/tracks/2zYzyRzz6pRm...</td>\n",
       "      <td>2zYzyRzz6pRmhPzyfMEC8s</td>\n",
       "      <td>False</td>\n",
       "      <td>Highway to Hell</td>\n",
       "      <td>84</td>\n",
       "      <td>https://p.scdn.co/mp3-preview/3589df13595d1ab1...</td>\n",
       "      <td>True</td>\n",
       "      <td>1</td>\n",
       "      <td>track</td>\n",
       "      <td>spotify:track:2zYzyRzz6pRmhPzyfMEC8s</td>\n",
       "    </tr>\n",
       "  </tbody>\n",
       "</table>\n",
       "</div>"
      ],
      "text/plain": [
       "                                               album  \\\n",
       "0  {'album_type': 'album', 'artists': [{'external...   \n",
       "1  {'album_type': 'compilation', 'artists': [{'ex...   \n",
       "2  {'album_type': 'album', 'artists': [{'external...   \n",
       "3  {'album_type': 'album', 'artists': [{'external...   \n",
       "4  {'album_type': 'album', 'artists': [{'external...   \n",
       "\n",
       "                                             artists  \\\n",
       "0  [{'external_urls': {'spotify': 'https://open.s...   \n",
       "1  [{'external_urls': {'spotify': 'https://open.s...   \n",
       "2  [{'external_urls': {'spotify': 'https://open.s...   \n",
       "3  [{'external_urls': {'spotify': 'https://open.s...   \n",
       "4  [{'external_urls': {'spotify': 'https://open.s...   \n",
       "\n",
       "                                   available_markets  disc_number  \\\n",
       "0  [AD, AE, AG, AL, AM, AO, AR, AT, AU, AZ, BA, B...            1   \n",
       "1  [AD, AE, AG, AL, AM, AO, AR, AT, AU, AZ, BA, B...            1   \n",
       "2  [AD, AE, AG, AL, AM, AO, AR, AT, AU, AZ, BA, B...            1   \n",
       "3  [AD, AE, AG, AL, AM, AO, AR, AT, AU, AZ, BA, B...            1   \n",
       "4  [AD, AE, AG, AL, AM, AO, AR, AT, AU, AZ, BA, B...            1   \n",
       "\n",
       "   duration_ms  episode  explicit              external_ids  \\\n",
       "0       357266    False     False  {'isrc': 'USSM19902989'}   \n",
       "1       239133    False     False  {'isrc': 'USAR18400117'}   \n",
       "2       192040    False     False  {'isrc': 'GBBBA7360050'}   \n",
       "3       308120    False     False  {'isrc': 'USSM17600477'}   \n",
       "4       208400    False     False  {'isrc': 'AUAP07900028'}   \n",
       "\n",
       "                                       external_urls  \\\n",
       "0  {'spotify': 'https://open.spotify.com/track/3S...   \n",
       "1  {'spotify': 'https://open.spotify.com/track/56...   \n",
       "2  {'spotify': 'https://open.spotify.com/track/0x...   \n",
       "3  {'spotify': 'https://open.spotify.com/track/5Q...   \n",
       "4  {'spotify': 'https://open.spotify.com/track/2z...   \n",
       "\n",
       "                                                href                      id  \\\n",
       "0  https://api.spotify.com/v1/tracks/3S2R0EVwBSAV...  3S2R0EVwBSAVMd5UMgKTL0   \n",
       "1  https://api.spotify.com/v1/tracks/569uHYIB0X32...  569uHYIB0X324FZOBEhvit   \n",
       "2  https://api.spotify.com/v1/tracks/0xxZY5C9xxij...  0xxZY5C9xxij3D1HkzbnfC   \n",
       "3  https://api.spotify.com/v1/tracks/5QTxFnGygVM4...  5QTxFnGygVM4jFQiBovmRo   \n",
       "4  https://api.spotify.com/v1/tracks/2zYzyRzz6pRm...  2zYzyRzz6pRmhPzyfMEC8s   \n",
       "\n",
       "   is_local                     name  popularity  \\\n",
       "0     False                 Thriller          73   \n",
       "1     False             Ghostbusters          70   \n",
       "2     False             Monster Mash          70   \n",
       "3     False  (Don't Fear) The Reaper          76   \n",
       "4     False          Highway to Hell          84   \n",
       "\n",
       "                                         preview_url  track  track_number  \\\n",
       "0  https://p.scdn.co/mp3-preview/04e2e4889d434ec0...   True             4   \n",
       "1  https://p.scdn.co/mp3-preview/9f4aa5928f0ebd49...   True             1   \n",
       "2                                               None   True             1   \n",
       "3  https://p.scdn.co/mp3-preview/7506c69eeadd2ba6...   True             3   \n",
       "4  https://p.scdn.co/mp3-preview/3589df13595d1ab1...   True             1   \n",
       "\n",
       "    type                                   uri  \n",
       "0  track  spotify:track:3S2R0EVwBSAVMd5UMgKTL0  \n",
       "1  track  spotify:track:569uHYIB0X324FZOBEhvit  \n",
       "2  track  spotify:track:0xxZY5C9xxij3D1HkzbnfC  \n",
       "3  track  spotify:track:5QTxFnGygVM4jFQiBovmRo  \n",
       "4  track  spotify:track:2zYzyRzz6pRmhPzyfMEC8s  "
      ]
     },
     "execution_count": 69,
     "metadata": {},
     "output_type": "execute_result"
    }
   ],
   "source": [
    "spooky.head()"
   ]
  },
  {
   "cell_type": "markdown",
   "id": "7e039b64",
   "metadata": {},
   "source": [
    "Given the volume of information provided, I will need to remove some of it in order to get the information I need."
   ]
  },
  {
   "cell_type": "code",
   "execution_count": 70,
   "id": "442ac035",
   "metadata": {},
   "outputs": [],
   "source": [
    "spooky_1 = spooky.drop(columns = ['available_markets', 'disc_number', 'episode', 'external_ids', 'is_local', 'preview_url', 'track', 'track_number', 'type','available_markets', 'external_urls', 'href', 'type', 'uri'])\n"
   ]
  },
  {
   "cell_type": "code",
   "execution_count": 71,
   "id": "bbbfb9fc",
   "metadata": {},
   "outputs": [
    {
     "data": {
      "text/html": [
       "<div>\n",
       "<style scoped>\n",
       "    .dataframe tbody tr th:only-of-type {\n",
       "        vertical-align: middle;\n",
       "    }\n",
       "\n",
       "    .dataframe tbody tr th {\n",
       "        vertical-align: top;\n",
       "    }\n",
       "\n",
       "    .dataframe thead th {\n",
       "        text-align: right;\n",
       "    }\n",
       "</style>\n",
       "<table border=\"1\" class=\"dataframe\">\n",
       "  <thead>\n",
       "    <tr style=\"text-align: right;\">\n",
       "      <th></th>\n",
       "      <th>album</th>\n",
       "      <th>artists</th>\n",
       "      <th>duration_ms</th>\n",
       "      <th>explicit</th>\n",
       "      <th>id</th>\n",
       "      <th>name</th>\n",
       "      <th>popularity</th>\n",
       "    </tr>\n",
       "  </thead>\n",
       "  <tbody>\n",
       "    <tr>\n",
       "      <th>0</th>\n",
       "      <td>{'album_type': 'album', 'artists': [{'external...</td>\n",
       "      <td>[{'external_urls': {'spotify': 'https://open.s...</td>\n",
       "      <td>357266</td>\n",
       "      <td>False</td>\n",
       "      <td>3S2R0EVwBSAVMd5UMgKTL0</td>\n",
       "      <td>Thriller</td>\n",
       "      <td>73</td>\n",
       "    </tr>\n",
       "    <tr>\n",
       "      <th>1</th>\n",
       "      <td>{'album_type': 'compilation', 'artists': [{'ex...</td>\n",
       "      <td>[{'external_urls': {'spotify': 'https://open.s...</td>\n",
       "      <td>239133</td>\n",
       "      <td>False</td>\n",
       "      <td>569uHYIB0X324FZOBEhvit</td>\n",
       "      <td>Ghostbusters</td>\n",
       "      <td>70</td>\n",
       "    </tr>\n",
       "    <tr>\n",
       "      <th>2</th>\n",
       "      <td>{'album_type': 'album', 'artists': [{'external...</td>\n",
       "      <td>[{'external_urls': {'spotify': 'https://open.s...</td>\n",
       "      <td>192040</td>\n",
       "      <td>False</td>\n",
       "      <td>0xxZY5C9xxij3D1HkzbnfC</td>\n",
       "      <td>Monster Mash</td>\n",
       "      <td>70</td>\n",
       "    </tr>\n",
       "    <tr>\n",
       "      <th>3</th>\n",
       "      <td>{'album_type': 'album', 'artists': [{'external...</td>\n",
       "      <td>[{'external_urls': {'spotify': 'https://open.s...</td>\n",
       "      <td>308120</td>\n",
       "      <td>False</td>\n",
       "      <td>5QTxFnGygVM4jFQiBovmRo</td>\n",
       "      <td>(Don't Fear) The Reaper</td>\n",
       "      <td>76</td>\n",
       "    </tr>\n",
       "    <tr>\n",
       "      <th>4</th>\n",
       "      <td>{'album_type': 'album', 'artists': [{'external...</td>\n",
       "      <td>[{'external_urls': {'spotify': 'https://open.s...</td>\n",
       "      <td>208400</td>\n",
       "      <td>False</td>\n",
       "      <td>2zYzyRzz6pRmhPzyfMEC8s</td>\n",
       "      <td>Highway to Hell</td>\n",
       "      <td>84</td>\n",
       "    </tr>\n",
       "  </tbody>\n",
       "</table>\n",
       "</div>"
      ],
      "text/plain": [
       "                                               album  \\\n",
       "0  {'album_type': 'album', 'artists': [{'external...   \n",
       "1  {'album_type': 'compilation', 'artists': [{'ex...   \n",
       "2  {'album_type': 'album', 'artists': [{'external...   \n",
       "3  {'album_type': 'album', 'artists': [{'external...   \n",
       "4  {'album_type': 'album', 'artists': [{'external...   \n",
       "\n",
       "                                             artists  duration_ms  explicit  \\\n",
       "0  [{'external_urls': {'spotify': 'https://open.s...       357266     False   \n",
       "1  [{'external_urls': {'spotify': 'https://open.s...       239133     False   \n",
       "2  [{'external_urls': {'spotify': 'https://open.s...       192040     False   \n",
       "3  [{'external_urls': {'spotify': 'https://open.s...       308120     False   \n",
       "4  [{'external_urls': {'spotify': 'https://open.s...       208400     False   \n",
       "\n",
       "                       id                     name  popularity  \n",
       "0  3S2R0EVwBSAVMd5UMgKTL0                 Thriller          73  \n",
       "1  569uHYIB0X324FZOBEhvit             Ghostbusters          70  \n",
       "2  0xxZY5C9xxij3D1HkzbnfC             Monster Mash          70  \n",
       "3  5QTxFnGygVM4jFQiBovmRo  (Don't Fear) The Reaper          76  \n",
       "4  2zYzyRzz6pRmhPzyfMEC8s          Highway to Hell          84  "
      ]
     },
     "execution_count": 71,
     "metadata": {},
     "output_type": "execute_result"
    }
   ],
   "source": [
    "spooky_1.head()"
   ]
  },
  {
   "cell_type": "markdown",
   "id": "9d1b185f",
   "metadata": {},
   "source": [
    "There is still a sizable amount of data, but I will have to organize some of it to locate the data I seek."
   ]
  },
  {
   "cell_type": "code",
   "execution_count": 72,
   "id": "e81763b6",
   "metadata": {},
   "outputs": [
    {
     "data": {
      "text/html": [
       "<div>\n",
       "<style scoped>\n",
       "    .dataframe tbody tr th:only-of-type {\n",
       "        vertical-align: middle;\n",
       "    }\n",
       "\n",
       "    .dataframe tbody tr th {\n",
       "        vertical-align: top;\n",
       "    }\n",
       "\n",
       "    .dataframe thead th {\n",
       "        text-align: right;\n",
       "    }\n",
       "</style>\n",
       "<table border=\"1\" class=\"dataframe\">\n",
       "  <thead>\n",
       "    <tr style=\"text-align: right;\">\n",
       "      <th></th>\n",
       "      <th>external_urls</th>\n",
       "      <th>href</th>\n",
       "      <th>id</th>\n",
       "      <th>name</th>\n",
       "      <th>type</th>\n",
       "      <th>uri</th>\n",
       "    </tr>\n",
       "  </thead>\n",
       "  <tbody>\n",
       "    <tr>\n",
       "      <th>0</th>\n",
       "      <td>{'spotify': 'https://open.spotify.com/artist/3...</td>\n",
       "      <td>https://api.spotify.com/v1/artists/3fMbdgg4jU1...</td>\n",
       "      <td>3fMbdgg4jU18AjLCKBhRSm</td>\n",
       "      <td>Michael Jackson</td>\n",
       "      <td>artist</td>\n",
       "      <td>spotify:artist:3fMbdgg4jU18AjLCKBhRSm</td>\n",
       "    </tr>\n",
       "  </tbody>\n",
       "</table>\n",
       "</div>"
      ],
      "text/plain": [
       "                                       external_urls  \\\n",
       "0  {'spotify': 'https://open.spotify.com/artist/3...   \n",
       "\n",
       "                                                href                      id  \\\n",
       "0  https://api.spotify.com/v1/artists/3fMbdgg4jU1...  3fMbdgg4jU18AjLCKBhRSm   \n",
       "\n",
       "              name    type                                    uri  \n",
       "0  Michael Jackson  artist  spotify:artist:3fMbdgg4jU18AjLCKBhRSm  "
      ]
     },
     "execution_count": 72,
     "metadata": {},
     "output_type": "execute_result"
    }
   ],
   "source": [
    "pd.DataFrame(spooky_1['artists'][0])"
   ]
  },
  {
   "cell_type": "code",
   "execution_count": 73,
   "id": "84000d1f",
   "metadata": {},
   "outputs": [
    {
     "data": {
      "text/plain": [
       "'Michael Jackson'"
      ]
     },
     "execution_count": 73,
     "metadata": {},
     "output_type": "execute_result"
    }
   ],
   "source": [
    "spooky_1['artists'][0][0]['name']"
   ]
  },
  {
   "cell_type": "code",
   "execution_count": 74,
   "id": "baa94624",
   "metadata": {
    "scrolled": true
   },
   "outputs": [],
   "source": [
    "artist = [x[0]['name'] for x in spooky['artists']]"
   ]
  },
  {
   "cell_type": "code",
   "execution_count": 75,
   "id": "21b8d057",
   "metadata": {},
   "outputs": [],
   "source": [
    "artists_name =  pd.DataFrame(artist)"
   ]
  },
  {
   "cell_type": "code",
   "execution_count": 76,
   "id": "6ba6e322",
   "metadata": {},
   "outputs": [
    {
     "data": {
      "text/html": [
       "<div>\n",
       "<style scoped>\n",
       "    .dataframe tbody tr th:only-of-type {\n",
       "        vertical-align: middle;\n",
       "    }\n",
       "\n",
       "    .dataframe tbody tr th {\n",
       "        vertical-align: top;\n",
       "    }\n",
       "\n",
       "    .dataframe thead th {\n",
       "        text-align: right;\n",
       "    }\n",
       "</style>\n",
       "<table border=\"1\" class=\"dataframe\">\n",
       "  <thead>\n",
       "    <tr style=\"text-align: right;\">\n",
       "      <th></th>\n",
       "      <th>0</th>\n",
       "    </tr>\n",
       "  </thead>\n",
       "  <tbody>\n",
       "    <tr>\n",
       "      <th>0</th>\n",
       "      <td>Michael Jackson</td>\n",
       "    </tr>\n",
       "    <tr>\n",
       "      <th>1</th>\n",
       "      <td>Ray Parker Jr.</td>\n",
       "    </tr>\n",
       "    <tr>\n",
       "      <th>2</th>\n",
       "      <td>Bobby \"Boris\" Pickett</td>\n",
       "    </tr>\n",
       "    <tr>\n",
       "      <th>3</th>\n",
       "      <td>Blue Öyster Cult</td>\n",
       "    </tr>\n",
       "    <tr>\n",
       "      <th>4</th>\n",
       "      <td>AC/DC</td>\n",
       "    </tr>\n",
       "  </tbody>\n",
       "</table>\n",
       "</div>"
      ],
      "text/plain": [
       "                       0\n",
       "0        Michael Jackson\n",
       "1         Ray Parker Jr.\n",
       "2  Bobby \"Boris\" Pickett\n",
       "3       Blue Öyster Cult\n",
       "4                  AC/DC"
      ]
     },
     "execution_count": 76,
     "metadata": {},
     "output_type": "execute_result"
    }
   ],
   "source": [
    "artists_name.head()"
   ]
  },
  {
   "cell_type": "code",
   "execution_count": 77,
   "id": "8f7dee63",
   "metadata": {},
   "outputs": [],
   "source": [
    "spooky_1['artists_name'] = artists_name"
   ]
  },
  {
   "cell_type": "code",
   "execution_count": 78,
   "id": "35be9b26",
   "metadata": {},
   "outputs": [
    {
     "data": {
      "text/html": [
       "<div>\n",
       "<style scoped>\n",
       "    .dataframe tbody tr th:only-of-type {\n",
       "        vertical-align: middle;\n",
       "    }\n",
       "\n",
       "    .dataframe tbody tr th {\n",
       "        vertical-align: top;\n",
       "    }\n",
       "\n",
       "    .dataframe thead th {\n",
       "        text-align: right;\n",
       "    }\n",
       "</style>\n",
       "<table border=\"1\" class=\"dataframe\">\n",
       "  <thead>\n",
       "    <tr style=\"text-align: right;\">\n",
       "      <th></th>\n",
       "      <th>album</th>\n",
       "      <th>duration_ms</th>\n",
       "      <th>explicit</th>\n",
       "      <th>id</th>\n",
       "      <th>name</th>\n",
       "      <th>popularity</th>\n",
       "      <th>artists_name</th>\n",
       "    </tr>\n",
       "  </thead>\n",
       "  <tbody>\n",
       "    <tr>\n",
       "      <th>0</th>\n",
       "      <td>{'album_type': 'album', 'artists': [{'external...</td>\n",
       "      <td>357266</td>\n",
       "      <td>False</td>\n",
       "      <td>3S2R0EVwBSAVMd5UMgKTL0</td>\n",
       "      <td>Thriller</td>\n",
       "      <td>73</td>\n",
       "      <td>Michael Jackson</td>\n",
       "    </tr>\n",
       "    <tr>\n",
       "      <th>1</th>\n",
       "      <td>{'album_type': 'compilation', 'artists': [{'ex...</td>\n",
       "      <td>239133</td>\n",
       "      <td>False</td>\n",
       "      <td>569uHYIB0X324FZOBEhvit</td>\n",
       "      <td>Ghostbusters</td>\n",
       "      <td>70</td>\n",
       "      <td>Ray Parker Jr.</td>\n",
       "    </tr>\n",
       "    <tr>\n",
       "      <th>2</th>\n",
       "      <td>{'album_type': 'album', 'artists': [{'external...</td>\n",
       "      <td>192040</td>\n",
       "      <td>False</td>\n",
       "      <td>0xxZY5C9xxij3D1HkzbnfC</td>\n",
       "      <td>Monster Mash</td>\n",
       "      <td>70</td>\n",
       "      <td>Bobby \"Boris\" Pickett</td>\n",
       "    </tr>\n",
       "    <tr>\n",
       "      <th>3</th>\n",
       "      <td>{'album_type': 'album', 'artists': [{'external...</td>\n",
       "      <td>308120</td>\n",
       "      <td>False</td>\n",
       "      <td>5QTxFnGygVM4jFQiBovmRo</td>\n",
       "      <td>(Don't Fear) The Reaper</td>\n",
       "      <td>76</td>\n",
       "      <td>Blue Öyster Cult</td>\n",
       "    </tr>\n",
       "    <tr>\n",
       "      <th>4</th>\n",
       "      <td>{'album_type': 'album', 'artists': [{'external...</td>\n",
       "      <td>208400</td>\n",
       "      <td>False</td>\n",
       "      <td>2zYzyRzz6pRmhPzyfMEC8s</td>\n",
       "      <td>Highway to Hell</td>\n",
       "      <td>84</td>\n",
       "      <td>AC/DC</td>\n",
       "    </tr>\n",
       "  </tbody>\n",
       "</table>\n",
       "</div>"
      ],
      "text/plain": [
       "                                               album  duration_ms  explicit  \\\n",
       "0  {'album_type': 'album', 'artists': [{'external...       357266     False   \n",
       "1  {'album_type': 'compilation', 'artists': [{'ex...       239133     False   \n",
       "2  {'album_type': 'album', 'artists': [{'external...       192040     False   \n",
       "3  {'album_type': 'album', 'artists': [{'external...       308120     False   \n",
       "4  {'album_type': 'album', 'artists': [{'external...       208400     False   \n",
       "\n",
       "                       id                     name  popularity  \\\n",
       "0  3S2R0EVwBSAVMd5UMgKTL0                 Thriller          73   \n",
       "1  569uHYIB0X324FZOBEhvit             Ghostbusters          70   \n",
       "2  0xxZY5C9xxij3D1HkzbnfC             Monster Mash          70   \n",
       "3  5QTxFnGygVM4jFQiBovmRo  (Don't Fear) The Reaper          76   \n",
       "4  2zYzyRzz6pRmhPzyfMEC8s          Highway to Hell          84   \n",
       "\n",
       "            artists_name  \n",
       "0        Michael Jackson  \n",
       "1         Ray Parker Jr.  \n",
       "2  Bobby \"Boris\" Pickett  \n",
       "3       Blue Öyster Cult  \n",
       "4                  AC/DC  "
      ]
     },
     "execution_count": 78,
     "metadata": {},
     "output_type": "execute_result"
    }
   ],
   "source": [
    "spooky_1.drop(columns = ['artists']).head()"
   ]
  },
  {
   "cell_type": "code",
   "execution_count": 79,
   "id": "b7cef82f",
   "metadata": {},
   "outputs": [],
   "source": [
    "spooky_1['album_name'] = spooky_1['name']"
   ]
  },
  {
   "cell_type": "code",
   "execution_count": 85,
   "id": "a43c493c",
   "metadata": {},
   "outputs": [],
   "source": [
    "Hal_pop = spooky_1.drop(columns = ['album', 'explicit', 'artists'])"
   ]
  },
  {
   "cell_type": "code",
   "execution_count": 86,
   "id": "557f8bb8",
   "metadata": {
    "scrolled": true
   },
   "outputs": [
    {
     "data": {
      "text/html": [
       "<div>\n",
       "<style scoped>\n",
       "    .dataframe tbody tr th:only-of-type {\n",
       "        vertical-align: middle;\n",
       "    }\n",
       "\n",
       "    .dataframe tbody tr th {\n",
       "        vertical-align: top;\n",
       "    }\n",
       "\n",
       "    .dataframe thead th {\n",
       "        text-align: right;\n",
       "    }\n",
       "</style>\n",
       "<table border=\"1\" class=\"dataframe\">\n",
       "  <thead>\n",
       "    <tr style=\"text-align: right;\">\n",
       "      <th></th>\n",
       "      <th>duration_ms</th>\n",
       "      <th>id</th>\n",
       "      <th>name</th>\n",
       "      <th>popularity</th>\n",
       "      <th>artists_name</th>\n",
       "      <th>album_name</th>\n",
       "    </tr>\n",
       "  </thead>\n",
       "  <tbody>\n",
       "    <tr>\n",
       "      <th>0</th>\n",
       "      <td>357266</td>\n",
       "      <td>3S2R0EVwBSAVMd5UMgKTL0</td>\n",
       "      <td>Thriller</td>\n",
       "      <td>73</td>\n",
       "      <td>Michael Jackson</td>\n",
       "      <td>Thriller</td>\n",
       "    </tr>\n",
       "    <tr>\n",
       "      <th>1</th>\n",
       "      <td>239133</td>\n",
       "      <td>569uHYIB0X324FZOBEhvit</td>\n",
       "      <td>Ghostbusters</td>\n",
       "      <td>70</td>\n",
       "      <td>Ray Parker Jr.</td>\n",
       "      <td>Ghostbusters</td>\n",
       "    </tr>\n",
       "    <tr>\n",
       "      <th>2</th>\n",
       "      <td>192040</td>\n",
       "      <td>0xxZY5C9xxij3D1HkzbnfC</td>\n",
       "      <td>Monster Mash</td>\n",
       "      <td>70</td>\n",
       "      <td>Bobby \"Boris\" Pickett</td>\n",
       "      <td>Monster Mash</td>\n",
       "    </tr>\n",
       "    <tr>\n",
       "      <th>3</th>\n",
       "      <td>308120</td>\n",
       "      <td>5QTxFnGygVM4jFQiBovmRo</td>\n",
       "      <td>(Don't Fear) The Reaper</td>\n",
       "      <td>76</td>\n",
       "      <td>Blue Öyster Cult</td>\n",
       "      <td>(Don't Fear) The Reaper</td>\n",
       "    </tr>\n",
       "    <tr>\n",
       "      <th>4</th>\n",
       "      <td>208400</td>\n",
       "      <td>2zYzyRzz6pRmhPzyfMEC8s</td>\n",
       "      <td>Highway to Hell</td>\n",
       "      <td>84</td>\n",
       "      <td>AC/DC</td>\n",
       "      <td>Highway to Hell</td>\n",
       "    </tr>\n",
       "  </tbody>\n",
       "</table>\n",
       "</div>"
      ],
      "text/plain": [
       "   duration_ms                      id                     name  popularity  \\\n",
       "0       357266  3S2R0EVwBSAVMd5UMgKTL0                 Thriller          73   \n",
       "1       239133  569uHYIB0X324FZOBEhvit             Ghostbusters          70   \n",
       "2       192040  0xxZY5C9xxij3D1HkzbnfC             Monster Mash          70   \n",
       "3       308120  5QTxFnGygVM4jFQiBovmRo  (Don't Fear) The Reaper          76   \n",
       "4       208400  2zYzyRzz6pRmhPzyfMEC8s          Highway to Hell          84   \n",
       "\n",
       "            artists_name               album_name  \n",
       "0        Michael Jackson                 Thriller  \n",
       "1         Ray Parker Jr.             Ghostbusters  \n",
       "2  Bobby \"Boris\" Pickett             Monster Mash  \n",
       "3       Blue Öyster Cult  (Don't Fear) The Reaper  \n",
       "4                  AC/DC          Highway to Hell  "
      ]
     },
     "execution_count": 86,
     "metadata": {},
     "output_type": "execute_result"
    }
   ],
   "source": [
    "Hal_pop.head()"
   ]
  },
  {
   "cell_type": "markdown",
   "id": "151b1db9",
   "metadata": {},
   "source": [
    "Here is the final dataframe for the first playlist"
   ]
  },
  {
   "cell_type": "code",
   "execution_count": 88,
   "id": "bf7923cf",
   "metadata": {},
   "outputs": [],
   "source": [
    "Hal_pop_ids = Hal_pop['id']"
   ]
  },
  {
   "cell_type": "code",
   "execution_count": 89,
   "id": "a98622cf",
   "metadata": {
    "scrolled": false
   },
   "outputs": [
    {
     "data": {
      "text/plain": [
       "'3S2R0EVwBSAVMd5UMgKTL0,569uHYIB0X324FZOBEhvit,0xxZY5C9xxij3D1HkzbnfC,5QTxFnGygVM4jFQiBovmRo,2zYzyRzz6pRmhPzyfMEC8s,01YROQCnF1AQm7SCWJmD2o,6kotXaSQaGYxE62hVpdHWu,6hci8n9UowepjRmCc6CKTv,2aRjuScpka878tUWOsLYpQ,4YMQXzscifAREG0a7KNGhB,1h2xVEoJORqrg71HocgqXd,3sLhMSePzxSrmxluIqeoAZ,5qRJD1yaLJ5s0J3JpbgnwA,1i6N76fftMZhijOzFQ5ZtL,1Ud6moTC0KyXMq1Oxfien0,2E7W1X4maFFcjHrVrFA7Vs,2h47SG8bNphmicAll4H9RV,7EZC6E7UjZe63f1jRmkWxt,4WFeJTXNHIS2wURtwlAkhu,743DaI0d44SpwV2ArTPGmy'"
      ]
     },
     "execution_count": 89,
     "metadata": {},
     "output_type": "execute_result"
    }
   ],
   "source": [
    "Hal_pop_strings = ','.join(str(x) for x in Hal_pop_ids)\n",
    "Hal_pop_strings"
   ]
  },
  {
   "cell_type": "markdown",
   "id": "0dc986cf",
   "metadata": {},
   "source": [
    "Now I will collect the audio features for the Fall/Halloween playlist"
   ]
  },
  {
   "cell_type": "code",
   "execution_count": 90,
   "id": "44a6d98b",
   "metadata": {},
   "outputs": [],
   "source": [
    "track_features_endpoint = \"https://api.spotify.com/v1/audio-features?ids={}\".format(Hal_pop_strings)"
   ]
  },
  {
   "cell_type": "code",
   "execution_count": 92,
   "id": "1d166fc1",
   "metadata": {},
   "outputs": [],
   "source": [
    "Hal_features = requests.get(track_features_endpoint, headers = session_header)"
   ]
  },
  {
   "cell_type": "code",
   "execution_count": 93,
   "id": "3716fa76",
   "metadata": {},
   "outputs": [
    {
     "data": {
      "text/plain": [
       "200"
      ]
     },
     "execution_count": 93,
     "metadata": {},
     "output_type": "execute_result"
    }
   ],
   "source": [
    "Hal_features.status_code"
   ]
  },
  {
   "cell_type": "code",
   "execution_count": 96,
   "id": "566a486e",
   "metadata": {},
   "outputs": [],
   "source": [
    "Hal_dict = json.loads(Hal_features.text)"
   ]
  },
  {
   "cell_type": "code",
   "execution_count": 97,
   "id": "d826519c",
   "metadata": {},
   "outputs": [
    {
     "data": {
      "text/plain": [
       "dict_keys(['audio_features'])"
      ]
     },
     "execution_count": 97,
     "metadata": {},
     "output_type": "execute_result"
    }
   ],
   "source": [
    "Hal_dict.keys()"
   ]
  },
  {
   "cell_type": "code",
   "execution_count": 101,
   "id": "dbd094e0",
   "metadata": {},
   "outputs": [],
   "source": [
    "Spooky_af = Hal_dict['audio_features']"
   ]
  },
  {
   "cell_type": "code",
   "execution_count": 102,
   "id": "a8006ee4",
   "metadata": {},
   "outputs": [],
   "source": [
    "Spooky_df = pd.DataFrame(Spooky_af)"
   ]
  },
  {
   "cell_type": "code",
   "execution_count": 103,
   "id": "560fc0fe",
   "metadata": {},
   "outputs": [
    {
     "data": {
      "text/html": [
       "<div>\n",
       "<style scoped>\n",
       "    .dataframe tbody tr th:only-of-type {\n",
       "        vertical-align: middle;\n",
       "    }\n",
       "\n",
       "    .dataframe tbody tr th {\n",
       "        vertical-align: top;\n",
       "    }\n",
       "\n",
       "    .dataframe thead th {\n",
       "        text-align: right;\n",
       "    }\n",
       "</style>\n",
       "<table border=\"1\" class=\"dataframe\">\n",
       "  <thead>\n",
       "    <tr style=\"text-align: right;\">\n",
       "      <th></th>\n",
       "      <th>danceability</th>\n",
       "      <th>energy</th>\n",
       "      <th>key</th>\n",
       "      <th>loudness</th>\n",
       "      <th>mode</th>\n",
       "      <th>speechiness</th>\n",
       "      <th>acousticness</th>\n",
       "      <th>instrumentalness</th>\n",
       "      <th>liveness</th>\n",
       "      <th>valence</th>\n",
       "      <th>tempo</th>\n",
       "      <th>type</th>\n",
       "      <th>id</th>\n",
       "      <th>uri</th>\n",
       "      <th>track_href</th>\n",
       "      <th>analysis_url</th>\n",
       "      <th>duration_ms</th>\n",
       "      <th>time_signature</th>\n",
       "    </tr>\n",
       "  </thead>\n",
       "  <tbody>\n",
       "    <tr>\n",
       "      <th>0</th>\n",
       "      <td>0.773</td>\n",
       "      <td>0.859</td>\n",
       "      <td>11</td>\n",
       "      <td>-4.913</td>\n",
       "      <td>1</td>\n",
       "      <td>0.0747</td>\n",
       "      <td>0.0855</td>\n",
       "      <td>0.000187</td>\n",
       "      <td>0.914</td>\n",
       "      <td>0.813</td>\n",
       "      <td>118.459</td>\n",
       "      <td>audio_features</td>\n",
       "      <td>3S2R0EVwBSAVMd5UMgKTL0</td>\n",
       "      <td>spotify:track:3S2R0EVwBSAVMd5UMgKTL0</td>\n",
       "      <td>https://api.spotify.com/v1/tracks/3S2R0EVwBSAV...</td>\n",
       "      <td>https://api.spotify.com/v1/audio-analysis/3S2R...</td>\n",
       "      <td>357267</td>\n",
       "      <td>4</td>\n",
       "    </tr>\n",
       "    <tr>\n",
       "      <th>1</th>\n",
       "      <td>0.778</td>\n",
       "      <td>0.719</td>\n",
       "      <td>4</td>\n",
       "      <td>-9.698</td>\n",
       "      <td>1</td>\n",
       "      <td>0.0345</td>\n",
       "      <td>0.0123</td>\n",
       "      <td>0.026200</td>\n",
       "      <td>0.297</td>\n",
       "      <td>0.729</td>\n",
       "      <td>115.400</td>\n",
       "      <td>audio_features</td>\n",
       "      <td>569uHYIB0X324FZOBEhvit</td>\n",
       "      <td>spotify:track:569uHYIB0X324FZOBEhvit</td>\n",
       "      <td>https://api.spotify.com/v1/tracks/569uHYIB0X32...</td>\n",
       "      <td>https://api.spotify.com/v1/audio-analysis/569u...</td>\n",
       "      <td>239133</td>\n",
       "      <td>4</td>\n",
       "    </tr>\n",
       "    <tr>\n",
       "      <th>2</th>\n",
       "      <td>0.541</td>\n",
       "      <td>0.504</td>\n",
       "      <td>11</td>\n",
       "      <td>-14.191</td>\n",
       "      <td>0</td>\n",
       "      <td>0.4570</td>\n",
       "      <td>0.3750</td>\n",
       "      <td>0.000000</td>\n",
       "      <td>0.421</td>\n",
       "      <td>0.707</td>\n",
       "      <td>68.482</td>\n",
       "      <td>audio_features</td>\n",
       "      <td>0xxZY5C9xxij3D1HkzbnfC</td>\n",
       "      <td>spotify:track:0xxZY5C9xxij3D1HkzbnfC</td>\n",
       "      <td>https://api.spotify.com/v1/tracks/0xxZY5C9xxij...</td>\n",
       "      <td>https://api.spotify.com/v1/audio-analysis/0xxZ...</td>\n",
       "      <td>192040</td>\n",
       "      <td>4</td>\n",
       "    </tr>\n",
       "    <tr>\n",
       "      <th>3</th>\n",
       "      <td>0.333</td>\n",
       "      <td>0.927</td>\n",
       "      <td>9</td>\n",
       "      <td>-8.550</td>\n",
       "      <td>0</td>\n",
       "      <td>0.0733</td>\n",
       "      <td>0.0029</td>\n",
       "      <td>0.000208</td>\n",
       "      <td>0.297</td>\n",
       "      <td>0.385</td>\n",
       "      <td>141.466</td>\n",
       "      <td>audio_features</td>\n",
       "      <td>5QTxFnGygVM4jFQiBovmRo</td>\n",
       "      <td>spotify:track:5QTxFnGygVM4jFQiBovmRo</td>\n",
       "      <td>https://api.spotify.com/v1/tracks/5QTxFnGygVM4...</td>\n",
       "      <td>https://api.spotify.com/v1/audio-analysis/5QTx...</td>\n",
       "      <td>308120</td>\n",
       "      <td>4</td>\n",
       "    </tr>\n",
       "    <tr>\n",
       "      <th>4</th>\n",
       "      <td>0.574</td>\n",
       "      <td>0.913</td>\n",
       "      <td>6</td>\n",
       "      <td>-4.793</td>\n",
       "      <td>0</td>\n",
       "      <td>0.1330</td>\n",
       "      <td>0.0610</td>\n",
       "      <td>0.001580</td>\n",
       "      <td>0.156</td>\n",
       "      <td>0.423</td>\n",
       "      <td>115.728</td>\n",
       "      <td>audio_features</td>\n",
       "      <td>2zYzyRzz6pRmhPzyfMEC8s</td>\n",
       "      <td>spotify:track:2zYzyRzz6pRmhPzyfMEC8s</td>\n",
       "      <td>https://api.spotify.com/v1/tracks/2zYzyRzz6pRm...</td>\n",
       "      <td>https://api.spotify.com/v1/audio-analysis/2zYz...</td>\n",
       "      <td>208400</td>\n",
       "      <td>4</td>\n",
       "    </tr>\n",
       "  </tbody>\n",
       "</table>\n",
       "</div>"
      ],
      "text/plain": [
       "   danceability  energy  key  loudness  mode  speechiness  acousticness  \\\n",
       "0         0.773   0.859   11    -4.913     1       0.0747        0.0855   \n",
       "1         0.778   0.719    4    -9.698     1       0.0345        0.0123   \n",
       "2         0.541   0.504   11   -14.191     0       0.4570        0.3750   \n",
       "3         0.333   0.927    9    -8.550     0       0.0733        0.0029   \n",
       "4         0.574   0.913    6    -4.793     0       0.1330        0.0610   \n",
       "\n",
       "   instrumentalness  liveness  valence    tempo            type  \\\n",
       "0          0.000187     0.914    0.813  118.459  audio_features   \n",
       "1          0.026200     0.297    0.729  115.400  audio_features   \n",
       "2          0.000000     0.421    0.707   68.482  audio_features   \n",
       "3          0.000208     0.297    0.385  141.466  audio_features   \n",
       "4          0.001580     0.156    0.423  115.728  audio_features   \n",
       "\n",
       "                       id                                   uri  \\\n",
       "0  3S2R0EVwBSAVMd5UMgKTL0  spotify:track:3S2R0EVwBSAVMd5UMgKTL0   \n",
       "1  569uHYIB0X324FZOBEhvit  spotify:track:569uHYIB0X324FZOBEhvit   \n",
       "2  0xxZY5C9xxij3D1HkzbnfC  spotify:track:0xxZY5C9xxij3D1HkzbnfC   \n",
       "3  5QTxFnGygVM4jFQiBovmRo  spotify:track:5QTxFnGygVM4jFQiBovmRo   \n",
       "4  2zYzyRzz6pRmhPzyfMEC8s  spotify:track:2zYzyRzz6pRmhPzyfMEC8s   \n",
       "\n",
       "                                          track_href  \\\n",
       "0  https://api.spotify.com/v1/tracks/3S2R0EVwBSAV...   \n",
       "1  https://api.spotify.com/v1/tracks/569uHYIB0X32...   \n",
       "2  https://api.spotify.com/v1/tracks/0xxZY5C9xxij...   \n",
       "3  https://api.spotify.com/v1/tracks/5QTxFnGygVM4...   \n",
       "4  https://api.spotify.com/v1/tracks/2zYzyRzz6pRm...   \n",
       "\n",
       "                                        analysis_url  duration_ms  \\\n",
       "0  https://api.spotify.com/v1/audio-analysis/3S2R...       357267   \n",
       "1  https://api.spotify.com/v1/audio-analysis/569u...       239133   \n",
       "2  https://api.spotify.com/v1/audio-analysis/0xxZ...       192040   \n",
       "3  https://api.spotify.com/v1/audio-analysis/5QTx...       308120   \n",
       "4  https://api.spotify.com/v1/audio-analysis/2zYz...       208400   \n",
       "\n",
       "   time_signature  \n",
       "0               4  \n",
       "1               4  \n",
       "2               4  \n",
       "3               4  \n",
       "4               4  "
      ]
     },
     "execution_count": 103,
     "metadata": {},
     "output_type": "execute_result"
    }
   ],
   "source": [
    "Spooky_df.head()"
   ]
  },
  {
   "cell_type": "markdown",
   "id": "8b7d98df",
   "metadata": {},
   "source": [
    "Now to blend both dataframes"
   ]
  },
  {
   "cell_type": "code",
   "execution_count": 104,
   "id": "c64628a7",
   "metadata": {},
   "outputs": [],
   "source": [
    "Hal_pop['danceability'] = Spooky_df['danceability']\n",
    "Hal_pop['energy'] = Spooky_df['energy']\n",
    "Hal_pop['key'] = Spooky_df['key']\n",
    "Hal_pop['loudness'] = Spooky_df['loudness']\n",
    "Hal_pop['mode'] = Spooky_df['mode']\n",
    "Hal_pop['speechiness'] = Spooky_df['speechiness']\n",
    "Hal_pop['acousticness'] = Spooky_df['acousticness']\n",
    "Hal_pop['instrumentalness'] = Spooky_df['instrumentalness']\n",
    "Hal_pop['liveness'] = Spooky_df['liveness']\n",
    "Hal_pop['valence'] = Spooky_df['valence']\n",
    "Hal_pop['tempo'] = Spooky_df['tempo']\n",
    "Hal_pop['id'] = Spooky_df['id']\n",
    "Hal_pop['duration_ms'] = Spooky_df['duration_ms']\n",
    "Hal_pop['time_signature'] = Spooky_df['time_signature']"
   ]
  },
  {
   "cell_type": "code",
   "execution_count": 105,
   "id": "017e751d",
   "metadata": {},
   "outputs": [
    {
     "data": {
      "text/html": [
       "<div>\n",
       "<style scoped>\n",
       "    .dataframe tbody tr th:only-of-type {\n",
       "        vertical-align: middle;\n",
       "    }\n",
       "\n",
       "    .dataframe tbody tr th {\n",
       "        vertical-align: top;\n",
       "    }\n",
       "\n",
       "    .dataframe thead th {\n",
       "        text-align: right;\n",
       "    }\n",
       "</style>\n",
       "<table border=\"1\" class=\"dataframe\">\n",
       "  <thead>\n",
       "    <tr style=\"text-align: right;\">\n",
       "      <th></th>\n",
       "      <th>duration_ms</th>\n",
       "      <th>id</th>\n",
       "      <th>name</th>\n",
       "      <th>popularity</th>\n",
       "      <th>artists_name</th>\n",
       "      <th>album_name</th>\n",
       "      <th>danceability</th>\n",
       "      <th>energy</th>\n",
       "      <th>key</th>\n",
       "      <th>loudness</th>\n",
       "      <th>mode</th>\n",
       "      <th>speechiness</th>\n",
       "      <th>acousticness</th>\n",
       "      <th>instrumentalness</th>\n",
       "      <th>liveness</th>\n",
       "      <th>valence</th>\n",
       "      <th>tempo</th>\n",
       "      <th>time_signature</th>\n",
       "    </tr>\n",
       "  </thead>\n",
       "  <tbody>\n",
       "    <tr>\n",
       "      <th>0</th>\n",
       "      <td>357267</td>\n",
       "      <td>3S2R0EVwBSAVMd5UMgKTL0</td>\n",
       "      <td>Thriller</td>\n",
       "      <td>73</td>\n",
       "      <td>Michael Jackson</td>\n",
       "      <td>Thriller</td>\n",
       "      <td>0.773</td>\n",
       "      <td>0.859</td>\n",
       "      <td>11</td>\n",
       "      <td>-4.913</td>\n",
       "      <td>1</td>\n",
       "      <td>0.0747</td>\n",
       "      <td>0.0855</td>\n",
       "      <td>0.000187</td>\n",
       "      <td>0.914</td>\n",
       "      <td>0.813</td>\n",
       "      <td>118.459</td>\n",
       "      <td>4</td>\n",
       "    </tr>\n",
       "    <tr>\n",
       "      <th>1</th>\n",
       "      <td>239133</td>\n",
       "      <td>569uHYIB0X324FZOBEhvit</td>\n",
       "      <td>Ghostbusters</td>\n",
       "      <td>70</td>\n",
       "      <td>Ray Parker Jr.</td>\n",
       "      <td>Ghostbusters</td>\n",
       "      <td>0.778</td>\n",
       "      <td>0.719</td>\n",
       "      <td>4</td>\n",
       "      <td>-9.698</td>\n",
       "      <td>1</td>\n",
       "      <td>0.0345</td>\n",
       "      <td>0.0123</td>\n",
       "      <td>0.026200</td>\n",
       "      <td>0.297</td>\n",
       "      <td>0.729</td>\n",
       "      <td>115.400</td>\n",
       "      <td>4</td>\n",
       "    </tr>\n",
       "    <tr>\n",
       "      <th>2</th>\n",
       "      <td>192040</td>\n",
       "      <td>0xxZY5C9xxij3D1HkzbnfC</td>\n",
       "      <td>Monster Mash</td>\n",
       "      <td>70</td>\n",
       "      <td>Bobby \"Boris\" Pickett</td>\n",
       "      <td>Monster Mash</td>\n",
       "      <td>0.541</td>\n",
       "      <td>0.504</td>\n",
       "      <td>11</td>\n",
       "      <td>-14.191</td>\n",
       "      <td>0</td>\n",
       "      <td>0.4570</td>\n",
       "      <td>0.3750</td>\n",
       "      <td>0.000000</td>\n",
       "      <td>0.421</td>\n",
       "      <td>0.707</td>\n",
       "      <td>68.482</td>\n",
       "      <td>4</td>\n",
       "    </tr>\n",
       "    <tr>\n",
       "      <th>3</th>\n",
       "      <td>308120</td>\n",
       "      <td>5QTxFnGygVM4jFQiBovmRo</td>\n",
       "      <td>(Don't Fear) The Reaper</td>\n",
       "      <td>76</td>\n",
       "      <td>Blue Öyster Cult</td>\n",
       "      <td>(Don't Fear) The Reaper</td>\n",
       "      <td>0.333</td>\n",
       "      <td>0.927</td>\n",
       "      <td>9</td>\n",
       "      <td>-8.550</td>\n",
       "      <td>0</td>\n",
       "      <td>0.0733</td>\n",
       "      <td>0.0029</td>\n",
       "      <td>0.000208</td>\n",
       "      <td>0.297</td>\n",
       "      <td>0.385</td>\n",
       "      <td>141.466</td>\n",
       "      <td>4</td>\n",
       "    </tr>\n",
       "    <tr>\n",
       "      <th>4</th>\n",
       "      <td>208400</td>\n",
       "      <td>2zYzyRzz6pRmhPzyfMEC8s</td>\n",
       "      <td>Highway to Hell</td>\n",
       "      <td>84</td>\n",
       "      <td>AC/DC</td>\n",
       "      <td>Highway to Hell</td>\n",
       "      <td>0.574</td>\n",
       "      <td>0.913</td>\n",
       "      <td>6</td>\n",
       "      <td>-4.793</td>\n",
       "      <td>0</td>\n",
       "      <td>0.1330</td>\n",
       "      <td>0.0610</td>\n",
       "      <td>0.001580</td>\n",
       "      <td>0.156</td>\n",
       "      <td>0.423</td>\n",
       "      <td>115.728</td>\n",
       "      <td>4</td>\n",
       "    </tr>\n",
       "  </tbody>\n",
       "</table>\n",
       "</div>"
      ],
      "text/plain": [
       "   duration_ms                      id                     name  popularity  \\\n",
       "0       357267  3S2R0EVwBSAVMd5UMgKTL0                 Thriller          73   \n",
       "1       239133  569uHYIB0X324FZOBEhvit             Ghostbusters          70   \n",
       "2       192040  0xxZY5C9xxij3D1HkzbnfC             Monster Mash          70   \n",
       "3       308120  5QTxFnGygVM4jFQiBovmRo  (Don't Fear) The Reaper          76   \n",
       "4       208400  2zYzyRzz6pRmhPzyfMEC8s          Highway to Hell          84   \n",
       "\n",
       "            artists_name               album_name  danceability  energy  key  \\\n",
       "0        Michael Jackson                 Thriller         0.773   0.859   11   \n",
       "1         Ray Parker Jr.             Ghostbusters         0.778   0.719    4   \n",
       "2  Bobby \"Boris\" Pickett             Monster Mash         0.541   0.504   11   \n",
       "3       Blue Öyster Cult  (Don't Fear) The Reaper         0.333   0.927    9   \n",
       "4                  AC/DC          Highway to Hell         0.574   0.913    6   \n",
       "\n",
       "   loudness  mode  speechiness  acousticness  instrumentalness  liveness  \\\n",
       "0    -4.913     1       0.0747        0.0855          0.000187     0.914   \n",
       "1    -9.698     1       0.0345        0.0123          0.026200     0.297   \n",
       "2   -14.191     0       0.4570        0.3750          0.000000     0.421   \n",
       "3    -8.550     0       0.0733        0.0029          0.000208     0.297   \n",
       "4    -4.793     0       0.1330        0.0610          0.001580     0.156   \n",
       "\n",
       "   valence    tempo  time_signature  \n",
       "0    0.813  118.459               4  \n",
       "1    0.729  115.400               4  \n",
       "2    0.707   68.482               4  \n",
       "3    0.385  141.466               4  \n",
       "4    0.423  115.728               4  "
      ]
     },
     "execution_count": 105,
     "metadata": {},
     "output_type": "execute_result"
    }
   ],
   "source": [
    "Hal_pop.head()"
   ]
  },
  {
   "cell_type": "code",
   "execution_count": 109,
   "id": "52e17f57",
   "metadata": {
    "scrolled": true
   },
   "outputs": [
    {
     "name": "stdout",
     "output_type": "stream",
     "text": [
      "200\n"
     ]
    },
    {
     "data": {
      "text/html": [
       "<div>\n",
       "<style scoped>\n",
       "    .dataframe tbody tr th:only-of-type {\n",
       "        vertical-align: middle;\n",
       "    }\n",
       "\n",
       "    .dataframe tbody tr th {\n",
       "        vertical-align: top;\n",
       "    }\n",
       "\n",
       "    .dataframe thead th {\n",
       "        text-align: right;\n",
       "    }\n",
       "</style>\n",
       "<table border=\"1\" class=\"dataframe\">\n",
       "  <thead>\n",
       "    <tr style=\"text-align: right;\">\n",
       "      <th></th>\n",
       "      <th>album</th>\n",
       "      <th>artists</th>\n",
       "      <th>available_markets</th>\n",
       "      <th>disc_number</th>\n",
       "      <th>duration_ms</th>\n",
       "      <th>episode</th>\n",
       "      <th>explicit</th>\n",
       "      <th>external_ids</th>\n",
       "      <th>external_urls</th>\n",
       "      <th>href</th>\n",
       "      <th>id</th>\n",
       "      <th>is_local</th>\n",
       "      <th>name</th>\n",
       "      <th>popularity</th>\n",
       "      <th>preview_url</th>\n",
       "      <th>track</th>\n",
       "      <th>track_number</th>\n",
       "      <th>type</th>\n",
       "      <th>uri</th>\n",
       "    </tr>\n",
       "  </thead>\n",
       "  <tbody>\n",
       "    <tr>\n",
       "      <th>0</th>\n",
       "      <td>{'album_type': 'album', 'artists': [{'external...</td>\n",
       "      <td>[{'external_urls': {'spotify': 'https://open.s...</td>\n",
       "      <td>[AD, AE, AG, AL, AM, AO, AR, AT, AU, AZ, BA, B...</td>\n",
       "      <td>1</td>\n",
       "      <td>241106</td>\n",
       "      <td>False</td>\n",
       "      <td>False</td>\n",
       "      <td>{'isrc': 'USSM19400325'}</td>\n",
       "      <td>{'spotify': 'https://open.spotify.com/track/0b...</td>\n",
       "      <td>https://api.spotify.com/v1/tracks/0bYg9bo50gSs...</td>\n",
       "      <td>0bYg9bo50gSsH3LtXe2SQn</td>\n",
       "      <td>False</td>\n",
       "      <td>All I Want for Christmas Is You</td>\n",
       "      <td>92</td>\n",
       "      <td>https://p.scdn.co/mp3-preview/0d3f660241b04b1e...</td>\n",
       "      <td>True</td>\n",
       "      <td>2</td>\n",
       "      <td>track</td>\n",
       "      <td>spotify:track:0bYg9bo50gSsH3LtXe2SQn</td>\n",
       "    </tr>\n",
       "    <tr>\n",
       "      <th>1</th>\n",
       "      <td>{'album_type': 'album', 'artists': [{'external...</td>\n",
       "      <td>[{'external_urls': {'spotify': 'https://open.s...</td>\n",
       "      <td>[AD, AE, AG, AL, AM, AO, AR, AT, AU, AZ, BA, B...</td>\n",
       "      <td>1</td>\n",
       "      <td>126266</td>\n",
       "      <td>False</td>\n",
       "      <td>False</td>\n",
       "      <td>{'isrc': 'USMC15848998'}</td>\n",
       "      <td>{'spotify': 'https://open.spotify.com/track/2E...</td>\n",
       "      <td>https://api.spotify.com/v1/tracks/2EjXfH91m7f8...</td>\n",
       "      <td>2EjXfH91m7f8HiJN1yQg97</td>\n",
       "      <td>False</td>\n",
       "      <td>Rockin' Around The Christmas Tree</td>\n",
       "      <td>89</td>\n",
       "      <td>None</td>\n",
       "      <td>True</td>\n",
       "      <td>1</td>\n",
       "      <td>track</td>\n",
       "      <td>spotify:track:2EjXfH91m7f8HiJN1yQg97</td>\n",
       "    </tr>\n",
       "    <tr>\n",
       "      <th>2</th>\n",
       "      <td>{'album_type': 'single', 'artists': [{'externa...</td>\n",
       "      <td>[{'external_urls': {'spotify': 'https://open.s...</td>\n",
       "      <td>[AD, AE, AG, AL, AM, AO, AR, AT, AU, AZ, BA, B...</td>\n",
       "      <td>1</td>\n",
       "      <td>130973</td>\n",
       "      <td>False</td>\n",
       "      <td>False</td>\n",
       "      <td>{'isrc': 'USMC15746480'}</td>\n",
       "      <td>{'spotify': 'https://open.spotify.com/track/7v...</td>\n",
       "      <td>https://api.spotify.com/v1/tracks/7vQbuQcyTflf...</td>\n",
       "      <td>7vQbuQcyTflfCIOu3Uzzya</td>\n",
       "      <td>False</td>\n",
       "      <td>Jingle Bell Rock</td>\n",
       "      <td>88</td>\n",
       "      <td>None</td>\n",
       "      <td>True</td>\n",
       "      <td>1</td>\n",
       "      <td>track</td>\n",
       "      <td>spotify:track:7vQbuQcyTflfCIOu3Uzzya</td>\n",
       "    </tr>\n",
       "    <tr>\n",
       "      <th>3</th>\n",
       "      <td>{'album_type': 'album', 'artists': [{'external...</td>\n",
       "      <td>[{'external_urls': {'spotify': 'https://open.s...</td>\n",
       "      <td>[AD, AE, AG, AL, AM, AO, AR, AT, AU, AZ, BA, B...</td>\n",
       "      <td>1</td>\n",
       "      <td>192160</td>\n",
       "      <td>False</td>\n",
       "      <td>False</td>\n",
       "      <td>{'isrc': 'USCA29900551'}</td>\n",
       "      <td>{'spotify': 'https://open.spotify.com/track/4P...</td>\n",
       "      <td>https://api.spotify.com/v1/tracks/4PS1e8f2LvuT...</td>\n",
       "      <td>4PS1e8f2LvuTFgUs1Cn3ON</td>\n",
       "      <td>False</td>\n",
       "      <td>The Christmas Song (Merry Christmas To You)</td>\n",
       "      <td>81</td>\n",
       "      <td>None</td>\n",
       "      <td>True</td>\n",
       "      <td>1</td>\n",
       "      <td>track</td>\n",
       "      <td>spotify:track:4PS1e8f2LvuTFgUs1Cn3ON</td>\n",
       "    </tr>\n",
       "    <tr>\n",
       "      <th>4</th>\n",
       "      <td>{'album_type': 'album', 'artists': [{'external...</td>\n",
       "      <td>[{'external_urls': {'spotify': 'https://open.s...</td>\n",
       "      <td>[AD, AE, AG, AL, AM, AO, AR, AT, AU, AZ, BA, B...</td>\n",
       "      <td>1</td>\n",
       "      <td>135533</td>\n",
       "      <td>False</td>\n",
       "      <td>False</td>\n",
       "      <td>{'isrc': 'USMC16414508'}</td>\n",
       "      <td>{'spotify': 'https://open.spotify.com/track/77...</td>\n",
       "      <td>https://api.spotify.com/v1/tracks/77khP2fIVhSW...</td>\n",
       "      <td>77khP2fIVhSW23NwxrRluh</td>\n",
       "      <td>False</td>\n",
       "      <td>A Holly Jolly Christmas</td>\n",
       "      <td>83</td>\n",
       "      <td>None</td>\n",
       "      <td>True</td>\n",
       "      <td>1</td>\n",
       "      <td>track</td>\n",
       "      <td>spotify:track:77khP2fIVhSW23NwxrRluh</td>\n",
       "    </tr>\n",
       "  </tbody>\n",
       "</table>\n",
       "</div>"
      ],
      "text/plain": [
       "                                               album  \\\n",
       "0  {'album_type': 'album', 'artists': [{'external...   \n",
       "1  {'album_type': 'album', 'artists': [{'external...   \n",
       "2  {'album_type': 'single', 'artists': [{'externa...   \n",
       "3  {'album_type': 'album', 'artists': [{'external...   \n",
       "4  {'album_type': 'album', 'artists': [{'external...   \n",
       "\n",
       "                                             artists  \\\n",
       "0  [{'external_urls': {'spotify': 'https://open.s...   \n",
       "1  [{'external_urls': {'spotify': 'https://open.s...   \n",
       "2  [{'external_urls': {'spotify': 'https://open.s...   \n",
       "3  [{'external_urls': {'spotify': 'https://open.s...   \n",
       "4  [{'external_urls': {'spotify': 'https://open.s...   \n",
       "\n",
       "                                   available_markets  disc_number  \\\n",
       "0  [AD, AE, AG, AL, AM, AO, AR, AT, AU, AZ, BA, B...            1   \n",
       "1  [AD, AE, AG, AL, AM, AO, AR, AT, AU, AZ, BA, B...            1   \n",
       "2  [AD, AE, AG, AL, AM, AO, AR, AT, AU, AZ, BA, B...            1   \n",
       "3  [AD, AE, AG, AL, AM, AO, AR, AT, AU, AZ, BA, B...            1   \n",
       "4  [AD, AE, AG, AL, AM, AO, AR, AT, AU, AZ, BA, B...            1   \n",
       "\n",
       "   duration_ms  episode  explicit              external_ids  \\\n",
       "0       241106    False     False  {'isrc': 'USSM19400325'}   \n",
       "1       126266    False     False  {'isrc': 'USMC15848998'}   \n",
       "2       130973    False     False  {'isrc': 'USMC15746480'}   \n",
       "3       192160    False     False  {'isrc': 'USCA29900551'}   \n",
       "4       135533    False     False  {'isrc': 'USMC16414508'}   \n",
       "\n",
       "                                       external_urls  \\\n",
       "0  {'spotify': 'https://open.spotify.com/track/0b...   \n",
       "1  {'spotify': 'https://open.spotify.com/track/2E...   \n",
       "2  {'spotify': 'https://open.spotify.com/track/7v...   \n",
       "3  {'spotify': 'https://open.spotify.com/track/4P...   \n",
       "4  {'spotify': 'https://open.spotify.com/track/77...   \n",
       "\n",
       "                                                href                      id  \\\n",
       "0  https://api.spotify.com/v1/tracks/0bYg9bo50gSs...  0bYg9bo50gSsH3LtXe2SQn   \n",
       "1  https://api.spotify.com/v1/tracks/2EjXfH91m7f8...  2EjXfH91m7f8HiJN1yQg97   \n",
       "2  https://api.spotify.com/v1/tracks/7vQbuQcyTflf...  7vQbuQcyTflfCIOu3Uzzya   \n",
       "3  https://api.spotify.com/v1/tracks/4PS1e8f2LvuT...  4PS1e8f2LvuTFgUs1Cn3ON   \n",
       "4  https://api.spotify.com/v1/tracks/77khP2fIVhSW...  77khP2fIVhSW23NwxrRluh   \n",
       "\n",
       "   is_local                                         name  popularity  \\\n",
       "0     False              All I Want for Christmas Is You          92   \n",
       "1     False            Rockin' Around The Christmas Tree          89   \n",
       "2     False                             Jingle Bell Rock          88   \n",
       "3     False  The Christmas Song (Merry Christmas To You)          81   \n",
       "4     False                      A Holly Jolly Christmas          83   \n",
       "\n",
       "                                         preview_url  track  track_number  \\\n",
       "0  https://p.scdn.co/mp3-preview/0d3f660241b04b1e...   True             2   \n",
       "1                                               None   True             1   \n",
       "2                                               None   True             1   \n",
       "3                                               None   True             1   \n",
       "4                                               None   True             1   \n",
       "\n",
       "    type                                   uri  \n",
       "0  track  spotify:track:0bYg9bo50gSsH3LtXe2SQn  \n",
       "1  track  spotify:track:2EjXfH91m7f8HiJN1yQg97  \n",
       "2  track  spotify:track:7vQbuQcyTflfCIOu3Uzzya  \n",
       "3  track  spotify:track:4PS1e8f2LvuTFgUs1Cn3ON  \n",
       "4  track  spotify:track:77khP2fIVhSW23NwxrRluh  "
      ]
     },
     "execution_count": 109,
     "metadata": {},
     "output_type": "execute_result"
    }
   ],
   "source": [
    "winter_id = '74CP5rG6MyY0RRnCgbh4DN'\n",
    "album_tracks_endpoint = \"https://api.spotify.com/v1/playlists/{}\".format(winter_id)\n",
    "winter_tracks = requests.get(album_tracks_endpoint, headers = session_header)\n",
    "print(winter_tracks.status_code)\n",
    "winter_dict = json.loads(winter_tracks.text)\n",
    "winter_dict.keys()\n",
    "winter_dict['tracks'].keys()\n",
    "winter_dict['tracks']['items'][0].keys()\n",
    "winter_track_ids = [x['track'] for x in winter_dict['tracks']['items']]\n",
    "winter = pd.DataFrame(winter_track_ids)\n",
    "winter.head()"
   ]
  },
  {
   "cell_type": "markdown",
   "id": "a928d0e5",
   "metadata": {},
   "source": [
    "I put everything together so it was easier to read but after the next code cell will be the completed dataframe for the Winter playlists that I created. "
   ]
  },
  {
   "cell_type": "code",
   "execution_count": 111,
   "id": "bcfe5ede",
   "metadata": {},
   "outputs": [],
   "source": [
    "winter1 = winter.drop(columns = ['available_markets', 'disc_number', 'episode', 'external_ids', 'is_local', 'preview_url', 'track', 'track_number', 'type','available_markets', 'external_urls', 'href', 'type', 'uri'])\n",
    "winter1.head()\n",
    "pd.DataFrame(winter1['artists'][0])\n",
    "winter1['artists'][0][0]['name']\n",
    "artist1 = [x[0]['name'] for x in spooky['artists']]\n",
    "artists1_name =  pd.DataFrame(artist1)\n",
    "artists1_name.head()\n",
    "winter1['artists_name'] = artists1_name\n",
    "winter1.drop(columns = ['artists']).head()\n",
    "winter1['album_name'] = winter1['name']"
   ]
  },
  {
   "cell_type": "code",
   "execution_count": 120,
   "id": "74c518a3",
   "metadata": {
    "scrolled": true
   },
   "outputs": [
    {
     "data": {
      "text/plain": [
       "'0bYg9bo50gSsH3LtXe2SQn,2EjXfH91m7f8HiJN1yQg97,7vQbuQcyTflfCIOu3Uzzya,4PS1e8f2LvuTFgUs1Cn3ON,77khP2fIVhSW23NwxrRluh,0oPdaY4dXtc3ZsaG17V972,5hslUAKq9I9CG2bAulFkHN,2FRnf9qhLbvw8fu4IBXx78,4so0Wek9Ig1p6CRCHuINwW,2uFaJJtFpPDc5Pa95XzTvg,3sBnSBnzpEYKpJYGsAIbup,1dtIaSlyrLI04sqYa8nLyN,4z8sz6E4YyFuEkv5o7IJni,5a1iz510sv2W9Dt1MvFd5R,5ASM6Qjiav2xPe7gRkQMsQ,4hAkwE0k1MlzDoOIf9J8ty,7xapw9Oy21WpfEcib2ErSA,3QiAAp20rPC3dcAtKtMaqQ,0O4vuJynWVVdyvoHvZtnk3,5aj4UEKeW7T3eI4ETaN7Me,0lizgQ7Qw35od7CYaoMBZb,6ZgigeSB0XUMqc0jjzaq6d,3sDdyBHQ60Cs1opmIyRvhp,3YZE5qDV7u1ZD1gZc47ZeR,25leEEaz1gIpp7o21Fqyjo,0HZk0QsXPhMNAWNDR3rYE8,3QIoEi8Enr9uHffwInGIsC,3bMfUUpzUzqWp9II00yRhE,4p401d3dipTVawmjZ2AXsx,0247StOpd3AkeBQzANX4Zf,1foCxQtxBweJtZmdxhEHVO,1uh1iaMqBdx4XyrXhssKGD,33EcmYsTQVIGRGnGPOfTwu,1msuiw6pnXYfxZ7Edyit9U,6s2wpWPFPAgKg2LXxi1Oee,7BvCDrlYwJ5D9RUqvvs3BT,5xlS0QkVrSH7ssEbBgBzbM,2pXpURmn6zC5ZYDMms6fwa,4HEOgBHRCExyYVeTyrXsnL,2pnPe4pJtq7689i5ydzvJJ,6tjituizSxwSmBB5vtgHZE,0hvN2v6fAcB6xWyW7UaooA,2QpN1ZVw8eJO5f7WcvUA1k,47ohYW8e7dxCYn9qbUMBCI,3PIDciSFdrQxSQSihim3hN,2C31Z2B4Z4zb4L7gv6FbJg,2yi7HZrBOC4bMUSTcs4VK6,2FPfeYlrbSBR8PwCU0zaqq,0z5HSQGWgnjdNvwbOmhB2w,7MSYSOobsombc1mbDWFxtD'"
      ]
     },
     "execution_count": 120,
     "metadata": {},
     "output_type": "execute_result"
    }
   ],
   "source": [
    "Win_pop = winter1.drop(columns = ['album', 'explicit', 'artists'])\n",
    "Win_pop.head()\n",
    "Win_pop_ids = Win_pop['id']\n",
    "Win_pop_strings = ','.join(str(x) for x in Win_pop_ids)\n",
    "Win_pop_strings"
   ]
  },
  {
   "cell_type": "code",
   "execution_count": 115,
   "id": "79ba2eea",
   "metadata": {},
   "outputs": [],
   "source": [
    "winter_track_strings = ','.join(str(x) for x in winter_track_ids)"
   ]
  },
  {
   "cell_type": "code",
   "execution_count": null,
   "id": "38aa59be",
   "metadata": {
    "scrolled": true
   },
   "outputs": [],
   "source": [
    "print(winter_track_strings)"
   ]
  },
  {
   "cell_type": "markdown",
   "id": "053190f4",
   "metadata": {},
   "source": [
    "After finishing the collected dataframe for the most popular Winter holiday songs I will collect the audio features and merge them together."
   ]
  },
  {
   "cell_type": "code",
   "execution_count": 128,
   "id": "c79a2a7b",
   "metadata": {},
   "outputs": [],
   "source": [
    "Win_track_features_endpoint = \"https://api.spotify.com/v1/audio-features?ids={}\".format(Hal_pop_strings)"
   ]
  },
  {
   "cell_type": "code",
   "execution_count": 129,
   "id": "d12e743f",
   "metadata": {},
   "outputs": [],
   "source": [
    "Win_features = requests.get(Win_track_features_endpoint, headers = session_header)"
   ]
  },
  {
   "cell_type": "code",
   "execution_count": 130,
   "id": "d4856163",
   "metadata": {},
   "outputs": [
    {
     "data": {
      "text/plain": [
       "200"
      ]
     },
     "execution_count": 130,
     "metadata": {},
     "output_type": "execute_result"
    }
   ],
   "source": [
    "Win_features.status_code"
   ]
  },
  {
   "cell_type": "code",
   "execution_count": 131,
   "id": "a2c66a79",
   "metadata": {
    "scrolled": true
   },
   "outputs": [
    {
     "data": {
      "text/html": [
       "<div>\n",
       "<style scoped>\n",
       "    .dataframe tbody tr th:only-of-type {\n",
       "        vertical-align: middle;\n",
       "    }\n",
       "\n",
       "    .dataframe tbody tr th {\n",
       "        vertical-align: top;\n",
       "    }\n",
       "\n",
       "    .dataframe thead th {\n",
       "        text-align: right;\n",
       "    }\n",
       "</style>\n",
       "<table border=\"1\" class=\"dataframe\">\n",
       "  <thead>\n",
       "    <tr style=\"text-align: right;\">\n",
       "      <th></th>\n",
       "      <th>danceability</th>\n",
       "      <th>energy</th>\n",
       "      <th>key</th>\n",
       "      <th>loudness</th>\n",
       "      <th>mode</th>\n",
       "      <th>speechiness</th>\n",
       "      <th>acousticness</th>\n",
       "      <th>instrumentalness</th>\n",
       "      <th>liveness</th>\n",
       "      <th>valence</th>\n",
       "      <th>tempo</th>\n",
       "      <th>type</th>\n",
       "      <th>id</th>\n",
       "      <th>uri</th>\n",
       "      <th>track_href</th>\n",
       "      <th>analysis_url</th>\n",
       "      <th>duration_ms</th>\n",
       "      <th>time_signature</th>\n",
       "    </tr>\n",
       "  </thead>\n",
       "  <tbody>\n",
       "    <tr>\n",
       "      <th>0</th>\n",
       "      <td>0.773</td>\n",
       "      <td>0.859</td>\n",
       "      <td>11</td>\n",
       "      <td>-4.913</td>\n",
       "      <td>1</td>\n",
       "      <td>0.0747</td>\n",
       "      <td>0.0855</td>\n",
       "      <td>0.000187</td>\n",
       "      <td>0.914</td>\n",
       "      <td>0.813</td>\n",
       "      <td>118.459</td>\n",
       "      <td>audio_features</td>\n",
       "      <td>3S2R0EVwBSAVMd5UMgKTL0</td>\n",
       "      <td>spotify:track:3S2R0EVwBSAVMd5UMgKTL0</td>\n",
       "      <td>https://api.spotify.com/v1/tracks/3S2R0EVwBSAV...</td>\n",
       "      <td>https://api.spotify.com/v1/audio-analysis/3S2R...</td>\n",
       "      <td>357267</td>\n",
       "      <td>4</td>\n",
       "    </tr>\n",
       "    <tr>\n",
       "      <th>1</th>\n",
       "      <td>0.778</td>\n",
       "      <td>0.719</td>\n",
       "      <td>4</td>\n",
       "      <td>-9.698</td>\n",
       "      <td>1</td>\n",
       "      <td>0.0345</td>\n",
       "      <td>0.0123</td>\n",
       "      <td>0.026200</td>\n",
       "      <td>0.297</td>\n",
       "      <td>0.729</td>\n",
       "      <td>115.400</td>\n",
       "      <td>audio_features</td>\n",
       "      <td>569uHYIB0X324FZOBEhvit</td>\n",
       "      <td>spotify:track:569uHYIB0X324FZOBEhvit</td>\n",
       "      <td>https://api.spotify.com/v1/tracks/569uHYIB0X32...</td>\n",
       "      <td>https://api.spotify.com/v1/audio-analysis/569u...</td>\n",
       "      <td>239133</td>\n",
       "      <td>4</td>\n",
       "    </tr>\n",
       "    <tr>\n",
       "      <th>2</th>\n",
       "      <td>0.541</td>\n",
       "      <td>0.504</td>\n",
       "      <td>11</td>\n",
       "      <td>-14.191</td>\n",
       "      <td>0</td>\n",
       "      <td>0.4570</td>\n",
       "      <td>0.3750</td>\n",
       "      <td>0.000000</td>\n",
       "      <td>0.421</td>\n",
       "      <td>0.707</td>\n",
       "      <td>68.482</td>\n",
       "      <td>audio_features</td>\n",
       "      <td>0xxZY5C9xxij3D1HkzbnfC</td>\n",
       "      <td>spotify:track:0xxZY5C9xxij3D1HkzbnfC</td>\n",
       "      <td>https://api.spotify.com/v1/tracks/0xxZY5C9xxij...</td>\n",
       "      <td>https://api.spotify.com/v1/audio-analysis/0xxZ...</td>\n",
       "      <td>192040</td>\n",
       "      <td>4</td>\n",
       "    </tr>\n",
       "    <tr>\n",
       "      <th>3</th>\n",
       "      <td>0.333</td>\n",
       "      <td>0.927</td>\n",
       "      <td>9</td>\n",
       "      <td>-8.550</td>\n",
       "      <td>0</td>\n",
       "      <td>0.0733</td>\n",
       "      <td>0.0029</td>\n",
       "      <td>0.000208</td>\n",
       "      <td>0.297</td>\n",
       "      <td>0.385</td>\n",
       "      <td>141.466</td>\n",
       "      <td>audio_features</td>\n",
       "      <td>5QTxFnGygVM4jFQiBovmRo</td>\n",
       "      <td>spotify:track:5QTxFnGygVM4jFQiBovmRo</td>\n",
       "      <td>https://api.spotify.com/v1/tracks/5QTxFnGygVM4...</td>\n",
       "      <td>https://api.spotify.com/v1/audio-analysis/5QTx...</td>\n",
       "      <td>308120</td>\n",
       "      <td>4</td>\n",
       "    </tr>\n",
       "    <tr>\n",
       "      <th>4</th>\n",
       "      <td>0.574</td>\n",
       "      <td>0.913</td>\n",
       "      <td>6</td>\n",
       "      <td>-4.793</td>\n",
       "      <td>0</td>\n",
       "      <td>0.1330</td>\n",
       "      <td>0.0610</td>\n",
       "      <td>0.001580</td>\n",
       "      <td>0.156</td>\n",
       "      <td>0.423</td>\n",
       "      <td>115.728</td>\n",
       "      <td>audio_features</td>\n",
       "      <td>2zYzyRzz6pRmhPzyfMEC8s</td>\n",
       "      <td>spotify:track:2zYzyRzz6pRmhPzyfMEC8s</td>\n",
       "      <td>https://api.spotify.com/v1/tracks/2zYzyRzz6pRm...</td>\n",
       "      <td>https://api.spotify.com/v1/audio-analysis/2zYz...</td>\n",
       "      <td>208400</td>\n",
       "      <td>4</td>\n",
       "    </tr>\n",
       "  </tbody>\n",
       "</table>\n",
       "</div>"
      ],
      "text/plain": [
       "   danceability  energy  key  loudness  mode  speechiness  acousticness  \\\n",
       "0         0.773   0.859   11    -4.913     1       0.0747        0.0855   \n",
       "1         0.778   0.719    4    -9.698     1       0.0345        0.0123   \n",
       "2         0.541   0.504   11   -14.191     0       0.4570        0.3750   \n",
       "3         0.333   0.927    9    -8.550     0       0.0733        0.0029   \n",
       "4         0.574   0.913    6    -4.793     0       0.1330        0.0610   \n",
       "\n",
       "   instrumentalness  liveness  valence    tempo            type  \\\n",
       "0          0.000187     0.914    0.813  118.459  audio_features   \n",
       "1          0.026200     0.297    0.729  115.400  audio_features   \n",
       "2          0.000000     0.421    0.707   68.482  audio_features   \n",
       "3          0.000208     0.297    0.385  141.466  audio_features   \n",
       "4          0.001580     0.156    0.423  115.728  audio_features   \n",
       "\n",
       "                       id                                   uri  \\\n",
       "0  3S2R0EVwBSAVMd5UMgKTL0  spotify:track:3S2R0EVwBSAVMd5UMgKTL0   \n",
       "1  569uHYIB0X324FZOBEhvit  spotify:track:569uHYIB0X324FZOBEhvit   \n",
       "2  0xxZY5C9xxij3D1HkzbnfC  spotify:track:0xxZY5C9xxij3D1HkzbnfC   \n",
       "3  5QTxFnGygVM4jFQiBovmRo  spotify:track:5QTxFnGygVM4jFQiBovmRo   \n",
       "4  2zYzyRzz6pRmhPzyfMEC8s  spotify:track:2zYzyRzz6pRmhPzyfMEC8s   \n",
       "\n",
       "                                          track_href  \\\n",
       "0  https://api.spotify.com/v1/tracks/3S2R0EVwBSAV...   \n",
       "1  https://api.spotify.com/v1/tracks/569uHYIB0X32...   \n",
       "2  https://api.spotify.com/v1/tracks/0xxZY5C9xxij...   \n",
       "3  https://api.spotify.com/v1/tracks/5QTxFnGygVM4...   \n",
       "4  https://api.spotify.com/v1/tracks/2zYzyRzz6pRm...   \n",
       "\n",
       "                                        analysis_url  duration_ms  \\\n",
       "0  https://api.spotify.com/v1/audio-analysis/3S2R...       357267   \n",
       "1  https://api.spotify.com/v1/audio-analysis/569u...       239133   \n",
       "2  https://api.spotify.com/v1/audio-analysis/0xxZ...       192040   \n",
       "3  https://api.spotify.com/v1/audio-analysis/5QTx...       308120   \n",
       "4  https://api.spotify.com/v1/audio-analysis/2zYz...       208400   \n",
       "\n",
       "   time_signature  \n",
       "0               4  \n",
       "1               4  \n",
       "2               4  \n",
       "3               4  \n",
       "4               4  "
      ]
     },
     "execution_count": 131,
     "metadata": {},
     "output_type": "execute_result"
    }
   ],
   "source": [
    "Win_dict = json.loads(Win_features.text)\n",
    "Win_dict.keys()\n",
    "Winter_af = Win_dict['audio_features']\n",
    "Winter_df = pd.DataFrame(Winter_af)\n",
    "Winter_df.head()"
   ]
  },
  {
   "cell_type": "code",
   "execution_count": 132,
   "id": "fef29f31",
   "metadata": {},
   "outputs": [],
   "source": [
    "Win_pop['danceability'] = Winter_df['danceability']\n",
    "Win_pop['energy'] = Winter_df['energy']\n",
    "Win_pop['key'] = Winter_df['key']\n",
    "Win_pop['loudness'] = Winter_df['loudness']\n",
    "Win_pop['mode'] = Winter_df['mode']\n",
    "Win_pop['speechiness'] = Winter_df['speechiness']\n",
    "Win_pop['acousticness'] = Winter_df['acousticness']\n",
    "Win_pop['instrumentalness'] = Winter_df['instrumentalness']\n",
    "Win_pop['liveness'] = Winter_df['liveness']\n",
    "Win_pop['valence'] = Winter_df['valence']\n",
    "Win_pop['tempo'] = Winter_df['tempo']\n",
    "Win_pop['id'] = Winter_df['id']\n",
    "Win_pop['duration_ms'] = Winter_df['duration_ms']\n",
    "Win_pop['time_signature'] = Winter_df['time_signature']"
   ]
  },
  {
   "cell_type": "code",
   "execution_count": 133,
   "id": "6b6672a6",
   "metadata": {
    "scrolled": true
   },
   "outputs": [
    {
     "data": {
      "text/html": [
       "<div>\n",
       "<style scoped>\n",
       "    .dataframe tbody tr th:only-of-type {\n",
       "        vertical-align: middle;\n",
       "    }\n",
       "\n",
       "    .dataframe tbody tr th {\n",
       "        vertical-align: top;\n",
       "    }\n",
       "\n",
       "    .dataframe thead th {\n",
       "        text-align: right;\n",
       "    }\n",
       "</style>\n",
       "<table border=\"1\" class=\"dataframe\">\n",
       "  <thead>\n",
       "    <tr style=\"text-align: right;\">\n",
       "      <th></th>\n",
       "      <th>duration_ms</th>\n",
       "      <th>id</th>\n",
       "      <th>name</th>\n",
       "      <th>popularity</th>\n",
       "      <th>artists_name</th>\n",
       "      <th>album_name</th>\n",
       "      <th>danceability</th>\n",
       "      <th>energy</th>\n",
       "      <th>key</th>\n",
       "      <th>loudness</th>\n",
       "      <th>mode</th>\n",
       "      <th>speechiness</th>\n",
       "      <th>acousticness</th>\n",
       "      <th>instrumentalness</th>\n",
       "      <th>liveness</th>\n",
       "      <th>valence</th>\n",
       "      <th>tempo</th>\n",
       "      <th>time_signature</th>\n",
       "    </tr>\n",
       "  </thead>\n",
       "  <tbody>\n",
       "    <tr>\n",
       "      <th>0</th>\n",
       "      <td>357267.0</td>\n",
       "      <td>3S2R0EVwBSAVMd5UMgKTL0</td>\n",
       "      <td>All I Want for Christmas Is You</td>\n",
       "      <td>92</td>\n",
       "      <td>Michael Jackson</td>\n",
       "      <td>All I Want for Christmas Is You</td>\n",
       "      <td>0.773</td>\n",
       "      <td>0.859</td>\n",
       "      <td>11.0</td>\n",
       "      <td>-4.913</td>\n",
       "      <td>1.0</td>\n",
       "      <td>0.0747</td>\n",
       "      <td>0.0855</td>\n",
       "      <td>0.000187</td>\n",
       "      <td>0.914</td>\n",
       "      <td>0.813</td>\n",
       "      <td>118.459</td>\n",
       "      <td>4.0</td>\n",
       "    </tr>\n",
       "    <tr>\n",
       "      <th>1</th>\n",
       "      <td>239133.0</td>\n",
       "      <td>569uHYIB0X324FZOBEhvit</td>\n",
       "      <td>Rockin' Around The Christmas Tree</td>\n",
       "      <td>89</td>\n",
       "      <td>Ray Parker Jr.</td>\n",
       "      <td>Rockin' Around The Christmas Tree</td>\n",
       "      <td>0.778</td>\n",
       "      <td>0.719</td>\n",
       "      <td>4.0</td>\n",
       "      <td>-9.698</td>\n",
       "      <td>1.0</td>\n",
       "      <td>0.0345</td>\n",
       "      <td>0.0123</td>\n",
       "      <td>0.026200</td>\n",
       "      <td>0.297</td>\n",
       "      <td>0.729</td>\n",
       "      <td>115.400</td>\n",
       "      <td>4.0</td>\n",
       "    </tr>\n",
       "    <tr>\n",
       "      <th>2</th>\n",
       "      <td>192040.0</td>\n",
       "      <td>0xxZY5C9xxij3D1HkzbnfC</td>\n",
       "      <td>Jingle Bell Rock</td>\n",
       "      <td>88</td>\n",
       "      <td>Bobby \"Boris\" Pickett</td>\n",
       "      <td>Jingle Bell Rock</td>\n",
       "      <td>0.541</td>\n",
       "      <td>0.504</td>\n",
       "      <td>11.0</td>\n",
       "      <td>-14.191</td>\n",
       "      <td>0.0</td>\n",
       "      <td>0.4570</td>\n",
       "      <td>0.3750</td>\n",
       "      <td>0.000000</td>\n",
       "      <td>0.421</td>\n",
       "      <td>0.707</td>\n",
       "      <td>68.482</td>\n",
       "      <td>4.0</td>\n",
       "    </tr>\n",
       "    <tr>\n",
       "      <th>3</th>\n",
       "      <td>308120.0</td>\n",
       "      <td>5QTxFnGygVM4jFQiBovmRo</td>\n",
       "      <td>The Christmas Song (Merry Christmas To You)</td>\n",
       "      <td>81</td>\n",
       "      <td>Blue Öyster Cult</td>\n",
       "      <td>The Christmas Song (Merry Christmas To You)</td>\n",
       "      <td>0.333</td>\n",
       "      <td>0.927</td>\n",
       "      <td>9.0</td>\n",
       "      <td>-8.550</td>\n",
       "      <td>0.0</td>\n",
       "      <td>0.0733</td>\n",
       "      <td>0.0029</td>\n",
       "      <td>0.000208</td>\n",
       "      <td>0.297</td>\n",
       "      <td>0.385</td>\n",
       "      <td>141.466</td>\n",
       "      <td>4.0</td>\n",
       "    </tr>\n",
       "    <tr>\n",
       "      <th>4</th>\n",
       "      <td>208400.0</td>\n",
       "      <td>2zYzyRzz6pRmhPzyfMEC8s</td>\n",
       "      <td>A Holly Jolly Christmas</td>\n",
       "      <td>83</td>\n",
       "      <td>AC/DC</td>\n",
       "      <td>A Holly Jolly Christmas</td>\n",
       "      <td>0.574</td>\n",
       "      <td>0.913</td>\n",
       "      <td>6.0</td>\n",
       "      <td>-4.793</td>\n",
       "      <td>0.0</td>\n",
       "      <td>0.1330</td>\n",
       "      <td>0.0610</td>\n",
       "      <td>0.001580</td>\n",
       "      <td>0.156</td>\n",
       "      <td>0.423</td>\n",
       "      <td>115.728</td>\n",
       "      <td>4.0</td>\n",
       "    </tr>\n",
       "  </tbody>\n",
       "</table>\n",
       "</div>"
      ],
      "text/plain": [
       "   duration_ms                      id  \\\n",
       "0     357267.0  3S2R0EVwBSAVMd5UMgKTL0   \n",
       "1     239133.0  569uHYIB0X324FZOBEhvit   \n",
       "2     192040.0  0xxZY5C9xxij3D1HkzbnfC   \n",
       "3     308120.0  5QTxFnGygVM4jFQiBovmRo   \n",
       "4     208400.0  2zYzyRzz6pRmhPzyfMEC8s   \n",
       "\n",
       "                                          name  popularity  \\\n",
       "0              All I Want for Christmas Is You          92   \n",
       "1            Rockin' Around The Christmas Tree          89   \n",
       "2                             Jingle Bell Rock          88   \n",
       "3  The Christmas Song (Merry Christmas To You)          81   \n",
       "4                      A Holly Jolly Christmas          83   \n",
       "\n",
       "            artists_name                                   album_name  \\\n",
       "0        Michael Jackson              All I Want for Christmas Is You   \n",
       "1         Ray Parker Jr.            Rockin' Around The Christmas Tree   \n",
       "2  Bobby \"Boris\" Pickett                             Jingle Bell Rock   \n",
       "3       Blue Öyster Cult  The Christmas Song (Merry Christmas To You)   \n",
       "4                  AC/DC                      A Holly Jolly Christmas   \n",
       "\n",
       "   danceability  energy   key  loudness  mode  speechiness  acousticness  \\\n",
       "0         0.773   0.859  11.0    -4.913   1.0       0.0747        0.0855   \n",
       "1         0.778   0.719   4.0    -9.698   1.0       0.0345        0.0123   \n",
       "2         0.541   0.504  11.0   -14.191   0.0       0.4570        0.3750   \n",
       "3         0.333   0.927   9.0    -8.550   0.0       0.0733        0.0029   \n",
       "4         0.574   0.913   6.0    -4.793   0.0       0.1330        0.0610   \n",
       "\n",
       "   instrumentalness  liveness  valence    tempo  time_signature  \n",
       "0          0.000187     0.914    0.813  118.459             4.0  \n",
       "1          0.026200     0.297    0.729  115.400             4.0  \n",
       "2          0.000000     0.421    0.707   68.482             4.0  \n",
       "3          0.000208     0.297    0.385  141.466             4.0  \n",
       "4          0.001580     0.156    0.423  115.728             4.0  "
      ]
     },
     "execution_count": 133,
     "metadata": {},
     "output_type": "execute_result"
    }
   ],
   "source": [
    "Win_pop.head()"
   ]
  },
  {
   "cell_type": "code",
   "execution_count": 139,
   "id": "9d8af111",
   "metadata": {
    "scrolled": true
   },
   "outputs": [
    {
     "data": {
      "image/png": "[encoded data removed]",
      "text/plain": [
       "<Figure size 432x288 with 1 Axes>"
      ]
     },
     "metadata": {
      "needs_background": "light"
     },
     "output_type": "display_data"
    }
   ],
   "source": [
    "Halloween1 = Hal_pop['popularity'].plot.hist()\n",
    "plt.show()"
   ]
  },
  {
   "cell_type": "markdown",
   "id": "dbe10141",
   "metadata": {},
   "source": [
    "Here is the histogram of the Fall/Hallloween playlist popularity."
   ]
  },
  {
   "cell_type": "code",
   "execution_count": 140,
   "id": "cccceee8",
   "metadata": {
    "scrolled": true
   },
   "outputs": [
    {
     "data": {
      "image/png": "[encoded data removed]",
      "text/plain": [
       "<Figure size 432x288 with 1 Axes>"
      ]
     },
     "metadata": {
      "needs_background": "light"
     },
     "output_type": "display_data"
    }
   ],
   "source": [
    "Winter1 = Win_pop['popularity'].plot.hist()\n",
    "plt.show()"
   ]
  },
  {
   "cell_type": "markdown",
   "id": "5a39588d",
   "metadata": {},
   "source": [
    "Here is the histogram of the Winter Holiday Playlist popularity."
   ]
  }
 ],
 "metadata": {
  "kernelspec": {
   "display_name": "Python 3 (ipykernel)",
   "language": "python",
   "name": "python3"
  },
  "language_info": {
   "codemirror_mode": {
    "name": "ipython",
    "version": 3
   },
   "file_extension": ".py",
   "mimetype": "text/x-python",
   "name": "python",
   "nbconvert_exporter": "python",
   "pygments_lexer": "ipython3",
   "version": "3.10.4"
  }
 },
 "nbformat": 4,
 "nbformat_minor": 5
}

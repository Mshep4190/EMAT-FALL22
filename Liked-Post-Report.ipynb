{
 "cells": [
  {
   "cell_type": "markdown",
   "id": "cf96251d",
   "metadata": {},
   "source": [
    "### Michael Schoeppner\n",
    "### 09/18/22\n",
    "### Liked Post Report"
   ]
  },
  {
   "cell_type": "markdown",
   "id": "4ff6b799",
   "metadata": {},
   "source": [
    "I would anticipate that it will be simple to explore the data I have collected from the liked section of my Instagram account and, in the end, get the timestamp data I am looking for. I'll hopefully be able to navigate the data I need for future assignments with more ease thanks to this as well. I'm hoping to learn more in the end and maybe even use this for my own needs instead of just for schoolwork.\n",
    "\n",
    "This data was collected to show the course my Instagram took over my time using it. We are tracking all this information to better show me ads or content that best suits me as a user. This information may be trustworthy because, as I mentioned in the previous question, programmers or users can help navigate content that is more tuned for that user. However, if a programmer needs to retrieve data that is no longer available on the user's profile, they can go into the code and sort the content to find precisely what they need. Additionally, they could utilize this to assist in resolving flaws in the programming that are preventing people from accessing their accounts. In what ways may this data be unreliable? A user utilizing the code can be forced to handle the data in inconsistent ways if they are unsure of how to sort or classify it. Even if they are aware of how to code but don't have the required applications, this might cause them to run into more issues than they thought. Another reason could be that you would need to spend extra time reviewing your code and any possible instructions because the data itself could be put up differently than at other times.\n",
    "\n",
    "After recognizing my initial theory, I found that navigating the data was more difficult than I had anticipated. To get the code to retrieve the data I needed, I had to make additional specifications. Exploring different learning methods was more difficult for me because it was more difficult for me to discover new things when I wasn't being instructed in class. In the upcoming classes, I'm hoping we may go over specific portions to clear up any questions I might have about upcoming homework."
   ]
  },
  {
   "cell_type": "code",
   "execution_count": 110,
   "id": "de3acc5a",
   "metadata": {
    "scrolled": true
   },
   "outputs": [],
   "source": [
    "import pandas as pd\n",
    "import json"
   ]
  },
  {
   "cell_type": "code",
   "execution_count": 111,
   "id": "87718418",
   "metadata": {},
   "outputs": [],
   "source": [
    "with open(r\"C:\\Users\\shep4\\EMAT-FALL22\\Insta\\likes\\liked_posts.json\") as p:\n",
    "    insta_liked = json.load(p)"
   ]
  },
  {
   "cell_type": "code",
   "execution_count": null,
   "id": "47f6a53d",
   "metadata": {
    "scrolled": true
   },
   "outputs": [],
   "source": [
    "insta_liked"
   ]
  },
  {
   "cell_type": "markdown",
   "id": "5254801b",
   "metadata": {},
   "source": [
    "This is the full completed data Instagram has collected over the years of use."
   ]
  },
  {
   "cell_type": "code",
   "execution_count": 113,
   "id": "f0d82a69",
   "metadata": {
    "scrolled": false
   },
   "outputs": [],
   "source": [
    "test1 = pd.DataFrame(insta_liked['likes_media_likes'])"
   ]
  },
  {
   "cell_type": "code",
   "execution_count": 114,
   "id": "f88a08b2",
   "metadata": {
    "scrolled": false
   },
   "outputs": [
    {
     "data": {
      "text/html": [
       "<div>\n",
       "<style scoped>\n",
       "    .dataframe tbody tr th:only-of-type {\n",
       "        vertical-align: middle;\n",
       "    }\n",
       "\n",
       "    .dataframe tbody tr th {\n",
       "        vertical-align: top;\n",
       "    }\n",
       "\n",
       "    .dataframe thead th {\n",
       "        text-align: right;\n",
       "    }\n",
       "</style>\n",
       "<table border=\"1\" class=\"dataframe\">\n",
       "  <thead>\n",
       "    <tr style=\"text-align: right;\">\n",
       "      <th></th>\n",
       "      <th>title</th>\n",
       "      <th>media_list_data</th>\n",
       "      <th>string_list_data</th>\n",
       "    </tr>\n",
       "  </thead>\n",
       "  <tbody>\n",
       "    <tr>\n",
       "      <th>0</th>\n",
       "      <td>jessie.kasper</td>\n",
       "      <td>[]</td>\n",
       "      <td>[{'href': 'https://www.instagram.com/p/xDapS4H...</td>\n",
       "    </tr>\n",
       "    <tr>\n",
       "      <th>1</th>\n",
       "      <td>victoria_vesy</td>\n",
       "      <td>[]</td>\n",
       "      <td>[{'href': 'https://www.instagram.com/p/xDg4bdr...</td>\n",
       "    </tr>\n",
       "    <tr>\n",
       "      <th>2</th>\n",
       "      <td>emilly_thomass</td>\n",
       "      <td>[]</td>\n",
       "      <td>[{'href': 'https://www.instagram.com/p/xDhZusM...</td>\n",
       "    </tr>\n",
       "    <tr>\n",
       "      <th>3</th>\n",
       "      <td>krista_seifert</td>\n",
       "      <td>[]</td>\n",
       "      <td>[{'href': 'https://www.instagram.com/p/w1tom-m...</td>\n",
       "    </tr>\n",
       "    <tr>\n",
       "      <th>4</th>\n",
       "      <td>anniewinkhart</td>\n",
       "      <td>[]</td>\n",
       "      <td>[{'href': 'https://www.instagram.com/p/wpiKZzE...</td>\n",
       "    </tr>\n",
       "    <tr>\n",
       "      <th>...</th>\n",
       "      <td>...</td>\n",
       "      <td>...</td>\n",
       "      <td>...</td>\n",
       "    </tr>\n",
       "    <tr>\n",
       "      <th>3147</th>\n",
       "      <td>hotvocals</td>\n",
       "      <td>[]</td>\n",
       "      <td>[{'href': 'https://www.instagram.com/reel/CbLK...</td>\n",
       "    </tr>\n",
       "    <tr>\n",
       "      <th>3148</th>\n",
       "      <td>kdingey3</td>\n",
       "      <td>[]</td>\n",
       "      <td>[{'href': 'https://www.instagram.com/p/CbDy54J...</td>\n",
       "    </tr>\n",
       "    <tr>\n",
       "      <th>3149</th>\n",
       "      <td>nicolebreger</td>\n",
       "      <td>[]</td>\n",
       "      <td>[{'href': 'https://www.instagram.com/p/CbGeSEF...</td>\n",
       "    </tr>\n",
       "    <tr>\n",
       "      <th>3150</th>\n",
       "      <td>fab_ksu</td>\n",
       "      <td>[]</td>\n",
       "      <td>[{'href': 'https://www.instagram.com/p/CbGp-xG...</td>\n",
       "    </tr>\n",
       "    <tr>\n",
       "      <th>3151</th>\n",
       "      <td>megan_kuty</td>\n",
       "      <td>[]</td>\n",
       "      <td>[{'href': 'https://www.instagram.com/p/CbDcd08...</td>\n",
       "    </tr>\n",
       "  </tbody>\n",
       "</table>\n",
       "<p>3152 rows × 3 columns</p>\n",
       "</div>"
      ],
      "text/plain": [
       "               title media_list_data  \\\n",
       "0      jessie.kasper              []   \n",
       "1      victoria_vesy              []   \n",
       "2     emilly_thomass              []   \n",
       "3     krista_seifert              []   \n",
       "4      anniewinkhart              []   \n",
       "...              ...             ...   \n",
       "3147       hotvocals              []   \n",
       "3148        kdingey3              []   \n",
       "3149    nicolebreger              []   \n",
       "3150         fab_ksu              []   \n",
       "3151      megan_kuty              []   \n",
       "\n",
       "                                       string_list_data  \n",
       "0     [{'href': 'https://www.instagram.com/p/xDapS4H...  \n",
       "1     [{'href': 'https://www.instagram.com/p/xDg4bdr...  \n",
       "2     [{'href': 'https://www.instagram.com/p/xDhZusM...  \n",
       "3     [{'href': 'https://www.instagram.com/p/w1tom-m...  \n",
       "4     [{'href': 'https://www.instagram.com/p/wpiKZzE...  \n",
       "...                                                 ...  \n",
       "3147  [{'href': 'https://www.instagram.com/reel/CbLK...  \n",
       "3148  [{'href': 'https://www.instagram.com/p/CbDy54J...  \n",
       "3149  [{'href': 'https://www.instagram.com/p/CbGeSEF...  \n",
       "3150  [{'href': 'https://www.instagram.com/p/CbGp-xG...  \n",
       "3151  [{'href': 'https://www.instagram.com/p/CbDcd08...  \n",
       "\n",
       "[3152 rows x 3 columns]"
      ]
     },
     "execution_count": 114,
     "metadata": {},
     "output_type": "execute_result"
    }
   ],
   "source": [
    "test1"
   ]
  },
  {
   "cell_type": "markdown",
   "id": "3c133d35",
   "metadata": {},
   "source": [
    "The above data is the unorganized raw data from the downloaded file Instagram provided for me from my personal profile."
   ]
  },
  {
   "cell_type": "markdown",
   "id": "a63aabf3",
   "metadata": {},
   "source": [
    "Here we are filtering out which data information goes to which topic so we may filter it out further to find the correct data we seek."
   ]
  },
  {
   "cell_type": "code",
   "execution_count": 115,
   "id": "99dd4b3f",
   "metadata": {},
   "outputs": [
    {
     "data": {
      "text/plain": [
       "[{'href': 'https://www.instagram.com/p/xDapS4HKL6/',\n",
       "  'value': 'ð\\x9f\\x91\\x8d',\n",
       "  'timestamp': 1419586866}]"
      ]
     },
     "execution_count": 115,
     "metadata": {},
     "output_type": "execute_result"
    }
   ],
   "source": [
    "test1['string_list_data'][0]"
   ]
  },
  {
   "cell_type": "markdown",
   "id": "94f3f91d",
   "metadata": {},
   "source": [
    "This is a comprehensive list of the timestamps for each Instagram profile I liked over the period of my account's existence."
   ]
  },
  {
   "cell_type": "code",
   "execution_count": 116,
   "id": "a4564519",
   "metadata": {},
   "outputs": [],
   "source": [
    "timestamp = [x[0]['timestamp'] for x in test1['string_list_data']]"
   ]
  },
  {
   "cell_type": "code",
   "execution_count": null,
   "id": "1fca1cf3",
   "metadata": {},
   "outputs": [],
   "source": [
    "timestamp"
   ]
  },
  {
   "cell_type": "markdown",
   "id": "d3f8d061",
   "metadata": {},
   "source": [
    "To make it simpler to calculate how many I have liked during my Instagram career, I summed up each data point or column above."
   ]
  },
  {
   "cell_type": "code",
   "execution_count": 118,
   "id": "f6f12990",
   "metadata": {
    "scrolled": true
   },
   "outputs": [
    {
     "data": {
      "text/plain": [
       "title               3152\n",
       "media_list_data     3152\n",
       "string_list_data    3152\n",
       "dtype: int64"
      ]
     },
     "execution_count": 118,
     "metadata": {},
     "output_type": "execute_result"
    }
   ],
   "source": [
    "test1.count()"
   ]
  },
  {
   "cell_type": "code",
   "execution_count": 119,
   "id": "f3944e8a",
   "metadata": {},
   "outputs": [
    {
     "data": {
      "text/html": [
       "<div>\n",
       "<style scoped>\n",
       "    .dataframe tbody tr th:only-of-type {\n",
       "        vertical-align: middle;\n",
       "    }\n",
       "\n",
       "    .dataframe tbody tr th {\n",
       "        vertical-align: top;\n",
       "    }\n",
       "\n",
       "    .dataframe thead th {\n",
       "        text-align: right;\n",
       "    }\n",
       "</style>\n",
       "<table border=\"1\" class=\"dataframe\">\n",
       "  <thead>\n",
       "    <tr style=\"text-align: right;\">\n",
       "      <th></th>\n",
       "      <th>title</th>\n",
       "      <th>media_list_data</th>\n",
       "      <th>string_list_data</th>\n",
       "    </tr>\n",
       "  </thead>\n",
       "  <tbody>\n",
       "    <tr>\n",
       "      <th>0</th>\n",
       "      <td>jessie.kasper</td>\n",
       "      <td>[]</td>\n",
       "      <td>[{'href': 'https://www.instagram.com/p/xDapS4H...</td>\n",
       "    </tr>\n",
       "    <tr>\n",
       "      <th>1</th>\n",
       "      <td>victoria_vesy</td>\n",
       "      <td>[]</td>\n",
       "      <td>[{'href': 'https://www.instagram.com/p/xDg4bdr...</td>\n",
       "    </tr>\n",
       "    <tr>\n",
       "      <th>2</th>\n",
       "      <td>emilly_thomass</td>\n",
       "      <td>[]</td>\n",
       "      <td>[{'href': 'https://www.instagram.com/p/xDhZusM...</td>\n",
       "    </tr>\n",
       "    <tr>\n",
       "      <th>3</th>\n",
       "      <td>krista_seifert</td>\n",
       "      <td>[]</td>\n",
       "      <td>[{'href': 'https://www.instagram.com/p/w1tom-m...</td>\n",
       "    </tr>\n",
       "    <tr>\n",
       "      <th>4</th>\n",
       "      <td>anniewinkhart</td>\n",
       "      <td>[]</td>\n",
       "      <td>[{'href': 'https://www.instagram.com/p/wpiKZzE...</td>\n",
       "    </tr>\n",
       "    <tr>\n",
       "      <th>...</th>\n",
       "      <td>...</td>\n",
       "      <td>...</td>\n",
       "      <td>...</td>\n",
       "    </tr>\n",
       "    <tr>\n",
       "      <th>3147</th>\n",
       "      <td>hotvocals</td>\n",
       "      <td>[]</td>\n",
       "      <td>[{'href': 'https://www.instagram.com/reel/CbLK...</td>\n",
       "    </tr>\n",
       "    <tr>\n",
       "      <th>3148</th>\n",
       "      <td>kdingey3</td>\n",
       "      <td>[]</td>\n",
       "      <td>[{'href': 'https://www.instagram.com/p/CbDy54J...</td>\n",
       "    </tr>\n",
       "    <tr>\n",
       "      <th>3149</th>\n",
       "      <td>nicolebreger</td>\n",
       "      <td>[]</td>\n",
       "      <td>[{'href': 'https://www.instagram.com/p/CbGeSEF...</td>\n",
       "    </tr>\n",
       "    <tr>\n",
       "      <th>3150</th>\n",
       "      <td>fab_ksu</td>\n",
       "      <td>[]</td>\n",
       "      <td>[{'href': 'https://www.instagram.com/p/CbGp-xG...</td>\n",
       "    </tr>\n",
       "    <tr>\n",
       "      <th>3151</th>\n",
       "      <td>megan_kuty</td>\n",
       "      <td>[]</td>\n",
       "      <td>[{'href': 'https://www.instagram.com/p/CbDcd08...</td>\n",
       "    </tr>\n",
       "  </tbody>\n",
       "</table>\n",
       "<p>3152 rows × 3 columns</p>\n",
       "</div>"
      ],
      "text/plain": [
       "               title media_list_data  \\\n",
       "0      jessie.kasper              []   \n",
       "1      victoria_vesy              []   \n",
       "2     emilly_thomass              []   \n",
       "3     krista_seifert              []   \n",
       "4      anniewinkhart              []   \n",
       "...              ...             ...   \n",
       "3147       hotvocals              []   \n",
       "3148        kdingey3              []   \n",
       "3149    nicolebreger              []   \n",
       "3150         fab_ksu              []   \n",
       "3151      megan_kuty              []   \n",
       "\n",
       "                                       string_list_data  \n",
       "0     [{'href': 'https://www.instagram.com/p/xDapS4H...  \n",
       "1     [{'href': 'https://www.instagram.com/p/xDg4bdr...  \n",
       "2     [{'href': 'https://www.instagram.com/p/xDhZusM...  \n",
       "3     [{'href': 'https://www.instagram.com/p/w1tom-m...  \n",
       "4     [{'href': 'https://www.instagram.com/p/wpiKZzE...  \n",
       "...                                                 ...  \n",
       "3147  [{'href': 'https://www.instagram.com/reel/CbLK...  \n",
       "3148  [{'href': 'https://www.instagram.com/p/CbDy54J...  \n",
       "3149  [{'href': 'https://www.instagram.com/p/CbGeSEF...  \n",
       "3150  [{'href': 'https://www.instagram.com/p/CbGp-xG...  \n",
       "3151  [{'href': 'https://www.instagram.com/p/CbDcd08...  \n",
       "\n",
       "[3152 rows x 3 columns]"
      ]
     },
     "execution_count": 119,
     "metadata": {},
     "output_type": "execute_result"
    }
   ],
   "source": [
    "test1.sort_index()"
   ]
  },
  {
   "cell_type": "code",
   "execution_count": 120,
   "id": "3043b648",
   "metadata": {},
   "outputs": [
    {
     "data": {
      "text/plain": [
       "3152"
      ]
     },
     "execution_count": 120,
     "metadata": {},
     "output_type": "execute_result"
    }
   ],
   "source": [
    "len(timestamp)"
   ]
  },
  {
   "cell_type": "code",
   "execution_count": 121,
   "id": "ca59714b",
   "metadata": {},
   "outputs": [],
   "source": [
    "test1['timestamp'] = timestamp"
   ]
  },
  {
   "cell_type": "code",
   "execution_count": 122,
   "id": "95bfe83c",
   "metadata": {
    "scrolled": true
   },
   "outputs": [
    {
     "data": {
      "text/html": [
       "<div>\n",
       "<style scoped>\n",
       "    .dataframe tbody tr th:only-of-type {\n",
       "        vertical-align: middle;\n",
       "    }\n",
       "\n",
       "    .dataframe tbody tr th {\n",
       "        vertical-align: top;\n",
       "    }\n",
       "\n",
       "    .dataframe thead th {\n",
       "        text-align: right;\n",
       "    }\n",
       "</style>\n",
       "<table border=\"1\" class=\"dataframe\">\n",
       "  <thead>\n",
       "    <tr style=\"text-align: right;\">\n",
       "      <th></th>\n",
       "      <th>title</th>\n",
       "      <th>media_list_data</th>\n",
       "      <th>string_list_data</th>\n",
       "      <th>timestamp</th>\n",
       "    </tr>\n",
       "  </thead>\n",
       "  <tbody>\n",
       "    <tr>\n",
       "      <th>3151</th>\n",
       "      <td>megan_kuty</td>\n",
       "      <td>[]</td>\n",
       "      <td>[{'href': 'https://www.instagram.com/p/CbDcd08...</td>\n",
       "      <td>1647291358</td>\n",
       "    </tr>\n",
       "    <tr>\n",
       "      <th>3150</th>\n",
       "      <td>fab_ksu</td>\n",
       "      <td>[]</td>\n",
       "      <td>[{'href': 'https://www.instagram.com/p/CbGp-xG...</td>\n",
       "      <td>1647303765</td>\n",
       "    </tr>\n",
       "    <tr>\n",
       "      <th>3149</th>\n",
       "      <td>nicolebreger</td>\n",
       "      <td>[]</td>\n",
       "      <td>[{'href': 'https://www.instagram.com/p/CbGeSEF...</td>\n",
       "      <td>1647303774</td>\n",
       "    </tr>\n",
       "    <tr>\n",
       "      <th>3148</th>\n",
       "      <td>kdingey3</td>\n",
       "      <td>[]</td>\n",
       "      <td>[{'href': 'https://www.instagram.com/p/CbDy54J...</td>\n",
       "      <td>1647364989</td>\n",
       "    </tr>\n",
       "    <tr>\n",
       "      <th>3147</th>\n",
       "      <td>hotvocals</td>\n",
       "      <td>[]</td>\n",
       "      <td>[{'href': 'https://www.instagram.com/reel/CbLK...</td>\n",
       "      <td>1647464439</td>\n",
       "    </tr>\n",
       "    <tr>\n",
       "      <th>...</th>\n",
       "      <td>...</td>\n",
       "      <td>...</td>\n",
       "      <td>...</td>\n",
       "      <td>...</td>\n",
       "    </tr>\n",
       "    <tr>\n",
       "      <th>4</th>\n",
       "      <td>anniewinkhart</td>\n",
       "      <td>[]</td>\n",
       "      <td>[{'href': 'https://www.instagram.com/p/wpiKZzE...</td>\n",
       "      <td>1418693318</td>\n",
       "    </tr>\n",
       "    <tr>\n",
       "      <th>3</th>\n",
       "      <td>krista_seifert</td>\n",
       "      <td>[]</td>\n",
       "      <td>[{'href': 'https://www.instagram.com/p/w1tom-m...</td>\n",
       "      <td>1419103720</td>\n",
       "    </tr>\n",
       "    <tr>\n",
       "      <th>2</th>\n",
       "      <td>emilly_thomass</td>\n",
       "      <td>[]</td>\n",
       "      <td>[{'href': 'https://www.instagram.com/p/xDhZusM...</td>\n",
       "      <td>1419586838</td>\n",
       "    </tr>\n",
       "    <tr>\n",
       "      <th>1</th>\n",
       "      <td>victoria_vesy</td>\n",
       "      <td>[]</td>\n",
       "      <td>[{'href': 'https://www.instagram.com/p/xDg4bdr...</td>\n",
       "      <td>1419586846</td>\n",
       "    </tr>\n",
       "    <tr>\n",
       "      <th>0</th>\n",
       "      <td>jessie.kasper</td>\n",
       "      <td>[]</td>\n",
       "      <td>[{'href': 'https://www.instagram.com/p/xDapS4H...</td>\n",
       "      <td>1419586866</td>\n",
       "    </tr>\n",
       "  </tbody>\n",
       "</table>\n",
       "<p>3152 rows × 4 columns</p>\n",
       "</div>"
      ],
      "text/plain": [
       "               title media_list_data  \\\n",
       "3151      megan_kuty              []   \n",
       "3150         fab_ksu              []   \n",
       "3149    nicolebreger              []   \n",
       "3148        kdingey3              []   \n",
       "3147       hotvocals              []   \n",
       "...              ...             ...   \n",
       "4      anniewinkhart              []   \n",
       "3     krista_seifert              []   \n",
       "2     emilly_thomass              []   \n",
       "1      victoria_vesy              []   \n",
       "0      jessie.kasper              []   \n",
       "\n",
       "                                       string_list_data   timestamp  \n",
       "3151  [{'href': 'https://www.instagram.com/p/CbDcd08...  1647291358  \n",
       "3150  [{'href': 'https://www.instagram.com/p/CbGp-xG...  1647303765  \n",
       "3149  [{'href': 'https://www.instagram.com/p/CbGeSEF...  1647303774  \n",
       "3148  [{'href': 'https://www.instagram.com/p/CbDy54J...  1647364989  \n",
       "3147  [{'href': 'https://www.instagram.com/reel/CbLK...  1647464439  \n",
       "...                                                 ...         ...  \n",
       "4     [{'href': 'https://www.instagram.com/p/wpiKZzE...  1418693318  \n",
       "3     [{'href': 'https://www.instagram.com/p/w1tom-m...  1419103720  \n",
       "2     [{'href': 'https://www.instagram.com/p/xDhZusM...  1419586838  \n",
       "1     [{'href': 'https://www.instagram.com/p/xDg4bdr...  1419586846  \n",
       "0     [{'href': 'https://www.instagram.com/p/xDapS4H...  1419586866  \n",
       "\n",
       "[3152 rows x 4 columns]"
      ]
     },
     "execution_count": 122,
     "metadata": {},
     "output_type": "execute_result"
    }
   ],
   "source": [
    "test1.sort_index(ascending=False)"
   ]
  },
  {
   "cell_type": "code",
   "execution_count": 123,
   "id": "6a7b0b56",
   "metadata": {
    "scrolled": true
   },
   "outputs": [
    {
     "data": {
      "text/html": [
       "<div>\n",
       "<style scoped>\n",
       "    .dataframe tbody tr th:only-of-type {\n",
       "        vertical-align: middle;\n",
       "    }\n",
       "\n",
       "    .dataframe tbody tr th {\n",
       "        vertical-align: top;\n",
       "    }\n",
       "\n",
       "    .dataframe thead th {\n",
       "        text-align: right;\n",
       "    }\n",
       "</style>\n",
       "<table border=\"1\" class=\"dataframe\">\n",
       "  <thead>\n",
       "    <tr style=\"text-align: right;\">\n",
       "      <th></th>\n",
       "      <th>timestamp</th>\n",
       "    </tr>\n",
       "    <tr>\n",
       "      <th>title</th>\n",
       "      <th></th>\n",
       "    </tr>\n",
       "  </thead>\n",
       "  <tbody>\n",
       "    <tr>\n",
       "      <th>1sweetjt</th>\n",
       "      <td>9148659366</td>\n",
       "    </tr>\n",
       "    <tr>\n",
       "      <th>3.1415926535897932384626433832</th>\n",
       "      <td>2897439966</td>\n",
       "    </tr>\n",
       "    <tr>\n",
       "      <th>4ocean</th>\n",
       "      <td>1525651236</td>\n",
       "    </tr>\n",
       "    <tr>\n",
       "      <th>777erin_</th>\n",
       "      <td>1559765599</td>\n",
       "    </tr>\n",
       "    <tr>\n",
       "      <th>89thkey</th>\n",
       "      <td>8121693713</td>\n",
       "    </tr>\n",
       "    <tr>\n",
       "      <th>...</th>\n",
       "      <td>...</td>\n",
       "    </tr>\n",
       "    <tr>\n",
       "      <th>zach_bruni</th>\n",
       "      <td>3082890290</td>\n",
       "    </tr>\n",
       "    <tr>\n",
       "      <th>zachking</th>\n",
       "      <td>17284132762</td>\n",
       "    </tr>\n",
       "    <tr>\n",
       "      <th>zachkrnach</th>\n",
       "      <td>1495072097</td>\n",
       "    </tr>\n",
       "    <tr>\n",
       "      <th>zazdanowicz</th>\n",
       "      <td>1615766301</td>\n",
       "    </tr>\n",
       "    <tr>\n",
       "      <th>zoeyziegler</th>\n",
       "      <td>3160812438</td>\n",
       "    </tr>\n",
       "  </tbody>\n",
       "</table>\n",
       "<p>786 rows × 1 columns</p>\n",
       "</div>"
      ],
      "text/plain": [
       "                                  timestamp\n",
       "title                                      \n",
       "1sweetjt                         9148659366\n",
       "3.1415926535897932384626433832   2897439966\n",
       "4ocean                           1525651236\n",
       "777erin_                         1559765599\n",
       "89thkey                          8121693713\n",
       "...                                     ...\n",
       "zach_bruni                       3082890290\n",
       "zachking                        17284132762\n",
       "zachkrnach                       1495072097\n",
       "zazdanowicz                      1615766301\n",
       "zoeyziegler                      3160812438\n",
       "\n",
       "[786 rows x 1 columns]"
      ]
     },
     "execution_count": 123,
     "metadata": {},
     "output_type": "execute_result"
    }
   ],
   "source": [
    "final_df.groupby(by='title').sum()"
   ]
  },
  {
   "cell_type": "code",
   "execution_count": 124,
   "id": "62d17f67",
   "metadata": {
    "scrolled": true
   },
   "outputs": [
    {
     "data": {
      "text/html": [
       "<div>\n",
       "<style scoped>\n",
       "    .dataframe tbody tr th:only-of-type {\n",
       "        vertical-align: middle;\n",
       "    }\n",
       "\n",
       "    .dataframe tbody tr th {\n",
       "        vertical-align: top;\n",
       "    }\n",
       "\n",
       "    .dataframe thead th {\n",
       "        text-align: right;\n",
       "    }\n",
       "</style>\n",
       "<table border=\"1\" class=\"dataframe\">\n",
       "  <thead>\n",
       "    <tr style=\"text-align: right;\">\n",
       "      <th></th>\n",
       "      <th>timestamp</th>\n",
       "    </tr>\n",
       "    <tr>\n",
       "      <th>title</th>\n",
       "      <th></th>\n",
       "    </tr>\n",
       "  </thead>\n",
       "  <tbody>\n",
       "    <tr>\n",
       "      <th>1sweetjt</th>\n",
       "      <td>9148659366</td>\n",
       "    </tr>\n",
       "    <tr>\n",
       "      <th>3.1415926535897932384626433832</th>\n",
       "      <td>2897439966</td>\n",
       "    </tr>\n",
       "    <tr>\n",
       "      <th>4ocean</th>\n",
       "      <td>1525651236</td>\n",
       "    </tr>\n",
       "    <tr>\n",
       "      <th>777erin_</th>\n",
       "      <td>1559765599</td>\n",
       "    </tr>\n",
       "    <tr>\n",
       "      <th>89thkey</th>\n",
       "      <td>8121693713</td>\n",
       "    </tr>\n",
       "    <tr>\n",
       "      <th>...</th>\n",
       "      <td>...</td>\n",
       "    </tr>\n",
       "    <tr>\n",
       "      <th>zach_bruni</th>\n",
       "      <td>3082890290</td>\n",
       "    </tr>\n",
       "    <tr>\n",
       "      <th>zachking</th>\n",
       "      <td>17284132762</td>\n",
       "    </tr>\n",
       "    <tr>\n",
       "      <th>zachkrnach</th>\n",
       "      <td>1495072097</td>\n",
       "    </tr>\n",
       "    <tr>\n",
       "      <th>zazdanowicz</th>\n",
       "      <td>1615766301</td>\n",
       "    </tr>\n",
       "    <tr>\n",
       "      <th>zoeyziegler</th>\n",
       "      <td>3160812438</td>\n",
       "    </tr>\n",
       "  </tbody>\n",
       "</table>\n",
       "<p>786 rows × 1 columns</p>\n",
       "</div>"
      ],
      "text/plain": [
       "                                  timestamp\n",
       "title                                      \n",
       "1sweetjt                         9148659366\n",
       "3.1415926535897932384626433832   2897439966\n",
       "4ocean                           1525651236\n",
       "777erin_                         1559765599\n",
       "89thkey                          8121693713\n",
       "...                                     ...\n",
       "zach_bruni                       3082890290\n",
       "zachking                        17284132762\n",
       "zachkrnach                       1495072097\n",
       "zazdanowicz                      1615766301\n",
       "zoeyziegler                      3160812438\n",
       "\n",
       "[786 rows x 1 columns]"
      ]
     },
     "execution_count": 124,
     "metadata": {},
     "output_type": "execute_result"
    }
   ],
   "source": [
    "final_df.groupby(by=\"title\", dropna=False).sum()"
   ]
  },
  {
   "cell_type": "code",
   "execution_count": 125,
   "id": "9ffc3289",
   "metadata": {},
   "outputs": [],
   "source": [
    "final_df = test1.drop('string_list_data', axis = 1)"
   ]
  },
  {
   "cell_type": "code",
   "execution_count": 126,
   "id": "8ee39ea9",
   "metadata": {},
   "outputs": [
    {
     "data": {
      "text/html": [
       "<div>\n",
       "<style scoped>\n",
       "    .dataframe tbody tr th:only-of-type {\n",
       "        vertical-align: middle;\n",
       "    }\n",
       "\n",
       "    .dataframe tbody tr th {\n",
       "        vertical-align: top;\n",
       "    }\n",
       "\n",
       "    .dataframe thead th {\n",
       "        text-align: right;\n",
       "    }\n",
       "</style>\n",
       "<table border=\"1\" class=\"dataframe\">\n",
       "  <thead>\n",
       "    <tr style=\"text-align: right;\">\n",
       "      <th></th>\n",
       "      <th>title</th>\n",
       "      <th>media_list_data</th>\n",
       "      <th>timestamp</th>\n",
       "    </tr>\n",
       "  </thead>\n",
       "  <tbody>\n",
       "    <tr>\n",
       "      <th>0</th>\n",
       "      <td>jessie.kasper</td>\n",
       "      <td>[]</td>\n",
       "      <td>1419586866</td>\n",
       "    </tr>\n",
       "    <tr>\n",
       "      <th>1</th>\n",
       "      <td>victoria_vesy</td>\n",
       "      <td>[]</td>\n",
       "      <td>1419586846</td>\n",
       "    </tr>\n",
       "    <tr>\n",
       "      <th>2</th>\n",
       "      <td>emilly_thomass</td>\n",
       "      <td>[]</td>\n",
       "      <td>1419586838</td>\n",
       "    </tr>\n",
       "    <tr>\n",
       "      <th>3</th>\n",
       "      <td>krista_seifert</td>\n",
       "      <td>[]</td>\n",
       "      <td>1419103720</td>\n",
       "    </tr>\n",
       "    <tr>\n",
       "      <th>4</th>\n",
       "      <td>anniewinkhart</td>\n",
       "      <td>[]</td>\n",
       "      <td>1418693318</td>\n",
       "    </tr>\n",
       "  </tbody>\n",
       "</table>\n",
       "</div>"
      ],
      "text/plain": [
       "            title media_list_data   timestamp\n",
       "0   jessie.kasper              []  1419586866\n",
       "1   victoria_vesy              []  1419586846\n",
       "2  emilly_thomass              []  1419586838\n",
       "3  krista_seifert              []  1419103720\n",
       "4   anniewinkhart              []  1418693318"
      ]
     },
     "execution_count": 126,
     "metadata": {},
     "output_type": "execute_result"
    }
   ],
   "source": [
    "final_df.head()"
   ]
  },
  {
   "cell_type": "code",
   "execution_count": 127,
   "id": "dbb9acee",
   "metadata": {
    "scrolled": true
   },
   "outputs": [
    {
     "data": {
      "text/html": [
       "<div>\n",
       "<style scoped>\n",
       "    .dataframe tbody tr th:only-of-type {\n",
       "        vertical-align: middle;\n",
       "    }\n",
       "\n",
       "    .dataframe tbody tr th {\n",
       "        vertical-align: top;\n",
       "    }\n",
       "\n",
       "    .dataframe thead th {\n",
       "        text-align: right;\n",
       "    }\n",
       "</style>\n",
       "<table border=\"1\" class=\"dataframe\">\n",
       "  <thead>\n",
       "    <tr style=\"text-align: right;\">\n",
       "      <th></th>\n",
       "      <th>title</th>\n",
       "      <th>media_list_data</th>\n",
       "    </tr>\n",
       "    <tr>\n",
       "      <th>timestamp</th>\n",
       "      <th></th>\n",
       "      <th></th>\n",
       "    </tr>\n",
       "  </thead>\n",
       "  <tbody>\n",
       "    <tr>\n",
       "      <th>1538410946</th>\n",
       "      <td>2</td>\n",
       "      <td>2</td>\n",
       "    </tr>\n",
       "    <tr>\n",
       "      <th>1612481139</th>\n",
       "      <td>1</td>\n",
       "      <td>1</td>\n",
       "    </tr>\n",
       "    <tr>\n",
       "      <th>1612481298</th>\n",
       "      <td>1</td>\n",
       "      <td>1</td>\n",
       "    </tr>\n",
       "    <tr>\n",
       "      <th>1612533802</th>\n",
       "      <td>1</td>\n",
       "      <td>1</td>\n",
       "    </tr>\n",
       "    <tr>\n",
       "      <th>1612719807</th>\n",
       "      <td>1</td>\n",
       "      <td>1</td>\n",
       "    </tr>\n",
       "    <tr>\n",
       "      <th>...</th>\n",
       "      <td>...</td>\n",
       "      <td>...</td>\n",
       "    </tr>\n",
       "    <tr>\n",
       "      <th>1525632169</th>\n",
       "      <td>1</td>\n",
       "      <td>1</td>\n",
       "    </tr>\n",
       "    <tr>\n",
       "      <th>1525632171</th>\n",
       "      <td>1</td>\n",
       "      <td>1</td>\n",
       "    </tr>\n",
       "    <tr>\n",
       "      <th>1525632175</th>\n",
       "      <td>1</td>\n",
       "      <td>1</td>\n",
       "    </tr>\n",
       "    <tr>\n",
       "      <th>1525632183</th>\n",
       "      <td>1</td>\n",
       "      <td>1</td>\n",
       "    </tr>\n",
       "    <tr>\n",
       "      <th>1662385091</th>\n",
       "      <td>1</td>\n",
       "      <td>1</td>\n",
       "    </tr>\n",
       "  </tbody>\n",
       "</table>\n",
       "<p>3151 rows × 2 columns</p>\n",
       "</div>"
      ],
      "text/plain": [
       "            title  media_list_data\n",
       "timestamp                         \n",
       "1538410946      2                2\n",
       "1612481139      1                1\n",
       "1612481298      1                1\n",
       "1612533802      1                1\n",
       "1612719807      1                1\n",
       "...           ...              ...\n",
       "1525632169      1                1\n",
       "1525632171      1                1\n",
       "1525632175      1                1\n",
       "1525632183      1                1\n",
       "1662385091      1                1\n",
       "\n",
       "[3151 rows x 2 columns]"
      ]
     },
     "execution_count": 127,
     "metadata": {},
     "output_type": "execute_result"
    }
   ],
   "source": [
    "final_df.groupby('timestamp').count().sort_values('title', ascending=False)"
   ]
  },
  {
   "cell_type": "markdown",
   "id": "8ce1113a",
   "metadata": {},
   "source": [
    "I think I fixed this but not 100% sure  so hopefully this works. "
   ]
  }
 ],
 "metadata": {
  "kernelspec": {
   "display_name": "Python 3 (ipykernel)",
   "language": "python",
   "name": "python3"
  },
  "language_info": {
   "codemirror_mode": {
    "name": "ipython",
    "version": 3
   },
   "file_extension": ".py",
   "mimetype": "text/x-python",
   "name": "python",
   "nbconvert_exporter": "python",
   "pygments_lexer": "ipython3",
   "version": "3.10.4"
  }
 },
 "nbformat": 4,
 "nbformat_minor": 5
}

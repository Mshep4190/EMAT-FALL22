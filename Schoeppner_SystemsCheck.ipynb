{
 "cells": [
  {
   "cell_type": "markdown",
   "id": "5da26755",
   "metadata": {},
   "source": [
    "# Systems Check"
   ]
  },
  {
   "cell_type": "markdown",
   "id": "6c29266e",
   "metadata": {},
   "source": [
    "### By Michael J. Schoeppner"
   ]
  },
  {
   "cell_type": "markdown",
   "id": "55a07ef3",
   "metadata": {},
   "source": [
    "***I hope to have a better understanding of code overall***"
   ]
  },
  {
   "cell_type": "markdown",
   "id": "94b0fcf6",
   "metadata": {},
   "source": [
    "- Begin to use code for personal use if it comes down do that"
   ]
  },
  {
   "cell_type": "code",
   "execution_count": 16,
   "id": "1ff57942",
   "metadata": {
    "scrolled": true
   },
   "outputs": [
    {
     "ename": "SyntaxError",
     "evalue": "invalid syntax (2191682470.py, line 1)",
     "output_type": "error",
     "traceback": [
      "\u001b[1;36m  Input \u001b[1;32mIn [16]\u001b[1;36m\u001b[0m\n\u001b[1;33m    ---Learn new skills for future jobs or employment---\u001b[0m\n\u001b[1;37m             ^\u001b[0m\n\u001b[1;31mSyntaxError\u001b[0m\u001b[1;31m:\u001b[0m invalid syntax\n"
     ]
    }
   ],
   "source": [
    " -Learn new skills for future jobs or employment-"
   ]
  },
  {
   "cell_type": "code",
   "execution_count": null,
   "id": "a9cb34a2",
   "metadata": {},
   "outputs": [],
   "source": [
    "for i in [1,2,3,4]:\n",
    "    print(i)"
   ]
  },
  {
   "cell_type": "code",
   "execution_count": null,
   "id": "cfaf97b6",
   "metadata": {},
   "outputs": [],
   "source": [
    "x = \"Michael\"\n",
    "print(x)"
   ]
  },
  {
   "cell_type": "code",
   "execution_count": null,
   "id": "a9bc2dab",
   "metadata": {},
   "outputs": [],
   "source": [
    "def names (x):\n",
    "    return(x)"
   ]
  },
  {
   "cell_type": "code",
   "execution_count": 17,
   "id": "9dd83e2c",
   "metadata": {},
   "outputs": [
    {
     "ename": "NameError",
     "evalue": "name 'names' is not defined",
     "output_type": "error",
     "traceback": [
      "\u001b[1;31m---------------------------------------------------------------------------\u001b[0m",
      "\u001b[1;31mNameError\u001b[0m                                 Traceback (most recent call last)",
      "Input \u001b[1;32mIn [17]\u001b[0m, in \u001b[0;36m<cell line: 1>\u001b[1;34m()\u001b[0m\n\u001b[1;32m----> 1\u001b[0m y \u001b[38;5;241m=\u001b[39m \u001b[43mnames\u001b[49m(\u001b[38;5;124m\"\u001b[39m\u001b[38;5;124mMichael\u001b[39m\u001b[38;5;124m\"\u001b[39m)\n\u001b[0;32m      2\u001b[0m \u001b[38;5;28mprint\u001b[39m(y)\n",
      "\u001b[1;31mNameError\u001b[0m: name 'names' is not defined"
     ]
    }
   ],
   "source": [
    "y = names(\"Michael\")\n",
    "print(y)"
   ]
  }
 ],
 "metadata": {
  "kernelspec": {
   "display_name": "Python 3 (ipykernel)",
   "language": "python",
   "name": "python3"
  },
  "language_info": {
   "codemirror_mode": {
    "name": "ipython",
    "version": 3
   },
   "file_extension": ".py",
   "mimetype": "text/x-python",
   "name": "python",
   "nbconvert_exporter": "python",
   "pygments_lexer": "ipython3",
   "version": "3.10.4"
  }
 },
 "nbformat": 4,
 "nbformat_minor": 5
}

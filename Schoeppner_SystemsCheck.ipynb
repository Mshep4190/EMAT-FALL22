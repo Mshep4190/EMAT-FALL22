{
 "cells": [
  {
   "cell_type": "markdown",
   "id": "5da26755",
   "metadata": {},
   "source": [
    "# Systems Check\n",
    "### By Michael J. Schoeppner 09/01/22\n",
    "***I hope to have a better understanding of code overall***\n",
    "- Begin to use code for personal use if it comes down do that\n",
    ">>>Learn new skills for future jobs or employment\n",
    "![](https://www.python.org/static/community_logos/python-logo-master-v3-TM.png)"
   ]
  },
  {
   "cell_type": "code",
   "execution_count": 2,
   "id": "5af1826e",
   "metadata": {},
   "outputs": [
    {
     "name": "stdout",
     "output_type": "stream",
     "text": [
      "1\n",
      "2\n",
      "3\n",
      "4\n",
      "Michael\n",
      "Michael\n"
     ]
    }
   ],
   "source": [
    "for i in [1,2,3,4]:\n",
    "    print(i)\n",
    "x = \"Michael\"\n",
    "print(x)\n",
    "def names (x):\n",
    "    return(x)\n",
    "y = names(\"Michael\")\n",
    "print(y)"
   ]
  }
 ],
 "metadata": {
  "kernelspec": {
   "display_name": "Python 3 (ipykernel)",
   "language": "python",
   "name": "python3"
  },
  "language_info": {
   "codemirror_mode": {
    "name": "ipython",
    "version": 3
   },
   "file_extension": ".py",
   "mimetype": "text/x-python",
   "name": "python",
   "nbconvert_exporter": "python",
   "pygments_lexer": "ipython3",
   "version": "3.10.4"
  }
 },
 "nbformat": 4,
 "nbformat_minor": 5
}
